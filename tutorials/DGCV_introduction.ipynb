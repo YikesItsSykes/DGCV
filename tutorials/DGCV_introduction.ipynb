{
 "cells": [
  {
   "cell_type": "markdown",
   "metadata": {},
   "source": [
    "# DGCV Basics: An Introduction to the Differential Geometry with Complex Variables Package\n",
    "###### ----by David Sykes----\n",
    "\n",
    "DGCV is an open-source Python package providing basic tools for differential geometry integrated with systematic organization of structures accompanying complex variables, in short, Differential Geometry with Complex Variables.\n",
    "\n",
    "At its core are fully featured symbolic representations of standard DG objects such as vector fields and differential forms, defined relative to standard or complex coordinate systems. As systems of differential geometric objects constructed from complex variables inherit natural relationships from the underlying complex structure, DGCV tracks these relationships across the constructions. Immediate advantages of the uniform integration are seen in smooth switching between real and holomorphic coordinate representations of mathematical objects. In computations, DGCV classes dynamically manage this format switching on their own so that typical complex variables formulas can be written plainly and will simply work. Some examples of this: In coordinates $z_j = x_j + iy_j$, expressions such as $\\frac{\\partial}{\\partial x_j}|z_j|^2$ or $d z_j \\wedge d \\overline{z_j} \\left( \\frac{\\partial}{\\partial z_j}, \\frac{\\partial}{\\partial y_j} \\right)$ are correctly parsed without needing to convert everything to a uniform variable format. Retrieving objects' complex structure-related attributes, like the holomorphic part of a vector field or pluriharmonic terms from a polynomial is straightforward. Complexified cotangent bundles and their exterior algebras are easily decomposed into components from the Dolbeault complex and Dolbeault operators themselves can be applied to functions and k-forms in either coordinate format.\n",
    "\n",
    "DGCV was developed using Python 3.12, with dependencies on the SymPy and Pandas libraries in addition to base Python. Its classes integrate SymPy objects within their data structures and subclass from SymPy.Basic, thereby inheriting much of SymPy’s functionality. For instance, one can apply sympy.simplify() directly to most DGCV class objects. Developing complete compatibility with SymPy is a goal still in progress. Pandas is used to format and display data in a more readable manner.\n",
    "\n",
    "This guide introduces the essential **concepts and functions** needed to get started with DGCV. It is organized into (mostly) modular sections, so jump directly to topics of interest. Topics covered include:\n",
    "\n",
    "- Installing DGCV and importing it into a Jupyter notebook\n",
    "- Creating coordinates, understanding variable types, and working with the DGCV variable management framework\n",
    "- Vector fields and differential forms\n",
    "- Finite-dimensional algebras\n",
    "- Tensor fields\n",
    "- Polynomials\n",
    "- Coordinate transformations\n",
    "- Structure-specific tools (the current modest library has functions specialized for Riemannian, Kähler, and CR geometry, and will grow over time)\n",
    "\n",
    "###### The current (0.x.x) version of DGCV is a stable scafolding, as it were, upon which a lot more can be built. Many additions for future updates are currently planned. Contributions and feedback from anyone interested are warmly welcomed (contact David Sykes, sykes@ibs.re.kr). \n",
    "\n",
    "###### Updated versions of this interactive manual will become available as DGCV develops."
   ]
  },
  {
   "cell_type": "markdown",
   "metadata": {},
   "source": [
    "## Installing DGCV and importing it into a Jupyter notebook"
   ]
  },
  {
   "cell_type": "markdown",
   "metadata": {},
   "source": [
    "To install DGCV, two primary methods are supported: installation via PyPI (or Conda in the near future), as well as cloning the repository directly from GitHub.\n",
    "\n",
    "#### Method 1: Installing from PyPI\n",
    "\n",
    "The DGCV package has been uploaded to PyPI, and can be installed using the `pip` command:\n",
    "\n",
    "```bash\n",
    "pip install DGCV\n",
    "```\n",
    "\n",
    "#### Method 2 (not yet available, but will be soon): Installing from Conda\n",
    "\n",
    "If using Anaconda or Miniconda, DGCV can also be installed using `conda`:\n",
    "\n",
    "```bash\n",
    "conda install -c conda-forge dgcv\n",
    "```\n",
    "\n",
    "#### Method 3: Installing from GitHub\n",
    "\n",
    "Alternatively, the package can be installed directly from GitHub. First, clone the repository to your local machine:\n",
    "\n",
    "```bash\n",
    "git clone https://github.com/YikesItsSykes/DGCV.git\n",
    "```\n",
    "\n",
    "Next, navigate to the DGCV directory and install the package:\n",
    "\n",
    "```bash\n",
    "cd DGCV\n",
    "pip install .\n",
    "```\n",
    "\n",
    "#### Importing DGCV in a Jupyter notebook\n",
    "\n",
    "Once the package is installed, import it into your Jupyter notebook as follows:"
   ]
  },
  {
   "cell_type": "code",
   "execution_count": 1,
   "metadata": {},
   "outputs": [],
   "source": [
    "from DGCV import *"
   ]
  },
  {
   "cell_type": "markdown",
   "metadata": {},
   "source": [
    "This makes all essential functions available in the notebook. Make sure to run it any time a notebook is newly opened.\n",
    "\n",
    "To apply a nice display formatting throughout the notebook, run the DGCV function `DGCV_init_printing()`, which invokes `sympy.init_printing` while extending its functionality to support nice formatting of DGCV objects."
   ]
  },
  {
   "cell_type": "code",
   "execution_count": 2,
   "metadata": {},
   "outputs": [
    {
     "data": {
      "text/html": [
       "\n",
       "    <link href=\"https://fonts.googleapis.com/css2?family=Orbitron:wght@400;700&family=Press+Start+2P&family=Roboto:wght@400;700&display=swap\" rel=\"stylesheet\">\n",
       "    <style>\n",
       "    body {\n",
       "        font-family: 'Roboto', sans-serif;\n",
       "    }\n",
       "    </style>\n",
       "    "
      ],
      "text/plain": [
       "<IPython.core.display.HTML object>"
      ]
     },
     "metadata": {},
     "output_type": "display_data"
    }
   ],
   "source": [
    "DGCV_init_printing()"
   ]
  },
  {
   "cell_type": "markdown",
   "metadata": {},
   "source": [
    "A tip for getting started with DGCV, most functions in the library have helpful docstring documentation. Use `help` to retrieve any function's docstring. In these earliest versions (0.x.x) of DGCV, plenty of docstrings still need updating, but most are generally useful."
   ]
  },
  {
   "cell_type": "code",
   "execution_count": 3,
   "metadata": {},
   "outputs": [
    {
     "name": "stdout",
     "output_type": "stream",
     "text": [
      "Help on function createVariables in module DGCV.classesAndVariables:\n",
      "\n",
      "createVariables(variable_label, real_label=None, imaginary_label=None, number_of_variables=None, initialIndex=1, withVF=None, complex=None, multiindex_shape=None, assumeReal=None, remove_guardrails=None, default_var_format=None)\n",
      "    This function serves as the default interface for creating variables within the DGCV package. It supports creating both standard variable systems and complex variable systems, with options for initializing coordinate vector fields and differential forms. Variables created through `createVariables` are automatically tracked within DGCV’s Variable Management Framework (VMF) and are assigned labels validated through a safeguards routine that prevents overwriting important labels.\n",
      "\n",
      "    Parameters\n",
      "    ----------\n",
      "    variable_label : str\n",
      "        The label for the primary variable or system of variables to be created. If creating a complex variable system,\n",
      "        this will correspond to the holomorphic variable(s), whilst antiholomorphic variable(s) recieve this label pre-pended with \"BAR\".\n",
      "\n",
      "    real_label : str, optional\n",
      "        The label for the real part of the complex variable system. Required only when creating complex variable systems.\n",
      "\n",
      "    imaginary_label : str, optional\n",
      "        The label for the imaginary part of the complex variable system. Required only when creating complex variable systems.\n",
      "\n",
      "    number_of_variables : int, optional\n",
      "        The number of variables to be created, used to initialize a tuple of variables rather than a single variable (e.g., x=(x1, x2, x3) rather than just x).\n",
      "\n",
      "    initialIndex : int, optional, default=1\n",
      "        The starting index for tuple variables, allowing for flexible indexing when initializing variable systems\n",
      "        as tuples (e.g., x=(x0, x1, x2) with `initialIndex=0`).\n",
      "\n",
      "    withVF : bool, optional\n",
      "        If set to True, creates associated coordinate vector fields and differential forms for the variable(s) in the system.\n",
      "\n",
      "    complex : bool, optional\n",
      "        Specifies whether to create a complex variable system. If not provided, the function will infer whether to create\n",
      "        a complex system based on whether `real_label` or `imaginary_label` is provided. If provided a complex variable system will be created regardless of `real_label` and  `imaginary_label` settings, and string labels are automaticaly created for `real_label` and  `imaginary_label` if they are not provided.\n",
      "\n",
      "    assumeReal : bool, optional\n",
      "        If set to True, specifies that the variables being created are real-valued. This is only relevant for standard\n",
      "        variable systems and is ignored for complex systems.\n",
      "\n",
      "    remove_guardrails : bool, optional\n",
      "        If set to True, bypasses DGCV's safeguard system for variable labeling, allowing one to overwrite certain\n",
      "        reserved labels. Use with caution, as it may overwrite important variables in the global namespace.\n",
      "\n",
      "    default_var_format : {'complex', 'real'}, optional\n",
      "        Relevant only for complex variable systems. Specifies whether the system's vector fields and differential forms\n",
      "        default to real coordinate expressions (`real`) or holomorphic coordinate expressions (`complex`). If not provided,\n",
      "        the default is holomorphic coordinates.\n",
      "\n",
      "    Returns\n",
      "    -------\n",
      "    None\n",
      "        This function creates the specified variable system and registers it within DGCV’s Variable Management Framework.\n",
      "\n",
      "    Functionality\n",
      "    -------------\n",
      "    - Creates standard or complex variable systems.\n",
      "    - Automatically registers all created variables, vector fields, and differential forms in DGCV’s VMF.\n",
      "    - Safeguards are applied to ensure that no critical Python or DGCV internal functions are overwritten.\n",
      "\n",
      "    Notes\n",
      "    -----\n",
      "    - If `complex=True`, the function will automatically generate holomorphic, antiholomorphic, real, and imaginary parts\n",
      "    for the variable system, along with corresponding coordinate vector fields and differential forms.\n",
      "    - If `withVF=True`, the function will create both vector fields and differential forms for standard variable systems.\n",
      "\n",
      "    Examples\n",
      "    --------\n",
      "    # Creating a single standard variable 'alpha'\n",
      "    >>> createVariables('alpha')\n",
      "\n",
      "    # Creating a tuple of 3 standard variables with associated vector fields and differential forms\n",
      "    >>> createVariables('alpha', 3, withVF=True)\n",
      "\n",
      "    # Creating a single complex variable system with real part 'beta' and imaginary part 'gamma'\n",
      "    >>> createVariables('alpha', 'beta', 'gamma')\n",
      "\n",
      "    # Creating a tuple of 3 complex variables with real parts 'beta1', 'beta2', 'beta3' and imaginary parts 'gamma1', 'gamma2', 'gamma3'\n",
      "    >>> createVariables('alpha', 'beta', 'gamma', 3)\n",
      "\n",
      "    # Creating a tuple of 3 standard variables with custom initial index\n",
      "    >>> createVariables('alpha', 3, initialIndex=0)\n",
      "\n",
      "    # Creating a complex variable system without specifying real and imaginary part labels. Note, this automatically creates intentionally obscure real and imaginary part labels.\n",
      "    >>> createVariables('alpha', complex=True)\n",
      "\n",
      "    Warnings\n",
      "    --------\n",
      "    If `complex=True` is provided along with incompatible keywords, such as `withVF=False`, or `complex=False` is provided while values are also given for `real_label` and `imaginary_label`, the function will resolve conflicts internally and issue a warning about the resolution.\n",
      "\n",
      "    Use `DGCV_snapshot()` for a clear summary of the variables created and tracked within the DGCV VMF.\n",
      "\n"
     ]
    }
   ],
   "source": [
    "help(createVariables) # an example of calling up the docstring for the `createVariables` function."
   ]
  },
  {
   "cell_type": "markdown",
   "metadata": {},
   "source": [
    "## Creating variables, understanding their types, and working with the DGCV variable management framework\n",
    "\n",
    "#### "
   ]
  },
  {
   "cell_type": "markdown",
   "metadata": {},
   "source": [
    "*Variables* in DGCV are just sympy.symbols objects, but to fully leverage DGCV's features, we need to register labeled variables within the DGCV variable management framework (VMF). Think of it as declaring a set of variables to be coordinate functions in a coordinate system.\n",
    "\n",
    "The DGCV function `createVariables` makes the process of initializing variables within the VMF easy. It uses flexible syntax, and can initialize several types of coordinate systems. Here are several examples of how to use `createVariables` to create variable systems with different properties.\n",
    "\n",
    "Ex.1. Initialize a variable system with a single variable *of standard type* labeled $\\alpha$: "
   ]
  },
  {
   "cell_type": "code",
   "execution_count": 4,
   "metadata": {},
   "outputs": [],
   "source": [
    "createVariables('alpha')    # This initialized a sympy.symbols object labeled \"alpha\" AND registered it in the VMF\n",
    "                            # It is as if we had run `alpha = symbols('alpha')` using sympy.symbols, but it \n",
    "                            # additionaly performed important tasks withing DGCV's VMF, which we will see later on."
   ]
  },
  {
   "cell_type": "markdown",
   "metadata": {},
   "source": [
    "Ex.2. Initialize 3 variable systems each with a single variable *of standard type*, labeled $a$, $b$, and $c$: "
   ]
  },
  {
   "cell_type": "code",
   "execution_count": 5,
   "metadata": {},
   "outputs": [],
   "source": [
    "createVariables('a  b,    c')   # This is written with intentionally sloppy/inconsistent formatting to emphasize\n",
    "                                # `createVariables` flexibility. This line initialized 3 variables \"a\", \"b\", and \"c\"  \n",
    "                                # registered in the as VMF \"standard type\"."
   ]
  },
  {
   "cell_type": "markdown",
   "metadata": {},
   "source": [
    "Ex.3. Initialize a single variable system *of standard type* consisting of the coordinate tuple $r=(r_1, r_2, r_3)$:"
   ]
  },
  {
   "cell_type": "code",
   "execution_count": 6,
   "metadata": {},
   "outputs": [],
   "source": [
    "createVariables('r', 3) # This initializes a variable system consisting of the tuple `r=(r1, r2, r3)` registered in the\n",
    "                        # VMF again as a \"standard variable system\". Objects labeled \"r1\", \"r2\", and \"r3\" are\n",
    "                        # sympy.symbols type."
   ]
  },
  {
   "cell_type": "markdown",
   "metadata": {},
   "source": [
    "Ex.4. Initialize a single variable system *of standard type* consisting of the coordinate tuple $s=(s_{7}, \\ldots,s_{10})$ with a corresponding frame of coordinate vector fields $\\frac{\\partial}{\\partial s_{7}}, \\ldots,\\frac{\\partial}{\\partial s_{10}}$ and a coframe $d s_7,\\ldots, d s_{10}$:"
   ]
  },
  {
   "cell_type": "code",
   "execution_count": 7,
   "metadata": {},
   "outputs": [],
   "source": [
    "createVariables('s', 4, initialIndex=7, withVF=True)    # This initializes a variable system consisting of the tuple \n",
    "                                                        # `s=(s7, s8, s9, s10)` registered in the VMF again as a \n",
    "                                                        # \"standard variable system\". This time we also created vector\n",
    "                                                        # field objects D_s7, D_s8, D_s9, D_s10 and differential forms\n",
    "                                                        # d_s7, d_s8, d_s9, d_s10. "
   ]
  },
  {
   "cell_type": "markdown",
   "metadata": {},
   "source": [
    "Ex.5. Initialize a single variable system *of complex type* consisting of the coordinate tuples $z=(z_{1},z_2)$, $BARz=(BARz_{1},BARz_2)$, $x=(x_{1},x_2)$, and $y=(y_{1},y_2)$ representing holomorphic coordinates, their conjugates, real parts and imaginary parts, together with frames and coframes $\\frac{\\partial}{\\partial z_{1}},\\frac{\\partial}{\\partial BARz_{1}}, \\frac{\\partial}{\\partial x_{1}}, \\frac{\\partial}{\\partial y_{1}},\\ldots$ and $d z_1, d BARz_1,\\ldots$:"
   ]
  },
  {
   "cell_type": "code",
   "execution_count": 8,
   "metadata": {},
   "outputs": [],
   "source": [
    "createVariables('z', 'x', 'y', 2)   # This syntax starting with 3 string labels tells `createVariables` to initialize\n",
    "                                    # a \"complex variable system\", using the first string to label holomorphic \n",
    "                                    # coordinates, the second for hol. coordinates' real parts, and the third for \n",
    "                                    # imaginary parts. Complex variable systems are also initialized with objects \n",
    "                                    # representing the holomorphic variables' complex conjugates labeled by prepending \n",
    "                                    # the first string label with \"BAR\". Complex variables are also initialized with\n",
    "                                    # coordinate vector fields and coframes. This example initialized VFs D_z1, D_z2,\n",
    "                                    #  D_BARz1, D_BARz2, D_x1, D_x1, D_y1, D_y1, and DFs d_z1, d_z2,... etc."
   ]
  },
  {
   "cell_type": "markdown",
   "metadata": {},
   "source": [
    "By default objects from complex variable systems display in holomorphic coordinates, and this default behavior carries over to the variable format that they \"prefer\" to operate on. Without going too far into the details, DGCV objects dynamically assess the variable formats (e.g., holomorphic vs real) of objects they operate on, and sometimes format conversions are applied internally. An object's \"format preference\" kicks in to resolve such format conversion choices when necessary.\n",
    "\n",
    "For example if we display the vector field D_x1, it will display as a combination of D_z1 and D_BARz1: "
   ]
  },
  {
   "cell_type": "code",
   "execution_count": 9,
   "metadata": {},
   "outputs": [
    {
     "data": {
      "image/png": "[encoded data removed]",
      "text/latex": [
       "$\\displaystyle \\left( \\frac{\\partial}{\\partial z_{1}} + \\frac{\\partial}{\\partial \\overline{z_{1}}} , \\frac{\\partial}{\\partial z_{2}} , \\frac{\\partial}{\\partial \\overline{z_{1}}} , - \\frac{i}{2} d z_{2} + \\frac{i}{2} d \\overline{z_{2}} \\right)$"
      ],
      "text/plain": [
       "(D_z1+D_BARz1, D_z2, D_BARz1, -I/2*d_z2+I/2*d_BARz2)"
      ]
     },
     "execution_count": 9,
     "metadata": {},
     "output_type": "execute_result"
    }
   ],
   "source": [
    "D_x1,D_z2,D_BARz1,d_y2 # displaying some objects to illustrate the formatting behavior"
   ]
  },
  {
   "cell_type": "markdown",
   "metadata": {},
   "source": [
    "Ex.6. Initialize a system that defaults to display in real coordinates instead:"
   ]
  },
  {
   "cell_type": "code",
   "execution_count": 10,
   "metadata": {},
   "outputs": [
    {
     "data": {
      "image/png": "[encoded data removed]",
      "text/latex": [
       "$\\displaystyle \\left( \\frac{\\partial}{\\partial \\xi_{1}} , \\frac{1}{2}\\frac{\\partial}{\\partial \\xi_{2}} - \\frac{i}{2}\\frac{\\partial}{\\partial \\gamma_{2}} , \\frac{1}{2}\\frac{\\partial}{\\partial \\xi_{1}} + \\frac{i}{2}\\frac{\\partial}{\\partial \\gamma_{1}} ,  d \\gamma_{2} \\right)$"
      ],
      "text/plain": [
       "(D_xi1, 1/2*D_xi2-I/2*D_gamma2, 1/2*D_xi1+I/2*D_gamma1, d_gamma2)"
      ]
     },
     "execution_count": 10,
     "metadata": {},
     "output_type": "execute_result"
    }
   ],
   "source": [
    "createVariables('zeta', 'xi', 'gamma', 2, default_var_format='real')  # This initializes a complex variable system similar to \n",
    "                                                                    # the last one, except elements in this system default to\n",
    "                                                                    # display in real variable formats.\n",
    "D_xi1,D_zeta2,D_BARzeta1,d_gamma2 # displaying some objects to illustrate the formatting behavior when 'real' is default"
   ]
  },
  {
   "cell_type": "markdown",
   "metadata": {},
   "source": [
    "When working with complex variable systems it can be useful to switch between real and holomorphic coordinates. Use `realToHol` and `holToReal` to objects to convert between formats. \n",
    "\n",
    "Note, these functions also update the *format preference* marker that DGCV objects internally cary."
   ]
  },
  {
   "cell_type": "code",
   "execution_count": 11,
   "metadata": {},
   "outputs": [
    {
     "data": {
      "text/latex": [
       "The vector field $\\left(1 - z_{1}\\right)\\frac{\\partial}{\\partial z_{2}} + \\left(z_{1} + 1\\right)\\frac{\\partial}{\\partial \\overline{z_{2}}}$ displays in holomorphic coordinates because it is built from objects that where set with this as the preference."
      ],
      "text/plain": [
       "<IPython.core.display.Latex object>"
      ]
     },
     "metadata": {},
     "output_type": "display_data"
    },
    {
     "data": {
      "text/latex": [
       "Applying `allToReal()` returns an equivalent object, but everything (including its format preference) is converted to real coordinates. The result displays as $\\frac{\\partial}{\\partial x_{2}} + \\left(i x_{1} - y_{1}\\right)\\frac{\\partial}{\\partial y_{2}}$."
      ],
      "text/plain": [
       "<IPython.core.display.Latex object>"
      ]
     },
     "metadata": {},
     "output_type": "display_data"
    },
    {
     "data": {
      "text/latex": [
       "Contrastingly, the vector field $\\frac{\\partial}{\\partial \\xi_{2}} + i \\left(i \\gamma_{1} + \\xi_{1}\\right)\\frac{\\partial}{\\partial \\gamma_{2}}$ displays in real coordinates by default because it is built from objects that where set with real formatting as the preference."
      ],
      "text/plain": [
       "<IPython.core.display.Latex object>"
      ]
     },
     "metadata": {},
     "output_type": "display_data"
    },
    {
     "data": {
      "text/latex": [
       "Applying `allToHol()` returns an equivalent object, but everything (including its format preference) is converted now to holomorphic coordinates. The result displays as $\\left(1 - \\zeta_{1}\\right)\\frac{\\partial}{\\partial \\zeta_{2}} + \\left(\\zeta_{1} + 1\\right)\\frac{\\partial}{\\partial \\overline{\\zeta_{2}}}$."
      ],
      "text/plain": [
       "<IPython.core.display.Latex object>"
      ]
     },
     "metadata": {},
     "output_type": "display_data"
    }
   ],
   "source": [
    "hol_format_VF = D_x2+I*z1*D_y2\n",
    "real_format_VF = D_xi2+I*zeta1*D_gamma2\n",
    "display_DGCV(f'The vector field ${LaTeX(hol_format_VF)}$ displays in holomorphic coordinates because it is built from objects that where set with this as the preference.')\n",
    "display_DGCV(f'Applying `allToReal()` returns an equivalent object, but everything (including its format preference) is converted to real coordinates. The result displays as ${LaTeX(simplify(allToReal(hol_format_VF)))}$.')\n",
    "display_DGCV(f'Contrastingly, the vector field ${LaTeX(real_format_VF)}$ displays in real coordinates by default because it is built from objects that where set with real formatting as the preference.')\n",
    "display_DGCV(f'Applying `allToHol()` returns an equivalent object, but everything (including its format preference) is converted now to holomorphic coordinates. The result displays as ${LaTeX(simplify(allToHol(real_format_VF)))}$.')"
   ]
  },
  {
   "cell_type": "markdown",
   "metadata": {},
   "source": [
    "A third variable format for complex variables systems is used ubiquitously throughout DGCV. It is *holomorphic coordinates with symbolic conjugate*. DGCV uses seperate variables to represent the complex conjugates of holomorphic coordinates, antiholomorphic coordinates. The anti-holomorphic coordinates are labeled with the same label as there dual holomorphic coordinates but pre-pended with \"BAR\". The third format is essential for DGCV functionality as it fully sidesteps the perinial simplify issues plague computer algebra systems, so expect to encounter all three formats regularly when using DGCV. The three formats are typically refered to as \"real\", \"hol\", and \"sym\" in DGCV function names.\n",
    "\n",
    "Commands, `holToReal`, `realToSym`, `symToHol`, `holToSym`, `symToReal`, `realToHol`, `allToSym`, `allToHol`, and `allToReal` provided comprehensive options for seamlessly switching between coordinates types."
   ]
  },
  {
   "cell_type": "markdown",
   "metadata": {},
   "source": [
    "The above `createVariables` commands initialized many objects and automatically generated labels for them. A technical note, DGCV's object creation functions that create labels filter them through a label validation routine that prevents overwriting important existing labels.\n",
    "\n",
    "These objects were registered in the VMF, enabeling important interaction with DGCV's general functions.\n",
    "\n",
    "To get a helpful summary table of initialized objects within the scope of DGCV's VMF, use `DGCV_snapshot()`"
   ]
  },
  {
   "cell_type": "code",
   "execution_count": 12,
   "metadata": {},
   "outputs": [
    {
     "data": {
      "text/html": [
       "<style type=\"text/css\">\n",
       "#T_c66f4 th {\n",
       "  background-color: #355e3b;\n",
       "  color: #ffffff;\n",
       "  font-family: Courier New, monospace;\n",
       "  text-align: center;\n",
       "  font-weight: bold;\n",
       "  font-size: 18px;\n",
       "}\n",
       "#T_c66f4 th.col_heading.level0 {\n",
       "  font-size: 20px;\n",
       "  background-color: #355e3b;\n",
       "  color: #ffffff;\n",
       "  font-family: Courier New, monospace;\n",
       "  text-align: center;\n",
       "}\n",
       "#T_c66f4 th.row_heading {\n",
       "  background-color: #4a7c59;\n",
       "  color: #ffffff;\n",
       "  text-align: center;\n",
       "  font-family: Courier New, monospace;\n",
       "  font-weight: bold;\n",
       "}\n",
       "#T_c66f4  {\n",
       "  border: 2px solid #b5651d;\n",
       "}\n",
       "#T_c66f4 tbody tr:nth-child(odd) {\n",
       "  background-color: #3c6e47;\n",
       "  color: #ffffff;\n",
       "  text-align: center;\n",
       "  font-family: Courier New, monospace;\n",
       "  font-weight: bold;\n",
       "}\n",
       "#T_c66f4 tbody tr:nth-child(even) {\n",
       "  background-color: #4a7c59;\n",
       "  color: #ffffff;\n",
       "  text-align: center;\n",
       "  font-family: Courier New, monospace;\n",
       "  font-weight: bold;\n",
       "}\n",
       "#T_c66f4 tbody tr:hover {\n",
       "  background-color: #2c5a33;\n",
       "}\n",
       "#T_c66f4 tbody tr:nth-child(1) {\n",
       "  background-color: #355e3b;\n",
       "}\n",
       "</style>\n",
       "<table id=\"T_c66f4\">\n",
       "  <caption>(summarizes objects within the scope of DGCV's variable management framework)</caption>\n",
       "  <thead>\n",
       "    <tr>\n",
       "      <th class=\"blank\" >&nbsp;</th>\n",
       "      <th class=\"blank level0\" >&nbsp;</th>\n",
       "      <th id=\"T_c66f4_level0_col0\" class=\"col_heading level0 col0\" colspan=\"5\">Initialized Coordinate Systems and Algebras</th>\n",
       "    </tr>\n",
       "    <tr>\n",
       "      <th class=\"blank\" >&nbsp;</th>\n",
       "      <th class=\"blank level1\" >&nbsp;</th>\n",
       "      <th id=\"T_c66f4_level1_col0\" class=\"col_heading level1 col0\" ></th>\n",
       "      <th id=\"T_c66f4_level1_col1\" class=\"col_heading level1 col1\" ></th>\n",
       "      <th id=\"T_c66f4_level1_col2\" class=\"col_heading level1 col2\" ></th>\n",
       "      <th id=\"T_c66f4_level1_col3\" class=\"col_heading level1 col3\" ></th>\n",
       "      <th id=\"T_c66f4_level1_col4\" class=\"col_heading level1 col4\" ></th>\n",
       "    </tr>\n",
       "  </thead>\n",
       "  <tbody>\n",
       "    <tr>\n",
       "      <th id=\"T_c66f4_level0_row0\" class=\"row_heading level0 row0\" >Coordinate/Algebra Name(s)</th>\n",
       "      <th id=\"T_c66f4_level1_row0\" class=\"row_heading level1 row0\" ></th>\n",
       "      <td id=\"T_c66f4_row0_col0\" class=\"data row0 col0\" >Number of Var.</td>\n",
       "      <td id=\"T_c66f4_row0_col1\" class=\"data row0 col1\" >Real Part</td>\n",
       "      <td id=\"T_c66f4_row0_col2\" class=\"data row0 col2\" >Imaginary Part</td>\n",
       "      <td id=\"T_c66f4_row0_col3\" class=\"data row0 col3\" >Vector Fields</td>\n",
       "      <td id=\"T_c66f4_row0_col4\" class=\"data row0 col4\" >Differential Forms</td>\n",
       "    </tr>\n",
       "    <tr>\n",
       "      <th id=\"T_c66f4_level0_row1\" class=\"row_heading level0 row1\" >z = (z1, ..., z2)</th>\n",
       "      <th id=\"T_c66f4_level1_row1\" class=\"row_heading level1 row1\" ></th>\n",
       "      <td id=\"T_c66f4_row1_col0\" class=\"data row1 col0\" >2</td>\n",
       "      <td id=\"T_c66f4_row1_col1\" class=\"data row1 col1\" >x = (x1, ..., x2)</td>\n",
       "      <td id=\"T_c66f4_row1_col2\" class=\"data row1 col2\" >y = (y1, ..., y2)</td>\n",
       "      <td id=\"T_c66f4_row1_col3\" class=\"data row1 col3\" >D_z1,...,D_z2, D_BARz1,...,D_BARz2, D_x1,...,D_x2, D_y1,...,D_y2</td>\n",
       "      <td id=\"T_c66f4_row1_col4\" class=\"data row1 col4\" >d_z1,...,d_z2, d_BARz1,...,d_BARz2, d_x1,...,d_x2, d_y1,...,d_y2</td>\n",
       "    </tr>\n",
       "    <tr>\n",
       "      <th id=\"T_c66f4_level0_row2\" class=\"row_heading level0 row2\" >zeta = (zeta1, ..., zeta2)</th>\n",
       "      <th id=\"T_c66f4_level1_row2\" class=\"row_heading level1 row2\" ></th>\n",
       "      <td id=\"T_c66f4_row2_col0\" class=\"data row2 col0\" >2</td>\n",
       "      <td id=\"T_c66f4_row2_col1\" class=\"data row2 col1\" >xi = (xi1, ..., xi2)</td>\n",
       "      <td id=\"T_c66f4_row2_col2\" class=\"data row2 col2\" >gamma = (gamma1, ..., gamma2)</td>\n",
       "      <td id=\"T_c66f4_row2_col3\" class=\"data row2 col3\" >D_\\zeta1,...,D_\\zeta2, D_BARzeta1,...,D_BARzeta2, D_\\xi1,...,D_\\xi2, D_\\gamma1,...,D_\\gamma2</td>\n",
       "      <td id=\"T_c66f4_row2_col4\" class=\"data row2 col4\" >d_\\zeta1,...,d_\\zeta2, d_BARzeta1,...,d_BARzeta2, d_\\xi1,...,d_\\xi2, d_\\gamma1,...,d_\\gamma2</td>\n",
       "    </tr>\n",
       "    <tr>\n",
       "      <th id=\"T_c66f4_level0_row3\" class=\"row_heading level0 row3\" >a</th>\n",
       "      <th id=\"T_c66f4_level1_row3\" class=\"row_heading level1 row3\" ></th>\n",
       "      <td id=\"T_c66f4_row3_col0\" class=\"data row3 col0\" >1</td>\n",
       "      <td id=\"T_c66f4_row3_col1\" class=\"data row3 col1\" >----</td>\n",
       "      <td id=\"T_c66f4_row3_col2\" class=\"data row3 col2\" >----</td>\n",
       "      <td id=\"T_c66f4_row3_col3\" class=\"data row3 col3\" >----</td>\n",
       "      <td id=\"T_c66f4_row3_col4\" class=\"data row3 col4\" >----</td>\n",
       "    </tr>\n",
       "    <tr>\n",
       "      <th id=\"T_c66f4_level0_row4\" class=\"row_heading level0 row4\" >alpha</th>\n",
       "      <th id=\"T_c66f4_level1_row4\" class=\"row_heading level1 row4\" ></th>\n",
       "      <td id=\"T_c66f4_row4_col0\" class=\"data row4 col0\" >1</td>\n",
       "      <td id=\"T_c66f4_row4_col1\" class=\"data row4 col1\" >----</td>\n",
       "      <td id=\"T_c66f4_row4_col2\" class=\"data row4 col2\" >----</td>\n",
       "      <td id=\"T_c66f4_row4_col3\" class=\"data row4 col3\" >----</td>\n",
       "      <td id=\"T_c66f4_row4_col4\" class=\"data row4 col4\" >----</td>\n",
       "    </tr>\n",
       "    <tr>\n",
       "      <th id=\"T_c66f4_level0_row5\" class=\"row_heading level0 row5\" >b</th>\n",
       "      <th id=\"T_c66f4_level1_row5\" class=\"row_heading level1 row5\" ></th>\n",
       "      <td id=\"T_c66f4_row5_col0\" class=\"data row5 col0\" >1</td>\n",
       "      <td id=\"T_c66f4_row5_col1\" class=\"data row5 col1\" >----</td>\n",
       "      <td id=\"T_c66f4_row5_col2\" class=\"data row5 col2\" >----</td>\n",
       "      <td id=\"T_c66f4_row5_col3\" class=\"data row5 col3\" >----</td>\n",
       "      <td id=\"T_c66f4_row5_col4\" class=\"data row5 col4\" >----</td>\n",
       "    </tr>\n",
       "    <tr>\n",
       "      <th id=\"T_c66f4_level0_row6\" class=\"row_heading level0 row6\" >c</th>\n",
       "      <th id=\"T_c66f4_level1_row6\" class=\"row_heading level1 row6\" ></th>\n",
       "      <td id=\"T_c66f4_row6_col0\" class=\"data row6 col0\" >1</td>\n",
       "      <td id=\"T_c66f4_row6_col1\" class=\"data row6 col1\" >----</td>\n",
       "      <td id=\"T_c66f4_row6_col2\" class=\"data row6 col2\" >----</td>\n",
       "      <td id=\"T_c66f4_row6_col3\" class=\"data row6 col3\" >----</td>\n",
       "      <td id=\"T_c66f4_row6_col4\" class=\"data row6 col4\" >----</td>\n",
       "    </tr>\n",
       "    <tr>\n",
       "      <th id=\"T_c66f4_level0_row7\" class=\"row_heading level0 row7\" >r = (r1, ..., r3)</th>\n",
       "      <th id=\"T_c66f4_level1_row7\" class=\"row_heading level1 row7\" ></th>\n",
       "      <td id=\"T_c66f4_row7_col0\" class=\"data row7 col0\" >3</td>\n",
       "      <td id=\"T_c66f4_row7_col1\" class=\"data row7 col1\" >----</td>\n",
       "      <td id=\"T_c66f4_row7_col2\" class=\"data row7 col2\" >----</td>\n",
       "      <td id=\"T_c66f4_row7_col3\" class=\"data row7 col3\" >----</td>\n",
       "      <td id=\"T_c66f4_row7_col4\" class=\"data row7 col4\" >----</td>\n",
       "    </tr>\n",
       "    <tr>\n",
       "      <th id=\"T_c66f4_level0_row8\" class=\"row_heading level0 row8\" >s = (s7, ..., s10)</th>\n",
       "      <th id=\"T_c66f4_level1_row8\" class=\"row_heading level1 row8\" ></th>\n",
       "      <td id=\"T_c66f4_row8_col0\" class=\"data row8 col0\" >4</td>\n",
       "      <td id=\"T_c66f4_row8_col1\" class=\"data row8 col1\" >----</td>\n",
       "      <td id=\"T_c66f4_row8_col2\" class=\"data row8 col2\" >----</td>\n",
       "      <td id=\"T_c66f4_row8_col3\" class=\"data row8 col3\" >D_s7,...,D_s10</td>\n",
       "      <td id=\"T_c66f4_row8_col4\" class=\"data row8 col4\" >d_s7,...,d_s10</td>\n",
       "    </tr>\n",
       "  </tbody>\n",
       "</table>\n"
      ],
      "text/plain": [
       "<pandas.io.formats.style.Styler at 0x12231b080>"
      ]
     },
     "execution_count": 12,
     "metadata": {},
     "output_type": "execute_result"
    }
   ],
   "source": [
    "DGCV_snapshot()"
   ]
  },
  {
   "cell_type": "markdown",
   "metadata": {},
   "source": [
    "Optional keywords `use_latex=True` and `style= ----` allow for some adjustment to the table formatting:"
   ]
  },
  {
   "cell_type": "code",
   "execution_count": 13,
   "metadata": {},
   "outputs": [
    {
     "data": {
      "text/html": [
       "<style type=\"text/css\">\n",
       "#T_fe23c table {\n",
       "  background-color: #ffffff;\n",
       "  border-collapse: collapse;\n",
       "}\n",
       "#T_fe23c  {\n",
       "  border: 1px solid #cccccc;\n",
       "}\n",
       "#T_fe23c th {\n",
       "  background-color: #ffffff;\n",
       "  color: #000000;\n",
       "  font-family: Roboto, sans-serif;\n",
       "  text-align: center;\n",
       "  font-weight: bold;\n",
       "  font-size: 18px;\n",
       "  border: 1px solid #cccccc;\n",
       "}\n",
       "#T_fe23c th.row_heading {\n",
       "  background-color: #e6f7ff;\n",
       "  color: #000000;\n",
       "  text-align: left;\n",
       "  font-family: Roboto, sans-serif;\n",
       "  font-weight: bold;\n",
       "}\n",
       "#T_fe23c tbody tr:nth-child(even) {\n",
       "  background-color: #ffffff;\n",
       "  color: #000000;\n",
       "  text-align: left;\n",
       "  font-family: Roboto, sans-serif;\n",
       "}\n",
       "#T_fe23c tbody tr:nth-child(odd) {\n",
       "  background-color: #f2faff;\n",
       "  color: #000000;\n",
       "  text-align: left;\n",
       "  font-family: Roboto, sans-serif;\n",
       "}\n",
       "#T_fe23c tbody tr:hover {\n",
       "  background-color: #e6f7ff;\n",
       "  color: #000000;\n",
       "}\n",
       "#T_fe23c th.col_heading.level0 {\n",
       "  font-size: 20px;\n",
       "  background-color: #ffffff;\n",
       "  color: #000000;\n",
       "  font-family: Roboto, sans-serif;\n",
       "  text-align: center;\n",
       "}\n",
       "</style>\n",
       "<table id=\"T_fe23c\">\n",
       "  <caption>(summarizes objects within the scope of DGCV's variable management framework)</caption>\n",
       "  <thead>\n",
       "    <tr>\n",
       "      <th class=\"blank\" >&nbsp;</th>\n",
       "      <th class=\"blank level0\" >&nbsp;</th>\n",
       "      <th id=\"T_fe23c_level0_col0\" class=\"col_heading level0 col0\" colspan=\"5\">Initialized Coordinate Systems and Algebras</th>\n",
       "    </tr>\n",
       "    <tr>\n",
       "      <th class=\"blank\" >&nbsp;</th>\n",
       "      <th class=\"blank level1\" >&nbsp;</th>\n",
       "      <th id=\"T_fe23c_level1_col0\" class=\"col_heading level1 col0\" ></th>\n",
       "      <th id=\"T_fe23c_level1_col1\" class=\"col_heading level1 col1\" ></th>\n",
       "      <th id=\"T_fe23c_level1_col2\" class=\"col_heading level1 col2\" ></th>\n",
       "      <th id=\"T_fe23c_level1_col3\" class=\"col_heading level1 col3\" ></th>\n",
       "      <th id=\"T_fe23c_level1_col4\" class=\"col_heading level1 col4\" ></th>\n",
       "    </tr>\n",
       "  </thead>\n",
       "  <tbody>\n",
       "    <tr>\n",
       "      <th id=\"T_fe23c_level0_row0\" class=\"row_heading level0 row0\" >Coordinate/Algebra Name(s)</th>\n",
       "      <th id=\"T_fe23c_level1_row0\" class=\"row_heading level1 row0\" ></th>\n",
       "      <td id=\"T_fe23c_row0_col0\" class=\"data row0 col0\" >Number of Var.</td>\n",
       "      <td id=\"T_fe23c_row0_col1\" class=\"data row0 col1\" >Real Part</td>\n",
       "      <td id=\"T_fe23c_row0_col2\" class=\"data row0 col2\" >Imaginary Part</td>\n",
       "      <td id=\"T_fe23c_row0_col3\" class=\"data row0 col3\" >Vector Fields</td>\n",
       "      <td id=\"T_fe23c_row0_col4\" class=\"data row0 col4\" >Differential Forms</td>\n",
       "    </tr>\n",
       "    <tr>\n",
       "      <th id=\"T_fe23c_level0_row1\" class=\"row_heading level0 row1\" >$z = \\left( z_{1}, \\ldots, z_{2} \\right)$</th>\n",
       "      <th id=\"T_fe23c_level1_row1\" class=\"row_heading level1 row1\" ></th>\n",
       "      <td id=\"T_fe23c_row1_col0\" class=\"data row1 col0\" >2</td>\n",
       "      <td id=\"T_fe23c_row1_col1\" class=\"data row1 col1\" >$x = \\left( x_{1}, \\ldots, x_{2} \\right)$</td>\n",
       "      <td id=\"T_fe23c_row1_col2\" class=\"data row1 col2\" >$y = \\left( y_{1}, \\ldots, y_{2} \\right)$</td>\n",
       "      <td id=\"T_fe23c_row1_col3\" class=\"data row1 col3\" >$\\frac{\\partial}{\\partial z_{1}}, \\ldots, \\frac{\\partial}{\\partial z_{2}}$, $\\frac{\\partial}{\\partial \\overline{z_{1}}}, \\ldots, \\frac{\\partial}{\\partial \\overline{z_{2}}}$, $\\frac{\\partial}{\\partial x_{1}}, \\ldots, \\frac{\\partial}{\\partial x_{2}}$, $\\frac{\\partial}{\\partial y_{1}}, \\ldots, \\frac{\\partial}{\\partial y_{2}}$</td>\n",
       "      <td id=\"T_fe23c_row1_col4\" class=\"data row1 col4\" >$d z_{1}, \\ldots, d z_{2}$, $d \\overline{z_{1}}, \\ldots, d \\overline{z_{2}}$, $d x_{1}, \\ldots, d x_{2}$, $d y_{1}, \\ldots, d y_{2}$</td>\n",
       "    </tr>\n",
       "    <tr>\n",
       "      <th id=\"T_fe23c_level0_row2\" class=\"row_heading level0 row2\" >$\\zeta = \\left( \\zeta_{1}, \\ldots, \\zeta_{2} \\right)$</th>\n",
       "      <th id=\"T_fe23c_level1_row2\" class=\"row_heading level1 row2\" ></th>\n",
       "      <td id=\"T_fe23c_row2_col0\" class=\"data row2 col0\" >2</td>\n",
       "      <td id=\"T_fe23c_row2_col1\" class=\"data row2 col1\" >$\\xi = \\left( \\xi_{1}, \\ldots, \\xi_{2} \\right)$</td>\n",
       "      <td id=\"T_fe23c_row2_col2\" class=\"data row2 col2\" >$\\gamma = \\left( \\gamma_{1}, \\ldots, \\gamma_{2} \\right)$</td>\n",
       "      <td id=\"T_fe23c_row2_col3\" class=\"data row2 col3\" >$\\frac{\\partial}{\\partial \\zeta_{1}}, \\ldots, \\frac{\\partial}{\\partial \\zeta_{2}}$, $\\frac{\\partial}{\\partial \\overline{\\zeta_{1}}}, \\ldots, \\frac{\\partial}{\\partial \\overline{\\zeta_{2}}}$, $\\frac{\\partial}{\\partial \\xi_{1}}, \\ldots, \\frac{\\partial}{\\partial \\xi_{2}}$, $\\frac{\\partial}{\\partial \\gamma_{1}}, \\ldots, \\frac{\\partial}{\\partial \\gamma_{2}}$</td>\n",
       "      <td id=\"T_fe23c_row2_col4\" class=\"data row2 col4\" >$d \\zeta_{1}, \\ldots, d \\zeta_{2}$, $d \\overline{\\zeta_{1}}, \\ldots, d \\overline{\\zeta_{2}}$, $d \\xi_{1}, \\ldots, d \\xi_{2}$, $d \\gamma_{1}, \\ldots, d \\gamma_{2}$</td>\n",
       "    </tr>\n",
       "    <tr>\n",
       "      <th id=\"T_fe23c_level0_row3\" class=\"row_heading level0 row3\" >$a$</th>\n",
       "      <th id=\"T_fe23c_level1_row3\" class=\"row_heading level1 row3\" ></th>\n",
       "      <td id=\"T_fe23c_row3_col0\" class=\"data row3 col0\" >1</td>\n",
       "      <td id=\"T_fe23c_row3_col1\" class=\"data row3 col1\" >----</td>\n",
       "      <td id=\"T_fe23c_row3_col2\" class=\"data row3 col2\" >----</td>\n",
       "      <td id=\"T_fe23c_row3_col3\" class=\"data row3 col3\" >----</td>\n",
       "      <td id=\"T_fe23c_row3_col4\" class=\"data row3 col4\" >----</td>\n",
       "    </tr>\n",
       "    <tr>\n",
       "      <th id=\"T_fe23c_level0_row4\" class=\"row_heading level0 row4\" >$\\alpha$</th>\n",
       "      <th id=\"T_fe23c_level1_row4\" class=\"row_heading level1 row4\" ></th>\n",
       "      <td id=\"T_fe23c_row4_col0\" class=\"data row4 col0\" >1</td>\n",
       "      <td id=\"T_fe23c_row4_col1\" class=\"data row4 col1\" >----</td>\n",
       "      <td id=\"T_fe23c_row4_col2\" class=\"data row4 col2\" >----</td>\n",
       "      <td id=\"T_fe23c_row4_col3\" class=\"data row4 col3\" >----</td>\n",
       "      <td id=\"T_fe23c_row4_col4\" class=\"data row4 col4\" >----</td>\n",
       "    </tr>\n",
       "    <tr>\n",
       "      <th id=\"T_fe23c_level0_row5\" class=\"row_heading level0 row5\" >$b$</th>\n",
       "      <th id=\"T_fe23c_level1_row5\" class=\"row_heading level1 row5\" ></th>\n",
       "      <td id=\"T_fe23c_row5_col0\" class=\"data row5 col0\" >1</td>\n",
       "      <td id=\"T_fe23c_row5_col1\" class=\"data row5 col1\" >----</td>\n",
       "      <td id=\"T_fe23c_row5_col2\" class=\"data row5 col2\" >----</td>\n",
       "      <td id=\"T_fe23c_row5_col3\" class=\"data row5 col3\" >----</td>\n",
       "      <td id=\"T_fe23c_row5_col4\" class=\"data row5 col4\" >----</td>\n",
       "    </tr>\n",
       "    <tr>\n",
       "      <th id=\"T_fe23c_level0_row6\" class=\"row_heading level0 row6\" >$c$</th>\n",
       "      <th id=\"T_fe23c_level1_row6\" class=\"row_heading level1 row6\" ></th>\n",
       "      <td id=\"T_fe23c_row6_col0\" class=\"data row6 col0\" >1</td>\n",
       "      <td id=\"T_fe23c_row6_col1\" class=\"data row6 col1\" >----</td>\n",
       "      <td id=\"T_fe23c_row6_col2\" class=\"data row6 col2\" >----</td>\n",
       "      <td id=\"T_fe23c_row6_col3\" class=\"data row6 col3\" >----</td>\n",
       "      <td id=\"T_fe23c_row6_col4\" class=\"data row6 col4\" >----</td>\n",
       "    </tr>\n",
       "    <tr>\n",
       "      <th id=\"T_fe23c_level0_row7\" class=\"row_heading level0 row7\" >$r = \\left( r_{1}, \\ldots, r_{3} \\right)$</th>\n",
       "      <th id=\"T_fe23c_level1_row7\" class=\"row_heading level1 row7\" ></th>\n",
       "      <td id=\"T_fe23c_row7_col0\" class=\"data row7 col0\" >3</td>\n",
       "      <td id=\"T_fe23c_row7_col1\" class=\"data row7 col1\" >----</td>\n",
       "      <td id=\"T_fe23c_row7_col2\" class=\"data row7 col2\" >----</td>\n",
       "      <td id=\"T_fe23c_row7_col3\" class=\"data row7 col3\" >----</td>\n",
       "      <td id=\"T_fe23c_row7_col4\" class=\"data row7 col4\" >----</td>\n",
       "    </tr>\n",
       "    <tr>\n",
       "      <th id=\"T_fe23c_level0_row8\" class=\"row_heading level0 row8\" >$s = \\left( s_{7}, \\ldots, s_{10} \\right)$</th>\n",
       "      <th id=\"T_fe23c_level1_row8\" class=\"row_heading level1 row8\" ></th>\n",
       "      <td id=\"T_fe23c_row8_col0\" class=\"data row8 col0\" >4</td>\n",
       "      <td id=\"T_fe23c_row8_col1\" class=\"data row8 col1\" >----</td>\n",
       "      <td id=\"T_fe23c_row8_col2\" class=\"data row8 col2\" >----</td>\n",
       "      <td id=\"T_fe23c_row8_col3\" class=\"data row8 col3\" >$\\frac{\\partial}{\\partial s_{7}}, \\ldots, \\frac{\\partial}{\\partial s_{10}}$</td>\n",
       "      <td id=\"T_fe23c_row8_col4\" class=\"data row8 col4\" >$d s_{7}, \\ldots, d s_{10}$</td>\n",
       "    </tr>\n",
       "  </tbody>\n",
       "</table>\n"
      ],
      "text/plain": [
       "<pandas.io.formats.style.Styler at 0x1227587d0>"
      ]
     },
     "execution_count": 13,
     "metadata": {},
     "output_type": "execute_result"
    }
   ],
   "source": [
    "DGCV_snapshot(use_latex=True,style='graph_paper') # Latex formatting may or may not compile, depending on the environment in which you are running the Jupyter notebook."
   ]
  },
  {
   "cell_type": "markdown",
   "metadata": {},
   "source": [
    "Call `get_DGCV_themes()` to retreive a list of available formatting themes for the `DGCV_snapshot` table\n",
    "\n",
    "Use `listVar` and `clearVar` respectively get labels for variables (and other objects) and delete variables (and any other objects) that are registered in DGCV's VMF. In more detail, listVar returns labels that the VMF internally assigns to objects/systems of objects in its scope, and putting any such label into clearVar will delete all objects that the VMF associates with it."
   ]
  },
  {
   "cell_type": "code",
   "execution_count": 14,
   "metadata": {},
   "outputs": [
    {
     "name": "stdout",
     "output_type": "stream",
     "text": [
      "Cleared standard variable systems from the DGCV variable management framework: alpha, c, r, s, b, a\n",
      "Cleared complex variable systems from the DGCV variable management framework: zeta, z\n"
     ]
    }
   ],
   "source": [
    "clearVar(*listVar())"
   ]
  },
  {
   "cell_type": "markdown",
   "metadata": {},
   "source": [
    "The previous line deleted all of the objects we created so far."
   ]
  },
  {
   "cell_type": "markdown",
   "metadata": {},
   "source": [
    "## Vector fields and differential forms"
   ]
  },
  {
   "cell_type": "markdown",
   "metadata": {},
   "source": [
    "Vector fields and differential forms in DGCV are represented by VFClass and DFClass objects. There are several ways to initialize them. The basic initialization is through `createVariables(-- , withVF=True)`, `createVariables('hol_str' , 'real_str', 'im_str', --)` or `createVariables(-- , complex=True)`. The latter two work because DGCV always initializes coordinate vector fields/coframes when creating complex variable systems.\n",
    "\n",
    "Let's create some variable systems, standard and complex, with VF and DF to work with:"
   ]
  },
  {
   "cell_type": "code",
   "execution_count": 15,
   "metadata": {},
   "outputs": [
    {
     "data": {
      "text/html": [
       "<style type=\"text/css\">\n",
       "#T_34f4a table {\n",
       "  background-color: #003366;\n",
       "  border-collapse: collapse;\n",
       "}\n",
       "#T_34f4a th {\n",
       "  background-color: #003366;\n",
       "  color: #ffffff;\n",
       "  font-family: Roboto Mono, monospace;\n",
       "  text-align: center;\n",
       "  font-weight: bold;\n",
       "  font-size: 18px;\n",
       "  border: 2px solid #cccccc;\n",
       "}\n",
       "#T_34f4a th.row_heading {\n",
       "  background-color: #336699;\n",
       "  color: #ffffff;\n",
       "  text-align: left;\n",
       "  font-family: Roboto Mono, monospace;\n",
       "  font-weight: bold;\n",
       "}\n",
       "#T_34f4a  {\n",
       "  border: 2px solid #cccccc;\n",
       "}\n",
       "#T_34f4a tbody tr:nth-child(even) {\n",
       "  background-color: #003366;\n",
       "  color: #ffffff;\n",
       "  text-align: left;\n",
       "  font-family: Roboto Mono, monospace;\n",
       "}\n",
       "#T_34f4a tbody tr:nth-child(odd) {\n",
       "  background-color: #002b4f;\n",
       "  color: #ffffff;\n",
       "  text-align: left;\n",
       "  font-family: Roboto Mono, monospace;\n",
       "}\n",
       "#T_34f4a tbody tr:hover {\n",
       "  background-color: #336699;\n",
       "  color: #ffffff;\n",
       "}\n",
       "#T_34f4a th.col_heading.level0 {\n",
       "  font-size: 20px;\n",
       "  background-color: #003366;\n",
       "  color: #ffffff;\n",
       "  font-family: Roboto Mono, monospace;\n",
       "  text-align: center;\n",
       "  border: 2px solid #cccccc;\n",
       "}\n",
       "</style>\n",
       "<table id=\"T_34f4a\">\n",
       "  <caption>(summarizes objects within the scope of DGCV's variable management framework)</caption>\n",
       "  <thead>\n",
       "    <tr>\n",
       "      <th class=\"blank\" >&nbsp;</th>\n",
       "      <th class=\"blank level0\" >&nbsp;</th>\n",
       "      <th id=\"T_34f4a_level0_col0\" class=\"col_heading level0 col0\" colspan=\"5\">Initialized Coordinate Systems and Algebras</th>\n",
       "    </tr>\n",
       "    <tr>\n",
       "      <th class=\"blank\" >&nbsp;</th>\n",
       "      <th class=\"blank level1\" >&nbsp;</th>\n",
       "      <th id=\"T_34f4a_level1_col0\" class=\"col_heading level1 col0\" ></th>\n",
       "      <th id=\"T_34f4a_level1_col1\" class=\"col_heading level1 col1\" ></th>\n",
       "      <th id=\"T_34f4a_level1_col2\" class=\"col_heading level1 col2\" ></th>\n",
       "      <th id=\"T_34f4a_level1_col3\" class=\"col_heading level1 col3\" ></th>\n",
       "      <th id=\"T_34f4a_level1_col4\" class=\"col_heading level1 col4\" ></th>\n",
       "    </tr>\n",
       "  </thead>\n",
       "  <tbody>\n",
       "    <tr>\n",
       "      <th id=\"T_34f4a_level0_row0\" class=\"row_heading level0 row0\" >Coordinate/Algebra Name(s)</th>\n",
       "      <th id=\"T_34f4a_level1_row0\" class=\"row_heading level1 row0\" ></th>\n",
       "      <td id=\"T_34f4a_row0_col0\" class=\"data row0 col0\" >Number of Var.</td>\n",
       "      <td id=\"T_34f4a_row0_col1\" class=\"data row0 col1\" >Real Part</td>\n",
       "      <td id=\"T_34f4a_row0_col2\" class=\"data row0 col2\" >Imaginary Part</td>\n",
       "      <td id=\"T_34f4a_row0_col3\" class=\"data row0 col3\" >Vector Fields</td>\n",
       "      <td id=\"T_34f4a_row0_col4\" class=\"data row0 col4\" >Differential Forms</td>\n",
       "    </tr>\n",
       "    <tr>\n",
       "      <th id=\"T_34f4a_level0_row1\" class=\"row_heading level0 row1\" >zeta = (zeta1, ..., zeta3)</th>\n",
       "      <th id=\"T_34f4a_level1_row1\" class=\"row_heading level1 row1\" ></th>\n",
       "      <td id=\"T_34f4a_row1_col0\" class=\"data row1 col0\" >3</td>\n",
       "      <td id=\"T_34f4a_row1_col1\" class=\"data row1 col1\" >xi = (xi1, ..., xi3)</td>\n",
       "      <td id=\"T_34f4a_row1_col2\" class=\"data row1 col2\" >gamma = (gamma1, ..., gamma3)</td>\n",
       "      <td id=\"T_34f4a_row1_col3\" class=\"data row1 col3\" >D_\\zeta1,...,D_\\zeta3, D_BARzeta1,...,D_BARzeta3, D_\\xi1,...,D_\\xi3, D_\\gamma1,...,D_\\gamma3</td>\n",
       "      <td id=\"T_34f4a_row1_col4\" class=\"data row1 col4\" >d_\\zeta1,...,d_\\zeta3, d_BARzeta1,...,d_BARzeta3, d_\\xi1,...,d_\\xi3, d_\\gamma1,...,d_\\gamma3</td>\n",
       "    </tr>\n",
       "    <tr>\n",
       "      <th id=\"T_34f4a_level0_row2\" class=\"row_heading level0 row2\" >x = (x1, ..., x2)</th>\n",
       "      <th id=\"T_34f4a_level1_row2\" class=\"row_heading level1 row2\" ></th>\n",
       "      <td id=\"T_34f4a_row2_col0\" class=\"data row2 col0\" >2</td>\n",
       "      <td id=\"T_34f4a_row2_col1\" class=\"data row2 col1\" >----</td>\n",
       "      <td id=\"T_34f4a_row2_col2\" class=\"data row2 col2\" >----</td>\n",
       "      <td id=\"T_34f4a_row2_col3\" class=\"data row2 col3\" >D_x1,...,D_x2</td>\n",
       "      <td id=\"T_34f4a_row2_col4\" class=\"data row2 col4\" >d_x1,...,d_x2</td>\n",
       "    </tr>\n",
       "  </tbody>\n",
       "</table>\n"
      ],
      "text/plain": [
       "<pandas.io.formats.style.Styler at 0x12275ac30>"
      ]
     },
     "execution_count": 15,
     "metadata": {},
     "output_type": "execute_result"
    }
   ],
   "source": [
    "createVariables('x', 2, withVF=True)\n",
    "createVariables('zeta','xi','gamma', 3)\n",
    "DGCV_snapshot(style='blueprint') # This line is only to display a summary of the objects we just created"
   ]
  },
  {
   "cell_type": "markdown",
   "metadata": {},
   "source": [
    "Apply vector fields to functions with syntax like `D_x1(function)`, add them together with + and -, scale them by a scalar using *, and take their Lie brackets with `VF_bracket`.\n",
    "\n",
    "Let's experiment with some of these, and use the `display_DGCV` and `LaTeX` functions for more control and flexibility in what output gets displayed. Tip: use Python's *f\" ... \"* syntax to create formatted latex strings with SymPy and DGCV math objects automatically inserted."
   ]
  },
  {
   "cell_type": "code",
   "execution_count": 16,
   "metadata": {},
   "outputs": [
    {
     "data": {
      "text/latex": [
       "The Lie bracket of the vector fields $\\frac{\\partial}{\\partial x_{1}} - i x_{2} \\xi_{2}\\frac{\\partial}{\\partial \\zeta_{1}} + \\gamma_{2}\\frac{\\partial}{\\partial \\zeta_{3}} + i x_{2} \\xi_{2}\\frac{\\partial}{\\partial \\overline{\\zeta_{1}}} + \\gamma_{2}\\frac{\\partial}{\\partial \\overline{\\zeta_{3}}}$ and $\\frac{\\partial}{\\partial x_{2}} - \\gamma_{2} x_{1}\\frac{\\partial}{\\partial \\zeta_{1}} + i \\gamma_{1}\\frac{\\partial}{\\partial \\zeta_{3}} - \\gamma_{2} x_{1}\\frac{\\partial}{\\partial \\overline{\\zeta_{1}}} - i \\gamma_{1}\\frac{\\partial}{\\partial \\overline{\\zeta_{3}}}$ is $$\\left[\\frac{\\partial}{\\partial x_{1}} - i x_{2} \\xi_{2}\\frac{\\partial}{\\partial \\zeta_{1}} + \\gamma_{2}\\frac{\\partial}{\\partial \\zeta_{3}} + i x_{2} \\xi_{2}\\frac{\\partial}{\\partial \\overline{\\zeta_{1}}} + \\gamma_{2}\\frac{\\partial}{\\partial \\overline{\\zeta_{3}}},\\frac{\\partial}{\\partial x_{2}} - \\gamma_{2} x_{1}\\frac{\\partial}{\\partial \\zeta_{1}} + i \\gamma_{1}\\frac{\\partial}{\\partial \\zeta_{3}} - \\gamma_{2} x_{1}\\frac{\\partial}{\\partial \\overline{\\zeta_{1}}} - i \\gamma_{1}\\frac{\\partial}{\\partial \\overline{\\zeta_{3}}}\\right]=\\left(- \\gamma_{2} + i \\xi_{2}\\right)\\frac{\\partial}{\\partial \\zeta_{1}} + \\left(- \\gamma_{2} - i \\xi_{2}\\right)\\frac{\\partial}{\\partial \\overline{\\zeta_{1}}}$$"
      ],
      "text/plain": [
       "<IPython.core.display.Latex object>"
      ]
     },
     "metadata": {},
     "output_type": "display_data"
    }
   ],
   "source": [
    "vf1 = D_x1+gamma2*D_xi3-x2*xi2*D_gamma1\n",
    "vf2 = D_x2+gamma1*D_gamma3-x1*gamma2*D_xi1\n",
    "bracket = VF_bracket(vf1,vf2)\n",
    "display_DGCV(f'The Lie bracket of the vector fields ${LaTeX(vf1)}$ and ${LaTeX(vf2)}$ is $$\\\\left[{LaTeX(vf1)},{LaTeX(vf2)}\\\\right]={LaTeX(bracket)}$$')"
   ]
  },
  {
   "cell_type": "markdown",
   "metadata": {},
   "source": [
    "Similar syntax works to add/subtract/scale differential forms, and to apply them to vector fields. Use `exteriorProduct` to form a wedge product, or simply use the `*` multiplication for wedge products instead:"
   ]
  },
  {
   "cell_type": "code",
   "execution_count": 17,
   "metadata": {},
   "outputs": [
    {
     "data": {
      "text/latex": [
       "Applying the differential form $\\left(\\overline{\\zeta_{1}} - 1\\right) d \\zeta_{1} \\wedge d \\zeta_{2} + \\overline{\\zeta_{2}} d \\zeta_{1} \\wedge d \\overline{\\zeta_{2}}$ to $\\left(\\frac{\\partial}{\\partial \\zeta_{1}},\\frac{\\partial}{\\partial \\overline{\\zeta_{2}}}\\right)$ yields $$\\theta\\left( d \\zeta_{1}, d \\overline{\\zeta_{2}}\\right)=\\overline{\\zeta_{2}}$$"
      ],
      "text/plain": [
       "<IPython.core.display.Latex object>"
      ]
     },
     "metadata": {},
     "output_type": "display_data"
    }
   ],
   "source": [
    "df_first_summand = exteriorProduct(d_zeta1,BARzeta2*d_BARzeta2+BARzeta1*d_zeta2)\n",
    "theta = d_zeta2*d_zeta1+df_first_summand\n",
    "theta_eval = theta(D_zeta1,D_BARzeta2)\n",
    "display_DGCV(f'Applying the differential form ${LaTeX(theta)}$ to $\\\\left({LaTeX(D_zeta1)},{LaTeX(D_BARzeta2)}\\\\right)$ yields $$\\\\theta\\\\left({LaTeX(d_zeta1)},{LaTeX(d_BARzeta2)}\\\\right)={LaTeX(theta_eval)}$$')"
   ]
  },
  {
   "cell_type": "markdown",
   "metadata": {},
   "source": [
    "Functions `LieDerivative`, `exteriorDerivative`, and `interiorProduct` behave as their names suggest: "
   ]
  },
  {
   "cell_type": "code",
   "execution_count": 18,
   "metadata": {},
   "outputs": [
    {
     "data": {
      "text/latex": [
       "A Lie derivative of a function: $$2 x_{1},$$ a Lie derivative of a 1-form $$2 x_{1} d x_{1} \\wedge d x_{2},$$ a Lie derivative of a vector field $$\\frac{\\partial}{\\partial x_{2}},$$ an exterior derivative of a function $$ d x_{2} +  d x_{1},$$ an exterior derivative of a 1-form $$ d x_{1} \\wedge d x_{2}, $$ and an interior product $$ d x_{2}.$$"
      ],
      "text/plain": [
       "<IPython.core.display.Latex object>"
      ]
     },
     "metadata": {},
     "output_type": "display_data"
    }
   ],
   "source": [
    "display_DGCV(f'A Lie derivative of a function: $${LaTeX(LieDerivative(D_x1,x1**2+x2))},$$ a Lie derivative of a 1-form $${LaTeX(LieDerivative(D_x1,x1**2*d_x1*d_x2))},$$ a Lie derivative of a vector field $${LaTeX(LieDerivative(D_x1,x1*D_x2))},$$ an exterior derivative of a function $${LaTeX(exteriorDerivative(x1+x2))},$$ an exterior derivative of a 1-form $${LaTeX(exteriorDerivative(x1*d_x2))}, $$ and an interior product $${LaTeX(interiorProduct(D_x1,d_x1*d_x2))}.$$')"
   ]
  },
  {
   "cell_type": "markdown",
   "metadata": {},
   "source": [
    "`exteriorProduct` accepts any number of arguments, and evaluates their product from left to right. To add/subtract an arbitrary number of VF or DF, use `addVF` and `addDF`, which similarly accept any number of arguments. This is especially useful for computing sums or products of everything from a list of unknown length. \n",
    "\n",
    "To demonstrate it, let's use exterior product to compute the determinant of a symbolic $n\\times n$ matrix, by computing the $n$-fold wedge product of $n$ differential forms:"
   ]
  },
  {
   "cell_type": "code",
   "execution_count": 19,
   "metadata": {},
   "outputs": [
    {
     "data": {
      "text/latex": [
       "The wedge product of all forms in $\\left[ c_{1 1} d s_{1} + c_{1 2} d s_{2} + c_{1 3} d s_{3}, c_{2 1} d s_{1} + c_{2 2} d s_{2} + c_{2 3} d s_{3}, c_{3 1} d s_{1} + c_{3 2} d s_{2} + c_{3 3} d s_{3} \\right]$ is $$\\mathrm{volume\\,form}=\\left(c_{3 1} \\left(c_{1 2} c_{2 3} - c_{1 3} c_{2 2}\\right) + c_{3 2} \\left(- c_{1 1} c_{2 3} + c_{1 3} c_{2 1}\\right) + c_{3 3} \\left(c_{1 1} c_{2 2} - c_{1 2} c_{2 1}\\right)\\right) d s_{1} \\wedge d s_{2} \\wedge d s_{3}$$"
      ],
      "text/plain": [
       "<IPython.core.display.Latex object>"
      ]
     },
     "metadata": {},
     "output_type": "display_data"
    }
   ],
   "source": [
    "dimension = 3 # set this to any positive integer, but ***CAUTION*** note formulas explode fast due to the determinant's infamous complexity\n",
    "createVariables('s', dimension, withVF=True) # creates n-dimensional coordinate system with variables labeled s1,s2,...\n",
    "df_basis = get_DF(*s) # retrieves a list of coordinate differential forms for the coordinate system s.\n",
    "createVariables('c',multiindex_shape=(dimension,dimension)) # creates an nxn array of variables that will represent arbitrary coefficients. variables where labeled as c_1_1,...c_n_n.\n",
    "df_list = [addDF(*[c[dimension*j+k]*df_basis[k] for k in range(dimension)]) for j in range(dimension)] # A list of n differential forms. Notice we used addDF to make each of the n elements.\n",
    "volume_form = exteriorProduct(*[df for df in df_list])\n",
    "\n",
    "display_DGCV(f'The wedge product of all forms in ${LaTeX(df_list)}$ is $$\\\\mathrm{{volume\\\\,form}}={LaTeX(volume_form)}$$')"
   ]
  },
  {
   "cell_type": "markdown",
   "metadata": {},
   "source": [
    "That last example featured a useful function `get_DF`. There is also `get_VF` and these commands retrieve VF and DF associated with coordinates registered in DGCV's VMF. They accept any number of arguments. When we wrote `get_DF(*s)`, the `*s` notation serves to unpack the tuple `s=(s1,s2,...,sn)` so the result is equivalent to if we ran `get_DF(s1,s2,...,sn)` directly. "
   ]
  },
  {
   "cell_type": "code",
   "execution_count": 20,
   "metadata": {},
   "outputs": [
    {
     "data": {
      "text/latex": [
       "Here is a list of vector fields associated with some of the coordinates we currently have initialized: $\\left[ \\frac{\\partial}{\\partial x_{2}}, i\\frac{\\partial}{\\partial \\zeta_{3}} - i\\frac{\\partial}{\\partial \\overline{\\zeta_{3}}}, \\frac{\\partial}{\\partial \\zeta_{1}} + \\frac{\\partial}{\\partial \\overline{\\zeta_{1}}}, \\frac{\\partial}{\\partial \\zeta_{2}} \\right]$"
      ],
      "text/plain": [
       "<IPython.core.display.Latex object>"
      ]
     },
     "metadata": {},
     "output_type": "display_data"
    }
   ],
   "source": [
    "display_DGCV(f'Here is a list of vector fields associated with some of the coordinates we currently have initialized: ${LaTeX(get_VF(x2,gamma3,xi1,zeta2))}$') # getting VF example"
   ]
  },
  {
   "cell_type": "markdown",
   "metadata": {},
   "source": [
    "use `decompose` to decompose a vector field or differential form into a sum of such objects from a provided list:"
   ]
  },
  {
   "cell_type": "code",
   "execution_count": 21,
   "metadata": {},
   "outputs": [
    {
     "data": {
      "text/latex": [
       "The differential form $$\\left(- \\frac{2 s_{1}}{s_{2}^{2} + 1} + \\frac{2 s_{2} s_{3}}{s_{2}^{2} + 1}\\right) d s_{3} \\wedge d s_{1} + \\left(\\frac{2 s_{2} s_{3}}{s_{2}^{2} + 1} + \\frac{2 s_{2} \\left(s_{1}^{2} + s_{2} s_{3}^{2}\\right)}{\\left(s_{2}^{2} + 1\\right)^{2}} - \\frac{s_{3}^{2}}{s_{2}^{2} + 1}\\right) d s_{3} \\wedge d s_{2} + \\left(- \\frac{2 s_{1}}{s_{2}^{2} + 1} - \\frac{2 s_{2} \\left(s_{1}^{2} + s_{2} s_{3}^{2}\\right)}{\\left(s_{2}^{2} + 1\\right)^{2}} + \\frac{s_{3}^{2}}{s_{2}^{2} + 1}\\right) d s_{2} \\wedge d s_{1}$$ decomposes as a linear combination of the 2-forms $$\\left[  d s_{1} \\wedge d s_{2},  d s_{1} \\wedge d s_{3},  d s_{2} \\wedge d s_{3} \\right]$$ with coefficients $$\\left[ \\frac{2 s_{1}^{2} s_{2} + 2 s_{1} s_{2}^{2} + 2 s_{1} + s_{2}^{2} s_{3}^{2} - s_{3}^{2}}{s_{2}^{4} + 2 s_{2}^{2} + 1}, \\frac{2 s_{1} - 2 s_{2} s_{3}}{s_{2}^{2} + 1}, \\frac{- 2 s_{1}^{2} s_{2} - 2 s_{2}^{3} s_{3} - s_{2}^{2} s_{3}^{2} - 2 s_{2} s_{3} + s_{3}^{2}}{s_{2}^{4} + 2 s_{2}^{2} + 1} \\right].$$"
      ],
      "text/plain": [
       "<IPython.core.display.Latex object>"
      ]
     },
     "metadata": {},
     "output_type": "display_data"
    }
   ],
   "source": [
    "createVariables('s', 3, withVF=True) # creates a 3-d. standard coordinate system with variables s1,s2,s3\n",
    "interesting_2_form = exteriorDerivative((s1**2+s2*s3**2)/(1+s2**2))*(d_s1+d_s2+d_s3)\n",
    "coframe = get_DF(s1,s2,s3) # gets coordinate DF\n",
    "list_of_2_forms = [coframe[j]*coframe[k] for j in range(3) for k in range(j+1,3)] # a list of 2-forms\n",
    "decomp_coeffs, decomp_basis = decompose(interesting_2_form,list_of_2_forms) # compute the decomposition\n",
    "\n",
    "display_DGCV(f'The differential form $${LaTeX(interesting_2_form)}$$ decomposes as a linear combination of the 2-forms $${LaTeX(decomp_basis)}$$ with coefficients $${LaTeX(decomp_coeffs)}.$$')"
   ]
  },
  {
   "cell_type": "markdown",
   "metadata": {},
   "source": [
    "Use `annihilator` to find a spaning set of vector fields whose interior product annihilates a given set of differential form, or to find a spanning set of 1-forms that annihilates a set of vector fields:"
   ]
  },
  {
   "cell_type": "code",
   "execution_count": 22,
   "metadata": {},
   "outputs": [
    {
     "data": {
      "text/latex": [
       "The contact distribution of the contact form $2 u_{4} d u_{4} + 2 u_{3} d u_{3} + 2 u_{5} d u_{5} + 2 u_{1} d u_{1} + 2 u_{2} d u_{2} +  d u_{0}$ is spanned by the vector fields $$\\left[ - 12 u_{1}\\frac{\\partial}{\\partial u_{0}} + 6\\frac{\\partial}{\\partial u_{1}}, - 12 u_{2}\\frac{\\partial}{\\partial u_{0}} + 6\\frac{\\partial}{\\partial u_{2}}, - 12 u_{3}\\frac{\\partial}{\\partial u_{0}} + 6\\frac{\\partial}{\\partial u_{3}}, - 12 u_{4}\\frac{\\partial}{\\partial u_{0}} + 6\\frac{\\partial}{\\partial u_{4}}, - 12 u_{5}\\frac{\\partial}{\\partial u_{0}} + 6\\frac{\\partial}{\\partial u_{5}} \\right].$$"
      ],
      "text/plain": [
       "<IPython.core.display.Latex object>"
      ]
     },
     "metadata": {},
     "output_type": "display_data"
    }
   ],
   "source": [
    "createVariables('u', 6, withVF=True, initialIndex=0) # creates a 6-d. standard coordinate system with variables u0,..,u3\n",
    "quadric = u0+sum([j**2 for j in u[1:]])\n",
    "contact_form = exteriorDerivative(quadric)\n",
    "contact_distribution = annihilator([contact_form],u) # annihilator needs a coordinate system specified in its second argument. Any list/tuple of variables will do (i.e., it doesn't have be what the VMF regards as a single variable system). In this case, we happen to be using u=(u0,u1,u2,u3,u4,u5)\n",
    "\n",
    "display_DGCV(f'The contact distribution of the contact form ${LaTeX(contact_form)}$ is spanned by the vector fields $${LaTeX(contact_distribution)}.$$')"
   ]
  },
  {
   "cell_type": "markdown",
   "metadata": {},
   "source": [
    "Use `get_coframe` to get a list of 1 forms dual to a list of vector fields:"
   ]
  },
  {
   "cell_type": "code",
   "execution_count": 23,
   "metadata": {},
   "outputs": [
    {
     "data": {
      "text/latex": [
       "The differential forms $\\left[ - \\frac{\\eta_{1}}{\\eta_{1}^{2} - 1} d \\eta_{2} - \\frac{1}{\\eta_{1}^{2} - 1} d \\eta_{1}, - \\frac{1}{\\eta_{1}^{2} - 1} d \\eta_{2} - \\frac{\\eta_{1}}{\\eta_{1}^{2} - 1} d \\eta_{1} \\right]$ are dual to the vector fields $\\left[ \\frac{\\partial}{\\partial \\eta_{1}} - \\eta_{1}\\frac{\\partial}{\\partial \\eta_{2}}, - \\eta_{1}\\frac{\\partial}{\\partial \\eta_{1}} + \\frac{\\partial}{\\partial \\eta_{2}} \\right]$."
      ],
      "text/plain": [
       "<IPython.core.display.Latex object>"
      ]
     },
     "metadata": {},
     "output_type": "display_data"
    }
   ],
   "source": [
    "createVariables('eta', 4, withVF=True)\n",
    "vf_list = [D_eta1-eta1*D_eta2, D_eta2-eta1*D_eta1]\n",
    "coframe = get_coframe(vf_list)\n",
    "\n",
    "display_DGCV(f'The differential forms ${LaTeX(coframe)}$ are dual to the vector fields ${LaTeX(vf_list)}$.')"
   ]
  },
  {
   "cell_type": "markdown",
   "metadata": {},
   "source": [
    "DGCV's vector fields and differential forms (i.e., VFClass and DFClass objects) have several attributes determining how DGCV functions interact with them, such as `varSpace`, `holVarSpace`, `realVarSpace`, `compVarSpace`, `coeffs`, `coeffs_dicts`, and more."
   ]
  },
  {
   "cell_type": "markdown",
   "metadata": {},
   "source": [
    "Use `assembleFromHolVFC`, `assembleFromHolVFC`, and `assembleFromCompVFC` to initialize complex vector fields from functions for their cooredinate VF coefficients in a specified complex coordinate system:"
   ]
  },
  {
   "cell_type": "code",
   "execution_count": 24,
   "metadata": {},
   "outputs": [
    {
     "data": {
      "text/latex": [
       "We just initialized a holomorphic VF $$z_{1}\\frac{\\partial}{\\partial z_{1}} + z_{2}\\frac{\\partial}{\\partial z_{2}}=\\left(\\frac{x_{1}}{2} + \\frac{i y_{1}}{2}\\right)\\frac{\\partial}{\\partial x_{1}} + \\left(\\frac{x_{2}}{2} + \\frac{i y_{2}}{2}\\right)\\frac{\\partial}{\\partial x_{2}} + \\left(- \\frac{i x_{1}}{2} + \\frac{y_{1}}{2}\\right)\\frac{\\partial}{\\partial y_{1}} + \\left(- \\frac{i x_{2}}{2} + \\frac{y_{2}}{2}\\right)\\frac{\\partial}{\\partial y_{2}},$$ an antiholomorphic VF $$\\overline{z_{1}}\\frac{\\partial}{\\partial \\overline{z_{1}}} + \\overline{z_{2}}\\frac{\\partial}{\\partial \\overline{z_{2}}}=\\left(\\frac{x_{1}}{2} - \\frac{i y_{1}}{2}\\right)\\frac{\\partial}{\\partial x_{1}} + \\left(\\frac{x_{2}}{2} - \\frac{i y_{2}}{2}\\right)\\frac{\\partial}{\\partial x_{2}} + \\left(\\frac{i x_{1}}{2} + \\frac{y_{1}}{2}\\right)\\frac{\\partial}{\\partial y_{1}} + \\left(\\frac{i x_{2}}{2} + \\frac{y_{2}}{2}\\right)\\frac{\\partial}{\\partial y_{2}},$$ and a general complex VF $$z_{1}\\frac{\\partial}{\\partial z_{1}} + z_{2}\\frac{\\partial}{\\partial z_{2}} + \\overline{z_{1}}\\frac{\\partial}{\\partial \\overline{z_{1}}} + \\overline{z_{2}}\\frac{\\partial}{\\partial \\overline{z_{2}}}=x_{1}\\frac{\\partial}{\\partial x_{1}} + x_{2}\\frac{\\partial}{\\partial x_{2}} + y_{1}\\frac{\\partial}{\\partial y_{1}} + y_{2}\\frac{\\partial}{\\partial y_{2}}$$ by directly specifying their coefficient in a coordinate system."
      ],
      "text/plain": [
       "<IPython.core.display.Latex object>"
      ]
     },
     "metadata": {},
     "output_type": "display_data"
    }
   ],
   "source": [
    "createVariables('z','x','y',2)\n",
    "hol_vf=assembleFromHolVFC([z1,z2],z)\n",
    "antihol_vf=assembleFromAntiholVFC([BARz1,BARz2],z)\n",
    "comp_vf=assembleFromCompVFC([z1,z2],[BARz1,BARz2],z)\n",
    "display_DGCV(f'We just initialized a holomorphic VF $${LaTeX(hol_vf)}={LaTeX(simplify(allToReal(hol_vf)))},$$ an antiholomorphic VF $${LaTeX(antihol_vf)}={LaTeX(simplify(allToReal(antihol_vf)))},$$ and a general complex VF $${LaTeX(comp_vf)}={LaTeX(simplify(allToReal(comp_vf)))}$$ by directly specifying their coefficient in a coordinate system.')"
   ]
  },
  {
   "cell_type": "markdown",
   "metadata": {},
   "source": [
    "Use `complex_struct_op` to tranform vector fields in a complex variable system under the standard complex structure operator."
   ]
  },
  {
   "cell_type": "code",
   "execution_count": 25,
   "metadata": {},
   "outputs": [
    {
     "data": {
      "text/latex": [
       "Applying `complex_struct_op` to the three vector fields from the previous example yields $$J\\left(z_{1}\\frac{\\partial}{\\partial z_{1}} + z_{2}\\frac{\\partial}{\\partial z_{2}}\\right)=i z_{1}\\frac{\\partial}{\\partial z_{1}} + i z_{2}\\frac{\\partial}{\\partial z_{2}},$$ $$J\\left(\\overline{z_{1}}\\frac{\\partial}{\\partial \\overline{z_{1}}} + \\overline{z_{2}}\\frac{\\partial}{\\partial \\overline{z_{2}}}\\right)=- i \\overline{z_{1}}\\frac{\\partial}{\\partial \\overline{z_{1}}} - i \\overline{z_{2}}\\frac{\\partial}{\\partial \\overline{z_{2}}},$$ and $$J\\left(z_{1}\\frac{\\partial}{\\partial z_{1}} + z_{2}\\frac{\\partial}{\\partial z_{2}} + \\overline{z_{1}}\\frac{\\partial}{\\partial \\overline{z_{1}}} + \\overline{z_{2}}\\frac{\\partial}{\\partial \\overline{z_{2}}}\\right)=i z_{1}\\frac{\\partial}{\\partial z_{1}} + i z_{2}\\frac{\\partial}{\\partial z_{2}} - i \\overline{z_{1}}\\frac{\\partial}{\\partial \\overline{z_{1}}} - i \\overline{z_{2}}\\frac{\\partial}{\\partial \\overline{z_{2}}}.$$"
      ],
      "text/plain": [
       "<IPython.core.display.Latex object>"
      ]
     },
     "metadata": {},
     "output_type": "display_data"
    }
   ],
   "source": [
    "display_DGCV(f'Applying `complex_struct_op` to the three vector fields from the previous example yields $$J\\\\left({LaTeX(hol_vf)}\\\\right)={LaTeX(complex_struct_op(hol_vf))},$$ $$J\\\\left({LaTeX(antihol_vf)}\\\\right)={LaTeX(complex_struct_op(antihol_vf))},$$ and $$J\\\\left({LaTeX(comp_vf)}\\\\right)={LaTeX(complex_struct_op(comp_vf))}.$$')"
   ]
  },
  {
   "cell_type": "markdown",
   "metadata": {},
   "source": [
    "Use `conjugate_DGCV` to apply the standard fiber-wise complex conjuation to $\\mathbb{C}TM$ and $\\mathbb{C}T^*M$"
   ]
  },
  {
   "cell_type": "code",
   "execution_count": 26,
   "metadata": {},
   "outputs": [
    {
     "data": {
      "text/latex": [
       "Applying `conjugate_DGCV` to the three vector fields from the previous example yields $$\\overline{\\left(z_{1}\\frac{\\partial}{\\partial z_{1}} + z_{2}\\frac{\\partial}{\\partial z_{2}}\\right)}=\\overline{z_{1}}\\frac{\\partial}{\\partial \\overline{z_{1}}} + \\overline{z_{2}}\\frac{\\partial}{\\partial \\overline{z_{2}}},$$ $$\\overline{\\left(\\overline{z_{1}}\\frac{\\partial}{\\partial \\overline{z_{1}}} + \\overline{z_{2}}\\frac{\\partial}{\\partial \\overline{z_{2}}}\\right)}=z_{1}\\frac{\\partial}{\\partial z_{1}} + z_{2}\\frac{\\partial}{\\partial z_{2}},$$ and $$\\overline{\\left(z_{1}\\frac{\\partial}{\\partial z_{1}} + z_{2}\\frac{\\partial}{\\partial z_{2}} + \\overline{z_{1}}\\frac{\\partial}{\\partial \\overline{z_{1}}} + \\overline{z_{2}}\\frac{\\partial}{\\partial \\overline{z_{2}}}\\right)}=z_{1}\\frac{\\partial}{\\partial z_{1}} + z_{2}\\frac{\\partial}{\\partial z_{2}} + \\overline{z_{1}}\\frac{\\partial}{\\partial \\overline{z_{1}}} + \\overline{z_{2}}\\frac{\\partial}{\\partial \\overline{z_{2}}}.$$"
      ],
      "text/plain": [
       "<IPython.core.display.Latex object>"
      ]
     },
     "metadata": {},
     "output_type": "display_data"
    }
   ],
   "source": [
    "display_DGCV(f'Applying `conjugate_DGCV` to the three vector fields from the previous example yields $$\\\\overline{{\\\\left({LaTeX(hol_vf)}\\\\right)}}={LaTeX(conjugate_DGCV(hol_vf))},$$ $$\\\\overline{{\\\\left({LaTeX(antihol_vf)}\\\\right)}}={LaTeX(conjugate_DGCV(antihol_vf))},$$ and $$\\\\overline{{\\\\left({LaTeX(comp_vf)}\\\\right)}}={LaTeX(simplify(conjugate_DGCV(comp_vf)))}.$$')"
   ]
  },
  {
   "cell_type": "markdown",
   "metadata": {},
   "source": [
    "The functions `Del` and `DelBar` represent the Dolbeault operators. Apply them to plain functions or differential forms. Here's an example using `DelBar` with `sympy.Function` to derive the Cauchy–Riemann equations:"
   ]
  },
  {
   "cell_type": "code",
   "execution_count": 27,
   "metadata": {},
   "outputs": [
    {
     "data": {
      "text/latex": [
       "The Cauchy–Riemann equations for the function $f(x,y)=u{\\left(x,y \\right)} + i v{\\left(x,y \\right)}$ to be holomorphic are $$0=\\overline{\\partial}\\left(u{\\left(x,y \\right)} + i v{\\left(x,y \\right)}\\right)=\\left(\\frac{\\frac{\\partial}{\\partial x} u{\\left(x,y \\right)}}{2} + \\frac{i \\frac{\\partial}{\\partial y} u{\\left(x,y \\right)}}{2} + \\frac{i \\frac{\\partial}{\\partial x} v{\\left(x,y \\right)}}{2} - \\frac{\\frac{\\partial}{\\partial y} v{\\left(x,y \\right)}}{2}\\right) d x + \\left(- \\frac{i \\frac{\\partial}{\\partial x} u{\\left(x,y \\right)}}{2} + \\frac{\\frac{\\partial}{\\partial y} u{\\left(x,y \\right)}}{2} + \\frac{\\frac{\\partial}{\\partial x} v{\\left(x,y \\right)}}{2} + \\frac{i \\frac{\\partial}{\\partial y} v{\\left(x,y \\right)}}{2}\\right) d y.$$"
      ],
      "text/plain": [
       "<IPython.core.display.Latex object>"
      ]
     },
     "metadata": {},
     "output_type": "display_data"
    }
   ],
   "source": [
    "createVariables('z','x','y')\n",
    "from sympy import Function, I # we'll use sympy.Function to create symbolic functions\n",
    "u = Function('u')\n",
    "v = Function('v')\n",
    "CR_equations_form=simplify(allToReal(DelBar((u(x,y)+I*v(x,y))))) # we wrap it in allToReal to convert everything to real coordinates\n",
    "display_DGCV(f'The Cauchy–Riemann equations for the function $f(x,y)={LaTeX(u(x,y)+I*v(x,y))}$ to be holomorphic are $$0=\\\\overline{{\\\\partial}}\\\\left({LaTeX(u(x,y)+I*v(x,y))}\\\\right)={LaTeX(CR_equations_form)}.$$')"
   ]
  },
  {
   "cell_type": "markdown",
   "metadata": {},
   "source": [
    "## Finite-dimensional algebras"
   ]
  },
  {
   "cell_type": "markdown",
   "metadata": {},
   "source": [
    "The `FAClass` objects are DGCV's representation of finite dimensional algebras. They store a symbolic basis and structure data defining the algebra with respect to that basis. Basis elements belong to the `AlgebraElement` class, another DGCV class. Adding, scaling, and multiplying `AlgebraElement` objects (according to their algebra's multiplication rules) is implemented simply with `+`, `-`, and `*`."
   ]
  },
  {
   "cell_type": "markdown",
   "metadata": {},
   "source": [
    "To initialize an `FAClass` object for a d-dimensional algebra, one needs to specify a 3-dimensional d-by-d-by-d array-like object (list of lists of lists is fine) decribing the algebra's structure constants in some basis and a label for the algebra. There are further optional arguments, which we will explore as we go. And there are flexible algebra creator functions that handle different kinds of structure data.\n",
    "\n",
    "The basic creator function is `createFiniteAlg`. It behaves similarly to the `createVariables` function, allowing simultaneous initialization of many objects with controllable and automatic label generation (operating within DGCV's label generation safeguards filters)."
   ]
  },
  {
   "cell_type": "code",
   "execution_count": 28,
   "metadata": {},
   "outputs": [
    {
     "data": {
      "text/latex": [
       "Algebra: $\\mathfrak{sl}_{2}$, Basis: $X, Y, H$, Dimension: $3$, Grading: $\\left( 2, \\  -2, \\  0\\right)$"
      ],
      "text/plain": [
       "FAClass(dim=3, grading=(2, -2, 0), label=sl2, basis_labels=['X', 'Y', 'H'], struct_data=[[[0, 0, 0], [0, 0, -1], [2, 0, 0]], [[0, 0, 1], [0, 0, 0], [0, -2, 0]], [[-2, 0, 0], [0, 2, 0], [0, 0, 0]]])"
      ]
     },
     "execution_count": 28,
     "metadata": {},
     "output_type": "execute_result"
    }
   ],
   "source": [
    "structureConstants=[[[0,0,0],[0,0,-1],[2,0,0]],[[0,0,1],[0,0,0],[0,-2,0]],[[-2,0,0],[0,2,0],[0,0,0]]] # structure constants for sl2\n",
    "\n",
    "createFiniteAlg(structureConstants,'sl2',basis_labels=['X','Y','H'],grading=[2,-2,0])"
   ]
  },
  {
   "cell_type": "markdown",
   "metadata": {},
   "source": [
    "Creating new algebra elements from the basis elements with `+`, `-`, and `*` is intuitive:"
   ]
  },
  {
   "cell_type": "code",
   "execution_count": 29,
   "metadata": {},
   "outputs": [
    {
     "data": {
      "image/png": "[encoded data removed]",
      "text/latex": [
       "$\\text{Element of } \\mathfrak{sl}_{2}: H$"
      ],
      "text/plain": [
       "AlgebraElement(algebra=sl2, coefficients=Matrix([[0], [0], [1]]), basis_labels=['X', 'Y', 'H'])"
      ]
     },
     "execution_count": 29,
     "metadata": {},
     "output_type": "execute_result"
    }
   ],
   "source": [
    "X*H+Y*X-2*X"
   ]
  },
  {
   "cell_type": "markdown",
   "metadata": {},
   "source": [
    "The `basis_labels` and `grading` keywords above were optional. They allow us to specify labels for the algebra's basis (whereas default labels would have been created otherwise), and to specify $\\mathbb{Z}$-grading weights for the algebra's basis elements. The algebra's product need not be compatible with the weights in *grading*, but the FAClass does have a method for checking if it is."
   ]
  },
  {
   "cell_type": "markdown",
   "metadata": {},
   "source": [
    "Use attributes like `dimension`, `basis_labels`, `structureData`, and `grading` to access an algebra's properties"
   ]
  },
  {
   "cell_type": "code",
   "execution_count": 30,
   "metadata": {},
   "outputs": [
    {
     "data": {
      "image/png": "[encoded data removed]",
      "text/latex": [
       "$\\displaystyle 3$"
      ],
      "text/plain": [
       "3"
      ]
     },
     "metadata": {},
     "output_type": "display_data"
    },
    {
     "data": {
      "text/plain": [
       "['X', 'Y', 'H']"
      ]
     },
     "metadata": {},
     "output_type": "display_data"
    },
    {
     "data": {
      "image/png": "[encoded data removed]",
      "text/latex": [
       "$\\displaystyle \\left( \\left( \\left( 0 , 0 , 0 \\right) , \\left( 0 , 0 , -1 \\right) , \\left( 2 , 0 , 0 \\right) \\right) , \\left( \\left( 0 , 0 , 1 \\right) , \\left( 0 , 0 , 0 \\right) , \\left( 0 , -2 , 0 \\right) \\right) , \\left( \\left( -2 , 0 , 0 \\right) , \\left( 0 , 2 , 0 \\right) , \\left( 0 , 0 , 0 \\right) \\right) \\right)$"
      ],
      "text/plain": [
       "[[[0, 0, 0], [0, 0, -1], [2, 0, 0]], [[0, 0, 1], [0, 0, 0], [0, -2, 0]], [[-2, ↪\n",
       "\n",
       "↪  0, 0], [0, 2, 0], [0, 0, 0]]]"
      ]
     },
     "metadata": {},
     "output_type": "display_data"
    },
    {
     "data": {
      "image/png": "[encoded data removed]",
      "text/latex": [
       "$\\displaystyle \\left( 2, \\  -2, \\  0\\right)$"
      ],
      "text/plain": [
       "(2, -2, 0)"
      ]
     },
     "metadata": {},
     "output_type": "display_data"
    }
   ],
   "source": [
    "display_DGCV(sl2.dimension,sl2.basis_labels,sl2.structureData,sl2.grading)"
   ]
  },
  {
   "cell_type": "markdown",
   "metadata": {},
   "source": [
    "Many of `FAClass` properties and methods are calculated only when requested, rather than when the object is created. After being calculated the first time, however, the object caches the property value so that it can be immediately recalled as needed. Calling up the method `is_semisimple` for example will initialize several calculations, checking if the algebra is skew-symmetric, satisfies Jacobi identities, finding the killing form etc., and each property once calculated is stored for fast recall later. \n",
    "\n",
    "The class's methods that report properties accept a `verbose=True` keyword, which if entered will prompt a longer report on the accessed property. For example, `.satisfies_jacobi_identity()` returns just True or False, whereas `.satisfies_jacobi_identity(verbose=True)` will return a list of algebra element combinations that fail the Jacobi identity if any are found."
   ]
  },
  {
   "cell_type": "code",
   "execution_count": 31,
   "metadata": {},
   "outputs": [
    {
     "name": "stdout",
     "output_type": "stream",
     "text": [
      "sl2 is semisimple.\n"
     ]
    },
    {
     "data": {
      "text/plain": [
       "True"
      ]
     },
     "execution_count": 31,
     "metadata": {},
     "output_type": "execute_result"
    }
   ],
   "source": [
    "sl2.is_semisimple(verbose=True)"
   ]
  },
  {
   "cell_type": "markdown",
   "metadata": {},
   "source": [
    "Use `adjointRepresentation` to get a Lie algebra's adjoint representation"
   ]
  },
  {
   "cell_type": "code",
   "execution_count": 32,
   "metadata": {},
   "outputs": [
    {
     "data": {
      "image/png": "[encoded data removed]",
      "text/latex": [
       "$\\displaystyle \\left( \\left[\\begin{matrix}0 & 0 & 0\\\\0 & 0 & -1\\\\2 & 0 & 0\\end{matrix}\\right] , \\left[\\begin{matrix}0 & 0 & 1\\\\0 & 0 & 0\\\\0 & -2 & 0\\end{matrix}\\right] , \\left[\\begin{matrix}-2 & 0 & 0\\\\0 & 2 & 0\\\\0 & 0 & 0\\end{matrix}\\right] \\right)$"
      ],
      "text/plain": [
       "⎡⎡0  0  0 ⎤  ⎡0  0   1⎤  ⎡-2  0  0⎤⎤\n",
       "⎢⎢        ⎥  ⎢        ⎥  ⎢        ⎥⎥\n",
       "⎢⎢0  0  -1⎥, ⎢0  0   0⎥, ⎢0   2  0⎥⎥\n",
       "⎢⎢        ⎥  ⎢        ⎥  ⎢        ⎥⎥\n",
       "⎣⎣2  0  0 ⎦  ⎣0  -2  0⎦  ⎣0   0  0⎦⎦"
      ]
     },
     "execution_count": 32,
     "metadata": {},
     "output_type": "execute_result"
    }
   ],
   "source": [
    "adjointRepresentation(sl2)"
   ]
  },
  {
   "cell_type": "markdown",
   "metadata": {},
   "source": [
    "Use `killingForm` to get a matrix reprentation of its Killing form"
   ]
  },
  {
   "cell_type": "code",
   "execution_count": 33,
   "metadata": {},
   "outputs": [
    {
     "data": {
      "image/png": "[encoded data removed]",
      "text/latex": [
       "$\\displaystyle \\left[\\begin{matrix}0 & 4 & 0\\\\4 & 0 & 0\\\\0 & 0 & 8\\end{matrix}\\right]$"
      ],
      "text/plain": [
       "⎡0  4  0⎤\n",
       "⎢       ⎥\n",
       "⎢4  0  0⎥\n",
       "⎢       ⎥\n",
       "⎣0  0  8⎦"
      ]
     },
     "execution_count": 33,
     "metadata": {},
     "output_type": "execute_result"
    }
   ],
   "source": [
    "killingForm(sl2)"
   ]
  },
  {
   "cell_type": "markdown",
   "metadata": {},
   "source": [
    "`createFiniteAlg` can also assemble an FAClass instance form vector fields spanning a Lie algebra. Here's an example with a typical vector field representation of $\\mathfrak{so}(3)$:"
   ]
  },
  {
   "cell_type": "code",
   "execution_count": 34,
   "metadata": {},
   "outputs": [
    {
     "name": "stdout",
     "output_type": "stream",
     "text": [
      "Cleared standard variable systems from the DGCV variable management framework: s, u, c, eta\n",
      "Cleared complex variable systems from the DGCV variable management framework: zeta, z\n",
      "Cleared finite algebra systems from the DGCV variable management framework: sl2\n"
     ]
    },
    {
     "data": {
      "text/latex": [
       "Algebra: $\\mathfrak{so}_{3}$, Basis: $e1, e2, e3$, Dimension: $3$, Grading: $\\left( 0, \\  0, \\  0\\right)$"
      ],
      "text/plain": [
       "FAClass(dim=3, grading=(0, 0, 0), label=so3, basis_labels=['e1', 'e2', 'e3'], struct_data=[[[0, 0, 0], [0, 0, 1], [0, -1, 0]], [[0, 0, -1], [0, 0, 0], [1, 0, 0]], [[0, 1, 0], [-1, 0, 0], [0, 0, 0]]])"
      ]
     },
     "execution_count": 34,
     "metadata": {},
     "output_type": "execute_result"
    }
   ],
   "source": [
    "clearVar(*listVar())\n",
    "createVariables('x',3,withVF=True)\n",
    "X1=x2*D_x3-x3*D_x2\n",
    "X2=x3*D_x1-x1*D_x3\n",
    "X3=x2*D_x1-x1*D_x2\n",
    "vf_set=[X1,X2,X3]\n",
    "createFiniteAlg(vf_set,'so3',basis_labels=['e1','e2','e3'])"
   ]
  },
  {
   "cell_type": "markdown",
   "metadata": {},
   "source": [
    "As with the previous example, we assigned lables to the algebra elements, so we can do basic arithemtic with them (where e1*e2 denotes algebra product etc.):"
   ]
  },
  {
   "cell_type": "code",
   "execution_count": 35,
   "metadata": {},
   "outputs": [
    {
     "data": {
      "image/png": "[encoded data removed]",
      "text/latex": [
       "$\\text{Element of } \\mathfrak{so}_{3}: 3 \\cdot e1$"
      ],
      "text/plain": [
       "AlgebraElement(algebra=so3, coefficients=Matrix([[3], [0], [0]]), basis_labels=['e1', 'e2', 'e3'])"
      ]
     },
     "metadata": {},
     "output_type": "display_data"
    },
    {
     "data": {
      "image/png": "[encoded data removed]",
      "text/latex": [
       "$\\text{Element of } \\mathfrak{so}_{3}: e1 + (1 - i) \\cdot e2$"
      ],
      "text/plain": [
       "AlgebraElement(algebra=so3, coefficients=Matrix([[1], [1 - I], [0]]), basis_labels=['e1', 'e2', 'e3'])"
      ]
     },
     "metadata": {},
     "output_type": "display_data"
    },
    {
     "data": {
      "image/png": "[encoded data removed]",
      "text/latex": [
       "$\\text{Element of } \\mathfrak{so}_{3}: e1$"
      ],
      "text/plain": [
       "AlgebraElement(algebra=so3, coefficients=Matrix([[1], [0], [0]]), basis_labels=['e1', 'e2', 'e3'])"
      ]
     },
     "metadata": {},
     "output_type": "display_data"
    }
   ],
   "source": [
    "display(3*e1,e1+(1-I)*e2,e2*e3)"
   ]
  },
  {
   "cell_type": "markdown",
   "metadata": {},
   "source": [
    "Access the algebra's `structureData` attribute to view the structure constants that were extracted from the vector field basis:"
   ]
  },
  {
   "cell_type": "code",
   "execution_count": 36,
   "metadata": {},
   "outputs": [
    {
     "data": {
      "image/png": "[encoded data removed]",
      "text/latex": [
       "$\\displaystyle \\left[\\begin{matrix}\\left[\\begin{matrix}0 & 0 & 0\\\\0 & 0 & 1\\\\0 & -1 & 0\\end{matrix}\\right] & \\left[\\begin{matrix}0 & 0 & -1\\\\0 & 0 & 0\\\\1 & 0 & 0\\end{matrix}\\right] & \\left[\\begin{matrix}0 & 1 & 0\\\\-1 & 0 & 0\\\\0 & 0 & 0\\end{matrix}\\right]\\end{matrix}\\right]$"
      ],
      "text/plain": [
       "⎡⎡0  0   0⎤  ⎡0  0  -1⎤  ⎡0   1  0⎤⎤\n",
       "⎢⎢        ⎥  ⎢        ⎥  ⎢        ⎥⎥\n",
       "⎢⎢0  0   1⎥  ⎢0  0  0 ⎥  ⎢-1  0  0⎥⎥\n",
       "⎢⎢        ⎥  ⎢        ⎥  ⎢        ⎥⎥\n",
       "⎣⎣0  -1  0⎦  ⎣1  0  0 ⎦  ⎣0   0  0⎦⎦"
      ]
     },
     "execution_count": 36,
     "metadata": {},
     "output_type": "execute_result"
    }
   ],
   "source": [
    "from sympy import Array # We can use sympy's Array to format the output. Otherwise structure data is just returned as a list.\n",
    "Array(so3.structureData)"
   ]
  },
  {
   "cell_type": "markdown",
   "metadata": {},
   "source": [
    "## Tensor fields"
   ]
  },
  {
   "cell_type": "markdown",
   "metadata": {},
   "source": [
    "Beyond `DFClass` DGCV covariant tensor fields are represented by `TFClass` and `STFClass` objects (tensor fields and  symmetric tensor fields). Support for contravariant and mixed type fields is forthcomming, as are convenient object creation functions (like the createVariables and createFiniteAlg functions above). DGCV has many functions that initialize these objects on the fly as they relate to other geometric structures, but currently the only way to initialize them directly is via standard Python class initializers.\n",
    "\n",
    "Creating a general tensor field requires at least 3 ingrediants, a coordinate system, a Python dictionary mapping index tuples to the tensor field's corresponding scalar component w.r.t. the given coordinate system, and a degree specifying the tensor field's type, e.g., (0,1), (0,2), etc. The syntax for a Python dictionary is `{key1:value, key2:value2, ...}`"
   ]
  },
  {
   "cell_type": "code",
   "execution_count": 37,
   "metadata": {},
   "outputs": [
    {
     "name": "stdout",
     "output_type": "stream",
     "text": [
      "Cleared standard variable systems from the DGCV variable management framework: x\n",
      "Cleared finite algebra systems from the DGCV variable management framework: so3\n"
     ]
    },
    {
     "data": {
      "text/latex": [
       "We just created two tensor fields $2 rd r \\otimes d r + d s \\otimes d s$ and $d s \\otimes d s + 2 td t \\otimes d t$ in the respective coordinate systems $\\left( r, s \\right)$ and $\\left( s, t \\right)$. Their difference is $$\\big(2 rd r \\otimes d r + d s \\otimes d s\\big)+\\big(d s \\otimes d s + 2 td t \\otimes d t\\big)=2 rd r \\otimes d r - 2 td t \\otimes d t$$ and their tensor product is $$\\big(2 rd r \\otimes d r + d s \\otimes d s\\big)\\otimes\\big(d s \\otimes d s + 2 td t \\otimes d t\\big)=2 rd r \\otimes d r \\otimes d s \\otimes d s + 4 r td r \\otimes d r \\otimes d t \\otimes d t + d s \\otimes d s \\otimes d s \\otimes d s + 2 td s \\otimes d s \\otimes d t \\otimes d t.$$ As TF with different coordinate spaces are combined DGCV computes a minimal common coordinate system for the new TF. For example, the coordinate space that was created for this tensor product is $\\left( r, s, t \\right)$."
      ],
      "text/plain": [
       "<IPython.core.display.Latex object>"
      ]
     },
     "metadata": {},
     "output_type": "display_data"
    }
   ],
   "source": [
    "clearVar(*listVar()) # refreshing the VMF\n",
    "createVariables('r s t', withVF=True) # creating coordinate systems\n",
    "coordinates1 = (r,s)\n",
    "coordinates2 = (s,t)\n",
    "structureData1 = {(0,0):2*r, (1,1):1}\n",
    "structureData2 = {(0,0):1, (1,1):2*t}\n",
    "tf1 = TFClass(coordinates1, structureData1, 2)\n",
    "tf2 = TFClass(coordinates2, structureData2, 2)\n",
    "tensor_dif = tf1 - tf2 # interpretted by extending their respective coordinate systems to a common one\n",
    "tensor_product = tf1*tf2\n",
    "display_DGCV(f\"We just created two tensor fields ${LaTeX(tf1)}$ and ${LaTeX(tf2)}$ in the respective coordinate systems ${LaTeX(tf1.varSpace)}$ and ${LaTeX(tf2.varSpace)}$. Their difference is $$\\\\big({LaTeX(tf1)}\\\\big)+\\\\big({LaTeX(tf2)}\\\\big)={LaTeX(tensor_dif)}$$ and their tensor product is $$\\\\big({LaTeX(tf1)}\\\\big)\\\\otimes\\\\big({LaTeX(tf2)}\\\\big)={LaTeX(tensor_product)}.$$ As TF with different coordinate spaces are combined DGCV computes a minimal common coordinate system for the new TF. For example, the coordinate space that was created for this tensor product is ${LaTeX(tensor_product.varSpace)}$.\")"
   ]
  },
  {
   "cell_type": "markdown",
   "metadata": {},
   "source": [
    "Since some of this last example's tensor fields were symmetric, we could have initialized them as `STFClass` objects insead:"
   ]
  },
  {
   "cell_type": "code",
   "execution_count": 38,
   "metadata": {},
   "outputs": [
    {
     "data": {
      "text/latex": [
       "We just created two symmetric tensor fields $2 rd r \\odot d r + d s \\odot d s$ and $d s \\odot d s + 2 td t \\odot d t$ in the respective coordinate systems $\\left( r, s \\right)$ and $\\left( s, t \\right)$. Their sum is $$\\big(2 rd r \\odot d r + d s \\odot d s\\big)-\\big(d s \\odot d s + 2 td t \\odot d t\\big)=2 rd r \\odot d r - 2 td t \\odot d t$$ and their tensor product is $$\\big(2 rd r \\odot d r + d s \\odot d s\\big)\\otimes\\big(d s \\odot d s + 2 td t \\odot d t\\big)=2 rd r \\otimes d r \\otimes d s \\otimes d s + 4 r td r \\otimes d r \\otimes d t \\otimes d t + d s \\otimes d s \\otimes d s \\otimes d s + 2 td s \\otimes d s \\otimes d t \\otimes d t$$"
      ],
      "text/plain": [
       "<IPython.core.display.Latex object>"
      ]
     },
     "metadata": {},
     "output_type": "display_data"
    }
   ],
   "source": [
    "stf1 = STFClass(coordinates1, structureData1, 2)\n",
    "stf2 = STFClass(coordinates2, structureData2, 2)\n",
    "stf_sum = stf1 - stf2 # interpretted by extending their respective coordinate systems to a common one\n",
    "stf_t_product = stf1*stf2\n",
    "display_DGCV(f\"We just created two symmetric tensor fields ${LaTeX(stf1)}$ and ${LaTeX(stf2)}$ in the respective coordinate systems ${LaTeX(stf1.varSpace)}$ and ${LaTeX(stf2.varSpace)}$. Their sum is $$\\\\big({LaTeX(stf1)}\\\\big)-\\\\big({LaTeX(stf2)}\\\\big)={LaTeX(stf_sum)}$$ and their tensor product is $$\\\\big({LaTeX(stf1)}\\\\big)\\\\otimes\\\\big({LaTeX(stf2)}\\\\big)={LaTeX(stf_t_product)}$$\")"
   ]
  },
  {
   "cell_type": "markdown",
   "metadata": {},
   "source": [
    "DGCV stores `STFClass` data in a compressed format using their symmetries. As a result, computation times are roughly halved for operations with `STFClass` compared to `TFClass`, so using `STFClass` is recommended when applicable."
   ]
  },
  {
   "cell_type": "markdown",
   "metadata": {},
   "source": [
    "DGCV understands the natural relationship between its covariant tensor field objects and vector fields in the coordinates where they are defined. It supports natural syntax for evaluating the tensors, in the form `TFClass_object(vf1,vf2,...)`. For example:"
   ]
  },
  {
   "cell_type": "code",
   "execution_count": 39,
   "metadata": {},
   "outputs": [
    {
     "data": {
      "text/latex": [
       "Evaluting $2 rd r \\otimes d r \\otimes d s \\otimes d s + 4 r td r \\otimes d r \\otimes d t \\otimes d t + d s \\otimes d s \\otimes d s \\otimes d s + 2 td s \\otimes d s \\otimes d t \\otimes d t$ on the vector fields $\\left[ \\frac{\\partial}{\\partial s}, \\frac{\\partial}{\\partial s}, \\frac{\\partial}{\\partial t}, \\frac{\\partial}{\\partial t} \\right]$ yields $2 t$."
      ],
      "text/plain": [
       "<IPython.core.display.Latex object>"
      ]
     },
     "metadata": {},
     "output_type": "display_data"
    }
   ],
   "source": [
    "display_DGCV(f'Evaluting ${LaTeX(stf_t_product)}$ on the vector fields ${LaTeX(get_VF(s,s,t,t))}$ yields ${LaTeX(stf_t_product(D_s,D_s,D_t,D_t))}$.')"
   ]
  },
  {
   "cell_type": "markdown",
   "metadata": {},
   "source": [
    "## Polynomials"
   ]
  },
  {
   "cell_type": "markdown",
   "metadata": {},
   "source": [
    "#### `DGCVPolyClass` is a DGCV class that wraps Sympy `Poly` objects in a data structure that has additional attributes useful for interacting with DGCV's complex variables systems. If a polynomial's variables are from DGCV's complex variables systems then building a `DGCVPolyClass` object from it provides easy access to tools for decomping the polymial in natural ways."
   ]
  },
  {
   "cell_type": "code",
   "execution_count": 40,
   "metadata": {},
   "outputs": [
    {
     "name": "stdout",
     "output_type": "stream",
     "text": [
      "Cleared standard variable systems from the DGCV variable management framework: r, s, t\n"
     ]
    },
    {
     "data": {
      "text/latex": [
       "Taking a plain polynomial expression $$x_{1}^{4} + i x_{2}^{3} y_{2} - x_{3}^{2} y_{3}^{2} - i x_{4} y_{4}^{3} + y_{4}^{4} + 1$$ in variables from a DGCV complex variable system, we promoted it to a `DGCVPolyClass` object *promoted_poly*. The class has attributes that let us now immediately compute some of its complex structure-related properties. Finding it's decomposition into holom., antiholom. parts, and mixed parts, `promoted_poly.holomorphic_part` retrieves $$\\frac{z_{1}^{4}}{16} + \\frac{z_{2}^{4}}{16} + \\frac{z_{3}^{4}}{16} + \\frac{z_{4}^{4}}{8} + 1,$$ while `promoted_poly.antiholomorphic_part` retrieves $$\\frac{\\overline{z_{1}}^{4}}{16} - \\frac{\\overline{z_{2}}^{4}}{16} + \\frac{\\overline{z_{3}}^{4}}{16} + 1$$ and `promoted_poly.mixed_terms` retrieves $$\\frac{z_{1}^{3} \\overline{z_{1}}}{4} + \\frac{3 z_{1}^{2} \\overline{z_{1}}^{2}}{8} + \\frac{z_{1} \\overline{z_{1}}^{3}}{4} + \\frac{z_{2}^{3} \\overline{z_{2}}}{8} - \\frac{z_{2} \\overline{z_{2}}^{3}}{8} - \\frac{z_{3}^{2} \\overline{z_{3}}^{2}}{8} - \\frac{3 z_{4}^{3} \\overline{z_{4}}}{8} + \\frac{3 z_{4}^{2} \\overline{z_{4}}^{2}}{8} - \\frac{z_{4} \\overline{z_{4}}^{3}}{8}.$$ Notice that the constant term appears in both the holomorphic and antiholomorphic parts, but these three parts are otherwise complementary. To get an exact compliment to the mixed terms part, `promoted_poly.pluriharmonic_part` retrieves $$\\frac{z_{1}^{4}}{16} + \\frac{z_{2}^{4}}{16} + \\frac{z_{3}^{4}}{16} + \\frac{z_{4}^{4}}{8} + \\frac{\\overline{z_{1}}^{4}}{16} - \\frac{\\overline{z_{2}}^{4}}{16} + \\frac{\\overline{z_{3}}^{4}}{16} + 1.$$"
      ],
      "text/plain": [
       "<IPython.core.display.Latex object>"
      ]
     },
     "metadata": {},
     "output_type": "display_data"
    }
   ],
   "source": [
    "from sympy import I # we'll use sympy's imaginary unit\n",
    "clearVar(*listVar())\n",
    "createVariables('z','x','y',4)\n",
    "plain_poly = x1**4+I*x2**3*y2-x3**2*y3**2-I*x4*y4**3+y4**4+1\n",
    "promoted_poly = DGCVPolyClass(plain_poly)\n",
    "display_DGCV(f'Taking a plain polynomial expression $${LaTeX(plain_poly)}$$ in variables from a DGCV complex variable system, we promoted it to a `DGCVPolyClass` object *promoted_poly*. The class has attributes that let us now immediately compute some of its complex structure-related properties. Finding it\\'s decomposition into holom., antiholom. parts, and mixed parts, `promoted_poly.holomorphic_part` retrieves $${LaTeX(promoted_poly.holomorphic_part)},$$ while `promoted_poly.antiholomorphic_part` retrieves $${LaTeX(promoted_poly.antiholomorphic_part)}$$ and `promoted_poly.mixed_terms` retrieves $${LaTeX(promoted_poly.mixed_terms)}.$$ Notice that the constant term appears in both the holomorphic and antiholomorphic parts, but these three parts are otherwise complementary. To get an exact compliment to the mixed terms part, `promoted_poly.pluriharmonic_part` retrieves $${LaTeX(promoted_poly.pluriharmonic_part)}.$$')"
   ]
  },
  {
   "cell_type": "markdown",
   "metadata": {},
   "source": [
    "Use `createPolynomial` and `createBigradPolynomial` to easily initialize general polynomials in an assigned variable space with new labeled variables as cooefficients. The new labeled variables are registered in the VMF automatically, so tasks like counting the number of cooefficients created are simplified with DGCV's various VMF features, principally `DGCV_snapshot`.\n",
    "\n",
    "These object creation functions have lots of optional keyword arguments for finer controls. Check their docstrings for more details. Here is an example of a typical application using the $z$ variables from the previous example:"
   ]
  },
  {
   "cell_type": "code",
   "execution_count": 41,
   "metadata": {},
   "outputs": [
    {
     "data": {
      "text/latex": [
       "We just created a degree 4 homogeneous polynomial in the variables $\\left( z_{1}, z_{2}, z_{3}, z_{4} \\right)$ with coefficients $\\left( \\alpha_{1}, \\alpha_{2}, \\alpha_{3}, \\alpha_{4}, \\alpha_{5}, \\alpha_{6}, \\alpha_{7}, \\alpha_{8}, \\alpha_{9}, \\alpha_{10}, \\alpha_{11}, \\alpha_{12}, \\alpha_{13}, \\alpha_{14}, \\alpha_{15}, \\alpha_{16}, \\alpha_{17}, \\alpha_{18}, \\alpha_{19}, \\alpha_{20}, \\alpha_{21}, \\alpha_{22}, \\alpha_{23}, \\alpha_{24}, \\alpha_{25}, \\alpha_{26}, \\alpha_{27}, \\alpha_{28}, \\alpha_{29}, \\alpha_{30}, \\alpha_{31}, \\alpha_{32}, \\alpha_{33}, \\alpha_{34}, \\alpha_{35} \\right)$: $$\\alpha_{1} z_{4}^{4} + \\alpha_{10} z_{2}^{2} z_{4}^{2} + \\alpha_{11} z_{2}^{2} z_{3} z_{4} + \\alpha_{12} z_{2}^{2} z_{3}^{2} + \\alpha_{13} z_{2}^{3} z_{4} + \\alpha_{14} z_{2}^{3} z_{3} + \\alpha_{15} z_{2}^{4} + \\alpha_{16} z_{1} z_{4}^{3} + \\alpha_{17} z_{1} z_{3} z_{4}^{2} + \\alpha_{18} z_{1} z_{3}^{2} z_{4} + \\alpha_{19} z_{1} z_{3}^{3} + \\alpha_{2} z_{3} z_{4}^{3} + \\alpha_{20} z_{1} z_{2} z_{4}^{2} + \\alpha_{21} z_{1} z_{2} z_{3} z_{4} + \\alpha_{22} z_{1} z_{2} z_{3}^{2} + \\alpha_{23} z_{1} z_{2}^{2} z_{4} + \\alpha_{24} z_{1} z_{2}^{2} z_{3} + \\alpha_{25} z_{1} z_{2}^{3} + \\alpha_{26} z_{1}^{2} z_{4}^{2} + \\alpha_{27} z_{1}^{2} z_{3} z_{4} + \\alpha_{28} z_{1}^{2} z_{3}^{2} + \\alpha_{29} z_{1}^{2} z_{2} z_{4} + \\alpha_{3} z_{3}^{2} z_{4}^{2} + \\alpha_{30} z_{1}^{2} z_{2} z_{3} + \\alpha_{31} z_{1}^{2} z_{2}^{2} + \\alpha_{32} z_{1}^{3} z_{4} + \\alpha_{33} z_{1}^{3} z_{3} + \\alpha_{34} z_{1}^{3} z_{2} + \\alpha_{35} z_{1}^{4} + \\alpha_{4} z_{3}^{3} z_{4} + \\alpha_{5} z_{3}^{4} + \\alpha_{6} z_{2} z_{4}^{3} + \\alpha_{7} z_{2} z_{3} z_{4}^{2} + \\alpha_{8} z_{2} z_{3}^{2} z_{4} + \\alpha_{9} z_{2} z_{3}^{3}$$"
      ],
      "text/plain": [
       "<IPython.core.display.Latex object>"
      ]
     },
     "metadata": {},
     "output_type": "display_data"
    }
   ],
   "source": [
    "new_polynomial = createPolynomial('alpha', 4, z, homogeneous=True) \n",
    "display_DGCV(f'We just created a degree 4 homogeneous polynomial in the variables ${LaTeX(z)}$ with coefficients ${LaTeX(alpha)}$: $${LaTeX(new_polynomial)}$$')"
   ]
  },
  {
   "cell_type": "markdown",
   "metadata": {},
   "source": [
    "Having created so many variables, it can be helpful to reference the `DGCV_snapshot` table summarizing what was created:"
   ]
  },
  {
   "cell_type": "code",
   "execution_count": 42,
   "metadata": {},
   "outputs": [
    {
     "data": {
      "text/html": [
       "<style type=\"text/css\">\n",
       "#T_94cc9 th {\n",
       "  background-color: #95c8d8;\n",
       "  color: #e0f7fa;\n",
       "  text-align: center;\n",
       "  font-weight: bold;\n",
       "}\n",
       "#T_94cc9 th.col_heading.level0 {\n",
       "  font-size: 22px;\n",
       "  background-color: #95c8d8;\n",
       "  color: #e0f7fa;\n",
       "  text-align: center;\n",
       "}\n",
       "#T_94cc9 th.row_heading {\n",
       "  background-color: #a3e0d8;\n",
       "  color: #2a5d67;\n",
       "  text-align: center;\n",
       "  font-weight: bold;\n",
       "}\n",
       "#T_94cc9 tbody td {\n",
       "  background-color: #f7f9e4;\n",
       "  color: #3b5c5e;\n",
       "  text-align: center;\n",
       "  font-weight: bold;\n",
       "}\n",
       "#T_94cc9 tbody tr:nth-child(even) {\n",
       "  background-color: #c6f3d8;\n",
       "}\n",
       "#T_94cc9 tbody tr:hover {\n",
       "  background-color: #d0ece7;\n",
       "}\n",
       "#T_94cc9  {\n",
       "  border: 1px solid #2a5d67;\n",
       "}\n",
       "</style>\n",
       "<table id=\"T_94cc9\">\n",
       "  <caption>(summarizes objects within the scope of DGCV's variable management framework)</caption>\n",
       "  <thead>\n",
       "    <tr>\n",
       "      <th class=\"blank\" >&nbsp;</th>\n",
       "      <th class=\"blank level0\" >&nbsp;</th>\n",
       "      <th id=\"T_94cc9_level0_col0\" class=\"col_heading level0 col0\" colspan=\"5\">Initialized Coordinate Systems and Algebras</th>\n",
       "    </tr>\n",
       "    <tr>\n",
       "      <th class=\"blank\" >&nbsp;</th>\n",
       "      <th class=\"blank level1\" >&nbsp;</th>\n",
       "      <th id=\"T_94cc9_level1_col0\" class=\"col_heading level1 col0\" ></th>\n",
       "      <th id=\"T_94cc9_level1_col1\" class=\"col_heading level1 col1\" ></th>\n",
       "      <th id=\"T_94cc9_level1_col2\" class=\"col_heading level1 col2\" ></th>\n",
       "      <th id=\"T_94cc9_level1_col3\" class=\"col_heading level1 col3\" ></th>\n",
       "      <th id=\"T_94cc9_level1_col4\" class=\"col_heading level1 col4\" ></th>\n",
       "    </tr>\n",
       "  </thead>\n",
       "  <tbody>\n",
       "    <tr>\n",
       "      <th id=\"T_94cc9_level0_row0\" class=\"row_heading level0 row0\" >Coordinate/Algebra Name(s)</th>\n",
       "      <th id=\"T_94cc9_level1_row0\" class=\"row_heading level1 row0\" ></th>\n",
       "      <td id=\"T_94cc9_row0_col0\" class=\"data row0 col0\" >Number of Var.</td>\n",
       "      <td id=\"T_94cc9_row0_col1\" class=\"data row0 col1\" >Real Part</td>\n",
       "      <td id=\"T_94cc9_row0_col2\" class=\"data row0 col2\" >Imaginary Part</td>\n",
       "      <td id=\"T_94cc9_row0_col3\" class=\"data row0 col3\" >Vector Fields</td>\n",
       "      <td id=\"T_94cc9_row0_col4\" class=\"data row0 col4\" >Differential Forms</td>\n",
       "    </tr>\n",
       "    <tr>\n",
       "      <th id=\"T_94cc9_level0_row1\" class=\"row_heading level0 row1\" >z = (z1, ..., z4)</th>\n",
       "      <th id=\"T_94cc9_level1_row1\" class=\"row_heading level1 row1\" ></th>\n",
       "      <td id=\"T_94cc9_row1_col0\" class=\"data row1 col0\" >4</td>\n",
       "      <td id=\"T_94cc9_row1_col1\" class=\"data row1 col1\" >x = (x1, ..., x4)</td>\n",
       "      <td id=\"T_94cc9_row1_col2\" class=\"data row1 col2\" >y = (y1, ..., y4)</td>\n",
       "      <td id=\"T_94cc9_row1_col3\" class=\"data row1 col3\" >D_z1,...,D_z4, D_BARz1,...,D_BARz4, D_x1,...,D_x4, D_y1,...,D_y4</td>\n",
       "      <td id=\"T_94cc9_row1_col4\" class=\"data row1 col4\" >d_z1,...,d_z4, d_BARz1,...,d_BARz4, d_x1,...,d_x4, d_y1,...,d_y4</td>\n",
       "    </tr>\n",
       "    <tr>\n",
       "      <th id=\"T_94cc9_level0_row2\" class=\"row_heading level0 row2\" >alpha = (alpha1, ..., alpha35)</th>\n",
       "      <th id=\"T_94cc9_level1_row2\" class=\"row_heading level1 row2\" ></th>\n",
       "      <td id=\"T_94cc9_row2_col0\" class=\"data row2 col0\" >35</td>\n",
       "      <td id=\"T_94cc9_row2_col1\" class=\"data row2 col1\" >----</td>\n",
       "      <td id=\"T_94cc9_row2_col2\" class=\"data row2 col2\" >----</td>\n",
       "      <td id=\"T_94cc9_row2_col3\" class=\"data row2 col3\" >----</td>\n",
       "      <td id=\"T_94cc9_row2_col4\" class=\"data row2 col4\" >----</td>\n",
       "    </tr>\n",
       "  </tbody>\n",
       "</table>\n"
      ],
      "text/plain": [
       "<pandas.io.formats.style.Styler at 0x1228ee630>"
      ]
     },
     "execution_count": 42,
     "metadata": {},
     "output_type": "execute_result"
    }
   ],
   "source": [
    "DGCV_snapshot(style = 'Monet')"
   ]
  },
  {
   "cell_type": "markdown",
   "metadata": {},
   "source": [
    "## Coordinate transformations"
   ]
  },
  {
   "cell_type": "markdown",
   "metadata": {},
   "source": [
    "Coordinate transformations are organized within DGCV's `coordinate_map` class. It organizes formulas for transforming differential geometric objects objects under transformations like coordinate changes and more general smooth mappings with convenient class methods like `pull_back` and `differential`. As one may expect, `pull_back` operates on differential forms and general covariant tensor fields (specifically `DFClass`, `TFClass`, and `STFClass`) while `differential` operatates on vector fields (`VFClass`).\n",
    "\n",
    "Let's see how it works with a typical *cartesion to polar* coordinate change."
   ]
  },
  {
   "cell_type": "code",
   "execution_count": 43,
   "metadata": {},
   "outputs": [],
   "source": [
    "from DGCV import *"
   ]
  },
  {
   "cell_type": "code",
   "execution_count": 44,
   "metadata": {},
   "outputs": [
    {
     "name": "stdout",
     "output_type": "stream",
     "text": [
      "Cleared standard variable systems from the DGCV variable management framework: alpha\n",
      "Cleared complex variable systems from the DGCV variable management framework: z\n"
     ]
    },
    {
     "data": {
      "text/latex": [
       "Applying `polar_to_cart.differential` to the frame $\\left[ \\frac{\\partial}{\\partial r}, \\frac{\\partial}{\\partial \\theta} \\right]$ gives $$\\left[ \\frac{\\partial}{\\partial r}, \\frac{\\partial}{\\partial \\theta} \\right]_{(r,\\theta)} \\mapsto \\left[ \\cos{\\left(\\theta \\right)}\\frac{\\partial}{\\partial x} + \\sin{\\left(\\theta \\right)}\\frac{\\partial}{\\partial y}, - r \\sin{\\left(\\theta \\right)}\\frac{\\partial}{\\partial x} + r \\cos{\\left(\\theta \\right)}\\frac{\\partial}{\\partial y} \\right]_{(x,y)=\\left( r \\cos{\\left(\\theta \\right)}, r \\sin{\\left(\\theta \\right)} \\right)}.$$ Applying `polar_to_cart.pull_back` to the symmetric tensor $d x \\odot d x + d y \\odot d y$ expressed in cartesian coordinates gives its expression $$\\left(\\sin^{2}{\\left(\\theta \\right)} + \\cos^{2}{\\left(\\theta \\right)}\\right)d r \\odot d r + \\left(r^{2} \\sin^{2}{\\left(\\theta \\right)} + r^{2} \\cos^{2}{\\left(\\theta \\right)}\\right)d \\theta \\odot d \\theta$$ in polar coordinates."
      ],
      "text/plain": [
       "<IPython.core.display.Latex object>"
      ]
     },
     "metadata": {},
     "output_type": "display_data"
    }
   ],
   "source": [
    "from sympy import cos, sin # We'll use sympy's trig functions\n",
    "clearVar(*listVar())\n",
    "createVariables('x, y', withVF=True, assumeReal=True)\n",
    "createVariables('r theta', withVF=True, assumeReal=True)\n",
    "\n",
    "polar_to_cart_map = coordinate_map((r,theta),(x,y),(r*cos(theta),r*sin(theta))) # Here we defined the coordinate map\n",
    "\n",
    "polar_frame = get_VF(r,theta)\n",
    "polar_frame_to_cart = [polar_to_cart_map.differential(j) for j in polar_frame]\n",
    "\n",
    "sym_tensor_repres_metric_in_cart = STFClass((x,y),{(0,0):1,(1,1):1},2)\n",
    "cart_metric_to_polar = polar_to_cart_map.pull_back(sym_tensor_repres_metric_in_cart)\n",
    "\n",
    "display_DGCV(f'Applying `polar_to_cart.differential` to the frame ${LaTeX(polar_frame)}$ gives $${LaTeX(polar_frame)}_{{(r,\\\\theta)}} \\\\mapsto {LaTeX(polar_frame_to_cart)}_{{(x,y)={LaTeX(tuple(polar_to_cart_map.coordinate_formulas))}}}.$$ Applying `polar_to_cart.pull_back` to the symmetric tensor ${LaTeX(sym_tensor_repres_metric_in_cart)}$ expressed in cartesian coordinates gives its expression $${LaTeX(cart_metric_to_polar)}$$ in polar coordinates.')\n"
   ]
  },
  {
   "cell_type": "markdown",
   "metadata": {},
   "source": [
    "For holomorphic transformations, `coordinate_map` accepts the optional keyword `coordinate_map(--,holomorphic=True)`. Setting this options allows the transformation to be initialized purely from holomorphic functions.\n",
    "\n",
    "Let's look at this option through an example, transforming the upper half plane in $\\mathbb{C}$ to the Poincaré disc. Instead of supplying 2 functions to define the transformation of the complex plane, we will just provide one holomorphic function:"
   ]
  },
  {
   "cell_type": "markdown",
   "metadata": {},
   "source": [
    "The coordinate maps class is not fully developed yet, as it has less flexibility for variable types between objects it interacts with. Removing the hastle of managing variable types (real vs. complex) while computing with complex variables is a central goal throughout DGCV, so such feature for `coordinate_map` will be built out in the future."
   ]
  },
  {
   "cell_type": "markdown",
   "metadata": {},
   "source": [
    "## Structure specific tools"
   ]
  },
  {
   "cell_type": "markdown",
   "metadata": {},
   "source": [
    "DGCV has a modest and growing library of tools with relavence specialized to specific geometric structures, like Riemmanian, Kähler, Poisson, and CR geometry.\n",
    "\n",
    "As the package's first purpose is providing robust and flexible foundational DG tools, this part of the library is rather ancillary. It demonstrates, however, the kinds of applications that are tractible using just DGCV's core library as these more specialized functions are essentially built from the basic DGCV functions (mostly) previewed above. \n",
    "\n",
    "We'll conclude this notebook with a few example."
   ]
  },
  {
   "cell_type": "markdown",
   "metadata": {},
   "source": [
    "### Example 1: Finding symmetries of a CR hypersurface:"
   ]
  },
  {
   "cell_type": "code",
   "execution_count": 45,
   "metadata": {},
   "outputs": [],
   "source": [
    "from DGCV import *"
   ]
  },
  {
   "cell_type": "code",
   "execution_count": 46,
   "metadata": {},
   "outputs": [
    {
     "name": "stdout",
     "output_type": "stream",
     "text": [
      "Cleared standard variable systems from the DGCV variable management framework: x, y, theta, r\n"
     ]
    },
    {
     "data": {
      "text/latex": [
       "Let's consider the hypersurface $$M=\\left\\{- z_{1} \\left(\\left(\\operatorname{re}{\\left(z_{1}\\right)}\\right)^{2} + \\operatorname{re}{\\left(z_{2}\\right)} - \\left(\\operatorname{im}{\\left(z_{1}\\right)}\\right)^{2}\\right)^{2} \\overline{z_{1}} + \\operatorname{im}{\\left(z_{0}\\right)}=0\\right\\}\\subset\\mathbb{C}^3.$$ Observe that the vector field $$X=6 z_{0}\\frac{\\partial}{\\partial z_{0}} + z_{1}\\frac{\\partial}{\\partial z_{1}} + 2 z_{2}\\frac{\\partial}{\\partial z_{2}}$$ is a holomorphic infinitesimal symmetry of $M$. Indeed, we can use `realPartOfVF` and `LieDerivative` to compute $$\\mathcal{L}_{\\Re(X)}\\left(- z_{1} \\left(\\left(\\operatorname{re}{\\left(z_{1}\\right)}\\right)^{2} + \\operatorname{re}{\\left(z_{2}\\right)} - \\left(\\operatorname{im}{\\left(z_{1}\\right)}\\right)^{2}\\right)^{2} \\overline{z_{1}} + \\operatorname{im}{\\left(z_{0}\\right)}\\right)=- 3 i z_{0} - \\frac{3 z_{1}^{5} \\overline{z_{1}}}{2} - 3 z_{1}^{3} z_{2} \\overline{z_{1}} - 3 z_{1}^{3} \\overline{z_{1}}^{3} - 3 z_{1}^{3} \\overline{z_{1}} \\overline{z_{2}} - \\frac{3 z_{1} z_{2}^{2} \\overline{z_{1}}}{2} - 3 z_{1} z_{2} \\overline{z_{1}}^{3} - 3 z_{1} z_{2} \\overline{z_{1}} \\overline{z_{2}} - \\frac{3 z_{1} \\overline{z_{1}}^{5}}{2} - 3 z_{1} \\overline{z_{1}}^{3} \\overline{z_{2}} - \\frac{3 z_{1} \\overline{z_{1}} \\overline{z_{2}}^{2}}{2} + 3 i \\overline{z_{0}}$$, and apply `.subs({y0:definingFunction})` to get $$\\left.\\mathcal{L}_{\\Re(X)}\\left(- z_{1} \\left(\\left(\\operatorname{re}{\\left(z_{1}\\right)}\\right)^{2} + \\operatorname{re}{\\left(z_{2}\\right)} - \\left(\\operatorname{im}{\\left(z_{1}\\right)}\\right)^{2}\\right)^{2} \\overline{z_{1}} + \\operatorname{im}{\\left(z_{0}\\right)}\\right)\\right|_{z\\in M}=0.$$"
      ],
      "text/plain": [
       "<IPython.core.display.Latex object>"
      ]
     },
     "metadata": {},
     "output_type": "display_data"
    }
   ],
   "source": [
    "from sympy import conjugate, re # sympy's conjugation and real part commands\n",
    "clearVar(*listVar())\n",
    "createVariables('z','x','y',3,initialIndex=0)\n",
    "definingFunction=(z1*conjugate(z1))*re(z2+z1**2)**2\n",
    "graphVar=im(z0)\n",
    "definingEqn=graphVar-definingFunction\n",
    "\n",
    "Euler = 6*z0*D_z0+z1*D_z1+2*z2*D_z2\n",
    "\n",
    "display_DGCV(f'Let\\'s consider the hypersurface $$M=\\\\left\\\\{{{LaTeX(definingEqn)}=0\\\\right\\\\}}\\\\subset\\\\mathbb{{C}}^3.$$ Observe that the vector field $$X={LaTeX(Euler)}$$ is a holomorphic infinitesimal symmetry of $M$. Indeed, we can use `realPartOfVF` and `LieDerivative` to compute $$\\\\mathcal{{L}}_{{\\\\Re(X)}}\\\\left({LaTeX(definingEqn)}\\\\right)={LaTeX(simplify(LieDerivative(realPartOfVF(Euler), definingEqn)))}$$, and apply `.subs({{y0:definingFunction}})` to get $$\\\\left.\\\\mathcal{{L}}_{{\\\\Re(X)}}\\\\left({LaTeX(definingEqn)}\\\\right)\\\\right|_{{z\\\\in M}}={LaTeX(simplify(allToReal((LieDerivative(realPartOfVF(Euler), definingEqn))).subs({y0:allToReal(definingFunction)})))}.$$')"
   ]
  },
  {
   "cell_type": "markdown",
   "metadata": {},
   "source": [
    "Possesing such a symmetry equips the hypersurface with lots of nice structure. To begin with it's algebra of infinitesimal symmetries will be $\\mathbb{Z}$-graded. Deep results from \n",
    ">     Martin Kolar, Francine Meylan, and Dmitri Zaitsev.  \n",
    ">     \"Chern–Moser operators and polynomial models in CR geometry.\"  \n",
    ">     *Advances in Mathematics* 263 (2014): 321-356.\n",
    "moreover comprehensively describe the hypersurface's symmetry algebra. For this example, they imply its infinitesimal symmetries will be weighted homogeneous in the $z$ coordinates w.r.t. weights [$z_0 \\to 6$, $z_1 \\to 1$, $z_2 \\to 2$], and that their weights all fall within the band from -6 to 6. They are thus determined by a finite set of linear equations, a perfect task for the computer!\n",
    "\n",
    "The function `findWeightedCRSymmetries` applies algorithms that search for weighted homogeneous CR symmetries with a given weight. Let's pass it over the present example looping accross weights between -6 and 6:"
   ]
  },
  {
   "cell_type": "code",
   "execution_count": 47,
   "metadata": {},
   "outputs": [
    {
     "data": {
      "text/latex": [
       "`findWeightedCRSymmetries` found the parameterized coefficients $\\left[ A_{1}, 0, 0 \\right]$ describing the weight $-6$ symmetries (w.r.t. weight $z_0\\to 6, z_1\\to 1, z_2\\to 2$) spanned by: $$\\left[ \\frac{\\partial}{\\partial z_{0}} \\right]$$"
      ],
      "text/plain": [
       "<IPython.core.display.Latex object>"
      ]
     },
     "metadata": {},
     "output_type": "display_data"
    },
    {
     "data": {
      "text/latex": [
       "`findWeightedCRSymmetries` found the parameterized coefficients $\\left[ 0, 0, i E_{1} \\right]$ describing the weight $-2$ symmetries (w.r.t. weight $z_0\\to 6, z_1\\to 1, z_2\\to 2$) spanned by: $$\\left[ i\\frac{\\partial}{\\partial z_{2}} \\right]$$"
      ],
      "text/plain": [
       "<IPython.core.display.Latex object>"
      ]
     },
     "metadata": {},
     "output_type": "display_data"
    },
    {
     "data": {
      "text/latex": [
       "`findWeightedCRSymmetries` found the parameterized coefficients $\\left[ z_{0} \\left(3 G_{1} - G_{2}\\right), z_{1} \\left(\\frac{G_{1}}{2} - \\frac{G_{2}}{2} - \\frac{i G_{3}}{2}\\right), G_{1} z_{2} + G_{2} z_{1}^{2} + i G_{3} z_{1}^{2} \\right]$ describing the weight $0$ symmetries (w.r.t. weight $z_0\\to 6, z_1\\to 1, z_2\\to 2$) spanned by: $$\\left[ 3 z_{0}\\frac{\\partial}{\\partial z_{0}} + \\frac{z_{1}}{2}\\frac{\\partial}{\\partial z_{1}} + z_{2}\\frac{\\partial}{\\partial z_{2}}, - z_{0}\\frac{\\partial}{\\partial z_{0}} - \\frac{z_{1}}{2}\\frac{\\partial}{\\partial z_{1}} + z_{1}^{2}\\frac{\\partial}{\\partial z_{2}}, - \\frac{i z_{1}}{2}\\frac{\\partial}{\\partial z_{1}} + i z_{1}^{2}\\frac{\\partial}{\\partial z_{2}} \\right]$$"
      ],
      "text/plain": [
       "<IPython.core.display.Latex object>"
      ]
     },
     "metadata": {},
     "output_type": "display_data"
    },
    {
     "data": {
      "text/latex": [
       "`findWeightedCRSymmetries` found the parameterized coefficients $\\left[ 0, i z_{1} \\left(- \\frac{2 J_{1} z_{1}^{2}}{5} - \\frac{2 J_{1} z_{2}}{5}\\right), i \\left(J_{1} z_{1}^{4} + \\frac{6 J_{1} z_{1}^{2} z_{2}}{5} + \\frac{J_{1} z_{2}^{2}}{5}\\right) \\right]$ describing the weight $2$ symmetries (w.r.t. weight $z_0\\to 6, z_1\\to 1, z_2\\to 2$) spanned by: $$\\left[ i z_{1} \\left(- \\frac{2 z_{1}^{2}}{5} - \\frac{2 z_{2}}{5}\\right)\\frac{\\partial}{\\partial z_{1}} + i \\left(z_{1}^{4} + \\frac{6 z_{1}^{2} z_{2}}{5} + \\frac{z_{2}^{2}}{5}\\right)\\frac{\\partial}{\\partial z_{2}} \\right]$$"
      ],
      "text/plain": [
       "<IPython.core.display.Latex object>"
      ]
     },
     "metadata": {},
     "output_type": "display_data"
    },
    {
     "data": {
      "text/latex": [
       "`findWeightedCRSymmetries` found the parameterized coefficients $\\left[ - \\frac{N_{1} z_{0}^{2}}{2}, - \\frac{N_{1} z_{0} z_{1}}{2}, N_{1} z_{0} z_{1}^{2} \\right]$ describing the weight $6$ symmetries (w.r.t. weight $z_0\\to 6, z_1\\to 1, z_2\\to 2$) spanned by: $$\\left[ - \\frac{z_{0}^{2}}{2}\\frac{\\partial}{\\partial z_{0}} - \\frac{z_{0} z_{1}}{2}\\frac{\\partial}{\\partial z_{1}} + z_{0} z_{1}^{2}\\frac{\\partial}{\\partial z_{2}} \\right]$$"
      ],
      "text/plain": [
       "<IPython.core.display.Latex object>"
      ]
     },
     "metadata": {},
     "output_type": "display_data"
    }
   ],
   "source": [
    "symmetryFieldList=[]\n",
    "variableLabels=[j for j in list(map(chr, range(ord('A'), ord('Z')+1))) if j!='I'] #This just creates a list of labels to use for coefficients of the vector field symmetries to be found\n",
    "\n",
    "# check for weighted homogeneous symmetries with weights in the range [-6,6] w.r.t. weights [6,1,2]\n",
    "for j in range(-6,7):\n",
    "    # Let's compute the symmetry vector fileds using the optional argument *returnVectorFieldBasis=True*, and put it into our running list. The VF is a holomorphic vector field whose real part is the actual symmetry:\n",
    "    weighted_solutions = findWeightedCRSymmetries(definingFunction,z,[6,1,2],j,graphVar,variableLabels[j+6],returnVectorFieldBasis=True)\n",
    "    symmetryFieldList=symmetryFieldList + weighted_solutions[0]\n",
    "    \n",
    "    # `findWeightedCRSymmetries` also returns parameterized holomorphic coefficients in a addition to VF. Let's display everything nontrivial that it finds:\n",
    "    if set(weighted_solutions[1]) != {0}:\n",
    "        display_DGCV(f\"`findWeightedCRSymmetries` found the parameterized coefficients ${LaTeX(weighted_solutions[1])}$ describing the weight ${LaTeX(j)}$ symmetries (w.r.t. weight $z_0\\\\to 6, z_1\\\\to 1, z_2\\\\to 2$) spanned by: $${LaTeX(weighted_solutions[0])}$$\")"
   ]
  },
  {
   "cell_type": "markdown",
   "metadata": {},
   "source": [
    "In the previous computation, we collected 7 holomorphic symmetries found from accross the loops into a list `symmetryFieldList`. The aforementioned result of Kolar–Meylan–Zaitsev implies that this list should span a Lie algebra. Let's toss `symmetryFieldList` into the `createFiniteAlg` function, which will automatically will very its closure under Lie brackets."
   ]
  },
  {
   "cell_type": "code",
   "execution_count": 48,
   "metadata": {},
   "outputs": [
    {
     "data": {
      "text/latex": [
       "Algebra: $\\mathfrak{aut}$, Basis: $aut_1, aut_2, aut_3, aut_4, aut_5, aut_6, aut_7$, Dimension: $7$, Grading: $\\left( -6, \\  2, \\  0, \\  0, \\  0, \\  2, \\  6\\right)$"
      ],
      "text/plain": [
       "FAClass(dim=7, grading=(-6, 2, 0, 0, 0, 2, 6), label=aut, basis_labels=['aut_1', 'aut_2', 'aut_3', 'aut_4', 'aut_5', 'aut_6', 'aut_7'], struct_data=[[[0, 0, 0, 0, 0, 0, 0], [0, 0, 0, 0, 0, 0, 0], [3, 0, 0, 0, 0, 0, 0], [-1, 0, 0, 0, 0, 0, 0], [0, 0, 0, 0, 0, 0, 0], [0, 0, 0, 0, 0, 0, 0], [0, 0, 0, 1, 0, 0, 0]], [[0, 0, 0, 0, 0, 0, 0], [0, 0, 0, 0, 0, 0, 0], [0, 1, 0, 0, 0, 0, 0], [0, 0, 0, 0, 0, 0, 0], [0, 0, 0, 0, 0, 0, 0], [0, 0, -2/5, -6/5, 0, 0, 0], [0, 0, 0, 0, 0, 0, 0]], [[-3, 0, 0, 0, 0, 0, 0], [0, -1, 0, 0, 0, 0, 0], [0, 0, 0, 0, 0, 0, 0], [0, 0, 0, 0, 0, 0, 0], [0, 0, 0, 0, 0, 0, 0], [0, 0, 0, 0, 0, 1, 0], [0, 0, 0, 0, 0, 0, 3]], [[1, 0, 0, 0, 0, 0, 0], [0, 0, 0, 0, 0, 0, 0], [0, 0, 0, 0, 0, 0, 0], [0, 0, 0, 0, 0, 0, 0], [0, 0, 0, 0, 0, 0, 0], [0, 0, 0, 0, 0, 0, 0], [0, 0, 0, 0, 0, 0, -1]], [[0, 0, 0, 0, 0, 0, 0], [0, 0, 0, 0, 0, 0, 0], [0, 0, 0, 0, 0, 0, 0], [0, 0, 0, 0, 0, 0, 0], [0, 0, 0, 0, 0, 0, 0], [0, 0, 0, 0, 0, 0, 0], [0, 0, 0, 0, 0, 0, 0]], [[0, 0, 0, 0, 0, 0, 0], [0, 0, 2/5, 6/5, 0, 0, 0], [0, 0, 0, 0, 0, -1, 0], [0, 0, 0, 0, 0, 0, 0], [0, 0, 0, 0, 0, 0, 0], [0, 0, 0, 0, 0, 0, 0], [0, 0, 0, 0, 0, 0, 0]], [[0, 0, 0, -1, 0, 0, 0], [0, 0, 0, 0, 0, 0, 0], [0, 0, 0, 0, 0, 0, -3], [0, 0, 0, 0, 0, 0, 1], [0, 0, 0, 0, 0, 0, 0], [0, 0, 0, 0, 0, 0, 0], [0, 0, 0, 0, 0, 0, 0]]])"
      ]
     },
     "execution_count": 48,
     "metadata": {},
     "output_type": "execute_result"
    }
   ],
   "source": [
    "createFiniteAlg(symmetryFieldList,'aut',grading=[-6, 2, 0, 0, 0, 2, 6]) # This instructs it to label the algebra `aut` and its basis elements `aut1`, `aut2`, etc."
   ]
  },
  {
   "cell_type": "markdown",
   "metadata": {},
   "source": [
    "The fact that `createFiniteAlg` completed without raising warnings/errors implies that the vector fields indeed span a Lie algebra. And now that we have passed them into an FAClass object `aut`, the abstract algebraic data defining the algebra is fully extracted from the vector fields. To analyze the algebra, working with `aut` directly rather than the VF list is usually preferable.\n",
    "\n",
    "For example use `aut.is_semisimple()` to check for that if it semisimple, use `adjointRepresentation(aut)` to compute its adjoint representation, etc."
   ]
  },
  {
   "cell_type": "code",
   "execution_count": 49,
   "metadata": {},
   "outputs": [
    {
     "name": "stdout",
     "output_type": "stream",
     "text": [
      "aut is not semisimple.\n"
     ]
    },
    {
     "data": {
      "text/plain": [
       "False"
      ]
     },
     "execution_count": 49,
     "metadata": {},
     "output_type": "execute_result"
    }
   ],
   "source": [
    "aut.is_semisimple(verbose=True)"
   ]
  },
  {
   "cell_type": "code",
   "execution_count": 50,
   "metadata": {},
   "outputs": [
    {
     "data": {
      "text/latex": [
       "Here is the first in a long list of matrices `adjointRepresentation(aut)`: $\\left[\\begin{matrix}0 & 0 & 0 & 0 & 0 & 0 & 0\\\\0 & 0 & 0 & 0 & 0 & 0 & 0\\\\3 & 0 & 0 & 0 & 0 & 0 & 0\\\\-1 & 0 & 0 & 0 & 0 & 0 & 0\\\\0 & 0 & 0 & 0 & 0 & 0 & 0\\\\0 & 0 & 0 & 0 & 0 & 0 & 0\\\\0 & 0 & 0 & 1 & 0 & 0 & 0\\end{matrix}\\right]$"
      ],
      "text/plain": [
       "<IPython.core.display.Latex object>"
      ]
     },
     "metadata": {},
     "output_type": "display_data"
    }
   ],
   "source": [
    "long_list_of_matrices = adjointRepresentation(aut)\n",
    "display_DGCV(f'Here is the first in a long list of matrices `adjointRepresentation(aut)`: ${LaTeX(long_list_of_matrices[0])}$')"
   ]
  },
  {
   "cell_type": "markdown",
   "metadata": {},
   "source": [
    "Compared to working with the algebra's VF representation where computing Lie brackets and decomposing them into basis components has a lot of computational overhead, brackets in the abstract algebra `aut` are computed almost instantateously. Use `*` for the algebra product, which in this example represents the Lie bracket since we are working with a Lie algebra."
   ]
  },
  {
   "cell_type": "code",
   "execution_count": 51,
   "metadata": {},
   "outputs": [
    {
     "data": {
      "text/latex": [
       "The Lie bracket $[aut_3,aut_7]$ is $3 \\cdot aut_7$"
      ],
      "text/plain": [
       "<IPython.core.display.Latex object>"
      ]
     },
     "metadata": {},
     "output_type": "display_data"
    }
   ],
   "source": [
    "display_DGCV(f'The Lie bracket $[aut_3,aut_7]$ is ${LaTeX(aut_3*aut_7)}$')"
   ]
  },
  {
   "cell_type": "markdown",
   "metadata": {},
   "source": [
    "## Example 2: One more CR Geometry example; computing a CR distribution."
   ]
  },
  {
   "cell_type": "markdown",
   "metadata": {},
   "source": [
    "Let's compute differential of the defining function of the hypersurface $M=\\{x_1x_2+x_1^2x_3=x_0\\}\\subset\\mathbb{C}^4$, where $z_j=x_j+iy_j$."
   ]
  },
  {
   "cell_type": "code",
   "execution_count": 52,
   "metadata": {},
   "outputs": [
    {
     "name": "stdout",
     "output_type": "stream",
     "text": [
      "Cleared complex variable systems from the DGCV variable management framework: z\n",
      "Cleared finite algebra systems from the DGCV variable management framework: aut\n"
     ]
    },
    {
     "data": {
      "text/latex": [
       "$M=\\{0=- x_{0} + x_{1}^{2} x_{3} + x_{1} x_{2}\\}$ defines a CR hypersurface in $\\mathbb{C}^4$"
      ],
      "text/plain": [
       "<IPython.core.display.Latex object>"
      ]
     },
     "metadata": {},
     "output_type": "display_data"
    },
    {
     "data": {
      "text/latex": [
       "$\\rho$ is: $- x_{0} + x_{1}^{2} x_{3} + x_{1} x_{2}$"
      ],
      "text/plain": [
       "<IPython.core.display.Latex object>"
      ]
     },
     "metadata": {},
     "output_type": "display_data"
    },
    {
     "data": {
      "text/latex": [
       "$d \\rho$ is: $\\left(2 x_{1} x_{3} + x_{2}\\right) d x_{1} + x_{1}^{2} d x_{3} + x_{1} d x_{2} - d x_{0}$"
      ],
      "text/plain": [
       "<IPython.core.display.Latex object>"
      ]
     },
     "metadata": {},
     "output_type": "display_data"
    }
   ],
   "source": [
    "clearVar(*listVar()) # resets the VMF\n",
    "createVariables('z', 'x', 'y', 4, initialIndex=0) # creates a coordinate system\n",
    "rho = (x1*x2 + x1**2*x3 - x0)\n",
    "d_rho = exteriorDerivative(rho)\n",
    "display_DGCV(f\"$M=\\\\{{0={LaTeX(rho)}\\\\}}$ defines a CR hypersurface in $\\\\mathbb{{C}}^4$\") \n",
    "display_DGCV(f\"$\\\\rho$ is: ${LaTeX(rho)}$\")\n",
    "display_DGCV(f\"$d \\\\rho$ is: ${LaTeX(d_rho)}$\")"
   ]
  },
  {
   "cell_type": "markdown",
   "metadata": {},
   "source": [
    "Use `annihilator` to compute the tangent bundle TM"
   ]
  },
  {
   "cell_type": "code",
   "execution_count": 53,
   "metadata": {},
   "outputs": [
    {
     "data": {
      "image/png": "[encoded data removed]",
      "text/latex": [
       "$\\displaystyle \\left( \\left(16 x_{1} x_{3} + 8 x_{2}\\right)\\frac{\\partial}{\\partial x_{0}} + 8\\frac{\\partial}{\\partial x_{1}} , 8 x_{1}\\frac{\\partial}{\\partial x_{0}} + 8\\frac{\\partial}{\\partial x_{2}} , 8 x_{1}^{2}\\frac{\\partial}{\\partial x_{0}} + 8\\frac{\\partial}{\\partial x_{3}} , 8\\frac{\\partial}{\\partial y_{0}} , 8\\frac{\\partial}{\\partial y_{1}} , 8\\frac{\\partial}{\\partial y_{2}} , 8\\frac{\\partial}{\\partial y_{3}} \\right)$"
      ],
      "text/plain": [
       "[(16*x1*x3 + 8*x2)*D_x0+8*D_x1, 8*x1*D_x0+8*D_x2, 8*x1**2*D_x0+8*D_x3, 8*D_y0, ↪\n",
       "\n",
       "↪  8*D_y1, 8*D_y2, 8*D_y3]"
      ]
     },
     "execution_count": 53,
     "metadata": {},
     "output_type": "execute_result"
    }
   ],
   "source": [
    "dfList = [d_rho]\n",
    "TMbasis = annihilator(dfList, x + y)\n",
    "TMbasis # displays a basis of the tangent bundle"
   ]
  },
  {
   "cell_type": "markdown",
   "metadata": {},
   "source": [
    "To verify the computation worked, let's compute Lie derivative of $\\rho$ along these vector fields (it should vanish along the hypersurface) using `LieDerivative`"
   ]
  },
  {
   "cell_type": "code",
   "execution_count": 54,
   "metadata": {},
   "outputs": [
    {
     "data": {
      "image/png": "[encoded data removed]",
      "text/latex": [
       "$\\displaystyle \\left( \\left(16 x_{1} x_{3} + 8 x_{2}\\right)\\frac{\\partial}{\\partial y_{0}} + 8\\frac{\\partial}{\\partial y_{1}} , 8 x_{1}\\frac{\\partial}{\\partial y_{0}} + 8\\frac{\\partial}{\\partial y_{2}} , 8 x_{1}^{2}\\frac{\\partial}{\\partial y_{0}} + 8\\frac{\\partial}{\\partial y_{3}} , -8\\frac{\\partial}{\\partial x_{0}} , -8\\frac{\\partial}{\\partial x_{1}} , -8\\frac{\\partial}{\\partial x_{2}} , -8\\frac{\\partial}{\\partial x_{3}} \\right)$"
      ],
      "text/plain": [
       "[(16*x1*x3 + 8*x2)*D_y0+8*D_y1, 8*x1*D_y0+8*D_y2, 8*x1**2*D_y0+8*D_y3, -8*D_x0 ↪\n",
       "\n",
       "↪ , -8*D_x1, -8*D_x2, -8*D_x3]"
      ]
     },
     "execution_count": 54,
     "metadata": {},
     "output_type": "execute_result"
    }
   ],
   "source": [
    "J_of_TMbasis = [complex_struct_op(vf) for vf in TMbasis]\n",
    "J_of_TMbasis"
   ]
  },
  {
   "cell_type": "markdown",
   "metadata": {},
   "source": [
    "Compute the CR distribution, which is the intersection of $TM$ with its image under the complex structure operator. We can use `annihilator` again to get the intersection of two distributions."
   ]
  },
  {
   "cell_type": "code",
   "execution_count": 55,
   "metadata": {},
   "outputs": [
    {
     "data": {
      "image/png": "[encoded data removed]",
      "text/latex": [
       "$\\displaystyle \\left( \\left(16 x_{1} x_{3} + 8 x_{2}\\right)\\frac{\\partial}{\\partial x_{0}} + 8\\frac{\\partial}{\\partial x_{1}} , 8 x_{1}\\frac{\\partial}{\\partial x_{0}} + 8\\frac{\\partial}{\\partial x_{2}} , 8 x_{1}^{2}\\frac{\\partial}{\\partial x_{0}} + 8\\frac{\\partial}{\\partial x_{3}} , \\left(16 x_{1} x_{3} + 8 x_{2}\\right)\\frac{\\partial}{\\partial y_{0}} + 8\\frac{\\partial}{\\partial y_{1}} , 8 x_{1}\\frac{\\partial}{\\partial y_{0}} + 8\\frac{\\partial}{\\partial y_{2}} , 8 x_{1}^{2}\\frac{\\partial}{\\partial y_{0}} + 8\\frac{\\partial}{\\partial y_{3}} \\right)$"
      ],
      "text/plain": [
       "[(16*x1*x3 + 8*x2)*D_x0+8*D_x1, 8*x1*D_x0+8*D_x2, 8*x1**2*D_x0+8*D_x3, (16*x1* ↪\n",
       "\n",
       "↪ x3 + 8*x2)*D_y0+8*D_y1, 8*x1*D_y0+8*D_y2, 8*x1**2*D_y0+8*D_y3]"
      ]
     },
     "execution_count": 55,
     "metadata": {},
     "output_type": "execute_result"
    }
   ],
   "source": [
    "CR_distribution = annihilator(annihilator(J_of_TMbasis, x + y) + annihilator(TMbasis, x + y), x + y)\n",
    "CR_distribution"
   ]
  },
  {
   "cell_type": "markdown",
   "metadata": {},
   "source": [
    "Apply Dolbeault operators `Del` and `DelBar` to represent the Levi form"
   ]
  },
  {
   "cell_type": "code",
   "execution_count": 56,
   "metadata": {},
   "outputs": [
    {
     "data": {
      "image/png": "[encoded data removed]",
      "text/latex": [
       "$- i x_{3} d x_{1} \\wedge d y_{1} - \\frac{i}{2} d x_{2} \\wedge d y_{1} - \\frac{i}{2} d x_{1} \\wedge d y_{2} - i x_{1} d x_{3} \\wedge d y_{1} - i x_{1} d x_{1} \\wedge d y_{3}$"
      ],
      "text/plain": [
       "-I*x3*d_x1*d_y1-I/2*d_x2*d_y1-I/2*d_x1*d_y2-I*x1*d_x3*d_y1-I*x1*d_x1*d_y3"
      ]
     },
     "execution_count": 56,
     "metadata": {},
     "output_type": "execute_result"
    }
   ],
   "source": [
    "# \"allToReal\" is used here to switch everything to real coordinates. When applied to bare functions the Dolbeault op. default to holomorphic coordinates, whereas when applied to differential forms they dynamically adjust format based on the given k-form.\n",
    "LeviForm = allToReal(Del(DelBar(rho))) \n",
    "LeviForm"
   ]
  },
  {
   "cell_type": "markdown",
   "metadata": {},
   "source": [
    "Use `annihilator` to compute the Levi form's kernel within the CR distribution"
   ]
  },
  {
   "cell_type": "code",
   "execution_count": 57,
   "metadata": {},
   "outputs": [
    {
     "data": {
      "image/png": "[encoded data removed]",
      "text/latex": [
       "$\\displaystyle \\left( - 64 x_{1}^{2}\\frac{\\partial}{\\partial x_{0}} - 128 x_{1}\\frac{\\partial}{\\partial x_{2}} + 64\\frac{\\partial}{\\partial x_{3}} , - 64 x_{1}^{2}\\frac{\\partial}{\\partial y_{0}} - 128 x_{1}\\frac{\\partial}{\\partial y_{2}} + 64\\frac{\\partial}{\\partial y_{3}} \\right)$"
      ],
      "text/plain": [
       "[-64*x1**2*D_x0-128*x1*D_x2+64*D_x3, -64*x1**2*D_y0-128*x1*D_y2+64*D_y3]"
      ]
     },
     "execution_count": 57,
     "metadata": {},
     "output_type": "execute_result"
    }
   ],
   "source": [
    "Levi_kernel = annihilator([LeviForm], x + y, control_distribution=CR_distribution)\n",
    "Levi_kernel"
   ]
  },
  {
   "cell_type": "markdown",
   "metadata": {},
   "source": [
    "To verify this computation from another viewpoint, let's check each Lie bracket between VF in Levi_kernel and in CR_distribution. We'll use `decompose`, which decomposes an object w.r.t. a given basis if possible, to directly check that the brackets indeed stay within the CR distribution."
   ]
  },
  {
   "cell_type": "code",
   "execution_count": 58,
   "metadata": {},
   "outputs": [
    {
     "data": {
      "text/latex": [
       "Bracket of $- 64 x_{1}^{2}\\frac{\\partial}{\\partial x_{0}} - 128 x_{1}\\frac{\\partial}{\\partial x_{2}} + 64\\frac{\\partial}{\\partial x_{3}}$ with $\\left(16 x_{1} x_{3} + 8 x_{2}\\right)\\frac{\\partial}{\\partial x_{0}} + 8\\frac{\\partial}{\\partial x_{1}}$ decomposed with coefficients: $[0, 128, 0, 0, 0, 0]$"
      ],
      "text/plain": [
       "<IPython.core.display.Latex object>"
      ]
     },
     "metadata": {},
     "output_type": "display_data"
    },
    {
     "data": {
      "text/latex": [
       "Bracket of $- 64 x_{1}^{2}\\frac{\\partial}{\\partial y_{0}} - 128 x_{1}\\frac{\\partial}{\\partial y_{2}} + 64\\frac{\\partial}{\\partial y_{3}}$ with $\\left(16 x_{1} x_{3} + 8 x_{2}\\right)\\frac{\\partial}{\\partial x_{0}} + 8\\frac{\\partial}{\\partial x_{1}}$ decomposed with coefficients: $[0, 0, 0, 0, 128, 0]$"
      ],
      "text/plain": [
       "<IPython.core.display.Latex object>"
      ]
     },
     "metadata": {},
     "output_type": "display_data"
    }
   ],
   "source": [
    "for j in Levi_kernel:\n",
    "    for k in CR_distribution:\n",
    "        coeffsOfBracket = decompose(LieDerivative(j,k),CR_distribution)[0]\n",
    "        if set(tuple(coeffsOfBracket)) != {0}: # disregard commuting brackets\n",
    "            display_DGCV(f\"Bracket of ${LaTeX(j)}$ with ${LaTeX(k)}$ decomposed with coefficients: ${coeffsOfBracket}$\")"
   ]
  },
  {
   "cell_type": "markdown",
   "metadata": {},
   "source": [
    "We initialized several objects during this example. Let's delete them all using `clearVar` and `listVar` to clean this session's active namespace, getting ready for the next example."
   ]
  },
  {
   "cell_type": "code",
   "execution_count": 59,
   "metadata": {},
   "outputs": [
    {
     "name": "stdout",
     "output_type": "stream",
     "text": [
      "Cleared complex variable systems from the DGCV variable management framework: z\n"
     ]
    }
   ],
   "source": [
    "clearVar(*listVar()) # This deletes all objects within the scope of DGCV's variable management framework. Refreshing DGCV_snapshot() after running this line will correspondingly display an empty table."
   ]
  },
  {
   "cell_type": "code",
   "execution_count": 60,
   "metadata": {},
   "outputs": [],
   "source": [
    "createVariables('z','x','y', 2, default_var_format='real') # Change default to 'real' here for real coordinate formatting."
   ]
  },
  {
   "cell_type": "markdown",
   "metadata": {},
   "source": [
    "### Example 3: Computing metric invariants from a Kähler potential\n"
   ]
  },
  {
   "cell_type": "markdown",
   "metadata": {},
   "source": [
    "In this example we will see that `conjugate` and `I` (the symbolic imaginary unit) from SymPy seamlessly integrate with DGCV's handling of complex variables, and that `sympy.simplify` can be applied to DGCV object like differential forms and vector fields directly.\n",
    "\n",
    "We'll set up a Kähler potential $\\rho$ known to yeild a Fubini–Study metric. \n",
    "\n",
    "This example can be done in real or holomorphic coordinates. The relavent lines for each are denoted with comments in the code. Coordinate format affects complexity of the formulas, which in turn affects compute-time for the program. Let's go with holomorphic coordinates now, as they yeild clean formulas in this example, and, if interested, afterwards try the example again in real coordinates by commenting/uncommenting the relavent lines in the next code block here (and switch the \"default_var_format\" setting to 'real' in the first line):"
   ]
  },
  {
   "cell_type": "code",
   "execution_count": 61,
   "metadata": {},
   "outputs": [
    {
     "data": {
      "text/latex": [
       "$\\rho$ is:"
      ],
      "text/plain": [
       "<IPython.core.display.Latex object>"
      ]
     },
     "metadata": {},
     "output_type": "display_data"
    },
    {
     "data": {
      "image/png": "[encoded data removed]",
      "text/latex": [
       "$\\displaystyle \\log{\\left(z_{1} \\overline{z_{1}} + z_{2} \\overline{z_{2}} + 1 \\right)}$"
      ],
      "text/plain": [
       "   ⎛   __      __    ⎞\n",
       "log⎝z₁⋅z₁ + z₂⋅z₂ + 1⎠"
      ]
     },
     "metadata": {},
     "output_type": "display_data"
    },
    {
     "data": {
      "text/plain": [
       "\"provided coordinates (it is enough to provide the 'real part' or 'hol. part' coordinates, as 'im. part' and 'antihol. part' will be inferred):\""
      ]
     },
     "metadata": {},
     "output_type": "display_data"
    },
    {
     "data": {
      "image/png": "[encoded data removed]",
      "text/latex": [
       "$\\displaystyle \\left( z_{1} , z_{2} \\right)$"
      ],
      "text/plain": [
       "(z₁, z₂)"
      ]
     },
     "metadata": {},
     "output_type": "display_data"
    },
    {
     "data": {
      "text/latex": [
       "The Kahler form is:"
      ],
      "text/plain": [
       "<IPython.core.display.Latex object>"
      ]
     },
     "metadata": {},
     "output_type": "display_data"
    },
    {
     "data": {
      "image/png": "[encoded data removed]",
      "text/latex": [
       "$\\frac{i \\left(z_{2} \\overline{z_{2}} + 1\\right)}{2 \\left(z_{1} \\overline{z_{1}} + z_{2} \\overline{z_{2}} + 1\\right)^{2}} d z_{1} \\wedge d \\overline{z_{1}} - \\frac{i z_{1} \\overline{z_{2}}}{2 \\left(z_{1} \\overline{z_{1}} + z_{2} \\overline{z_{2}} + 1\\right)^{2}} d z_{2} \\wedge d \\overline{z_{1}} - \\frac{i z_{2} \\overline{z_{1}}}{2 \\left(z_{1} \\overline{z_{1}} + z_{2} \\overline{z_{2}} + 1\\right)^{2}} d z_{1} \\wedge d \\overline{z_{2}} + \\frac{i \\left(z_{1} \\overline{z_{1}} + 1\\right)}{2 \\left(z_{1} \\overline{z_{1}} + z_{2} \\overline{z_{2}} + 1\\right)^{2}} d z_{2} \\wedge d \\overline{z_{2}}$"
      ],
      "text/plain": [
       "(I*(z2*conjugate(z2) + 1)/(2*(z1*conjugate(z1) + z2*conjugate(z2) + 1)**2))*d_z1*d_BARz1+(-I*z1*conjugate(z2)/(2*(z1*conjugate(z1) + z2*conjugate(z2) + 1)**2))*d_z2*d_BARz1+(-I*z2*conjugate(z1)/(2*(z1*conjugate(z1) + z2*conjugate(z2) + 1)**2))*d_z1*d_BARz2+(I*(z1*conjugate(z1) + 1)/(2*(z1*conjugate(z1) + z2*conjugate(z2) + 1)**2))*d_z2*d_BARz2"
      ]
     },
     "metadata": {},
     "output_type": "display_data"
    }
   ],
   "source": [
    "from sympy import ln # we'll use sympy's logarithm for this example\n",
    "\n",
    "createVariables('z','x','y', 2, default_var_format='complex') # Change default to 'real' here for real coordinate formatting.\n",
    "rho=ln(1+sum([j*conjugate(j) for j in z])) #Fubini–Study metric\n",
    "# varSpace=x # if default var format is real\n",
    "varSpace=z # if default var format is complex\n",
    "# kahlerForm=simplify(allToReal((I/2)*Del(DelBar(rho)))) # if default var format is real\n",
    "kahlerForm=simplify((I/2)*Del(DelBar(rho))) # if default var format is real, wrap this line in `allToReal` (after importing it from DGCV).\n",
    "\n",
    "display_DGCV('$\\\\rho$ is:',rho)\n",
    "display('provided coordinates (it is enough to provide the \\'real part\\' or \\'hol. part\\' coordinates, as \\'im. part\\' and \\'antihol. part\\' will be inferred):', varSpace)\n",
    "display_DGCV('The Kahler form is:',kahlerForm)"
   ]
  },
  {
   "cell_type": "markdown",
   "metadata": {},
   "source": [
    "DGCV has a class `KahlerStructure`. Creating a `KahlerStructure` object enables quick realizations of the structure's fundamental related objects like its metric, various invariant tensors, and sectional curvature by using the *class atributes* and *class methods*."
   ]
  },
  {
   "cell_type": "code",
   "execution_count": 62,
   "metadata": {},
   "outputs": [
    {
     "data": {
      "text/latex": [
       "Using the Kahler form, we just created what DGCV regards as a Kahler structure on the coordinate patch $\\left( z_{1}, z_{2}, \\overline{z_{1}}, \\overline{z_{2}} \\right)$"
      ],
      "text/plain": [
       "<IPython.core.display.Latex object>"
      ]
     },
     "metadata": {},
     "output_type": "display_data"
    }
   ],
   "source": [
    "Fubini_Study_structure=KahlerStructure(varSpace,kahlerForm)\n",
    "display_DGCV(f'Using the Kahler form, we just created what DGCV regards as a Kahler structure on the coordinate patch ${LaTeX(Fubini_Study_structure.varSpace)}$')"
   ]
  },
  {
   "cell_type": "markdown",
   "metadata": {},
   "source": [
    "The `KahlerStructure` class has an attribute `metric`, which stores lots of useful properties of the Kähler structure's Riemannian metric. \n",
    "\n",
    "We just created a class object *Fubini_Study_structure*. Let's access its `metric` attribute and give it a name, *g*, for easy reference later."
   ]
  },
  {
   "cell_type": "code",
   "execution_count": 63,
   "metadata": {},
   "outputs": [
    {
     "data": {
      "image/png": "[encoded data removed]",
      "text/latex": [
       "$\\frac{z_{2} \\overline{z_{2}} + 1}{2 \\left(z_{1} \\overline{z_{1}} + z_{2} \\overline{z_{2}} + 1\\right)^{2}}d z_{1} \\odot d \\overline{z_{1}} - \\frac{z_{2} \\overline{z_{1}}}{2 \\left(z_{1} \\overline{z_{1}} + z_{2} \\overline{z_{2}} + 1\\right)^{2}}d z_{1} \\odot d \\overline{z_{2}} - \\frac{z_{1} \\overline{z_{2}}}{2 \\left(z_{1} \\overline{z_{1}} + z_{2} \\overline{z_{2}} + 1\\right)^{2}}d z_{2} \\odot d \\overline{z_{1}} + \\frac{z_{1} \\overline{z_{1}} + 1}{2 \\left(z_{1} \\overline{z_{1}} + z_{2} \\overline{z_{2}} + 1\\right)^{2}}d z_{2} \\odot d \\overline{z_{2}}$"
      ],
      "text/plain": [
       "((z2*conjugate(z2) + 1)/(2*(z1*conjugate(z1) + z2*conjugate(z2) + 1)**2))*d_z1 d_BARz1+(-z2*conjugate(z1)/(2*(z1*conjugate(z1) + z2*conjugate(z2) + 1)**2))*d_z1 d_BARz2+(-z1*conjugate(z2)/(2*(z1*conjugate(z1) + z2*conjugate(z2) + 1)**2))*d_z2 d_BARz1+((z1*conjugate(z1) + 1)/(2*(z1*conjugate(z1) + z2*conjugate(z2) + 1)**2))*d_z2 d_BARz2"
      ]
     },
     "metadata": {},
     "output_type": "display_data"
    }
   ],
   "source": [
    "g=Fubini_Study_structure.metric\n",
    "display_DGCV(g)"
   ]
  },
  {
   "cell_type": "markdown",
   "metadata": {},
   "source": [
    "The object we just labeled as *g* is type `MetricClass`, which is another special DGCV class. It too has many useful attributes. Here's one that retrieves the Christoffel symbols in the coordinate system we used to initialize *g*."
   ]
  },
  {
   "cell_type": "code",
   "execution_count": 64,
   "metadata": {},
   "outputs": [
    {
     "data": {
      "text/latex": [
       "Some of the Christoffel symbols in the basis $\\left( z_{1}, \\  z_{2}, \\  \\overline{z_{1}}, \\  \\overline{z_{2}}\\right)$, for example, are: $\\left(\\Gamma_{j,k}^1\\right)_{1\\leq j,k\\leq 4}=\\left[\\begin{matrix}- \\frac{2 \\overline{z_{1}}}{z_{1} \\overline{z_{1}} + z_{2} \\overline{z_{2}} + 1} & - \\frac{\\overline{z_{2}}}{z_{1} \\overline{z_{1}} + z_{2} \\overline{z_{2}} + 1} & 0 & 0\\\\- \\frac{\\overline{z_{2}}}{z_{1} \\overline{z_{1}} + z_{2} \\overline{z_{2}} + 1} & 0 & 0 & 0\\\\0 & 0 & 0 & 0\\\\0 & 0 & 0 & 0\\end{matrix}\\right]$"
      ],
      "text/plain": [
       "<IPython.core.display.Latex object>"
      ]
     },
     "metadata": {},
     "output_type": "display_data"
    }
   ],
   "source": [
    "Gamma=g.Christoffel_symbols_of_the_second_kind\n",
    "\n",
    "# Let's use a sympy.Matrix to arrange some of the Christoffel symbols in a nicely displayable format:\n",
    "from sympy import Matrix\n",
    "dimension=len(x+y)\n",
    "christoffel_array = Matrix(dimension,dimension, lambda j,k : Gamma[j,k,0])\n",
    "\n",
    "display_DGCV(f'Some of the Christoffel symbols in the basis ${LaTeX(symToHol(Fubini_Study_structure.varSpace))}$, for example, are: $\\\\left(\\\\Gamma_{{j,k}}^1\\\\right)_{{1\\\\leq j,k\\\\leq {dimension}}}={LaTeX(christoffel_array)}$')"
   ]
  },
  {
   "cell_type": "markdown",
   "metadata": {},
   "source": [
    "We can get its (0,4)-type Riemann Curvature tensor with the `RiemannCurvature` attribute"
   ]
  },
  {
   "cell_type": "code",
   "execution_count": 65,
   "metadata": {},
   "outputs": [
    {
     "data": {
      "image/png": "[encoded data removed]",
      "text/latex": [
       "$- \\frac{\\left(z_{2} \\overline{z_{2}} + 1\\right)^{2}}{\\left(z_{1} \\overline{z_{1}} + z_{2} \\overline{z_{2}} + 1\\right)^{4}}d z_{1} \\otimes d \\overline{z_{1}} \\otimes d z_{1} \\otimes d \\overline{z_{1}} + \\frac{z_{2} \\left(z_{2} \\overline{z_{2}} + 1\\right) \\overline{z_{1}}}{\\left(z_{1} \\overline{z_{1}} + z_{2} \\overline{z_{2}} + 1\\right)^{4}}d z_{1} \\otimes d \\overline{z_{1}} \\otimes d z_{1} \\otimes d \\overline{z_{2}} + \\frac{z_{1} \\left(z_{2} \\overline{z_{2}} + 1\\right) \\overline{z_{2}}}{\\left(z_{1} \\overline{z_{1}} + z_{2} \\overline{z_{2}} + 1\\right)^{4}}d z_{1} \\otimes d \\overline{z_{1}} \\otimes d z_{2} \\otimes d \\overline{z_{1}} + \\frac{- z_{1} z_{2} \\overline{z_{1}} \\overline{z_{2}} - \\left(z_{1} \\overline{z_{1}} + 1\\right) \\left(z_{2} \\overline{z_{2}} + 1\\right)}{2 \\left(z_{1} \\overline{z_{1}} + z_{2} \\overline{z_{2}} + 1\\right)^{4}}d z_{1} \\otimes d \\overline{z_{1}} \\otimes d z_{2} \\otimes d \\overline{z_{2}} + \\frac{\\left(z_{2} \\overline{z_{2}} + 1\\right)^{2}}{\\left(z_{1} \\overline{z_{1}} + z_{2} \\overline{z_{2}} + 1\\right)^{4}}d z_{1} \\otimes d \\overline{z_{1}} \\otimes d \\overline{z_{1}} \\otimes d z_{1} - \\frac{z_{1} \\left(z_{2} \\overline{z_{2}} + 1\\right) \\overline{z_{2}}}{\\left(z_{1} \\overline{z_{1}} + z_{2} \\overline{z_{2}} + 1\\right)^{4}}d z_{1} \\otimes d \\overline{z_{1}} \\otimes d \\overline{z_{1}} \\otimes d z_{2} - \\frac{z_{2} \\left(z_{2} \\overline{z_{2}} + 1\\right) \\overline{z_{1}}}{\\left(z_{1} \\overline{z_{1}} + z_{2} \\overline{z_{2}} + 1\\right)^{4}}d z_{1} \\otimes d \\overline{z_{1}} \\otimes d \\overline{z_{2}} \\otimes d z_{1} + \\frac{z_{1} z_{2} \\overline{z_{1}} \\overline{z_{2}} + \\left(z_{1} \\overline{z_{1}} + 1\\right) \\left(z_{2} \\overline{z_{2}} + 1\\right)}{2 \\left(z_{1} \\overline{z_{1}} + z_{2} \\overline{z_{2}} + 1\\right)^{4}}d z_{1} \\otimes d \\overline{z_{1}} \\otimes d \\overline{z_{2}} \\otimes d z_{2} + \\frac{z_{2} \\left(z_{2} \\overline{z_{2}} + 1\\right) \\overline{z_{1}}}{\\left(z_{1} \\overline{z_{1}} + z_{2} \\overline{z_{2}} + 1\\right)^{4}}d z_{1} \\otimes d \\overline{z_{2}} \\otimes d z_{1} \\otimes d \\overline{z_{1}} - \\frac{z_{2}^{2} \\overline{z_{1}}^{2}}{\\left(z_{1} \\overline{z_{1}} + z_{2} \\overline{z_{2}} + 1\\right)^{4}}d z_{1} \\otimes d \\overline{z_{2}} \\otimes d z_{1} \\otimes d \\overline{z_{2}} + \\frac{- z_{1} z_{2} \\overline{z_{1}} \\overline{z_{2}} - \\left(z_{1} \\overline{z_{1}} + 1\\right) \\left(z_{2} \\overline{z_{2}} + 1\\right)}{2 \\left(z_{1} \\overline{z_{1}} + z_{2} \\overline{z_{2}} + 1\\right)^{4}}d z_{1} \\otimes d \\overline{z_{2}} \\otimes d z_{2} \\otimes d \\overline{z_{1}} + \\frac{z_{2} \\left(z_{1} \\overline{z_{1}} + 1\\right) \\overline{z_{1}}}{\\left(z_{1} \\overline{z_{1}} + z_{2} \\overline{z_{2}} + 1\\right)^{4}}d z_{1} \\otimes d \\overline{z_{2}} \\otimes d z_{2} \\otimes d \\overline{z_{2}} - \\frac{z_{2} \\left(z_{2} \\overline{z_{2}} + 1\\right) \\overline{z_{1}}}{\\left(z_{1} \\overline{z_{1}} + z_{2} \\overline{z_{2}} + 1\\right)^{4}}d z_{1} \\otimes d \\overline{z_{2}} \\otimes d \\overline{z_{1}} \\otimes d z_{1} + \\frac{z_{1} z_{2} \\overline{z_{1}} \\overline{z_{2}} + \\left(z_{1} \\overline{z_{1}} + 1\\right) \\left(z_{2} \\overline{z_{2}} + 1\\right)}{2 \\left(z_{1} \\overline{z_{1}} + z_{2} \\overline{z_{2}} + 1\\right)^{4}}d z_{1} \\otimes d \\overline{z_{2}} \\otimes d \\overline{z_{1}} \\otimes d z_{2} + \\frac{z_{2}^{2} \\overline{z_{1}}^{2}}{\\left(z_{1} \\overline{z_{1}} + z_{2} \\overline{z_{2}} + 1\\right)^{4}}d z_{1} \\otimes d \\overline{z_{2}} \\otimes d \\overline{z_{2}} \\otimes d z_{1} - \\frac{z_{2} \\left(z_{1} \\overline{z_{1}} + 1\\right) \\overline{z_{1}}}{\\left(z_{1} \\overline{z_{1}} + z_{2} \\overline{z_{2}} + 1\\right)^{4}}d z_{1} \\otimes d \\overline{z_{2}} \\otimes d \\overline{z_{2}} \\otimes d z_{2} + \\frac{z_{1} \\left(z_{2} \\overline{z_{2}} + 1\\right) \\overline{z_{2}}}{\\left(z_{1} \\overline{z_{1}} + z_{2} \\overline{z_{2}} + 1\\right)^{4}}d z_{2} \\otimes d \\overline{z_{1}} \\otimes d z_{1} \\otimes d \\overline{z_{1}} + \\frac{- z_{1} z_{2} \\overline{z_{1}} \\overline{z_{2}} - \\left(z_{1} \\overline{z_{1}} + 1\\right) \\left(z_{2} \\overline{z_{2}} + 1\\right)}{2 \\left(z_{1} \\overline{z_{1}} + z_{2} \\overline{z_{2}} + 1\\right)^{4}}d z_{2} \\otimes d \\overline{z_{1}} \\otimes d z_{1} \\otimes d \\overline{z_{2}} - \\frac{z_{1}^{2} \\overline{z_{2}}^{2}}{\\left(z_{1} \\overline{z_{1}} + z_{2} \\overline{z_{2}} + 1\\right)^{4}}d z_{2} \\otimes d \\overline{z_{1}} \\otimes d z_{2} \\otimes d \\overline{z_{1}} + \\frac{z_{1} \\left(z_{1} \\overline{z_{1}} + 1\\right) \\overline{z_{2}}}{\\left(z_{1} \\overline{z_{1}} + z_{2} \\overline{z_{2}} + 1\\right)^{4}}d z_{2} \\otimes d \\overline{z_{1}} \\otimes d z_{2} \\otimes d \\overline{z_{2}} - \\frac{z_{1} \\left(z_{2} \\overline{z_{2}} + 1\\right) \\overline{z_{2}}}{\\left(z_{1} \\overline{z_{1}} + z_{2} \\overline{z_{2}} + 1\\right)^{4}}d z_{2} \\otimes d \\overline{z_{1}} \\otimes d \\overline{z_{1}} \\otimes d z_{1} + \\frac{z_{1}^{2} \\overline{z_{2}}^{2}}{\\left(z_{1} \\overline{z_{1}} + z_{2} \\overline{z_{2}} + 1\\right)^{4}}d z_{2} \\otimes d \\overline{z_{1}} \\otimes d \\overline{z_{1}} \\otimes d z_{2} + \\frac{z_{1} z_{2} \\overline{z_{1}} \\overline{z_{2}} + \\left(z_{1} \\overline{z_{1}} + 1\\right) \\left(z_{2} \\overline{z_{2}} + 1\\right)}{2 \\left(z_{1} \\overline{z_{1}} + z_{2} \\overline{z_{2}} + 1\\right)^{4}}d z_{2} \\otimes d \\overline{z_{1}} \\otimes d \\overline{z_{2}} \\otimes d z_{1} - \\frac{z_{1} \\left(z_{1} \\overline{z_{1}} + 1\\right) \\overline{z_{2}}}{\\left(z_{1} \\overline{z_{1}} + z_{2} \\overline{z_{2}} + 1\\right)^{4}}d z_{2} \\otimes d \\overline{z_{1}} \\otimes d \\overline{z_{2}} \\otimes d z_{2} + \\frac{- z_{1} z_{2} \\overline{z_{1}} \\overline{z_{2}} - \\left(z_{1} \\overline{z_{1}} + 1\\right) \\left(z_{2} \\overline{z_{2}} + 1\\right)}{2 \\left(z_{1} \\overline{z_{1}} + z_{2} \\overline{z_{2}} + 1\\right)^{4}}d z_{2} \\otimes d \\overline{z_{2}} \\otimes d z_{1} \\otimes d \\overline{z_{1}} + \\frac{z_{2} \\left(z_{1} \\overline{z_{1}} + 1\\right) \\overline{z_{1}}}{\\left(z_{1} \\overline{z_{1}} + z_{2} \\overline{z_{2}} + 1\\right)^{4}}d z_{2} \\otimes d \\overline{z_{2}} \\otimes d z_{1} \\otimes d \\overline{z_{2}} + \\frac{z_{1} \\left(z_{1} \\overline{z_{1}} + 1\\right) \\overline{z_{2}}}{\\left(z_{1} \\overline{z_{1}} + z_{2} \\overline{z_{2}} + 1\\right)^{4}}d z_{2} \\otimes d \\overline{z_{2}} \\otimes d z_{2} \\otimes d \\overline{z_{1}} - \\frac{\\left(z_{1} \\overline{z_{1}} + 1\\right)^{2}}{\\left(z_{1} \\overline{z_{1}} + z_{2} \\overline{z_{2}} + 1\\right)^{4}}d z_{2} \\otimes d \\overline{z_{2}} \\otimes d z_{2} \\otimes d \\overline{z_{2}} + \\frac{z_{1} z_{2} \\overline{z_{1}} \\overline{z_{2}} + \\left(z_{1} \\overline{z_{1}} + 1\\right) \\left(z_{2} \\overline{z_{2}} + 1\\right)}{2 \\left(z_{1} \\overline{z_{1}} + z_{2} \\overline{z_{2}} + 1\\right)^{4}}d z_{2} \\otimes d \\overline{z_{2}} \\otimes d \\overline{z_{1}} \\otimes d z_{1} - \\frac{z_{1} \\left(z_{1} \\overline{z_{1}} + 1\\right) \\overline{z_{2}}}{\\left(z_{1} \\overline{z_{1}} + z_{2} \\overline{z_{2}} + 1\\right)^{4}}d z_{2} \\otimes d \\overline{z_{2}} \\otimes d \\overline{z_{1}} \\otimes d z_{2} - \\frac{z_{2} \\left(z_{1} \\overline{z_{1}} + 1\\right) \\overline{z_{1}}}{\\left(z_{1} \\overline{z_{1}} + z_{2} \\overline{z_{2}} + 1\\right)^{4}}d z_{2} \\otimes d \\overline{z_{2}} \\otimes d \\overline{z_{2}} \\otimes d z_{1} + \\frac{\\left(z_{1} \\overline{z_{1}} + 1\\right)^{2}}{\\left(z_{1} \\overline{z_{1}} + z_{2} \\overline{z_{2}} + 1\\right)^{4}}d z_{2} \\otimes d \\overline{z_{2}} \\otimes d \\overline{z_{2}} \\otimes d z_{2} + \\frac{\\left(z_{2} \\overline{z_{2}} + 1\\right)^{2}}{\\left(z_{1} \\overline{z_{1}} + z_{2} \\overline{z_{2}} + 1\\right)^{4}}d \\overline{z_{1}} \\otimes d z_{1} \\otimes d z_{1} \\otimes d \\overline{z_{1}} - \\frac{z_{2} \\left(z_{2} \\overline{z_{2}} + 1\\right) \\overline{z_{1}}}{\\left(z_{1} \\overline{z_{1}} + z_{2} \\overline{z_{2}} + 1\\right)^{4}}d \\overline{z_{1}} \\otimes d z_{1} \\otimes d z_{1} \\otimes d \\overline{z_{2}} - \\frac{z_{1} \\left(z_{2} \\overline{z_{2}} + 1\\right) \\overline{z_{2}}}{\\left(z_{1} \\overline{z_{1}} + z_{2} \\overline{z_{2}} + 1\\right)^{4}}d \\overline{z_{1}} \\otimes d z_{1} \\otimes d z_{2} \\otimes d \\overline{z_{1}} + \\frac{z_{1} z_{2} \\overline{z_{1}} \\overline{z_{2}} + \\left(z_{1} \\overline{z_{1}} + 1\\right) \\left(z_{2} \\overline{z_{2}} + 1\\right)}{2 \\left(z_{1} \\overline{z_{1}} + z_{2} \\overline{z_{2}} + 1\\right)^{4}}d \\overline{z_{1}} \\otimes d z_{1} \\otimes d z_{2} \\otimes d \\overline{z_{2}} - \\frac{\\left(z_{2} \\overline{z_{2}} + 1\\right)^{2}}{\\left(z_{1} \\overline{z_{1}} + z_{2} \\overline{z_{2}} + 1\\right)^{4}}d \\overline{z_{1}} \\otimes d z_{1} \\otimes d \\overline{z_{1}} \\otimes d z_{1} + \\frac{z_{1} \\left(z_{2} \\overline{z_{2}} + 1\\right) \\overline{z_{2}}}{\\left(z_{1} \\overline{z_{1}} + z_{2} \\overline{z_{2}} + 1\\right)^{4}}d \\overline{z_{1}} \\otimes d z_{1} \\otimes d \\overline{z_{1}} \\otimes d z_{2} + \\frac{z_{2} \\left(z_{2} \\overline{z_{2}} + 1\\right) \\overline{z_{1}}}{\\left(z_{1} \\overline{z_{1}} + z_{2} \\overline{z_{2}} + 1\\right)^{4}}d \\overline{z_{1}} \\otimes d z_{1} \\otimes d \\overline{z_{2}} \\otimes d z_{1} + \\frac{- z_{1} z_{2} \\overline{z_{1}} \\overline{z_{2}} - \\left(z_{1} \\overline{z_{1}} + 1\\right) \\left(z_{2} \\overline{z_{2}} + 1\\right)}{2 \\left(z_{1} \\overline{z_{1}} + z_{2} \\overline{z_{2}} + 1\\right)^{4}}d \\overline{z_{1}} \\otimes d z_{1} \\otimes d \\overline{z_{2}} \\otimes d z_{2} - \\frac{z_{1} \\left(z_{2} \\overline{z_{2}} + 1\\right) \\overline{z_{2}}}{\\left(z_{1} \\overline{z_{1}} + z_{2} \\overline{z_{2}} + 1\\right)^{4}}d \\overline{z_{1}} \\otimes d z_{2} \\otimes d z_{1} \\otimes d \\overline{z_{1}} + \\frac{z_{1} z_{2} \\overline{z_{1}} \\overline{z_{2}} + \\left(z_{1} \\overline{z_{1}} + 1\\right) \\left(z_{2} \\overline{z_{2}} + 1\\right)}{2 \\left(z_{1} \\overline{z_{1}} + z_{2} \\overline{z_{2}} + 1\\right)^{4}}d \\overline{z_{1}} \\otimes d z_{2} \\otimes d z_{1} \\otimes d \\overline{z_{2}} + \\frac{z_{1}^{2} \\overline{z_{2}}^{2}}{\\left(z_{1} \\overline{z_{1}} + z_{2} \\overline{z_{2}} + 1\\right)^{4}}d \\overline{z_{1}} \\otimes d z_{2} \\otimes d z_{2} \\otimes d \\overline{z_{1}} - \\frac{z_{1} \\left(z_{1} \\overline{z_{1}} + 1\\right) \\overline{z_{2}}}{\\left(z_{1} \\overline{z_{1}} + z_{2} \\overline{z_{2}} + 1\\right)^{4}}d \\overline{z_{1}} \\otimes d z_{2} \\otimes d z_{2} \\otimes d \\overline{z_{2}} + \\frac{z_{1} \\left(z_{2} \\overline{z_{2}} + 1\\right) \\overline{z_{2}}}{\\left(z_{1} \\overline{z_{1}} + z_{2} \\overline{z_{2}} + 1\\right)^{4}}d \\overline{z_{1}} \\otimes d z_{2} \\otimes d \\overline{z_{1}} \\otimes d z_{1} - \\frac{z_{1}^{2} \\overline{z_{2}}^{2}}{\\left(z_{1} \\overline{z_{1}} + z_{2} \\overline{z_{2}} + 1\\right)^{4}}d \\overline{z_{1}} \\otimes d z_{2} \\otimes d \\overline{z_{1}} \\otimes d z_{2} + \\frac{- z_{1} z_{2} \\overline{z_{1}} \\overline{z_{2}} - \\left(z_{1} \\overline{z_{1}} + 1\\right) \\left(z_{2} \\overline{z_{2}} + 1\\right)}{2 \\left(z_{1} \\overline{z_{1}} + z_{2} \\overline{z_{2}} + 1\\right)^{4}}d \\overline{z_{1}} \\otimes d z_{2} \\otimes d \\overline{z_{2}} \\otimes d z_{1} + \\frac{z_{1} \\left(z_{1} \\overline{z_{1}} + 1\\right) \\overline{z_{2}}}{\\left(z_{1} \\overline{z_{1}} + z_{2} \\overline{z_{2}} + 1\\right)^{4}}d \\overline{z_{1}} \\otimes d z_{2} \\otimes d \\overline{z_{2}} \\otimes d z_{2} - \\frac{z_{2} \\left(z_{2} \\overline{z_{2}} + 1\\right) \\overline{z_{1}}}{\\left(z_{1} \\overline{z_{1}} + z_{2} \\overline{z_{2}} + 1\\right)^{4}}d \\overline{z_{2}} \\otimes d z_{1} \\otimes d z_{1} \\otimes d \\overline{z_{1}} + \\frac{z_{2}^{2} \\overline{z_{1}}^{2}}{\\left(z_{1} \\overline{z_{1}} + z_{2} \\overline{z_{2}} + 1\\right)^{4}}d \\overline{z_{2}} \\otimes d z_{1} \\otimes d z_{1} \\otimes d \\overline{z_{2}} + \\frac{z_{1} z_{2} \\overline{z_{1}} \\overline{z_{2}} + \\left(z_{1} \\overline{z_{1}} + 1\\right) \\left(z_{2} \\overline{z_{2}} + 1\\right)}{2 \\left(z_{1} \\overline{z_{1}} + z_{2} \\overline{z_{2}} + 1\\right)^{4}}d \\overline{z_{2}} \\otimes d z_{1} \\otimes d z_{2} \\otimes d \\overline{z_{1}} - \\frac{z_{2} \\left(z_{1} \\overline{z_{1}} + 1\\right) \\overline{z_{1}}}{\\left(z_{1} \\overline{z_{1}} + z_{2} \\overline{z_{2}} + 1\\right)^{4}}d \\overline{z_{2}} \\otimes d z_{1} \\otimes d z_{2} \\otimes d \\overline{z_{2}} + \\frac{z_{2} \\left(z_{2} \\overline{z_{2}} + 1\\right) \\overline{z_{1}}}{\\left(z_{1} \\overline{z_{1}} + z_{2} \\overline{z_{2}} + 1\\right)^{4}}d \\overline{z_{2}} \\otimes d z_{1} \\otimes d \\overline{z_{1}} \\otimes d z_{1} + \\frac{- z_{1} z_{2} \\overline{z_{1}} \\overline{z_{2}} - \\left(z_{1} \\overline{z_{1}} + 1\\right) \\left(z_{2} \\overline{z_{2}} + 1\\right)}{2 \\left(z_{1} \\overline{z_{1}} + z_{2} \\overline{z_{2}} + 1\\right)^{4}}d \\overline{z_{2}} \\otimes d z_{1} \\otimes d \\overline{z_{1}} \\otimes d z_{2} - \\frac{z_{2}^{2} \\overline{z_{1}}^{2}}{\\left(z_{1} \\overline{z_{1}} + z_{2} \\overline{z_{2}} + 1\\right)^{4}}d \\overline{z_{2}} \\otimes d z_{1} \\otimes d \\overline{z_{2}} \\otimes d z_{1} + \\frac{z_{2} \\left(z_{1} \\overline{z_{1}} + 1\\right) \\overline{z_{1}}}{\\left(z_{1} \\overline{z_{1}} + z_{2} \\overline{z_{2}} + 1\\right)^{4}}d \\overline{z_{2}} \\otimes d z_{1} \\otimes d \\overline{z_{2}} \\otimes d z_{2} + \\frac{z_{1} z_{2} \\overline{z_{1}} \\overline{z_{2}} + \\left(z_{1} \\overline{z_{1}} + 1\\right) \\left(z_{2} \\overline{z_{2}} + 1\\right)}{2 \\left(z_{1} \\overline{z_{1}} + z_{2} \\overline{z_{2}} + 1\\right)^{4}}d \\overline{z_{2}} \\otimes d z_{2} \\otimes d z_{1} \\otimes d \\overline{z_{1}} - \\frac{z_{2} \\left(z_{1} \\overline{z_{1}} + 1\\right) \\overline{z_{1}}}{\\left(z_{1} \\overline{z_{1}} + z_{2} \\overline{z_{2}} + 1\\right)^{4}}d \\overline{z_{2}} \\otimes d z_{2} \\otimes d z_{1} \\otimes d \\overline{z_{2}} - \\frac{z_{1} \\left(z_{1} \\overline{z_{1}} + 1\\right) \\overline{z_{2}}}{\\left(z_{1} \\overline{z_{1}} + z_{2} \\overline{z_{2}} + 1\\right)^{4}}d \\overline{z_{2}} \\otimes d z_{2} \\otimes d z_{2} \\otimes d \\overline{z_{1}} + \\frac{\\left(z_{1} \\overline{z_{1}} + 1\\right)^{2}}{\\left(z_{1} \\overline{z_{1}} + z_{2} \\overline{z_{2}} + 1\\right)^{4}}d \\overline{z_{2}} \\otimes d z_{2} \\otimes d z_{2} \\otimes d \\overline{z_{2}} + \\frac{- z_{1} z_{2} \\overline{z_{1}} \\overline{z_{2}} - \\left(z_{1} \\overline{z_{1}} + 1\\right) \\left(z_{2} \\overline{z_{2}} + 1\\right)}{2 \\left(z_{1} \\overline{z_{1}} + z_{2} \\overline{z_{2}} + 1\\right)^{4}}d \\overline{z_{2}} \\otimes d z_{2} \\otimes d \\overline{z_{1}} \\otimes d z_{1} + \\frac{z_{1} \\left(z_{1} \\overline{z_{1}} + 1\\right) \\overline{z_{2}}}{\\left(z_{1} \\overline{z_{1}} + z_{2} \\overline{z_{2}} + 1\\right)^{4}}d \\overline{z_{2}} \\otimes d z_{2} \\otimes d \\overline{z_{1}} \\otimes d z_{2} + \\frac{z_{2} \\left(z_{1} \\overline{z_{1}} + 1\\right) \\overline{z_{1}}}{\\left(z_{1} \\overline{z_{1}} + z_{2} \\overline{z_{2}} + 1\\right)^{4}}d \\overline{z_{2}} \\otimes d z_{2} \\otimes d \\overline{z_{2}} \\otimes d z_{1} - \\frac{\\left(z_{1} \\overline{z_{1}} + 1\\right)^{2}}{\\left(z_{1} \\overline{z_{1}} + z_{2} \\overline{z_{2}} + 1\\right)^{4}}d \\overline{z_{2}} \\otimes d z_{2} \\otimes d \\overline{z_{2}} \\otimes d z_{2}$"
      ],
      "text/plain": [
       "(-(z2*conjugate(z2) + 1)**2/(z1*conjugate(z1) + z2*conjugate(z2) + 1)**4)*d_z1 d_BARz1 d_z1 d_BARz1+(z2*(z2*conjugate(z2) + 1)*conjugate(z1)/(z1*conjugate(z1) + z2*conjugate(z2) + 1)**4)*d_z1 d_BARz1 d_z1 d_BARz2+(z1*(z2*conjugate(z2) + 1)*conjugate(z2)/(z1*conjugate(z1) + z2*conjugate(z2) + 1)**4)*d_z1 d_BARz1 d_z2 d_BARz1+((-z1*z2*conjugate(z1)*conjugate(z2) - (z1*conjugate(z1) + 1)*(z2*conjugate(z2) + 1))/(2*(z1*conjugate(z1) + z2*conjugate(z2) + 1)**4))*d_z1 d_BARz1 d_z2 d_BARz2+((z2*conjugate(z2) + 1)**2/(z1*conjugate(z1) + z2*conjugate(z2) + 1)**4)*d_z1 d_BARz1 d_BARz1 d_z1+(-z1*(z2*conjugate(z2) + 1)*conjugate(z2)/(z1*conjugate(z1) + z2*conjugate(z2) + 1)**4)*d_z1 d_BARz1 d_BARz1 d_z2+(-z2*(z2*conjugate(z2) + 1)*conjugate(z1)/(z1*conjugate(z1) + z2*conjugate(z2) + 1)**4)*d_z1 d_BARz1 d_BARz2 d_z1+((z1*z2*conjugate(z1)*conjugate(z2) + (z1*conjugate(z1) + 1)*(z2*conjugate(z2) + 1))/(2*(z1*conjugate(z1) + z2*conjugate(z2) + 1)**4))*d_z1 d_BARz1 d_BARz2 d_z2+(z2*(z2*conjugate(z2) + 1)*conjugate(z1)/(z1*conjugate(z1) + z2*conjugate(z2) + 1)**4)*d_z1 d_BARz2 d_z1 d_BARz1+(-z2**2*conjugate(z1)**2/(z1*conjugate(z1) + z2*conjugate(z2) + 1)**4)*d_z1 d_BARz2 d_z1 d_BARz2+((-z1*z2*conjugate(z1)*conjugate(z2) - (z1*conjugate(z1) + 1)*(z2*conjugate(z2) + 1))/(2*(z1*conjugate(z1) + z2*conjugate(z2) + 1)**4))*d_z1 d_BARz2 d_z2 d_BARz1+(z2*(z1*conjugate(z1) + 1)*conjugate(z1)/(z1*conjugate(z1) + z2*conjugate(z2) + 1)**4)*d_z1 d_BARz2 d_z2 d_BARz2+(-z2*(z2*conjugate(z2) + 1)*conjugate(z1)/(z1*conjugate(z1) + z2*conjugate(z2) + 1)**4)*d_z1 d_BARz2 d_BARz1 d_z1+((z1*z2*conjugate(z1)*conjugate(z2) + (z1*conjugate(z1) + 1)*(z2*conjugate(z2) + 1))/(2*(z1*conjugate(z1) + z2*conjugate(z2) + 1)**4))*d_z1 d_BARz2 d_BARz1 d_z2+(z2**2*conjugate(z1)**2/(z1*conjugate(z1) + z2*conjugate(z2) + 1)**4)*d_z1 d_BARz2 d_BARz2 d_z1+(-z2*(z1*conjugate(z1) + 1)*conjugate(z1)/(z1*conjugate(z1) + z2*conjugate(z2) + 1)**4)*d_z1 d_BARz2 d_BARz2 d_z2+(z1*(z2*conjugate(z2) + 1)*conjugate(z2)/(z1*conjugate(z1) + z2*conjugate(z2) + 1)**4)*d_z2 d_BARz1 d_z1 d_BARz1+((-z1*z2*conjugate(z1)*conjugate(z2) - (z1*conjugate(z1) + 1)*(z2*conjugate(z2) + 1))/(2*(z1*conjugate(z1) + z2*conjugate(z2) + 1)**4))*d_z2 d_BARz1 d_z1 d_BARz2+(-z1**2*conjugate(z2)**2/(z1*conjugate(z1) + z2*conjugate(z2) + 1)**4)*d_z2 d_BARz1 d_z2 d_BARz1+(z1*(z1*conjugate(z1) + 1)*conjugate(z2)/(z1*conjugate(z1) + z2*conjugate(z2) + 1)**4)*d_z2 d_BARz1 d_z2 d_BARz2+(-z1*(z2*conjugate(z2) + 1)*conjugate(z2)/(z1*conjugate(z1) + z2*conjugate(z2) + 1)**4)*d_z2 d_BARz1 d_BARz1 d_z1+(z1**2*conjugate(z2)**2/(z1*conjugate(z1) + z2*conjugate(z2) + 1)**4)*d_z2 d_BARz1 d_BARz1 d_z2+((z1*z2*conjugate(z1)*conjugate(z2) + (z1*conjugate(z1) + 1)*(z2*conjugate(z2) + 1))/(2*(z1*conjugate(z1) + z2*conjugate(z2) + 1)**4))*d_z2 d_BARz1 d_BARz2 d_z1+(-z1*(z1*conjugate(z1) + 1)*conjugate(z2)/(z1*conjugate(z1) + z2*conjugate(z2) + 1)**4)*d_z2 d_BARz1 d_BARz2 d_z2+((-z1*z2*conjugate(z1)*conjugate(z2) - (z1*conjugate(z1) + 1)*(z2*conjugate(z2) + 1))/(2*(z1*conjugate(z1) + z2*conjugate(z2) + 1)**4))*d_z2 d_BARz2 d_z1 d_BARz1+(z2*(z1*conjugate(z1) + 1)*conjugate(z1)/(z1*conjugate(z1) + z2*conjugate(z2) + 1)**4)*d_z2 d_BARz2 d_z1 d_BARz2+(z1*(z1*conjugate(z1) + 1)*conjugate(z2)/(z1*conjugate(z1) + z2*conjugate(z2) + 1)**4)*d_z2 d_BARz2 d_z2 d_BARz1+(-(z1*conjugate(z1) + 1)**2/(z1*conjugate(z1) + z2*conjugate(z2) + 1)**4)*d_z2 d_BARz2 d_z2 d_BARz2+((z1*z2*conjugate(z1)*conjugate(z2) + (z1*conjugate(z1) + 1)*(z2*conjugate(z2) + 1))/(2*(z1*conjugate(z1) + z2*conjugate(z2) + 1)**4))*d_z2 d_BARz2 d_BARz1 d_z1+(-z1*(z1*conjugate(z1) + 1)*conjugate(z2)/(z1*conjugate(z1) + z2*conjugate(z2) + 1)**4)*d_z2 d_BARz2 d_BARz1 d_z2+(-z2*(z1*conjugate(z1) + 1)*conjugate(z1)/(z1*conjugate(z1) + z2*conjugate(z2) + 1)**4)*d_z2 d_BARz2 d_BARz2 d_z1+((z1*conjugate(z1) + 1)**2/(z1*conjugate(z1) + z2*conjugate(z2) + 1)**4)*d_z2 d_BARz2 d_BARz2 d_z2+((z2*conjugate(z2) + 1)**2/(z1*conjugate(z1) + z2*conjugate(z2) + 1)**4)*d_BARz1 d_z1 d_z1 d_BARz1+(-z2*(z2*conjugate(z2) + 1)*conjugate(z1)/(z1*conjugate(z1) + z2*conjugate(z2) + 1)**4)*d_BARz1 d_z1 d_z1 d_BARz2+(-z1*(z2*conjugate(z2) + 1)*conjugate(z2)/(z1*conjugate(z1) + z2*conjugate(z2) + 1)**4)*d_BARz1 d_z1 d_z2 d_BARz1+((z1*z2*conjugate(z1)*conjugate(z2) + (z1*conjugate(z1) + 1)*(z2*conjugate(z2) + 1))/(2*(z1*conjugate(z1) + z2*conjugate(z2) + 1)**4))*d_BARz1 d_z1 d_z2 d_BARz2+(-(z2*conjugate(z2) + 1)**2/(z1*conjugate(z1) + z2*conjugate(z2) + 1)**4)*d_BARz1 d_z1 d_BARz1 d_z1+(z1*(z2*conjugate(z2) + 1)*conjugate(z2)/(z1*conjugate(z1) + z2*conjugate(z2) + 1)**4)*d_BARz1 d_z1 d_BARz1 d_z2+(z2*(z2*conjugate(z2) + 1)*conjugate(z1)/(z1*conjugate(z1) + z2*conjugate(z2) + 1)**4)*d_BARz1 d_z1 d_BARz2 d_z1+((-z1*z2*conjugate(z1)*conjugate(z2) - (z1*conjugate(z1) + 1)*(z2*conjugate(z2) + 1))/(2*(z1*conjugate(z1) + z2*conjugate(z2) + 1)**4))*d_BARz1 d_z1 d_BARz2 d_z2+(-z1*(z2*conjugate(z2) + 1)*conjugate(z2)/(z1*conjugate(z1) + z2*conjugate(z2) + 1)**4)*d_BARz1 d_z2 d_z1 d_BARz1+((z1*z2*conjugate(z1)*conjugate(z2) + (z1*conjugate(z1) + 1)*(z2*conjugate(z2) + 1))/(2*(z1*conjugate(z1) + z2*conjugate(z2) + 1)**4))*d_BARz1 d_z2 d_z1 d_BARz2+(z1**2*conjugate(z2)**2/(z1*conjugate(z1) + z2*conjugate(z2) + 1)**4)*d_BARz1 d_z2 d_z2 d_BARz1+(-z1*(z1*conjugate(z1) + 1)*conjugate(z2)/(z1*conjugate(z1) + z2*conjugate(z2) + 1)**4)*d_BARz1 d_z2 d_z2 d_BARz2+(z1*(z2*conjugate(z2) + 1)*conjugate(z2)/(z1*conjugate(z1) + z2*conjugate(z2) + 1)**4)*d_BARz1 d_z2 d_BARz1 d_z1+(-z1**2*conjugate(z2)**2/(z1*conjugate(z1) + z2*conjugate(z2) + 1)**4)*d_BARz1 d_z2 d_BARz1 d_z2+((-z1*z2*conjugate(z1)*conjugate(z2) - (z1*conjugate(z1) + 1)*(z2*conjugate(z2) + 1))/(2*(z1*conjugate(z1) + z2*conjugate(z2) + 1)**4))*d_BARz1 d_z2 d_BARz2 d_z1+(z1*(z1*conjugate(z1) + 1)*conjugate(z2)/(z1*conjugate(z1) + z2*conjugate(z2) + 1)**4)*d_BARz1 d_z2 d_BARz2 d_z2+(-z2*(z2*conjugate(z2) + 1)*conjugate(z1)/(z1*conjugate(z1) + z2*conjugate(z2) + 1)**4)*d_BARz2 d_z1 d_z1 d_BARz1+(z2**2*conjugate(z1)**2/(z1*conjugate(z1) + z2*conjugate(z2) + 1)**4)*d_BARz2 d_z1 d_z1 d_BARz2+((z1*z2*conjugate(z1)*conjugate(z2) + (z1*conjugate(z1) + 1)*(z2*conjugate(z2) + 1))/(2*(z1*conjugate(z1) + z2*conjugate(z2) + 1)**4))*d_BARz2 d_z1 d_z2 d_BARz1+(-z2*(z1*conjugate(z1) + 1)*conjugate(z1)/(z1*conjugate(z1) + z2*conjugate(z2) + 1)**4)*d_BARz2 d_z1 d_z2 d_BARz2+(z2*(z2*conjugate(z2) + 1)*conjugate(z1)/(z1*conjugate(z1) + z2*conjugate(z2) + 1)**4)*d_BARz2 d_z1 d_BARz1 d_z1+((-z1*z2*conjugate(z1)*conjugate(z2) - (z1*conjugate(z1) + 1)*(z2*conjugate(z2) + 1))/(2*(z1*conjugate(z1) + z2*conjugate(z2) + 1)**4))*d_BARz2 d_z1 d_BARz1 d_z2+(-z2**2*conjugate(z1)**2/(z1*conjugate(z1) + z2*conjugate(z2) + 1)**4)*d_BARz2 d_z1 d_BARz2 d_z1+(z2*(z1*conjugate(z1) + 1)*conjugate(z1)/(z1*conjugate(z1) + z2*conjugate(z2) + 1)**4)*d_BARz2 d_z1 d_BARz2 d_z2+((z1*z2*conjugate(z1)*conjugate(z2) + (z1*conjugate(z1) + 1)*(z2*conjugate(z2) + 1))/(2*(z1*conjugate(z1) + z2*conjugate(z2) + 1)**4))*d_BARz2 d_z2 d_z1 d_BARz1+(-z2*(z1*conjugate(z1) + 1)*conjugate(z1)/(z1*conjugate(z1) + z2*conjugate(z2) + 1)**4)*d_BARz2 d_z2 d_z1 d_BARz2+(-z1*(z1*conjugate(z1) + 1)*conjugate(z2)/(z1*conjugate(z1) + z2*conjugate(z2) + 1)**4)*d_BARz2 d_z2 d_z2 d_BARz1+((z1*conjugate(z1) + 1)**2/(z1*conjugate(z1) + z2*conjugate(z2) + 1)**4)*d_BARz2 d_z2 d_z2 d_BARz2+((-z1*z2*conjugate(z1)*conjugate(z2) - (z1*conjugate(z1) + 1)*(z2*conjugate(z2) + 1))/(2*(z1*conjugate(z1) + z2*conjugate(z2) + 1)**4))*d_BARz2 d_z2 d_BARz1 d_z1+(z1*(z1*conjugate(z1) + 1)*conjugate(z2)/(z1*conjugate(z1) + z2*conjugate(z2) + 1)**4)*d_BARz2 d_z2 d_BARz1 d_z2+(z2*(z1*conjugate(z1) + 1)*conjugate(z1)/(z1*conjugate(z1) + z2*conjugate(z2) + 1)**4)*d_BARz2 d_z2 d_BARz2 d_z1+(-(z1*conjugate(z1) + 1)**2/(z1*conjugate(z1) + z2*conjugate(z2) + 1)**4)*d_BARz2 d_z2 d_BARz2 d_z2"
      ]
     },
     "metadata": {},
     "output_type": "display_data"
    }
   ],
   "source": [
    "display_DGCV(g.RiemannCurvature)"
   ]
  },
  {
   "cell_type": "markdown",
   "metadata": {},
   "source": [
    "... and `scalarCurvature`..."
   ]
  },
  {
   "cell_type": "code",
   "execution_count": 66,
   "metadata": {},
   "outputs": [
    {
     "data": {
      "image/png": "[encoded data removed]",
      "text/latex": [
       "$\\displaystyle 24$"
      ],
      "text/plain": [
       "24"
      ]
     },
     "metadata": {},
     "output_type": "display_data"
    }
   ],
   "source": [
    "display_DGCV(g.scalarCurvature)"
   ]
  },
  {
   "cell_type": "markdown",
   "metadata": {},
   "source": [
    "DGCV understands the natural relationship between its covariant tensor field objects and vector fields, and supports natural syntax for evaluating the tensors. For example, let's apply the some of the metric's invariant tensors to vector fields:"
   ]
  },
  {
   "cell_type": "code",
   "execution_count": 67,
   "metadata": {},
   "outputs": [
    {
     "data": {
      "text/latex": [
       "Applying the Riemann metric and it's Ricci tensor to $\\frac{\\partial}{\\partial z_{1}} + \\frac{\\partial}{\\partial z_{2}}$ and $\\left(- i x_{1}^{2} \\overline{z_{2}} - y_{2} + z_{1}^{2}\\right)\\frac{\\partial}{\\partial z_{2}} + \\left(i x_{1}^{2} \\overline{z_{2}} - y_{2} + z_{1}^{2}\\right)\\frac{\\partial}{\\partial \\overline{z_{2}}}$ yields $$g(VF_1,VF_2)=- \\frac{z_{2} \\left(i x_{1}^{2} \\overline{z_{2}} - y_{2} + z_{1}^{2}\\right) \\overline{z_{1}}}{2 \\left(z_{1} \\overline{z_{1}} + z_{2} \\overline{z_{2}} + 1\\right)^{2}} + \\frac{\\left(z_{1} \\overline{z_{1}} + 1\\right) \\left(i x_{1}^{2} \\overline{z_{2}} - y_{2} + z_{1}^{2}\\right)}{2 \\left(z_{1} \\overline{z_{1}} + z_{2} \\overline{z_{2}} + 1\\right)^{2}}$$ and $$Ric(VF_1,VF_2)=- \\frac{3 z_{2} \\left(i x_{1}^{2} \\overline{z_{2}} - y_{2} + z_{1}^{2}\\right) \\overline{z_{1}}}{z_{1}^{2} \\overline{z_{1}}^{2} + 2 z_{1} z_{2} \\overline{z_{1}} \\overline{z_{2}} + 2 z_{1} \\overline{z_{1}} + z_{2}^{2} \\overline{z_{2}}^{2} + 2 z_{2} \\overline{z_{2}} + 1} + \\frac{3 \\left(z_{1} \\overline{z_{1}} + 1\\right) \\left(i x_{1}^{2} \\overline{z_{2}} - y_{2} + z_{1}^{2}\\right)}{z_{1}^{2} \\overline{z_{1}}^{2} + 2 z_{1} z_{2} \\overline{z_{1}} \\overline{z_{2}} + 2 z_{1} \\overline{z_{1}} + z_{2}^{2} \\overline{z_{2}}^{2} + 2 z_{2} \\overline{z_{2}} + 1}.$$"
      ],
      "text/plain": [
       "<IPython.core.display.Latex object>"
      ]
     },
     "metadata": {},
     "output_type": "display_data"
    }
   ],
   "source": [
    "VF1= D_z1+D_z2\n",
    "VF2=(z1**2-y2)*D_x2-(x1**2*BARz2)*D_y2 # We have written the vector field with disorganized real/holomorphic coordinate choices just to illustrate that DGCV can handle such formatting correctly\n",
    "applying_g=g.SymTensorField(VF1,VF2)\n",
    "applying_Ricci=g.RicciTensor(VF1,VF2)\n",
    "display_DGCV(f'Applying the Riemann metric and it\\'s Ricci tensor to ${LaTeX(VF1)}$ and ${LaTeX((VF2))}$ yields $$g(VF_1,VF_2)={LaTeX((applying_g))}$$ and $$Ric(VF_1,VF_2)={LaTeX(applying_Ricci)}.$$') "
   ]
  },
  {
   "cell_type": "markdown",
   "metadata": {},
   "source": [
    "Use the class method `sectionalCurvature()` to compute sectional curvature."
   ]
  },
  {
   "cell_type": "code",
   "execution_count": 68,
   "metadata": {},
   "outputs": [
    {
     "data": {
      "text/latex": [
       "The sectional curvature evaluation before simplifying: $- \\frac{- \\frac{z_{2}^{2} \\left(i x_{1}^{2} \\overline{z_{2}} - y_{2} + z_{1}^{2}\\right)^{2} \\overline{z_{1}}^{2}}{\\left(z_{1} \\overline{z_{1}} + z_{2} \\overline{z_{2}} + 1\\right)^{4}} + \\frac{2 z_{2} \\left(z_{1} \\overline{z_{1}} + 1\\right) \\left(i x_{1}^{2} \\overline{z_{2}} - y_{2} + z_{1}^{2}\\right)^{2} \\overline{z_{1}}}{\\left(z_{1} \\overline{z_{1}} + z_{2} \\overline{z_{2}} + 1\\right)^{4}} - \\frac{\\left(z_{1} \\overline{z_{1}} + 1\\right)^{2} \\left(i x_{1}^{2} \\overline{z_{2}} - y_{2} + z_{1}^{2}\\right)^{2}}{\\left(z_{1} \\overline{z_{1}} + z_{2} \\overline{z_{2}} + 1\\right)^{4}}}{\\left(- \\frac{z_{2} \\left(i x_{1}^{2} \\overline{z_{2}} - y_{2} + z_{1}^{2}\\right) \\overline{z_{1}}}{2 \\left(z_{1} \\overline{z_{1}} + z_{2} \\overline{z_{2}} + 1\\right)^{2}} + \\frac{\\left(z_{1} \\overline{z_{1}} + 1\\right) \\left(i x_{1}^{2} \\overline{z_{2}} - y_{2} + z_{1}^{2}\\right)}{2 \\left(z_{1} \\overline{z_{1}} + z_{2} \\overline{z_{2}} + 1\\right)^{2}}\\right)^{2}}$"
      ],
      "text/plain": [
       "<IPython.core.display.Latex object>"
      ]
     },
     "metadata": {},
     "output_type": "display_data"
    },
    {
     "data": {
      "text/latex": [
       "The sectional curvature evaluation after simplifying: $4$"
      ],
      "text/plain": [
       "<IPython.core.display.Latex object>"
      ]
     },
     "metadata": {},
     "output_type": "display_data"
    }
   ],
   "source": [
    "sCurvature = g.sectionalCurvature(VF1,VF2)\n",
    "display_DGCV(f'The sectional curvature evaluation before simplifying: ${LaTeX(sCurvature)}$')\n",
    "display_DGCV(f'The sectional curvature evaluation after simplifying: ${LaTeX(simplify(sCurvature))}$')"
   ]
  },
  {
   "cell_type": "markdown",
   "metadata": {},
   "source": [
    "If the Kahler structure were arbitrary this constant sectional curvature value would be quite surprising. In this cases it is rather related to the Fubini–Study metric's constant *holomorphic sectional curvature*, defined by hooking the complex structure operator into the Riemann curvature tensor, namely\n",
    "$$\n",
    "\\mathrm{sec}_{hol}(\\mathrm{span}_{\\mathbb{R}}(V,JV))=R(V,JV,V,JV) \\quad\\quad\\forall\\, |V|=g(V,V)=1\n",
    "$$\n",
    "or, equivalently,\n",
    "$$\n",
    "\\mathrm{sec}_{hol}(\\mathrm{span}_{\\mathbb{R}}(V,JV))=\\frac{R(V,JV,V,JV)}{g(V,V)g(JV,JV)-(g(V,JV))^2}=\\frac{R(V,JV,V,JV)}{(g(V,V))^2} \\quad\\quad\\forall\\, V \\in\\mathfrak{X}(\\mathbb{C}TM).\n",
    "$$\n",
    "The latter identity is nicer for us because the former's norm constraint involves a square root, which introduces more computational over head, slowing down functions like sympy.simplify. Let's use DGCV to compute the metric's *holomorphic scalar curvature*, showing that it is constant.\n",
    "\n",
    "To see it, we should apply the $\\mathrm{sec}_{hol}$ to *arbitrary* vector fields.\n",
    "\n",
    "To represent *arbitrary* vector fields, we'll use `get_VF` and `createVariables` to grab the coordinate vector field basis for our current coordinates and create some new variables $\\alpha_{1},\\ldots, \\alpha_{4}$ to use as coefficients."
   ]
  },
  {
   "cell_type": "code",
   "execution_count": 69,
   "metadata": {},
   "outputs": [
    {
     "data": {
      "text/latex": [
       "Using the vector fields $\\left[ \\frac{\\partial}{\\partial z_{1}} + \\frac{\\partial}{\\partial \\overline{z_{1}}}, \\frac{\\partial}{\\partial z_{2}} + \\frac{\\partial}{\\partial \\overline{z_{2}}}, i\\frac{\\partial}{\\partial z_{1}} - i\\frac{\\partial}{\\partial \\overline{z_{1}}}, i\\frac{\\partial}{\\partial z_{2}} - i\\frac{\\partial}{\\partial \\overline{z_{2}}} \\right]$ and coefficients $\\left( \\alpha_{1}, \\alpha_{2}, \\alpha_{3}, \\alpha_{4} \\right)$, we created vector fields $$ V=\\left(\\alpha_{1} + i \\alpha_{3}\\right)\\frac{\\partial}{\\partial z_{1}} + \\left(\\alpha_{2} + i \\alpha_{4}\\right)\\frac{\\partial}{\\partial z_{2}} + \\left(\\alpha_{1} - i \\alpha_{3}\\right)\\frac{\\partial}{\\partial \\overline{z_{1}}} + \\left(\\alpha_{2} - i \\alpha_{4}\\right)\\frac{\\partial}{\\partial \\overline{z_{2}}}$$ and $$ J(V)=i \\left(\\alpha_{1} + i \\alpha_{3}\\right)\\frac{\\partial}{\\partial z_{1}} + i \\left(\\alpha_{2} + i \\alpha_{4}\\right)\\frac{\\partial}{\\partial z_{2}} - i \\left(\\alpha_{1} - i \\alpha_{3}\\right)\\frac{\\partial}{\\partial \\overline{z_{1}}} - i \\left(\\alpha_{2} - i \\alpha_{4}\\right)\\frac{\\partial}{\\partial \\overline{z_{2}}}$$"
      ],
      "text/plain": [
       "<IPython.core.display.Latex object>"
      ]
     },
     "metadata": {},
     "output_type": "display_data"
    },
    {
     "data": {
      "text/latex": [
       "The norm squared of $V$ is $- \\frac{z_{1} \\left(\\alpha_{1} - i \\alpha_{3}\\right) \\left(\\alpha_{2} + i \\alpha_{4}\\right) \\overline{z_{2}}}{\\left(z_{1} \\overline{z_{1}} + z_{2} \\overline{z_{2}} + 1\\right)^{2}} - \\frac{z_{2} \\left(\\alpha_{1} + i \\alpha_{3}\\right) \\left(\\alpha_{2} - i \\alpha_{4}\\right) \\overline{z_{1}}}{\\left(z_{1} \\overline{z_{1}} + z_{2} \\overline{z_{2}} + 1\\right)^{2}} + \\frac{\\left(\\alpha_{1} - i \\alpha_{3}\\right) \\left(\\alpha_{1} + i \\alpha_{3}\\right) \\left(z_{2} \\overline{z_{2}} + 1\\right)}{\\left(z_{1} \\overline{z_{1}} + z_{2} \\overline{z_{2}} + 1\\right)^{2}} + \\frac{\\left(\\alpha_{2} - i \\alpha_{4}\\right) \\left(\\alpha_{2} + i \\alpha_{4}\\right) \\left(z_{1} \\overline{z_{1}} + 1\\right)}{\\left(z_{1} \\overline{z_{1}} + z_{2} \\overline{z_{2}} + 1\\right)^{2}}$"
      ],
      "text/plain": [
       "<IPython.core.display.Latex object>"
      ]
     },
     "metadata": {},
     "output_type": "display_data"
    }
   ],
   "source": [
    "VF_basis=get_VF(*(x+y)) # This retrieves coordinate vector fields for the real coordinates in the tuple x+y=(x1,x2,y1,y2)\n",
    "createVariables('alpha',len(VF_basis)) # Creates the number of variables alpha1, alpha2, ... matching the length of the vector field list VF_basis\n",
    "arbitrary_VF = addVF(*[alpha[j]*VF_basis[j] for j in range(len(VF_basis))]) # addVF adds any number of vector fields together. We are giving it a list [vf1,vf2,...] and \"opening the list\" with *. \n",
    "J_of_VF = complex_struct_op(arbitrary_VF)\n",
    "norm_squared = g.SymTensorField(arbitrary_VF,arbitrary_VF)\n",
    "display_DGCV(f'Using the vector fields ${LaTeX(VF_basis)}$ and coefficients ${LaTeX(alpha)}$, we created vector fields $$ V={LaTeX(arbitrary_VF)}$$ and $$ J(V)={LaTeX(J_of_VF)}$$')\n",
    "display_DGCV(f'The norm squared of $V$ is ${LaTeX(norm_squared)}$')"
   ]
  },
  {
   "cell_type": "code",
   "execution_count": 70,
   "metadata": {},
   "outputs": [
    {
     "data": {
      "text/latex": [
       "The holomorphic sectional curvature evaluated on an arbitrary complex line bundle is $$\\mathrm{sec}_{hol}(\\mathrm{span}_{\\mathbb{R}}(V,JV))=4$$"
      ],
      "text/plain": [
       "<IPython.core.display.Latex object>"
      ]
     },
     "metadata": {},
     "output_type": "display_data"
    }
   ],
   "source": [
    "holSecCurvature =(1/(norm_squared)**2) * g.RiemannCurvature(arbitrary_VF,J_of_VF,arbitrary_VF,J_of_VF)\n",
    "simplified_HSC = simplify(holSecCurvature)\n",
    "display_DGCV(f'The holomorphic sectional curvature evaluated on an arbitrary complex line bundle is $$\\\\mathrm{{sec}}_{{hol}}(\\\\mathrm{{span}}_{{\\\\mathbb{{R}}}}(V,JV))={LaTeX(simplified_HSC)}$$')"
   ]
  },
  {
   "cell_type": "markdown",
   "metadata": {},
   "source": [
    "To compute the Bochner tensor of a Kahler structure, call the `Bochner` attribute of a `KahlerStructure` class object. Computing the tensor directly in the present example, we find that it vanishes:"
   ]
  },
  {
   "cell_type": "code",
   "execution_count": 71,
   "metadata": {},
   "outputs": [
    {
     "data": {
      "text/latex": [
       "The Bochner tensor $B\\in \\Gamma\\left(T^{1,0}M\\otimes T^{0,1}M\\otimes T^{1,0}M\\otimes T^{0,1}M\\right)$ of the Fubini--Study metric $$g=\\frac{z_{2} \\overline{z_{2}} + 1}{2 \\left(z_{1} \\overline{z_{1}} + z_{2} \\overline{z_{2}} + 1\\right)^{2}}d z_{1} \\odot d \\overline{z_{1}} - \\frac{z_{2} \\overline{z_{1}}}{2 \\left(z_{1} \\overline{z_{1}} + z_{2} \\overline{z_{2}} + 1\\right)^{2}}d z_{1} \\odot d \\overline{z_{2}} - \\frac{z_{1} \\overline{z_{2}}}{2 \\left(z_{1} \\overline{z_{1}} + z_{2} \\overline{z_{2}} + 1\\right)^{2}}d z_{2} \\odot d \\overline{z_{1}} + \\frac{z_{1} \\overline{z_{1}} + 1}{2 \\left(z_{1} \\overline{z_{1}} + z_{2} \\overline{z_{2}} + 1\\right)^{2}}d z_{2} \\odot d \\overline{z_{2}}$$ is $$B=0d z_{1} \\otimes d \\overline{z_{1}} \\otimes d z_{1} \\otimes d \\overline{z_{1}}.$$"
      ],
      "text/plain": [
       "<IPython.core.display.Latex object>"
      ]
     },
     "metadata": {},
     "output_type": "display_data"
    }
   ],
   "source": [
    "Bochner_tensor = Fubini_Study_structure.Bochner\n",
    "\n",
    "display_DGCV(f'The Bochner tensor $B\\\\in \\\\Gamma\\\\left(T^{{1,0}}M\\\\otimes T^{{0,1}}M\\\\otimes T^{{1,0}}M\\\\otimes T^{{0,1}}M\\\\right)$ of the Fubini--Study metric $$g={LaTeX(g)}$$ is $$B={LaTeX(Bochner_tensor)}.$$')"
   ]
  },
  {
   "cell_type": "markdown",
   "metadata": {},
   "source": [
    "Since we initialized a few variable systems $z=(z_1,\\ldots,\\overline{z}_1,\\ldots, x_1,\\ldots, y_1,\\ldots)$ and  $\\alpha=(\\alpha_1,\\alpha_2 \\ldots)$, let's delete them to reset everything before doing the next example."
   ]
  },
  {
   "cell_type": "markdown",
   "metadata": {},
   "source": [
    "### Example 4: Computing Gaussian curvature with tensor field pullbacks"
   ]
  },
  {
   "cell_type": "code",
   "execution_count": 72,
   "metadata": {},
   "outputs": [
    {
     "name": "stdout",
     "output_type": "stream",
     "text": [
      "Cleared standard variable systems from the DGCV variable management framework: alpha\n",
      "Cleared complex variable systems from the DGCV variable management framework: z\n"
     ]
    }
   ],
   "source": [
    "from sympy import cos, sin, tan, ln, simplify # We'll use trig and ln functions from the sympy library\n",
    "\n",
    "clearVar(*listVar()) # This is here just in case variables where not cleared from previous examples\n",
    "createVariables('theta phi x y z', withVF=True) # Initializes some 'standard' variables (i.e. without special complex var. handling) with vector fields.\n",
    "createVariables('r', 2) #creates a pair of parameter variables r1, r2"
   ]
  },
  {
   "cell_type": "markdown",
   "metadata": {},
   "source": [
    "For coordinate transformations and mappings between manifolds, we can use DGCV's `coordinate_map` class. It organizes formulas for transforming DG objects, with convenient methods like `pull_back` and `differential`. \n",
    "\n",
    "To demonstrate it, let's consider parameterized surfaces in $\\mathbb{R}^3$. We'll use `coordinate_map` to define the parameterization. Let's begin with a sphere of radius $r_1$:"
   ]
  },
  {
   "cell_type": "code",
   "execution_count": 73,
   "metadata": {},
   "outputs": [],
   "source": [
    "coor1 = r1*cos(phi)*sin(theta) # coordinate components of our map\n",
    "coor2 = r1*sin(phi)*sin(theta)\n",
    "coor3 = r1*cos(theta)\n",
    "\n",
    "sphere_embedding = coordinate_map((theta, phi),(x, y, z), (coor1,coor2,coor3)) # set's up a mapping between coordinate spaces (rho, theta) and (x, y, z)."
   ]
  },
  {
   "cell_type": "markdown",
   "metadata": {},
   "source": [
    "`coordinate_map` has several useful attributes. `domain_frame`, `range_coframe` etc. return lists of coordinate vector fields/differential forms in whatever coordinates we specified when initializing *sphere_embedding*."
   ]
  },
  {
   "cell_type": "code",
   "execution_count": 74,
   "metadata": {},
   "outputs": [
    {
     "data": {
      "text/latex": [
       "The domain of our sphere_embedding map has a coframe $\\left[  d \\theta,  d \\phi \\right]$."
      ],
      "text/plain": [
       "<IPython.core.display.Latex object>"
      ]
     },
     "metadata": {},
     "output_type": "display_data"
    },
    {
     "data": {
      "text/latex": [
       "It's codomain has the frame $\\left[ \\frac{\\partial}{\\partial x}, \\frac{\\partial}{\\partial y}, \\frac{\\partial}{\\partial z} \\right]$."
      ],
      "text/plain": [
       "<IPython.core.display.Latex object>"
      ]
     },
     "metadata": {},
     "output_type": "display_data"
    }
   ],
   "source": [
    "display_DGCV(f'The domain of our sphere_embedding map has a coframe ${LaTeX(sphere_embedding.domain_coframe)}$.')\n",
    "display_DGCV(f'It\\'s codomain has the frame ${LaTeX(sphere_embedding.range_frame)}$.')"
   ]
  },
  {
   "cell_type": "markdown",
   "metadata": {},
   "source": [
    "Use the `JacobianMatrix` attribute to get a matrix representation of the differential. \n",
    "\n",
    "It is returned as a list of lists in a 2-d. array shape (which is choice made throughout DGCV to default to data storage structures with minimal computational overhead). Pass it to sympy.Matrix for convenient linear algebra tools."
   ]
  },
  {
   "cell_type": "code",
   "execution_count": 75,
   "metadata": {},
   "outputs": [
    {
     "data": {
      "text/latex": [
       "Here is a matrix representation of our embedding's differential: $$\\left[\\begin{matrix}r_{1} \\cos{\\left(\\phi \\right)} \\cos{\\left(\\theta \\right)} & - r_{1} \\sin{\\left(\\phi \\right)} \\sin{\\left(\\theta \\right)}\\\\r_{1} \\sin{\\left(\\phi \\right)} \\cos{\\left(\\theta \\right)} & r_{1} \\sin{\\left(\\theta \\right)} \\cos{\\left(\\phi \\right)}\\\\- r_{1} \\sin{\\left(\\theta \\right)} & 0\\end{matrix}\\right]:\\mathrm{span}\\left[ \\frac{\\partial}{\\partial \\theta}, \\frac{\\partial}{\\partial \\phi} \\right]\\to \\mathrm{span}\\left[ \\frac{\\partial}{\\partial x}, \\frac{\\partial}{\\partial y}, \\frac{\\partial}{\\partial z} \\right]$$"
      ],
      "text/plain": [
       "<IPython.core.display.Latex object>"
      ]
     },
     "metadata": {},
     "output_type": "display_data"
    }
   ],
   "source": [
    "jacobian = sphere_embedding.JacobianMatrix\n",
    "\n",
    "from sympy import Matrix\n",
    "jacobiMat=Matrix(jacobian)\n",
    "\n",
    "display_DGCV(f'Here is a matrix representation of our embedding\\'s differential: $${LaTeX(jacobiMat)}:\\\\mathrm{{span}}{LaTeX(sphere_embedding.domain_frame)}\\\\to \\\\mathrm{{span}}{LaTeX(sphere_embedding.range_frame)}$$')\n"
   ]
  },
  {
   "cell_type": "markdown",
   "metadata": {},
   "source": [
    "Use `metric_from_matrix` to set up a Euclidean metric on the $(x,y,z)$ coordinate space."
   ]
  },
  {
   "cell_type": "code",
   "execution_count": 76,
   "metadata": {},
   "outputs": [
    {
     "data": {
      "image/png": "[encoded data removed]",
      "text/latex": [
       "$d x \\odot d x + d y \\odot d y + d z \\odot d z$"
      ],
      "text/plain": [
       "d_x d_x+d_y d_y+d_z d_z"
      ]
     },
     "metadata": {},
     "output_type": "display_data"
    }
   ],
   "source": [
    "EuclideanMetric = metric_from_matrix((x,y,z),[[1,0,0],[0,1,0],[0,0,1]])\n",
    "display_DGCV(EuclideanMetric)"
   ]
  },
  {
   "cell_type": "markdown",
   "metadata": {},
   "source": [
    "Use `pullback` to pull back the Euclidean metric along our immersion $\\mathrm{span}\\{\\theta,\\phi\\}\\to \\mathrm{span}\\{x,y,z\\}$ to the parameter space $\\mathrm{span}\\{\\theta,\\phi\\}$. Let's label the obtained metric on $\\mathrm{span}\\{\\theta,\\phi\\}$ as *g_sphere*."
   ]
  },
  {
   "cell_type": "code",
   "execution_count": 77,
   "metadata": {},
   "outputs": [
    {
     "data": {
      "image/png": "[encoded data removed]",
      "text/latex": [
       "$r_{1}^{2}d \\theta \\odot d \\theta + r_{1}^{2} \\sin^{2}{\\left(\\theta \\right)}d \\phi \\odot d \\phi$"
      ],
      "text/plain": [
       "r1**2*d_theta d_theta+r1**2*sin(theta)**2*d_phi d_phi"
      ]
     },
     "metadata": {},
     "output_type": "display_data"
    }
   ],
   "source": [
    "g_sphere = simplify(sphere_embedding.pull_back(EuclideanMetric))\n",
    "display_DGCV(g_sphere)"
   ]
  },
  {
   "cell_type": "markdown",
   "metadata": {},
   "source": [
    "The metric's `sectionalCurvature()` class method applied to a basis will give us the Gaussian curvature."
   ]
  },
  {
   "cell_type": "code",
   "execution_count": 78,
   "metadata": {},
   "outputs": [
    {
     "data": {
      "text/latex": [
       "The Gaussian curvature at a point $(\\theta, \\phi)$ is $$\\mathrm{Gauss}_{\\mathrm{sphere}}=\\mathrm{sec}_{g}\\left(\\frac{\\partial}{\\partial \\theta},\\frac{\\partial}{\\partial \\phi}\\right)=\\frac{1}{r_{1}^{2}},$$ that is, the Gaussian curvature of spheres is constant and inversly proportional to the square of their radii."
      ],
      "text/plain": [
       "<IPython.core.display.Latex object>"
      ]
     },
     "metadata": {},
     "output_type": "display_data"
    }
   ],
   "source": [
    "sec_curv_sphere = simplify(g_sphere.sectionalCurvature(D_theta,D_phi))\n",
    "display_DGCV(f'The Gaussian curvature at a point $(\\\\theta, \\\\phi)$ is $$\\\\mathrm{{Gauss}}_{{\\\\mathrm{{sphere}}}}=\\\\mathrm{{sec}}_{{g}}\\\\left({LaTeX(D_theta)},{LaTeX(D_phi)}\\\\right)={LaTeX(sec_curv_sphere)},$$ that is, the Gaussian curvature of spheres is constant and inversly proportional to the square of their radii.')"
   ]
  },
  {
   "cell_type": "markdown",
   "metadata": {},
   "source": [
    "Having examined the pieces of that computation, let's repeat it for Dini's surfaces, another classical example of constant curvature surfaces."
   ]
  },
  {
   "cell_type": "code",
   "execution_count": 79,
   "metadata": {},
   "outputs": [
    {
     "data": {
      "text/latex": [
       "Dini's surfaces are described by the immersions $\\left( \\theta, \\phi \\right)\\to \\left[ r_{1} \\sin{\\left(\\phi \\right)} \\cos{\\left(\\theta \\right)}, r_{1} \\sin{\\left(\\phi \\right)} \\sin{\\left(\\theta \\right)}, r_{1} \\left(\\log{\\left(\\tan{\\left(\\frac{\\phi}{2} \\right)} \\right)} + \\cos{\\left(\\phi \\right)}\\right) + r_{2} \\theta \\right]\\in \\mathrm{span}\\{\\left( x, y, z \\right)\\}$ with parameters $r_1$ and $r_2$."
      ],
      "text/plain": [
       "<IPython.core.display.Latex object>"
      ]
     },
     "metadata": {},
     "output_type": "display_data"
    }
   ],
   "source": [
    "coor1 = r1*cos(theta)*sin(phi) # coordinate components of our map\n",
    "coor2 = r1*sin(theta)*sin(phi)\n",
    "coor3 = r1*(cos(phi)+ln(tan(phi/2)))+r2*theta\n",
    "Dini_surface_embedding = coordinate_map((theta, phi),(x, y, z), (coor1,coor2,coor3)) # set's up a mapping between coordinate spaces (rho, theta) and (x, y, z).\n",
    "display_DGCV(f'Dini\\'s surfaces are described by the immersions ${LaTeX(Dini_surface_embedding.domain)}\\\\to {LaTeX(Dini_surface_embedding.coordinate_formulas)}\\\\in \\\\mathrm{{span}}\\\\{{{LaTeX(Dini_surface_embedding.range)}\\\\}}$ with parameters $r_1$ and $r_2$.')"
   ]
  },
  {
   "cell_type": "code",
   "execution_count": 80,
   "metadata": {},
   "outputs": [
    {
     "data": {
      "text/latex": [
       "For each $(r_1,r_2)\\neq 0$, the Gaussian curvature for \"Dini_surface_embedding\" at a point $(\\theta, \\phi)$ is $$\\mathrm{Gauss}_{\\mathrm{Dini}}=\\mathrm{sec}_{g}\\left(\\frac{\\partial}{\\partial \\theta},\\frac{\\partial}{\\partial \\phi}\\right)=- \\frac{1}{r_{1}^{2} + r_{2}^{2}},$$ constant and negative in particular, so the structure is hyperbolic."
      ],
      "text/plain": [
       "<IPython.core.display.Latex object>"
      ]
     },
     "metadata": {},
     "output_type": "display_data"
    }
   ],
   "source": [
    "g_Dini = simplify(Dini_surface_embedding.pull_back(EuclideanMetric))\n",
    "sec_curv_Dini = simplify(g_Dini.sectionalCurvature(D_theta,D_phi))\n",
    "display_DGCV(f'For each $(r_1,r_2)\\\\neq 0$, the Gaussian curvature for \"Dini_surface_embedding\" at a point $(\\\\theta, \\\\phi)$ is $$\\\\mathrm{{Gauss}}_{{\\\\mathrm{{Dini}}}}=\\\\mathrm{{sec}}_{{g}}\\\\left({LaTeX(D_theta)},{LaTeX(D_phi)}\\\\right)={LaTeX(sec_curv_Dini)},$$ constant and negative in particular, so the structure is hyperbolic.')"
   ]
  },
  {
   "cell_type": "markdown",
   "metadata": {},
   "source": [
    "That was this intro's last example. DGCV is a work in progress and there are bound to be errors. Please contact (David Sykes, sykes@ibs.re.kr) if you find any, or have more general interest in contributing to the project. "
   ]
  },
  {
   "cell_type": "markdown",
   "metadata": {},
   "source": [
    "## This section is a free section delimited for experiments\n",
    "\n",
    "###### If you have run this entire notebook, consider *clearing all outputs* before continuing with experiments, as the the various rendered latex displays can weigh down computing performance since they dynamically render as the notebook is edited."
   ]
  },
  {
   "cell_type": "code",
   "execution_count": null,
   "metadata": {},
   "outputs": [],
   "source": []
  }
 ],
 "metadata": {
  "kernelspec": {
   "display_name": "environments",
   "language": "python",
   "name": "python3"
  },
  "language_info": {
   "codemirror_mode": {
    "name": "ipython",
    "version": 3
   },
   "file_extension": ".py",
   "mimetype": "text/x-python",
   "name": "python",
   "nbconvert_exporter": "python",
   "pygments_lexer": "ipython3",
   "version": "3.12.4"
  }
 },
 "nbformat": 4,
 "nbformat_minor": 4
}
