{
 "cells": [
  {
   "cell_type": "markdown",
   "metadata": {},
   "source": [
    "# Notebook Companion for  \n",
    "<div align=\"center\">\n",
    "    <em>Pre-Kähler Structures and Finite-Nondegeneracy</em>  \n",
    "    <br>  \n",
    "    <strong>Omid Makhmali and David Sykes</strong>  \n",
    "</div>\n",
    "\n",
    "---\n",
    "\n",
    "This notebook accompanies **Section 3** of the article\n",
    "\n",
    "> **Makhmali, O. and Sykes, D.**  \n",
    "> *Pre-Kähler Structures and Finite-Nondegeneracy*  \n",
    "\n",
    "presenting a Computer Algebra System (CAS) implementation of the section's Cartan equivalence method and related computations."
   ]
  },
  {
   "cell_type": "markdown",
   "metadata": {},
   "source": [
    "## Preamble\n",
    "###### i.e., preliminary code to set up the notebook environment (requires dgcv version >= v0.3.2 and SymPy)"
   ]
  },
  {
   "cell_type": "code",
   "execution_count": null,
   "metadata": {},
   "outputs": [],
   "source": [
    "from dgcv import *          # This imports the full standard `dgcv` library\n",
    "import sympy as sp          # This gives access to the `sympy` library by calling sympy functions with the prefix `sp.`\n",
    "set_dgcv_settings(format_displays=True, use_latex=True, version_specific_defaults='v0.3.2')     # This sets various default behaviors for `dgcv` functions and Jupyter notebook formatting"
   ]
  },
  {
   "cell_type": "markdown",
   "metadata": {},
   "source": [
    "# Section 3.1: The structure bundle"
   ]
  },
  {
   "cell_type": "markdown",
   "metadata": {},
   "source": [
    "Consider a coframe $(\\theta^1,\\theta^2,\\overline{\\theta^1},\\overline{\\theta^2})$ on a neighborhood of $0$ in $\\mathbb{C}^2$ satisfying \n",
    "$$\n",
    "\\operatorname{d}\\theta^1 \\equiv \\overline{\\theta^1}\\wedge \\theta^2\\pmod{\\theta^1}\n",
    "$$\n",
    "with $\\theta^1,\\theta^2$ type $(1,0)$ forms, i.e., a 1-*adapted* coframe in the terminology of Section 3.1. Accordingly,\n",
    "$$\n",
    "\\operatorname{d}\\theta^1 = \\overline{\\theta^1}\\wedge \\theta^2 + A_{12}^1\\theta^1\\wedge \\theta^2 + A_{1\\overline{1}}^1\\overline{\\theta^1}\\wedge \\theta^1 + A_{2\\overline{1}}^1\\theta^2\\wedge \\overline{\\theta^1} + A_{2\\overline{2}}^1\\theta^2\\wedge \\overline{\\theta^2}\n",
    "$$\n",
    "and\n",
    "$$\n",
    "\\operatorname{d}\\theta^2 = A_{21}^1\\theta^2\\wedge \\theta^2 + A_{i\\overline{j}}^2\\theta^i\\wedge \\overline{\\theta^j}.\n",
    "$$\n"
   ]
  },
  {
   "cell_type": "markdown",
   "metadata": {},
   "source": [
    "## Initializing a *1-adapted* coframe\n",
    "\n",
    "Let us set up a coframe $(\\theta^1,\\theta^2,\\overline{\\theta^1},\\overline{\\theta^2})$, with $\\theta^j$ representing forms as above."
   ]
  },
  {
   "cell_type": "code",
   "execution_count": 2,
   "metadata": {},
   "outputs": [
    {
     "data": {
      "text/latex": [
       "We just initialized an abstract coframe (labeled `CF`) with basis 1-forms $\\{\\theta^{1}, \\theta^{2}, \\overline{\\theta}^{1}, \\overline{\\theta}^{2}\\}$ and structure coefficients $$\\left( A^{1}_{1,2}, A^{2}_{1,2}, A^{1}_{1,\\overline{1}}, A^{2}_{1,\\overline{1}}, A^{1}_{1,\\overline{2}}, A^{2}_{1,\\overline{2}}, A^{1}_{2,\\overline{1}}, A^{2}_{2,\\overline{1}}, A^{1}_{2,\\overline{2}}, A^{2}_{2,\\overline{2}} \\right).$$"
      ],
      "text/plain": [
       "<IPython.core.display.Latex object>"
      ]
     },
     "metadata": {},
     "output_type": "display_data"
    }
   ],
   "source": [
    "coframe_labels = ['theta1','theta2']\n",
    "property_markers = {'theta1':{'holomorphic'},'theta2':{'holomorphic'}}\n",
    "createCoframe('CF',coframe_labels,str_eqns_labels='A',complete_to_complex_cf=True,markers=property_markers,integrable_complex_struct=True)\n",
    "\n",
    "show(f'We just initialized an abstract coframe (labeled `CF`) with basis 1-forms ${LaTeX(CF)}$ and structure coefficients $${LaTeX(A)}.$$')"
   ]
  },
  {
   "cell_type": "code",
   "execution_count": 3,
   "metadata": {},
   "outputs": [
    {
     "data": {
      "text/latex": [
       "On coframe initialization, we applied some assumptions about which basis forms should be handled as holomorphic by setting `markers`. The optional `integrable_complex_struct=True` keyword intsructs the automated initialization to simplify structure equations under the assumption that the underlying complex structure w.r.t. which holomorphic $1$-forms are distinguished is integrable. The simplified structure equations are $$\\operatorname{d}\\theta^{1}=A^{1}_{1,2} \\cdot \\theta^{1} \\wedge \\theta^{2} + A^{1}_{1,\\overline{1}} \\cdot \\theta^{1} \\wedge \\overline{\\theta}^{1} + A^{1}_{1,\\overline{2}} \\cdot \\theta^{1} \\wedge \\overline{\\theta}^{2} + A^{1}_{2,\\overline{1}} \\cdot \\theta^{2} \\wedge \\overline{\\theta}^{1} + A^{1}_{2,\\overline{2}} \\cdot \\theta^{2} \\wedge \\overline{\\theta}^{2},$$ $$ \\operatorname{d}\\theta^{2}=A^{2}_{1,2} \\cdot \\theta^{1} \\wedge \\theta^{2} + A^{2}_{1,\\overline{1}} \\cdot \\theta^{1} \\wedge \\overline{\\theta}^{1} + A^{2}_{1,\\overline{2}} \\cdot \\theta^{1} \\wedge \\overline{\\theta}^{2} + A^{2}_{2,\\overline{1}} \\cdot \\theta^{2} \\wedge \\overline{\\theta}^{1} + A^{2}_{2,\\overline{2}} \\cdot \\theta^{2} \\wedge \\overline{\\theta}^{2},$$ $$ \\operatorname{d}\\overline{\\theta}^{1}=- {\\overline{A^{1}_{2,\\overline{2}}}} \\cdot \\theta^{2} \\wedge \\overline{\\theta}^{2} -  {\\overline{A^{1}_{2,\\overline{1}}}} \\cdot \\theta^{1} \\wedge \\overline{\\theta}^{2} -  {\\overline{A^{1}_{1,\\overline{2}}}} \\cdot \\theta^{2} \\wedge \\overline{\\theta}^{1} -  {\\overline{A^{1}_{1,\\overline{1}}}} \\cdot \\theta^{1} \\wedge \\overline{\\theta}^{1} + \\overline{A^{1}_{1,2}} \\cdot \\overline{\\theta}^{1} \\wedge \\overline{\\theta}^{2},$$ and $$\\operatorname{d}\\overline{\\theta}^{2}=- {\\overline{A^{2}_{2,\\overline{2}}}} \\cdot \\theta^{2} \\wedge \\overline{\\theta}^{2} -  {\\overline{A^{2}_{2,\\overline{1}}}} \\cdot \\theta^{1} \\wedge \\overline{\\theta}^{2} -  {\\overline{A^{2}_{1,\\overline{2}}}} \\cdot \\theta^{2} \\wedge \\overline{\\theta}^{1} -  {\\overline{A^{2}_{1,\\overline{1}}}} \\cdot \\theta^{1} \\wedge \\overline{\\theta}^{1} + \\overline{A^{2}_{1,2}} \\cdot \\overline{\\theta}^{1} \\wedge \\overline{\\theta}^{2}.$$"
      ],
      "text/plain": [
       "<IPython.core.display.Latex object>"
      ]
     },
     "metadata": {},
     "output_type": "display_data"
    }
   ],
   "source": [
    "show(f'On coframe initialization, we applied some assumptions about which basis forms should be handled as holomorphic by setting `markers`. The optional `integrable_complex_struct=True` keyword intsructs the automated initialization to simplify structure equations under the assumption that the underlying complex structure w.r.t. which holomorphic $1$-forms are distinguished is integrable. The simplified structure equations are {LaTeX_eqn_system(CF.structure_equations,left_prefix=r'\\operatorname{d}',add_period=True)}')"
   ]
  },
  {
   "cell_type": "markdown",
   "metadata": {},
   "source": [
    "Now let's replace some of the general $A_{i\\bar{j}}^k$ functions with the corresponding coefficient in\n",
    "$$\n",
    "\\operatorname{d}\\theta^1 = \\overline{\\theta^1}\\wedge \\theta^2 + A_{12}^1\\theta^1\\wedge \\theta^2 + A_{1\\overline{1}}^1\\theta^1\\wedge \\overline{\\theta^1} + A_{1\\overline{2}}^1\\theta^1\\wedge \\overline{\\theta^2} + A_{2\\overline{2}}^1\\theta^2\\wedge \\overline{\\theta^2}\n",
    "$$\n",
    "and\n",
    "$$\n",
    "\\operatorname{d}\\theta^2 = A_{12}^2\\theta^1\\wedge \\theta^2 + A_{i\\overline{j}}^2\\theta^i\\wedge \\overline{\\theta^j}.\n",
    "$$\n",
    "Internally, $A_{ij}^k$ are assigned string labels of the form `A_low_i_j_hi_k`, and we will target such labels for replacement. \n",
    "\n",
    "To replace, we will define a replacement rules dictionary and then pass that to the coframe method `CF.update_structure_equations()`."
   ]
  },
  {
   "cell_type": "code",
   "execution_count": 4,
   "metadata": {},
   "outputs": [],
   "source": [
    "subs_rules = {\n",
    "    A_low_2_3_hi_1:-1\n",
    "    }\n",
    "subs_rules_conjugated = {sp.conjugate(k):sp.conjugate(v) for k,v in subs_rules.items()}\n",
    "CF.update_structure_equations(subs_rules|subs_rules_conjugated)"
   ]
  },
  {
   "cell_type": "markdown",
   "metadata": {},
   "source": [
    "To test that the coframe `CF` updated correctly, we can take the exterior derivatives of coframe elements using `extDer(,CF)`:"
   ]
  },
  {
   "cell_type": "code",
   "execution_count": 5,
   "metadata": {},
   "outputs": [
    {
     "data": {
      "text/latex": [
       "For example, $$\\operatorname{d}\\theta^1 = A^{1}_{2,\\overline{2}} \\cdot \\theta^{2} \\wedge \\overline{\\theta}^{2} - \\theta^{2} \\wedge \\overline{\\theta}^{1} + A^{1}_{1,\\overline{2}} \\cdot \\theta^{1} \\wedge \\overline{\\theta}^{2} + A^{1}_{1,\\overline{1}} \\cdot \\theta^{1} \\wedge \\overline{\\theta}^{1} + A^{1}_{1,2} \\cdot \\theta^{1} \\wedge \\theta^{2}$$ and $$\\operatorname{d}\\theta^2 = A^{2}_{2,\\overline{2}} \\cdot \\theta^{2} \\wedge \\overline{\\theta}^{2} + A^{2}_{2,\\overline{1}} \\cdot \\theta^{2} \\wedge \\overline{\\theta}^{1} + A^{2}_{1,\\overline{2}} \\cdot \\theta^{1} \\wedge \\overline{\\theta}^{2} + A^{2}_{1,\\overline{1}} \\cdot \\theta^{1} \\wedge \\overline{\\theta}^{1} + A^{2}_{1,2} \\cdot \\theta^{1} \\wedge \\theta^{2}.$$"
      ],
      "text/plain": [
       "<IPython.core.display.Latex object>"
      ]
     },
     "metadata": {},
     "output_type": "display_data"
    }
   ],
   "source": [
    "show(f'For example, $$\\\\operatorname{{d}}\\\\theta^1 = {LaTeX(extDer(theta1,CF))}$$ and $$\\\\operatorname{{d}}\\\\theta^2 = {LaTeX(extDer(theta2,CF))}.$$')"
   ]
  },
  {
   "cell_type": "markdown",
   "metadata": {},
   "source": [
    "Use `*` to compute wedge products. For example,\n",
    "$$\n",
    "\\omega = \\theta^1\\wedge \\overline{\\theta^1}\n",
    "$$\n",
    "is computed by `theta1 * BARtheta1`."
   ]
  },
  {
   "cell_type": "code",
   "execution_count": 6,
   "metadata": {},
   "outputs": [
    {
     "data": {
      "text/latex": [
       "We have $$\\omega = \\theta^{1} \\wedge \\overline{\\theta}^{1}$$ and $$\\operatorname{d}\\omega = \\overline{A^{1}_{2,\\overline{2}}} \\cdot \\theta^{1} \\wedge \\theta^{2} \\wedge \\overline{\\theta}^{2} -  {A^{1}_{2,\\overline{2}}} \\cdot \\theta^{2} \\wedge \\overline{\\theta}^{1} \\wedge \\overline{\\theta}^{2} + \\left({- {\\overline{A^{1}_{1,2}}}} -{ {A^{1}_{1,\\overline{2}}}}\\right) \\cdot \\theta^{1} \\wedge \\overline{\\theta}^{1} \\wedge \\overline{\\theta}^{2} + \\left({\\overline{A^{1}_{1,\\overline{2}}}} + {A^{1}_{1,2}}\\right) \\cdot \\theta^{1} \\wedge \\theta^{2} \\wedge \\overline{\\theta}^{1}$$"
      ],
      "text/plain": [
       "<IPython.core.display.Latex object>"
      ]
     },
     "metadata": {},
     "output_type": "display_data"
    }
   ],
   "source": [
    "omega = theta1 * BARtheta1\n",
    "dOmega = extDer(omega,CF)\n",
    "\n",
    "show(f'We have $$\\\\omega = {LaTeX(omega)}$$ and $$\\\\operatorname{{d}}\\\\omega = {LaTeX(dOmega)}$$')"
   ]
  },
  {
   "cell_type": "markdown",
   "metadata": {},
   "source": [
    "## Adapting the coframe: *2-adapted* coframes (Section 3.1.3)"
   ]
  },
  {
   "cell_type": "markdown",
   "metadata": {},
   "source": [
    "With the above expression for $\\operatorname{d}\\omega$, setting $\\operatorname{d}\\omega = 0$ yields,\n",
    "$$\n",
    "A_{1\\bar{2}}^1=-\\overline{A_{12}^1}\n",
    "\\quad\\text{ and }\\quad\n",
    "A_{2\\bar{2}}^1=0.\n",
    "$$\n",
    "\n",
    "Let's update the structure equations for `C` accordingly:"
   ]
  },
  {
   "cell_type": "code",
   "execution_count": 7,
   "metadata": {},
   "outputs": [],
   "source": [
    "subs_rules = {A_low_1_4_hi_1:-sp.conjugate(A_low_1_2_hi_1),A_low_2_4_hi_1:0}\n",
    "subs_rules_conjugated = {sp.conjugate(k):sp.conjugate(v) for k,v in subs_rules.items()}\n",
    "CF.update_structure_equations(subs_rules|subs_rules_conjugated)"
   ]
  },
  {
   "cell_type": "markdown",
   "metadata": {},
   "source": [
    "Recomputing $\\omega$ now will yield $\\operatorname{d}\\omega=0$"
   ]
  },
  {
   "cell_type": "code",
   "execution_count": 8,
   "metadata": {},
   "outputs": [
    {
     "data": {
      "text/latex": [
       "With the simplification $$\\operatorname{d}\\theta^1 = A^{1}_{1,2} \\cdot \\theta^{1} \\wedge \\theta^{2} + A^{1}_{1,\\overline{1}} \\cdot \\theta^{1} \\wedge \\overline{\\theta}^{1} -  {\\overline{A^{1}_{1,2}}} \\cdot \\theta^{1} \\wedge \\overline{\\theta}^{2} - \\theta^{2} \\wedge \\overline{\\theta}^{1}$$ and still $$\\omega = \\theta^{1} \\wedge \\overline{\\theta}^{1},$$ we get $$\\operatorname{d}\\omega = 0.$$"
      ],
      "text/plain": [
       "<IPython.core.display.Latex object>"
      ]
     },
     "metadata": {},
     "output_type": "display_data"
    }
   ],
   "source": [
    "omega = theta1 * BARtheta1\n",
    "dOmega = sp.simplify(extDer(omega,CF))\n",
    "show(f'With the simplification $$\\\\operatorname{{d}}\\\\theta^1 = {LaTeX(extDer(theta1,CF))}$$ and still $$\\\\omega = {LaTeX(omega)},$$ we get $$\\\\operatorname{{d}}\\\\omega = {LaTeX(dOmega)}.$$')"
   ]
  },
  {
   "cell_type": "markdown",
   "metadata": {},
   "source": [
    "Our next relation comes from $\\operatorname{d}^2\\theta^1=0$."
   ]
  },
  {
   "cell_type": "code",
   "execution_count": 9,
   "metadata": {},
   "outputs": [
    {
     "data": {
      "text/latex": [
       "We have $$0=(\\operatorname{d}^2\\theta^1)\\wedge\\theta^1=- \\left({{A^{2}_{2,\\overline{2}}} + {2 {\\overline{A^{1}_{1,2}}}}}\\right) \\cdot \\theta^{1} \\wedge \\theta^{2} \\wedge \\overline{\\theta}^{1} \\wedge \\overline{\\theta}^{2}.$$ Therefore, $$A^{2}_{2,\\overline{2}}=-2 {\\overline{A^{1}_{1,2}}}.$$"
      ],
      "text/plain": [
       "<IPython.core.display.Latex object>"
      ]
     },
     "metadata": {},
     "output_type": "display_data"
    }
   ],
   "source": [
    "diff_form = extDer(theta1,CF,order=2)*theta1\n",
    "solution_when_set_to_zero = solve_dgcv(extDer(theta1,CF,order=2)*theta1,A_low_2_4_hi_2)[0]\n",
    "show(f'We have $$0=(\\\\operatorname{{d}}^2\\\\theta^1)\\\\wedge\\\\theta^1={LaTeX(diff_form)}.$$ Therefore, {LaTeX_eqn_system(solution_when_set_to_zero,add_period=True)}')"
   ]
  },
  {
   "cell_type": "markdown",
   "metadata": {},
   "source": [
    "Let's update the structure equations for `CF` accordingly, i.e., with $A_{2\\bar{2}}^2=-2\\overline{A_{12}^1}$:"
   ]
  },
  {
   "cell_type": "code",
   "execution_count": 10,
   "metadata": {},
   "outputs": [
    {
     "data": {
      "text/latex": [
       "Now that we updated the structure equations, direct computation yields $$\\operatorname{d}^2\\theta^1=\\left(-1 + {A^{1}_{1,2;\\overline{2}}} + {4 {A^{1}_{1,2}} {\\overline{A^{1}_{1,2}}}} + {{A^{1}_{1,2}} {\\overline{A^{1}_{1,2}}}} -{ {A^{1}_{1,2}} {\\overline{A^{1}_{1,2}}}} -{ \\left({- {\\smash{\\overline{A^{1}_{1,2\\vphantom{;2}}}}\\vphantom{A}^{\\vphantom{1}}_{\\vphantom{1,2};2}}}\\right)}\\right) \\cdot \\theta^{1} \\wedge \\theta^{2} \\wedge \\overline{\\theta}^{2} + \\left({A^{1}_{1,\\overline{1};\\overline{2}}} + {A^{2}_{1,\\overline{2}}} -{2 {A^{1}_{1,\\overline{1}}} {\\overline{A^{1}_{1,2}}}} + {{A^{1}_{1,\\overline{1}}} {\\overline{A^{1}_{1,2}}}} + {{\\overline{A^{1}_{1,2}}} {\\overline{A^{2}_{1,2}}}} -{ \\left({- {\\smash{\\overline{A^{1}_{1,2\\vphantom{;\\overline{1}}}}}\\vphantom{A}^{\\vphantom{1}}_{\\vphantom{1,2};\\overline{1}}}}\\right)}\\right) \\cdot \\theta^{1} \\wedge \\overline{\\theta}^{1} \\wedge \\overline{\\theta}^{2} + \\left({A^{1}_{1,2;\\overline{1}}} + {\\overline{A^{1}_{1,\\overline{1}}}} -{ {A^{1}_{1,2}} {A^{2}_{2,\\overline{1}}}} -{2 {A^{1}_{1,2}} {A^{1}_{1,\\overline{1}}}} + {{A^{1}_{1,2}} {A^{1}_{1,\\overline{1}}}} -{ {A^{1}_{1,\\overline{1};2}}} -{ {\\overline{A^{1}_{1,2}}} {\\overline{A^{2}_{1,\\overline{2}}}}} -{ {A^{2}_{1,2}}}\\right) \\cdot \\theta^{1} \\wedge \\theta^{2} \\wedge \\overline{\\theta}^{1}$$ and $$(\\operatorname{d}^2\\theta^1)\\wedge\\theta^1=0.$$"
      ],
      "text/plain": [
       "<IPython.core.display.Latex object>"
      ]
     },
     "metadata": {},
     "output_type": "display_data"
    }
   ],
   "source": [
    "subs_rules = solution_when_set_to_zero      # reusing the solution computed above\n",
    "subs_rules_conjugated = {sp.conjugate(k):sp.conjugate(v) for k,v in subs_rules.items()}\n",
    "CF.update_structure_equations(subs_rules|subs_rules_conjugated)\n",
    "show(f'Now that we updated the structure equations, direct computation yields $$\\\\operatorname{{d}}^2\\\\theta^1={LaTeX(extDer(theta1,CF,order=2))}$$ and $$(\\\\operatorname{{d}}^2\\\\theta^1)\\\\wedge\\\\theta^1={LaTeX(extDer(theta1,CF,order=2)*theta1)}.$$')"
   ]
  },
  {
   "cell_type": "markdown",
   "metadata": {},
   "source": [
    "Next let's note a PDE coming from $\\operatorname{d}^2\\theta^1 =0$ and $\\operatorname{d}^2\\theta^2 =0$:"
   ]
  },
  {
   "cell_type": "code",
   "execution_count": 11,
   "metadata": {},
   "outputs": [
    {
     "data": {
      "text/latex": [
       "We have $$0=(\\operatorname{d}^2\\theta^1)\\wedge\\theta^2=\\left({A^{1}_{1,\\overline{1};\\overline{2}}} + {A^{2}_{1,\\overline{2}}} -{2 {A^{1}_{1,\\overline{1}}} {\\overline{A^{1}_{1,2}}}} + {{A^{1}_{1,\\overline{1}}} {\\overline{A^{1}_{1,2}}}} + {{\\overline{A^{1}_{1,2}}} {\\overline{A^{2}_{1,2}}}} -{ \\left({- {\\smash{\\overline{A^{1}_{1,2\\vphantom{;\\overline{1}}}}}\\vphantom{A}^{\\vphantom{1}}_{\\vphantom{1,2};\\overline{1}}}}\\right)}\\right) \\cdot \\theta^{1} \\wedge \\theta^{2} \\wedge \\overline{\\theta}^{1} \\wedge \\overline{\\theta}^{2}$$ and $$0=(\\operatorname{d}^2\\theta^2)\\wedge\\theta^1=- \\left({{A^{2}_{2,\\overline{1};\\overline{2}}} -{ {A^{2}_{1,\\overline{2}}}} -{ {A^{2}_{2,\\overline{1}}} {\\overline{A^{1}_{1,2}}}} + {2 {A^{2}_{2,\\overline{1}}} {\\overline{A^{1}_{1,2}}}} + {2 {\\overline{A^{1}_{1,2}}} {\\overline{A^{2}_{1,2}}}} -{2 {A^{2}_{2,\\overline{1}}} {\\overline{A^{1}_{1,2}}}} -{ \\left({-2 {\\smash{\\overline{A^{1}_{1,2\\vphantom{;\\overline{1}}}}}\\vphantom{A}^{\\vphantom{1}}_{\\vphantom{1,2};\\overline{1}}}}\\right)}}\\right) \\cdot \\theta^{1} \\wedge \\theta^{2} \\wedge \\overline{\\theta}^{1} \\wedge \\overline{\\theta}^{2}.$$"
      ],
      "text/plain": [
       "<IPython.core.display.Latex object>"
      ]
     },
     "metadata": {},
     "output_type": "display_data"
    },
    {
     "data": {
      "text/latex": [
       "Combining these yields $$0=2(\\operatorname{d}^2\\theta^1)\\wedge\\theta^2 + (\\operatorname{d}^2\\theta^2)\\wedge\\theta^1=\\left({- {A^{2}_{2,\\overline{1};\\overline{2}}}} + {2 {A^{1}_{1,\\overline{1};\\overline{2}}}} + {3 {A^{2}_{1,\\overline{2}}}} + {{A^{2}_{2,\\overline{1}}} {\\overline{A^{1}_{1,2}}}} -{2 {A^{1}_{1,\\overline{1}}} {\\overline{A^{1}_{1,2}}}}\\right) \\cdot \\theta^{1} \\wedge \\theta^{2} \\wedge \\overline{\\theta}^{1} \\wedge \\overline{\\theta}^{2}.$$"
      ],
      "text/plain": [
       "<IPython.core.display.Latex object>"
      ]
     },
     "metadata": {},
     "output_type": "display_data"
    }
   ],
   "source": [
    "formula1 = extDer(theta1,CF,order=2)*theta2\n",
    "formula2 = extDer(theta2,CF,order=2)*theta1\n",
    "PDE_formula = sp.simplify(2*formula1 + formula2)\n",
    "show(f'We have $$0=(\\\\operatorname{{d}}^2\\\\theta^1)\\\\wedge\\\\theta^2={LaTeX(formula1)}$$ and $$0=(\\\\operatorname{{d}}^2\\\\theta^2)\\\\wedge\\\\theta^1={LaTeX(formula2)}.$$')\n",
    "show(f'Combining these yields $$0=2(\\\\operatorname{{d}}^2\\\\theta^1)\\\\wedge\\\\theta^2 + (\\\\operatorname{{d}}^2\\\\theta^2)\\\\wedge\\\\theta^1={LaTeX(PDE_formula)}.$$')"
   ]
  },
  {
   "cell_type": "markdown",
   "metadata": {},
   "source": [
    "Therefore,\n",
    "$$\n",
    "{A_{2,\\bar1;\\bar2}^{2}}-2{A_{1,\\bar1;\\bar2}^{1}}=3{A_{1,\\bar2}^{2}} - {\\bar{A}_{1,2}^{1}}\n",
    "\\left({A_{2,\\bar1}^{2}} - 2  {A_{1,\\bar1}^{1}}\\right).\n",
    "$$"
   ]
  },
  {
   "cell_type": "markdown",
   "metadata": {},
   "source": [
    "To apply the PDE condition later on, let's use `solve_dgcv` to obtain and store the solution w.r.t. a specified variable for use later on. Then later when we want to apply the PDE constraint, we then simply substitute the stored solution into relevant expressions.\n",
    "\n",
    "The variable w.r.t. which we would like to solve is a coframe derivative of $A_{2\\bar{1}}^2$, so we will use the `coframe_derivative` function to specify such a variable and hand it to the `solve_dgcv` function. "
   ]
  },
  {
   "cell_type": "code",
   "execution_count": 12,
   "metadata": {},
   "outputs": [
    {
     "data": {
      "text/latex": [
       "We just computed the solution $$\\text{PDE\\_solution[0]}=\\left\\{ A^{2}_{2,\\overline{1};\\overline{2}} : {2 {A^{1}_{1,\\overline{1};\\overline{2}}}} + {3 {A^{2}_{1,\\overline{2}}}} + {{A^{2}_{2,\\overline{1}}} {\\overline{A^{1}_{1,2}}}} -{2 {A^{1}_{1,\\overline{1}}} {\\overline{A^{1}_{1,2}}}}\\right\\}$$ and stored it in the solution list `PDE_solution`."
      ],
      "text/plain": [
       "<IPython.core.display.Latex object>"
      ]
     },
     "metadata": {},
     "output_type": "display_data"
    }
   ],
   "source": [
    "solve_var = coframe_derivative(A_low_2_3_hi_2,CF,3)\n",
    "PDE_solution = solve_dgcv(PDE_formula,solve_var)\n",
    "show(f'We just computed the solution $$\\\\text{{PDE\\\\_solution[0]}}={LaTeX(PDE_solution[0])}$$ and stored it in the solution list `PDE_solution`.')"
   ]
  },
  {
   "cell_type": "markdown",
   "metadata": {},
   "source": [
    "## Adapting the coframe: *3-adapted* coframes (Section 3.1.4)"
   ]
  },
  {
   "cell_type": "markdown",
   "metadata": {},
   "source": [
    "Let's compute how the coframe `CF` and its structure equations transform under\n",
    "$$\n",
    "\\theta^2\\mapsto \\theta^2 + \\frac{1}{3}\\left(A_{2,\\bar 1}^{2}-2A_{1,\\bar 1}^{1}\\right)\\theta^1,\n",
    "$$\n",
    "to see that this indeed achieves Section 3.1.4's 3-*adapted* property."
   ]
  },
  {
   "cell_type": "code",
   "execution_count": 13,
   "metadata": {},
   "outputs": [
    {
     "data": {
      "text/latex": [
       "We just applied the coframe transformations replacing $$\\theta^{2}\\mapsto\\theta^{2} + \\left({- \\frac{2}{3} {A^{1}_{1,\\overline{1}}}} + {\\frac{1}{3} {A^{2}_{2,\\overline{1}}}}\\right) \\cdot \\theta^{1}\\quad\\text{ and }\\quad\\overline{\\theta}^{2}\\mapsto\\left({- \\frac{2}{3} {\\overline{A^{1}_{1,\\overline{1}}}}} + {\\frac{1}{3} {\\overline{A^{2}_{2,\\overline{1}}}}}\\right) \\cdot \\overline{\\theta}^{1} + \\overline{\\theta}^{2}$$ and labeled the new coframe `CF_adapted`. Next we will compute $\\operatorname{d}\\theta^2$ in the new coframe."
      ],
      "text/plain": [
       "<IPython.core.display.Latex object>"
      ]
     },
     "metadata": {},
     "output_type": "display_data"
    }
   ],
   "source": [
    "new_theta2 = sp.simplify(theta2+sp.Rational(1,3)*(A_low_2_3_hi_2-2*A_low_1_3_hi_1)*theta1)\n",
    "new_BARtheta2 = sp.conjugate(new_theta2)\n",
    "CF_adapted = transform_coframe(CF,{theta2:new_theta2,BARtheta2:new_BARtheta2},CF.forms)      # CF.forms as the 3rd arg will reuse the basis labels from CF\n",
    "show(f'We just applied the coframe transformations replacing $${LaTeX(theta2)}\\\\mapsto{LaTeX(new_theta2)}\\\\quad\\\\text{{ and }}\\\\quad{LaTeX(BARtheta2)}\\\\mapsto{LaTeX(new_BARtheta2)}$$ and labeled the new coframe `CF_adapted`. Next we will compute $\\\\operatorname{{d}}\\\\theta^2$ in the new coframe.')"
   ]
  },
  {
   "cell_type": "markdown",
   "metadata": {},
   "source": [
    "To compute $\\operatorname{d}\\theta^2$ in the new coframe we run `extDer(theta1,CF_adapted)`. The returned 2-form has a `subs` attribute that we can give `PDE_solution[0]`, which will simplify it under the previously derived PDE constraint."
   ]
  },
  {
   "cell_type": "code",
   "execution_count": 14,
   "metadata": {},
   "outputs": [
    {
     "data": {
      "text/latex": [
       "In the new coframe `CF_adapted`, we get $$\\operatorname{d}\\theta^2 = \\left({\\frac{2}{3} {A^{1}_{1,\\overline{1}}}} + {\\frac{2}{3} {A^{2}_{2,\\overline{1}}}} -{ \\frac{4}{3} {\\overline{A^{1}_{1,2}}} {\\overline{A^{1}_{1,\\overline{1}}}}} + {\\frac{2}{3} {\\overline{A^{1}_{1,2}}} {\\overline{A^{2}_{2,\\overline{1}}}}}\\right) \\cdot \\theta^{2} \\wedge \\overline{\\theta}^{1} + \\left({A^{2}_{1,\\overline{1}}} -{ \\frac{2}{9} {{A^{1}_{1,\\overline{1}}}^{2}}} -{ \\frac{2}{9} {{A^{2}_{2,\\overline{1}}}^{2}}} -{ \\frac{1}{3} {A^{2}_{2,\\overline{1};\\overline{1}}}} + {\\frac{2}{3} {A^{1}_{1,\\overline{1};\\overline{1}}}} -{ \\frac{2}{9} {A^{2}_{2,\\overline{1};\\overline{2}}} {\\overline{A^{1}_{1,\\overline{1}}}}} -{ \\frac{2}{9} {A^{1}_{1,\\overline{1};\\overline{2}}} {\\overline{A^{2}_{2,\\overline{1}}}}} -{ \\frac{1}{3} {A^{2}_{1,\\overline{2}}} {\\overline{A^{2}_{2,\\overline{1}}}}} + {\\frac{1}{9} {A^{2}_{2,\\overline{1};\\overline{2}}} {\\overline{A^{2}_{2,\\overline{1}}}}} + {\\frac{2}{3} {A^{2}_{1,\\overline{2}}} {\\overline{A^{1}_{1,\\overline{1}}}}} + {\\frac{4}{9} {A^{1}_{1,\\overline{1};\\overline{2}}} {\\overline{A^{1}_{1,\\overline{1}}}}} + {\\frac{5}{9} {A^{1}_{1,\\overline{1}}} {A^{2}_{2,\\overline{1}}}} -{ \\frac{4}{9} {A^{1}_{1,\\overline{1}}} {\\overline{A^{1}_{1,2}}} {\\overline{A^{1}_{1,\\overline{1}}}}} -{ \\frac{1}{9} {A^{2}_{2,\\overline{1}}} {\\overline{A^{1}_{1,2}}} {\\overline{A^{2}_{2,\\overline{1}}}}} + {\\frac{2}{9} {A^{1}_{1,\\overline{1}}} {\\overline{A^{1}_{1,2}}} {\\overline{A^{2}_{2,\\overline{1}}}}} + {\\frac{2}{9} {A^{2}_{2,\\overline{1}}} {\\overline{A^{1}_{1,2}}} {\\overline{A^{1}_{1,\\overline{1}}}}}\\right) \\cdot \\theta^{1} \\wedge \\overline{\\theta}^{1} + \\left({A^{2}_{1,2}} -{ \\frac{1}{3} {A^{2}_{2,\\overline{1};2}}} + {\\frac{2}{3} {A^{1}_{1,\\overline{1};2}}} -{ \\frac{2}{3} {A^{1}_{1,2}} {A^{1}_{1,\\overline{1}}}} + {\\frac{1}{3} {A^{1}_{1,2}} {A^{2}_{2,\\overline{1}}}}\\right) \\cdot \\theta^{1} \\wedge \\theta^{2} + \\left({A^{2}_{1,\\overline{2}}} -{ \\frac{1}{3} {A^{2}_{2,\\overline{1};\\overline{2}}}} + {\\frac{2}{3} {A^{1}_{1,\\overline{1};\\overline{2}}}} -{ \\frac{2}{3} {A^{1}_{1,\\overline{1}}} {\\overline{A^{1}_{1,2}}}} + {\\frac{1}{3} {A^{2}_{2,\\overline{1}}} {\\overline{A^{1}_{1,2}}}}\\right) \\cdot \\theta^{1} \\wedge \\overline{\\theta}^{2} - 2 {\\overline{A^{1}_{1,2}}} \\cdot \\theta^{2} \\wedge \\overline{\\theta}^{2}$$ from direct computation before simplifying, and then simplifying with the previously derived constraints yields $$\\operatorname{d}\\theta^2 = \\left({\\frac{2}{3} {A^{1}_{1,\\overline{1}}}} + {\\frac{2}{3} {A^{2}_{2,\\overline{1}}}} -{ \\frac{4}{3} {\\overline{A^{1}_{1,2}}} {\\overline{A^{1}_{1,\\overline{1}}}}} + {\\frac{2}{3} {\\overline{A^{1}_{1,2}}} {\\overline{A^{2}_{2,\\overline{1}}}}}\\right) \\cdot \\theta^{2} \\wedge \\overline{\\theta}^{1} + \\left({A^{2}_{1,\\overline{1}}} -{ \\frac{2}{9} {{A^{1}_{1,\\overline{1}}}^{2}}} -{ \\frac{2}{9} {{A^{2}_{2,\\overline{1}}}^{2}}} -{ \\frac{1}{3} {A^{2}_{2,\\overline{1};\\overline{1}}}} + {\\frac{2}{3} {A^{1}_{1,\\overline{1};\\overline{1}}}} + {\\frac{5}{9} {A^{1}_{1,\\overline{1}}} {A^{2}_{2,\\overline{1}}}}\\right) \\cdot \\theta^{1} \\wedge \\overline{\\theta}^{1} + \\left({A^{2}_{1,2}} -{ \\frac{1}{3} {A^{2}_{2,\\overline{1};2}}} + {\\frac{2}{3} {A^{1}_{1,\\overline{1};2}}} -{ \\frac{2}{3} {A^{1}_{1,2}} {A^{1}_{1,\\overline{1}}}} + {\\frac{1}{3} {A^{1}_{1,2}} {A^{2}_{2,\\overline{1}}}}\\right) \\cdot \\theta^{1} \\wedge \\theta^{2} - 2 {\\overline{A^{1}_{1,2}}} \\cdot \\theta^{2} \\wedge \\overline{\\theta}^{2}.$$ And note, we still have $$\\operatorname{d}\\theta^1 = -\\theta^{2} \\wedge \\overline{\\theta}^{1} + \\left({\\frac{1}{3} {A^{1}_{1,\\overline{1}}}} + {\\frac{1}{3} {A^{2}_{2,\\overline{1}}}} -{ \\frac{2}{3} {\\overline{A^{1}_{1,2}}} {\\overline{A^{1}_{1,\\overline{1}}}}} + {\\frac{1}{3} {\\overline{A^{1}_{1,2}}} {\\overline{A^{2}_{2,\\overline{1}}}}}\\right) \\cdot \\theta^{1} \\wedge \\overline{\\theta}^{1} + A^{1}_{1,2} \\cdot \\theta^{1} \\wedge \\theta^{2} -  {\\overline{A^{1}_{1,2}}} \\cdot \\theta^{1} \\wedge \\overline{\\theta}^{2},$$ which shows how the coefficient of $\\theta^2\\wedge\\overline{\\theta^1}$ in $\\operatorname{d}\\theta^2$ relates to that of $\\theta^1\\wedge\\overline{\\theta^1}$ in $\\operatorname{d}\\theta^1$"
      ],
      "text/plain": [
       "<IPython.core.display.Latex object>"
      ]
     },
     "metadata": {},
     "output_type": "display_data"
    }
   ],
   "source": [
    "extD_before_subs = sp.simplify(extDer(theta2,CF_adapted))\n",
    "extD_after_subs = sp.simplify(extD_before_subs.subs(PDE_solution[0]))\n",
    "show(f'In the new coframe `CF_adapted`, we get $$\\\\operatorname{{d}}\\\\theta^2 = {LaTeX(extD_before_subs)}$$ from direct computation before simplifying, and then simplifying with the previously derived constraints yields $$\\\\operatorname{{d}}\\\\theta^2 = {LaTeX(extD_after_subs)}.$$ And note, we still have $$\\\\operatorname{{d}}\\\\theta^1 = {LaTeX(sp.simplify(extDer(theta1,CF_adapted)))},$$ which shows how the coefficient of $\\\\theta^2\\\\wedge\\\\overline{{\\\\theta^1}}$ in $\\\\operatorname{{d}}\\\\theta^2$ relates to that of $\\\\theta^1\\\\wedge\\\\overline{{\\\\theta^1}}$ in $\\\\operatorname{{d}}\\\\theta^1$')"
   ]
  },
  {
   "cell_type": "markdown",
   "metadata": {},
   "source": [
    "The key observation about the previous transformation is that it removed the $\\theta^1\\wedge\\overline{\\theta^2}$ term from $\\operatorname{d}\\theta^2$ and achieved a clear relationship between the coefficient of $\\theta^2\\wedge\\overline{\\theta^1}$ in $\\operatorname{d}\\theta^2$ and that of $\\theta^1\\wedge\\overline{\\theta^1}$ in $\\operatorname{d}\\theta^1$. Hence we have obtained a coframe with structure equations \n",
    "$$\n",
    "    \\operatorname{d}\\theta^1=\\overline{\\theta^1}\\wedge\\theta^2 +B^1_{12}\\theta^1\\wedge\\theta^2+  B^1_{1\\bar 1}\\theta^1\\wedge\\overline{\\theta^1} - \\overline{B^1_{12}}\\theta^1\\wedge\\overline{\\theta^2},\n",
    "$$  \n",
    "$$\n",
    "    \\operatorname{d}\\theta^2=B^2_{12}\\theta^1\\wedge\\theta^2+B^2_{1\\bar 1}\\theta^1\\wedge\\overline{\\theta^1}+2B^1_{1\\bar 1}\\theta^2\\wedge\\overline{\\theta^1}-2\\overline{B^1_{12}}\\theta^2\\wedge\\overline{\\theta^2}\n",
    "$$\n",
    "for some functions $B_{ij}^k$."
   ]
  },
  {
   "cell_type": "markdown",
   "metadata": {},
   "source": [
    "From now on we will no longer work with the old coframe `CF`, but rather use a new coframe assumed to already statisfy the above normalized form (i.e., 3-*adapted* coframes). In this notebook we will not actually use such 3-*adapted* coframes because in the next section we immediately go to working with a *lifted* 3-*adapted* coframe. Regardless, let's finish this subsection by initializing a 3-*adapted* coframe so that it is at least readily available for expirimentation within this notebook. Let's call the new coframe `CF_3_adapted` and use $B_{ij}^k$ to label structure equations\n",
    "\n",
    "Warning: we are reusing the labels $\\{\\theta^j\\}$ in `CF_3_adapted`, so computed objects like `extDer(theta1,CF)` and `extDer(theta1,CF_3_adapted)` represent different differential forms. Expressions like `extDer(extDer(theta1,CF),CF_3_adapted)` involving nested coframe derivatives w.r.t. different coframes are supported, but use these carefully, as LaTeX rendering of such objects can have rather subtle demarcations of what they represent."
   ]
  },
  {
   "cell_type": "code",
   "execution_count": 15,
   "metadata": {},
   "outputs": [
    {
     "data": {
      "text/latex": [
       "We just initialized an abstract coframe (labeled `CF_3_adapted`) with basis 1-forms $\\{\\theta^{1}, \\theta^{2}, \\overline{\\theta}^{1}, \\overline{\\theta}^{2}\\}$ and structure equations $$\\operatorname{d}\\theta^1 = -\\theta^{2} \\wedge \\overline{\\theta}^{1} -  {\\overline{B^{1}_{1,2}}} \\cdot \\theta^{1} \\wedge \\overline{\\theta}^{2} + B^{1}_{1,\\overline{1}} \\cdot \\theta^{1} \\wedge \\overline{\\theta}^{1} + B^{1}_{1,2} \\cdot \\theta^{1} \\wedge \\theta^{2}$$ and $$\\operatorname{d}\\theta^2 = -2 {\\overline{B^{1}_{1,2}}} \\cdot \\theta^{2} \\wedge \\overline{\\theta}^{2} + 2 {B^{1}_{1,\\overline{1}}} \\cdot \\theta^{2} \\wedge \\overline{\\theta}^{1} + B^{2}_{1,\\overline{1}} \\cdot \\theta^{1} \\wedge \\overline{\\theta}^{1} + B^{2}_{1,2} \\cdot \\theta^{1} \\wedge \\theta^{2}.$$ Such coframes are $3$-$adapted$."
      ],
      "text/plain": [
       "<IPython.core.display.Latex object>"
      ]
     },
     "metadata": {},
     "output_type": "display_data"
    }
   ],
   "source": [
    "coframe_labels = ['theta1','theta2']\n",
    "property_markers = {'theta1':{'holomorphic'},'theta2':{'holomorphic'}}\n",
    "createCoframe('CF_3_adapted',coframe_labels,str_eqns_labels='B',complete_to_complex_cf=True,markers=property_markers,integrable_complex_struct=True)\n",
    "\n",
    "subs_rules = {B_low_2_3_hi_1:-1} | {\n",
    "    B_low_1_4_hi_1:-sp.conjugate(B_low_1_2_hi_1),B_low_2_4_hi_1:0} | {\n",
    "    B_low_2_4_hi_2:-2*sp.conjugate(B_low_1_2_hi_1)} | {\n",
    "    B_low_1_4_hi_2:0, B_low_2_3_hi_2: 2*B_low_1_3_hi_1} # New conditions from the change of basis!\n",
    "subs_rules_conjugated = {sp.conjugate(k):sp.conjugate(v) for k,v in subs_rules.items()}\n",
    "CF_3_adapted.update_structure_equations(subs_rules|subs_rules_conjugated)\n",
    "\n",
    "show(f'We just initialized an abstract coframe (labeled `CF_3_adapted`) with basis 1-forms ${LaTeX(CF_3_adapted)}$ and structure equations $$\\\\operatorname{{d}}\\\\theta^1 = {LaTeX(extDer(theta1,CF_3_adapted))}$$ and $$\\\\operatorname{{d}}\\\\theta^2 = {LaTeX(extDer(theta2,CF_3_adapted))}.$$ Such coframes are $3$-$adapted$.')"
   ]
  },
  {
   "cell_type": "markdown",
   "metadata": {},
   "source": [
    "## Lifting the coframes (Section 3.1.5)"
   ]
  },
  {
   "cell_type": "markdown",
   "metadata": {},
   "source": [
    "The 3-*adapted* coframes described in the previous section are only defined at every point up to a $U(1)$ action, and they lift to a unique set of 1-forms on the $U(1)$-bundle over $\\mathbb{C}^2$ whose sections are the $3$-adapted coframes.\n",
    "\n",
    "Let us set up a coframe `CF_canonical`$=(\\theta^1,\\theta^2,\\psi,\\overline{\\theta^1},\\overline{\\theta^2})$, with $\\theta^j$ representing forms as above and $\\psi$ representing a *vertical* form on the $U(1)$-bundle over $\\mathbb{C}^2$. It will not be *canonical* at first (as the name suggests) until we perform some final normalizations. Specifcally, there is ambiguity in how $\\psi$ is defined, which we resolve in this section."
   ]
  },
  {
   "cell_type": "code",
   "execution_count": 16,
   "metadata": {},
   "outputs": [
    {
     "data": {
      "text/latex": [
       "We just initialized an abstract coframe (labeled `CF_canonical`) with basis 1-forms $\\{\\theta^{1}, \\theta^{2}, \\psi, \\overline{\\theta}^{1}, \\overline{\\theta}^{2}\\}$ and structure equations $$\\operatorname{d}\\theta^1 = -\\theta^{2} \\wedge \\overline{\\theta}^{1} -  {\\overline{C^{1}_{1,2}}} \\cdot \\theta^{1} \\wedge \\overline{\\theta}^{2} + C^{1}_{1,\\overline{1}} \\cdot \\theta^{1} \\wedge \\overline{\\theta}^{1} -  i \\cdot \\psi \\wedge \\theta^{1} + C^{1}_{1,2} \\cdot \\theta^{1} \\wedge \\theta^{2}$$ and $$\\operatorname{d}\\theta^2 = -2 {\\overline{C^{1}_{1,2}}} \\cdot \\theta^{2} \\wedge \\overline{\\theta}^{2} + 2 {C^{1}_{1,\\overline{1}}} \\cdot \\theta^{2} \\wedge \\overline{\\theta}^{1} -  2 i \\cdot \\psi \\wedge \\theta^{2} + C^{2}_{1,\\overline{1}} \\cdot \\theta^{1} \\wedge \\overline{\\theta}^{1} + C^{2}_{1,2} \\cdot \\theta^{1} \\wedge \\theta^{2}.$$"
      ],
      "text/plain": [
       "<IPython.core.display.Latex object>"
      ]
     },
     "metadata": {},
     "output_type": "display_data"
    }
   ],
   "source": [
    "coframe_labels = ['theta1','theta2','psi']\n",
    "property_markers = {'theta1':{'holomorphic'},'theta2':{'holomorphic'}, 'psi':{'real'}}\n",
    "createCoframe('CF_canonical',coframe_labels,str_eqns_labels='C',complete_to_complex_cf=True,markers=property_markers,integrable_complex_struct=True)\n",
    "\n",
    "subs_rules = {C_low_2_4_hi_1:-1} | {\n",
    "    globals()[f'C_low_3_{j}_hi_{k}']:0 for j in range(1,6) for k in range(1,6) if f'C_low_3_{j}_hi_{k}' in globals() and ((j,k) not in [(1,1),(2,2)])} | {\n",
    "    globals()[f'C_low_{j}_3_hi_{k}']:0 for j in range(1,6) for k in range(1,6) if f'C_low_{j}_3_hi_{k}' in globals() and ((j,k) not in [(1,1),(2,2)])} | {\n",
    "    C_low_1_5_hi_1:-sp.conjugate(C_low_1_2_hi_1),C_low_2_5_hi_1:0} | {\n",
    "    C_low_2_5_hi_2:-2*sp.conjugate(C_low_1_2_hi_1)} | {\n",
    "    C_low_1_5_hi_2:0, C_low_2_4_hi_2: 2*C_low_1_4_hi_1} | {     # New 3-adapted conditions from the change of basis!\n",
    "    C_low_1_3_hi_1:sp.I, C_low_2_3_hi_2:sp.I*2}                 # Maurer–Cartan form conditions\n",
    "subs_rules_conjugated = {sp.conjugate(k):sp.conjugate(v) for k,v in subs_rules.items()}\n",
    "CF_canonical.update_structure_equations(subs_rules|subs_rules_conjugated)\n",
    "\n",
    "show(f'We just initialized an abstract coframe (labeled `CF_canonical`) with basis 1-forms ${LaTeX(CF_canonical)}$ and structure equations $$\\\\operatorname{{d}}\\\\theta^1 = {LaTeX(extDer(theta1,CF_canonical))}$$ and $$\\\\operatorname{{d}}\\\\theta^2 = {LaTeX(extDer(theta2,CF_canonical))}.$$')"
   ]
  },
  {
   "cell_type": "markdown",
   "metadata": {},
   "source": [
    "Such $\\psi$ is however only naturally defined up real-valued combinations of $\\theta^j$ and $\\overline{\\theta^j}$, i.e., we should replace $\\psi$ with the more general formula\n",
    "$$\n",
    "\\psi \\mapsto \\psi +x^1\\theta^1+x^2\\theta^2+x^1\\theta^1-\\overline{x^1\\theta^1+x^2\\theta^2}\n",
    "$$\n",
    "for some variables $x^j$ representing functions of the total space of the $U(1)$ bundle:"
   ]
  },
  {
   "cell_type": "code",
   "execution_count": 17,
   "metadata": {},
   "outputs": [
    {
     "data": {
      "text/latex": [
       "In the updated coframe `CF_canonical`$=\\{\\theta^{1}, \\theta^{2}, \\psi, \\overline{\\theta}^{1}, \\overline{\\theta}^{2}\\}$ computed by replacing $$\\psi\\mapsto\\overline{x_{2}} \\cdot \\overline{\\theta}^{2} + \\overline{x_{1}} \\cdot \\overline{\\theta}^{1} + \\psi + x_{2} \\cdot \\theta^{2} + x_{1} \\cdot \\theta^{1},$$ we have $$\\operatorname{d}\\theta^1 = -\\theta^{2} \\wedge \\overline{\\theta}^{1} + \\left({- {\\overline{C^{1}_{1,2}}}} -{ i \\overline{x_{2}}}\\right) \\cdot \\theta^{1} \\wedge \\overline{\\theta}^{2} -  i \\cdot \\psi \\wedge \\theta^{1} + \\left({C^{1}_{1,2}} -{ i x_{2}}\\right) \\cdot \\theta^{1} \\wedge \\theta^{2} + \\left({C^{1}_{1,\\overline{1}}} -{ i \\overline{x_{1}}}\\right) \\cdot \\theta^{1} \\wedge \\overline{\\theta}^{1},$$ and hence we can choose $x_1,x_2$ so that $C_{1,\\bar{1}}^{1}$ and $C_{1,2}^{1}$ coefficients are absorbed. The choices are obvious at a glance, but let's anyway do it programatically."
      ],
      "text/plain": [
       "<IPython.core.display.Latex object>"
      ]
     },
     "metadata": {},
     "output_type": "display_data"
    }
   ],
   "source": [
    "createVariables('x',2)\n",
    "new_psi = psi + (x1*theta1+x2*theta2)+sp.conjugate(x1*theta1+x2*theta2)     #Purely imaginary!!!\n",
    "new_str_eqns = transform_coframe(CF_canonical,{psi:new_psi},CF_canonical.forms,min_conj_rules=CF_canonical.min_conj_rules).structure_equations\n",
    "CF_canonical.update_structure_equations(replace_eqns=new_str_eqns)\n",
    "show(f'In the updated coframe `CF_canonical`$={LaTeX(CF_canonical)}$ computed by replacing $$\\\\psi\\\\mapsto{LaTeX(new_psi)},$$ we have $$\\\\operatorname{{d}}\\\\theta^1 = {LaTeX(extDer(theta1,CF_canonical))},$$ and hence we can choose $x_1,x_2$ so that $C_{{1,\\\\bar{{1}}}}^{{1}}$ and $C_{{1,2}}^{{1}}$ coefficients are absorbed. The choices are obvious at a glance, but let\\'s anyway do it programatically.')"
   ]
  },
  {
   "cell_type": "code",
   "execution_count": 18,
   "metadata": {},
   "outputs": [
    {
     "data": {
      "text/latex": [
       "We just solved the equation $$0 = \\operatorname{d}\\theta^1\\wedge\\theta^2\\wedge\\psi = \\left({- {\\overline{C^{1}_{1,2}}}} -{ i \\overline{x_{2}}}\\right) \\cdot \\psi \\wedge \\theta^{1} \\wedge \\theta^{2} \\wedge \\overline{\\theta}^{2} + \\left({C^{1}_{1,\\overline{1}}} -{ i \\overline{x_{1}}}\\right) \\cdot \\psi \\wedge \\theta^{1} \\wedge \\theta^{2} \\wedge \\overline{\\theta}^{1},$$ obtaining the solutions $$x_{1}={i} {\\overline{C^{1}_{1,\\overline{1}}}},\\quad x_{2}=- i {C^{1}_{1,2}}$$"
      ],
      "text/plain": [
       "<IPython.core.display.Latex object>"
      ]
     },
     "metadata": {},
     "output_type": "display_data"
    }
   ],
   "source": [
    "equation_to_solve = extDer(theta1,CF_canonical)*theta2*psi\n",
    "solutions = solve_dgcv(equation_to_solve,x)[0]\n",
    "show(f'We just solved the equation $$0 = \\\\operatorname{{d}}\\\\theta^1\\\\wedge\\\\theta^2\\\\wedge\\\\psi = {LaTeX(equation_to_solve)},$$ obtaining the solutions $${',\\\\quad '.join(f'{LaTeX(k)}={LaTeX(v)}' for k,v in solutions.items())}$$')\n"
   ]
  },
  {
   "cell_type": "markdown",
   "metadata": {},
   "source": [
    "We will use these solutions now to update the structure equations in `CF_canonical` with appropriately set $x_j$ values. We also relable coefficients in $\\operatorname{d}^2\\theta^2$ as $T^1$ and $T^2$, matching Section 3. \n",
    "\n",
    "One more note, it will be convenient to re-label the coefficients in the $\\operatorname{d}\\psi$ structure equation as $\\operatorname{d}\\psi = \\sum \\psi_{jk}^3\\text{[form j]}\\wedge\\text{[form k]}$, because these coeffs became undesirebly complicated following the $\\psi \\mapsto \\psi +x^1\\theta^1+x^2\\theta^2+x^1\\theta^1-\\overline{x^1\\theta^1+x^2\\theta^2}$ replacement. So we will substitute *new* $\\psi$ replacing the old ones. Since $\\operatorname{d}\\psi$ is semi-basic, we will also roll that into the relabeled coefficients by setting $\\psi^3_{jk}=0$ whenever $j$ or $k$ is $3$."
   ]
  },
  {
   "cell_type": "code",
   "execution_count": 19,
   "metadata": {},
   "outputs": [
    {
     "data": {
      "text/latex": [
       "Here are the structure equations in the new canonical connection (labeled `CF_canonical`) with basis 1-forms $\\{\\theta^{1}, \\theta^{2}, \\psi, \\overline{\\theta}^{1}, \\overline{\\theta}^{2}\\}$: $$\\operatorname{d}\\theta^1 = - i \\cdot \\psi \\wedge \\theta^{1} - \\theta^{2} \\wedge \\overline{\\theta}^{1},$$  $$\\operatorname{d}\\theta^2 = - 2 i \\cdot \\psi \\wedge \\theta^{2} + T_{1} \\cdot \\theta^{1} \\wedge \\overline{\\theta}^{1} + T_{2} \\cdot \\theta^{1} \\wedge \\theta^{2},$$ and $$\\operatorname{d}\\psi = \\psi^{3}_{2,\\overline{1}} \\cdot \\theta^{2} \\wedge \\overline{\\theta}^{1} + \\psi^{3}_{1,\\overline{1}} \\cdot \\theta^{1} \\wedge \\overline{\\theta}^{1} + \\psi^{3}_{1,2} \\cdot \\theta^{1} \\wedge \\theta^{2} + \\psi^{3}_{1,\\overline{2}} \\cdot \\theta^{1} \\wedge \\overline{\\theta}^{2} + \\psi^{3}_{2,\\overline{2}} \\cdot \\theta^{2} \\wedge \\overline{\\theta}^{2}.$$"
      ],
      "text/plain": [
       "<IPython.core.display.Latex object>"
      ]
     },
     "metadata": {},
     "output_type": "display_data"
    }
   ],
   "source": [
    "T1 = zeroFormAtom('T_low_1',coframe=CF_canonical)     # new variables T1 and T2 for new coeff labels.\n",
    "T2 = zeroFormAtom('T_low_2',coframe=CF_canonical)\n",
    "subs_rules = solutions | {C_low_1_4_hi_2: T1, C_low_1_2_hi_2: T2 + 2*BARC_low_1_4_hi_1} \n",
    "subs_rules_conjugated = {sp.conjugate(k):sp.conjugate(v) for k,v in subs_rules.items()}\n",
    "terms_in_d_psi = [zeroFormAtom(f'psi_low_{j}_{k}_hi_3',coframe=CF_canonical)*CF_canonical.forms[j-1]*CF_canonical.forms[k-1] for j in range(1,6) for k in range(1,6) if f'C_low_{j}_{k}_hi_3' in globals() and 3 not in [j,k]]\n",
    "equation_replacement = {psi: sum(terms_in_d_psi[1:],terms_in_d_psi[0])}\n",
    "\n",
    "CF_canonical.update_structure_equations(subs_rules|subs_rules_conjugated,equation_replacement)\n",
    "show(f'Here are the structure equations in the new canonical connection (labeled `CF_canonical`) with basis 1-forms ${LaTeX(CF_canonical)}$: $$\\\\operatorname{{d}}\\\\theta^1 = {LaTeX(extDer(theta1,CF_canonical))},$$  $$\\\\operatorname{{d}}\\\\theta^2 = {LaTeX(extDer(theta2,CF_canonical))},$$ and $$\\\\operatorname{{d}}\\\\psi = {LaTeX(extDer(psi,CF_canonical))}.$$')"
   ]
  },
  {
   "cell_type": "markdown",
   "metadata": {},
   "source": [
    "Finaly, let us apply \n",
    "$$\n",
    "    \\operatorname{d}^2\\theta^j = 0\n",
    "$$ \n",
    "once more together with\n",
    "$$\n",
    "\\operatorname{d}^2\\psi = 0\n",
    "\\quad\\text{ and }\\quad\n",
    "\\operatorname{d}\\psi = \\overline{\\operatorname{d}\\psi}\n",
    "$$ \n",
    "once more to eliminate some of the remaining functions in thes structure equations."
   ]
  },
  {
   "cell_type": "code",
   "execution_count": 20,
   "metadata": {},
   "outputs": [
    {
     "data": {
      "text/latex": [
       "We just obtained the solutions $$\\overline{\\psi^{3}_{1,2}}=0, \\quad \\overline{\\psi^{3}_{1,\\overline{1}}}=\\frac{i}{2} \\left({{T_{1;2}} -{ {T_{2;\\overline{1}}}}}\\right), \\quad \\overline{\\psi^{3}_{1,\\overline{2}}}=- i {T_{2}}, \\quad \\overline{\\psi^{3}_{2,\\overline{1}}}=- \\frac{i}{2} {T_{2;\\overline{2}}}, \\quad \\overline{\\psi^{3}_{2,\\overline{2}}}=- i, \\quad \\psi^{3}_{2,\\overline{2};1}={\\psi^{3}_{1,\\overline{2};2}} -{ {\\psi^{3}_{1,2;\\overline{2}}}} -{ 2 i {T_{2}}}, \\quad \\psi^{3}_{1,\\overline{1};2}={\\psi^{3}_{1,2;\\overline{1}}} + {\\psi^{3}_{2,\\overline{1};1}} + {{i} {{T_{2}}^{2}}} -{ i {\\overline{T_{1}}}}, \\quad T_{1;3}=- 2 i {T_{1}}, \\quad \\psi^{3}_{1,2;3}=0, \\quad \\psi^{3}_{1,\\overline{1};3}=0, \\quad \\psi^{3}_{1,\\overline{2};3}=\\frac{1}{2} {T_{2;\\overline{2}}}, \\quad \\psi^{3}_{2,\\overline{1};3}=- {T_{2}}, \\quad \\psi^{3}_{2,\\overline{2};3}=0, \\quad \\psi^{3}_{1,\\overline{2};\\overline{1}}={\\psi^{3}_{1,\\overline{1};\\overline{2}}} + {{i} {T_{1}}} -{ \\frac{i}{2} {\\overline{T_{2}}} {T_{2;\\overline{2}}}}, \\quad \\psi^{3}_{2,\\overline{2};\\overline{1}}={\\psi^{3}_{2,\\overline{1};\\overline{2}}} -{ i {\\overline{T_{2}}}} -{ \\frac{i}{2} {T_{2;\\overline{2}}}}, \\quad T_{1;\\overline{2}}=0, \\quad \\psi^{3}_{1,2}=0, \\quad \\psi^{3}_{1,\\overline{1}}=\\frac{i}{2} \\left({{T_{2;\\overline{1}}} -{ {T_{1;2}}}}\\right), \\quad \\psi^{3}_{1,\\overline{2}}=\\frac{i}{2} {T_{2;\\overline{2}}}, \\quad \\psi^{3}_{2,\\overline{1}}={i} {T_{2}},\\quad\\text{and}\\quad \\psi^{3}_{2,\\overline{2}}=i$$ and updated the coframe `CF_canonical` structure equations accordingly."
      ],
      "text/plain": [
       "<IPython.core.display.Latex object>"
      ]
     },
     "metadata": {},
     "output_type": "display_data"
    }
   ],
   "source": [
    "formulas = (sp.simplify(extDer(theta1,CF_canonical,2))).terms+(sp.simplify(extDer(theta2,CF_canonical,2))).terms+(sp.simplify(extDer(psi,CF_canonical,2))).terms+(sp.simplify(extDer(psi,CF_canonical,1)-sp.conjugate(extDer(psi,CF_canonical,1)))).terms\n",
    "\n",
    "solve_vars = set()\n",
    "filter_vars = [T2,coframe_derivative(T2,CF_canonical,3),coframe_derivative(T1,CF_canonical,1),coframe_derivative(T2,CF_canonical,4),coframe_derivative(T2,CF_canonical,2)]\n",
    "for formula in formulas:\n",
    "    solve_vars |= {var for var in formula.free_symbols if (hasattr(var,'label') and 'hi_3' in var.label) or (hasattr(var,'differential_order') and var.differential_order>0 and 'T_lo' in var.label)}\n",
    "for var in filter_vars:\n",
    "    solve_vars.discard(var)\n",
    "solutions = solve_dgcv(formulas,solve_vars)\n",
    "subs_rules = solutions[0] \n",
    "subs_rules_conjugated = {sp.conjugate(k):sp.conjugate(v) for k,v in subs_rules.items()}\n",
    "CF_canonical.update_structure_equations(subs_rules | subs_rules_conjugated)\n",
    "show(f'We just obtained the solutions {LaTeX_eqn_system(solutions[0],one_line=True)} and updated the coframe `CF_canonical` structure equations accordingly.')"
   ]
  },
  {
   "cell_type": "code",
   "execution_count": 21,
   "metadata": {},
   "outputs": [
    {
     "data": {
      "text/latex": [
       "With this last update to the structure equations of `CF_canonical`=$\\{\\theta^{1}, \\theta^{2}, \\psi, \\overline{\\theta}^{1}, \\overline{\\theta}^{2}\\}$ we get: $$\\operatorname{d}\\theta^1 = -\\theta^{2} \\wedge \\overline{\\theta}^{1} -  i \\cdot \\psi \\wedge \\theta^{1},$$  $$\\operatorname{d}\\theta^2 = T_{2} \\cdot \\theta^{1} \\wedge \\theta^{2} + T_{1} \\cdot \\theta^{1} \\wedge \\overline{\\theta}^{1} -  2 i \\cdot \\psi \\wedge \\theta^{2},$$ and $$\\operatorname{d}\\psi = i \\cdot \\theta^{2} \\wedge \\overline{\\theta}^{2} + {i} {\\overline{T_{2}}} \\cdot \\theta^{1} \\wedge \\overline{\\theta}^{2} + \\frac{i}{2} \\left({{\\smash{\\overline{T_{2\\vphantom{;1}}}}\\vphantom{T}_{\\vphantom{2};1}} -{ {\\smash{\\overline{T_{1\\vphantom{;\\overline{2}}}}}\\vphantom{T}_{\\vphantom{1};\\overline{2}}}}}\\right) \\cdot \\theta^{1} \\wedge \\overline{\\theta}^{1} + \\frac{i}{2} {\\smash{\\overline{T_{2\\vphantom{;2}}}}\\vphantom{T}_{\\vphantom{2};2}} \\cdot \\theta^{2} \\wedge \\overline{\\theta}^{1}.$$"
      ],
      "text/plain": [
       "<IPython.core.display.Latex object>"
      ]
     },
     "metadata": {},
     "output_type": "display_data"
    }
   ],
   "source": [
    "show(f'With this last update to the structure equations of `CF_canonical`=${LaTeX(CF_canonical)}$ we get: $$\\\\operatorname{{d}}\\\\theta^1 = {LaTeX(extDer(theta1,CF_canonical))},$$  $$\\\\operatorname{{d}}\\\\theta^2 = {LaTeX(extDer(theta2,CF_canonical))},$$ and $$\\\\operatorname{{d}}\\\\psi = {LaTeX(extDer(psi,CF_canonical))}.$$')"
   ]
  },
  {
   "cell_type": "markdown",
   "metadata": {},
   "source": [
    "Using that $\\psi$ is real-valued, let's impose the constraint that $\\operatorname{d}\\psi = \\overline{\\operatorname{d}\\psi}$."
   ]
  },
  {
   "cell_type": "code",
   "execution_count": 22,
   "metadata": {},
   "outputs": [
    {
     "data": {
      "text/latex": [
       "We just obtained the solutions $$\\smash{\\overline{T_{2\\vphantom{;2}}}}\\vphantom{T}_{\\vphantom{2};2}=2 {T_{2}}, \\quad T_{1;2}={\\smash{\\overline{T_{1\\vphantom{;\\overline{2}}}}}\\vphantom{T}_{\\vphantom{1};\\overline{2}}} + {T_{2;\\overline{1}}} -{ {\\smash{\\overline{T_{2\\vphantom{;1}}}}\\vphantom{T}_{\\vphantom{2};1}}},\\quad\\text{and}\\quad T_{2;\\overline{2}}=2 {\\overline{T_{2}}}$$ and updated the coframe `CF_canonical` structure equations accordingly."
      ],
      "text/plain": [
       "<IPython.core.display.Latex object>"
      ]
     },
     "metadata": {},
     "output_type": "display_data"
    },
    {
     "data": {
      "text/latex": [
       "The updated structure equations are: $$\\operatorname{d}\\theta^1 = - i \\cdot \\psi \\wedge \\theta^{1} - \\theta^{2} \\wedge \\overline{\\theta}^{1},$$  $$\\operatorname{d}\\theta^2 = - 2 i \\cdot \\psi \\wedge \\theta^{2} + T_{1} \\cdot \\theta^{1} \\wedge \\overline{\\theta}^{1} + T_{2} \\cdot \\theta^{1} \\wedge \\theta^{2},$$ and $$\\operatorname{d}\\psi = {i} {T_{2}} \\cdot \\theta^{2} \\wedge \\overline{\\theta}^{1} + \\frac{i}{2} \\left({{T_{2;\\overline{1}}} -{ {T_{1;2}}}}\\right) \\cdot \\theta^{1} \\wedge \\overline{\\theta}^{1} + {i} {\\overline{T_{2}}} \\cdot \\theta^{1} \\wedge \\overline{\\theta}^{2} + i \\cdot \\theta^{2} \\wedge \\overline{\\theta}^{2}.$$"
      ],
      "text/plain": [
       "<IPython.core.display.Latex object>"
      ]
     },
     "metadata": {},
     "output_type": "display_data"
    }
   ],
   "source": [
    "formulas = (extDer(psi,CF_canonical) -sp.conjugate(extDer(psi,CF_canonical))).terms\n",
    "solve_vars = set()\n",
    "filter_vars = [T2,sp.conjugate(T2)]\n",
    "for formula in formulas:\n",
    "    solve_vars |= {var for var in formula.free_symbols if (hasattr(var,'label') and 'hi_3' in var.label) or (hasattr(var,'differential_order') and var.differential_order>0 and 'T_lo' in var.label)}\n",
    "for var in filter_vars:\n",
    "    solve_vars.discard(var)\n",
    "solutions = solve_dgcv(formulas,solve_vars)\n",
    "subs_rules = solutions[0] \n",
    "subs_rules_conjugated = {sp.conjugate(k):sp.conjugate(v) for k,v in subs_rules.items()}\n",
    "real_condition_constraints = subs_rules | subs_rules_conjugated\n",
    "CF_canonical.update_structure_equations(real_condition_constraints)\n",
    "show(f'We just obtained the solutions {LaTeX_eqn_system(solutions[0],one_line=True)} and updated the coframe `CF_canonical` structure equations accordingly.')\n",
    "show(f'The updated structure equations are: $$\\\\operatorname{{d}}\\\\theta^1 = {LaTeX(extDer(theta1,CF_canonical))},$$  $$\\\\operatorname{{d}}\\\\theta^2 = {LaTeX(extDer(theta2,CF_canonical))},$$ and $$\\\\operatorname{{d}}\\\\psi = {LaTeX(extDer(psi,CF_canonical))}.$$')"
   ]
  },
  {
   "cell_type": "markdown",
   "metadata": {},
   "source": [
    "# Section 3.2: Cartan geometric description"
   ]
  },
  {
   "cell_type": "markdown",
   "metadata": {},
   "source": [
    "Run the previous notebook section \n",
    ">Lifting the coframes (Section 3.1.5)\n",
    "\n",
    "before running this one. Specifically, we proceed assumng the coframe `CF_canonical` has been initialized (and updated) via the previous section.\n",
    "\n",
    "The 1-forms in `CF_canonical` define components of an $\\mathbb{R}^2\\rtimes \\mathfrak{sl}_2(\\mathbb{R})$-valued Cartan connection, which we can represent using the `DF_representation` class, a `dgcv` class representing $\\mathfrak{gl}$-valued differential forms."
   ]
  },
  {
   "cell_type": "code",
   "execution_count": 23,
   "metadata": {},
   "outputs": [
    {
     "data": {
      "text/latex": [
       "We have just initialized the Cartan connection $$\\varphi = \\begin{pmatrix}0 & 0 & 0 \\\\ \\overline{\\theta}^{1} & - i\\psi & \\overline{\\theta}^{2} \\\\ \\theta^{1} & \\theta^{2} & i\\psi\\end{pmatrix}.$$"
      ],
      "text/plain": [
       "<IPython.core.display.Latex object>"
      ]
     },
     "metadata": {},
     "output_type": "display_data"
    }
   ],
   "source": [
    "phi = DF_representation([[0,0,0],[sp.conjugate(theta1),-sp.I*psi,sp.conjugate(theta2)],[theta1,theta2,sp.I*psi]])\n",
    "show(f'We have just initialized the Cartan connection $$\\\\varphi = {LaTeX(phi)}.$$')"
   ]
  },
  {
   "cell_type": "code",
   "execution_count": 24,
   "metadata": {},
   "outputs": [
    {
     "data": {
      "text/latex": [
       "The curvature $2$-form of $\\varphi$ is $$\\operatorname{d}\\varphi+\\varphi\\wedge\\varphi = \\begin{pmatrix}0 & 0 & 0 \\\\ 0 & \\overline{T_{2}} \\cdot \\theta^{1} \\wedge \\overline{\\theta}^{2} + \\left({\\frac{1}{2} {T_{2;\\overline{1}}}} -{ \\frac{1}{2} {T_{1;2}}}\\right) \\cdot \\theta^{1} \\wedge \\overline{\\theta}^{1} + T_{2} \\cdot \\theta^{2} \\wedge \\overline{\\theta}^{1} & - {\\overline{T_{1}}} \\cdot \\theta^{1} \\wedge \\overline{\\theta}^{1} + \\overline{T_{2}} \\cdot \\overline{\\theta}^{1} \\wedge \\overline{\\theta}^{2} \\\\ 0 & T_{1} \\cdot \\theta^{1} \\wedge \\overline{\\theta}^{1} + T_{2} \\cdot \\theta^{1} \\wedge \\theta^{2} & - {\\overline{T_{2}}} \\cdot \\theta^{1} \\wedge \\overline{\\theta}^{2} + \\left({\\frac{1}{2} {T_{1;2}}} -{ \\frac{1}{2} {T_{2;\\overline{1}}}}\\right) \\cdot \\theta^{1} \\wedge \\overline{\\theta}^{1} -  {T_{2}} \\cdot \\theta^{2} \\wedge \\overline{\\theta}^{1}\\end{pmatrix}$$"
      ],
      "text/plain": [
       "<IPython.core.display.Latex object>"
      ]
     },
     "metadata": {},
     "output_type": "display_data"
    }
   ],
   "source": [
    "curvatureForm = sp.simplify(extDer(phi,CF_canonical) + phi@phi)     # Matrix multiplication is denoted by `@`\n",
    "show(f'The curvature $2$-form of $\\\\varphi$ is $$\\\\operatorname{{d}}\\\\varphi+\\\\varphi\\\\wedge\\\\varphi = {LaTeX(curvatureForm)}$$')"
   ]
  },
  {
   "cell_type": "code",
   "execution_count": 25,
   "metadata": {},
   "outputs": [
    {
     "data": {
      "text/latex": [
       "The Bianchi identity  $0 = \\operatorname{d}\\left(\\operatorname{d}\\phi+\\phi\\wedge\\phi\\right)+\\phi\\wedge \\left(\\operatorname{d}\\phi+\\phi\\wedge\\phi\\right)-\\left(\\operatorname{d}\\phi+\\phi\\wedge\\phi\\right)\\wedge \\phi$ gives $$ 0 = \\begin{pmatrix}0 & 0 & 0 \\\\ 0 & \\left({T_{2;1}} + {{T_{2}}^{2}} + {\\frac{1}{2} {T_{1;2,2}}} -{ {\\overline{T_{1}}}} -{ \\frac{1}{2} {T_{2;\\overline{1},2}}}\\right) \\cdot \\theta^{1} \\wedge \\theta^{2} \\wedge \\overline{\\theta}^{1} + \\left({\\frac{1}{2} {T_{2;\\overline{1},3}}} -{ \\frac{1}{2} {T_{1;2,3}}}\\right) \\cdot \\psi \\wedge \\theta^{1} \\wedge \\overline{\\theta}^{1} + \\left({\\smash{\\overline{T_{2\\vphantom{;3}}}}\\vphantom{T}_{\\vphantom{2};3}} + {{i} {\\overline{T_{2}}}}\\right) \\cdot \\psi \\wedge \\theta^{1} \\wedge \\overline{\\theta}^{2} + \\left({- {\\smash{\\overline{T_{2\\vphantom{;2}}}}\\vphantom{T}_{\\vphantom{2};2}}} + {2 {T_{2}}}\\right) \\cdot \\theta^{1} \\wedge \\theta^{2} \\wedge \\overline{\\theta}^{2} + \\left({T_{1}} + {\\frac{1}{2} {T_{2;\\overline{1},\\overline{2}}}} -{ {\\smash{\\overline{T_{2\\vphantom{;\\overline{1}}}}}\\vphantom{T}_{\\vphantom{2};\\overline{1}}}} -{ {{\\overline{T_{2}}}^{2}}} -{ \\frac{1}{2} {T_{1;2,\\overline{2}}}}\\right) \\cdot \\theta^{1} \\wedge \\overline{\\theta}^{1} \\wedge \\overline{\\theta}^{2} + \\left({T_{2;\\overline{2}}} -{2 {\\overline{T_{2}}}}\\right) \\cdot \\theta^{2} \\wedge \\overline{\\theta}^{1} \\wedge \\overline{\\theta}^{2} + \\left({T_{2;3}} -{ i {T_{2}}}\\right) \\cdot \\psi \\wedge \\theta^{2} \\wedge \\overline{\\theta}^{1} & \\smash{\\overline{T_{1\\vphantom{;2}}}}\\vphantom{T}_{\\vphantom{1};2} \\cdot \\theta^{1} \\wedge \\theta^{2} \\wedge \\overline{\\theta}^{1} + \\left({- {\\smash{\\overline{T_{1\\vphantom{;3}}}}\\vphantom{T}_{\\vphantom{1};3}}} + {2 i {\\overline{T_{1}}}}\\right) \\cdot \\psi \\wedge \\theta^{1} \\wedge \\overline{\\theta}^{1} + \\left({\\smash{\\overline{T_{2\\vphantom{;1}}}}\\vphantom{T}_{\\vphantom{2};1}} + {T_{1;2}} -{ {T_{2;\\overline{1}}}} -{ {\\smash{\\overline{T_{1\\vphantom{;\\overline{2}}}}}\\vphantom{T}_{\\vphantom{1};\\overline{2}}}}\\right) \\cdot \\theta^{1} \\wedge \\overline{\\theta}^{1} \\wedge \\overline{\\theta}^{2} + \\left({\\smash{\\overline{T_{2\\vphantom{;3}}}}\\vphantom{T}_{\\vphantom{2};3}} + {{i} {\\overline{T_{2}}}}\\right) \\cdot \\psi \\wedge \\overline{\\theta}^{1} \\wedge \\overline{\\theta}^{2} + \\left({\\smash{\\overline{T_{2\\vphantom{;2}}}}\\vphantom{T}_{\\vphantom{2};2}} -{2 {T_{2}}}\\right) \\cdot \\theta^{2} \\wedge \\overline{\\theta}^{1} \\wedge \\overline{\\theta}^{2} \\\\ 0 & \\left({T_{1;3}} + {2 i {T_{1}}}\\right) \\cdot \\psi \\wedge \\theta^{1} \\wedge \\overline{\\theta}^{1} + T_{1;\\overline{2}} \\cdot \\theta^{1} \\wedge \\overline{\\theta}^{1} \\wedge \\overline{\\theta}^{2} + \\left({T_{2;\\overline{2}}} -{2 {\\overline{T_{2}}}}\\right) \\cdot \\theta^{1} \\wedge \\theta^{2} \\wedge \\overline{\\theta}^{2} + \\left({T_{2;3}} -{ i {T_{2}}}\\right) \\cdot \\psi \\wedge \\theta^{1} \\wedge \\theta^{2} & \\left({\\overline{T_{1}}} + {\\frac{1}{2} {T_{2;\\overline{1},2}}} -{ {T_{2;1}}} -{ {{T_{2}}^{2}}} -{ \\frac{1}{2} {T_{1;2,2}}}\\right) \\cdot \\theta^{1} \\wedge \\theta^{2} \\wedge \\overline{\\theta}^{1} + \\left({\\frac{1}{2} {T_{1;2,3}}} -{ \\frac{1}{2} {T_{2;\\overline{1},3}}}\\right) \\cdot \\psi \\wedge \\theta^{1} \\wedge \\overline{\\theta}^{1} + \\left({- {\\smash{\\overline{T_{2\\vphantom{;3}}}}\\vphantom{T}_{\\vphantom{2};3}}} -{ i {\\overline{T_{2}}}}\\right) \\cdot \\psi \\wedge \\theta^{1} \\wedge \\overline{\\theta}^{2} + \\left({\\smash{\\overline{T_{2\\vphantom{;2}}}}\\vphantom{T}_{\\vphantom{2};2}} -{2 {T_{2}}}\\right) \\cdot \\theta^{1} \\wedge \\theta^{2} \\wedge \\overline{\\theta}^{2} + \\left({\\smash{\\overline{T_{2\\vphantom{;\\overline{1}}}}}\\vphantom{T}_{\\vphantom{2};\\overline{1}}} + {{\\overline{T_{2}}}^{2}} + {\\frac{1}{2} {T_{1;2,\\overline{2}}}} -{ {T_{1}}} -{ \\frac{1}{2} {T_{2;\\overline{1},\\overline{2}}}}\\right) \\cdot \\theta^{1} \\wedge \\overline{\\theta}^{1} \\wedge \\overline{\\theta}^{2} + \\left({- {T_{2;\\overline{2}}}} + {2 {\\overline{T_{2}}}}\\right) \\cdot \\theta^{2} \\wedge \\overline{\\theta}^{1} \\wedge \\overline{\\theta}^{2} + \\left({- {T_{2;3}}} + {{i} {T_{2}}}\\right) \\cdot \\psi \\wedge \\theta^{2} \\wedge \\overline{\\theta}^{1}\\end{pmatrix}$$"
      ],
      "text/plain": [
       "<IPython.core.display.Latex object>"
      ]
     },
     "metadata": {},
     "output_type": "display_data"
    },
    {
     "data": {
      "text/latex": [
       "The Bianchi identity simplifies under the previously derived contraints $$\\smash{\\overline{T_{2\\vphantom{;2}}}}\\vphantom{T}_{\\vphantom{2};2}=2 {T_{2}},\\quad T_{1;2}={\\smash{\\overline{T_{1\\vphantom{;\\overline{2}}}}}\\vphantom{T}_{\\vphantom{1};\\overline{2}}} + {T_{2;\\overline{1}}} -{ {\\smash{\\overline{T_{2\\vphantom{;1}}}}\\vphantom{T}_{\\vphantom{2};1}}},\\quad T_{2;\\overline{2}}=2 {\\overline{T_{2}}},\\quad \\smash{\\overline{T_{1\\vphantom{;\\overline{2}}}}}\\vphantom{T}_{\\vphantom{1};\\overline{2}}={\\smash{\\overline{T_{2\\vphantom{;1}}}}\\vphantom{T}_{\\vphantom{2};1}} + {T_{1;2}} -{ {T_{2;\\overline{1}}}},$$ yielding $$0 = \\begin{pmatrix}0 & 0 & 0 \\\\ 0 & \\left({T_{2;3}} -{ i {T_{2}}}\\right) \\cdot \\psi \\wedge \\theta^{2} \\wedge \\overline{\\theta}^{1} + \\left({T_{1}} + {\\frac{1}{2} {T_{2;\\overline{1},\\overline{2}}}} -{ {\\smash{\\overline{T_{2\\vphantom{;\\overline{1}}}}}\\vphantom{T}_{\\vphantom{2};\\overline{1}}}} -{ {{\\overline{T_{2}}}^{2}}} -{ \\frac{1}{2} {T_{1;2,\\overline{2}}}}\\right) \\cdot \\theta^{1} \\wedge \\overline{\\theta}^{1} \\wedge \\overline{\\theta}^{2} + \\left({\\smash{\\overline{T_{2\\vphantom{;3}}}}\\vphantom{T}_{\\vphantom{2};3}} + {{i} {\\overline{T_{2}}}}\\right) \\cdot \\psi \\wedge \\theta^{1} \\wedge \\overline{\\theta}^{2} + \\left({\\frac{1}{2} {T_{2;\\overline{1},3}}} -{ \\frac{1}{2} {T_{1;2,3}}}\\right) \\cdot \\psi \\wedge \\theta^{1} \\wedge \\overline{\\theta}^{1} + \\left({T_{2;1}} + {{T_{2}}^{2}} + {\\frac{1}{2} {T_{1;2,2}}} -{ {\\overline{T_{1}}}} -{ \\frac{1}{2} {T_{2;\\overline{1},2}}}\\right) \\cdot \\theta^{1} \\wedge \\theta^{2} \\wedge \\overline{\\theta}^{1} & \\left({\\smash{\\overline{T_{2\\vphantom{;3}}}}\\vphantom{T}_{\\vphantom{2};3}} + {{i} {\\overline{T_{2}}}}\\right) \\cdot \\psi \\wedge \\overline{\\theta}^{1} \\wedge \\overline{\\theta}^{2} + \\left({\\smash{\\overline{T_{2\\vphantom{;1}}}}\\vphantom{T}_{\\vphantom{2};1}} + {T_{1;2}} -{ {T_{2;\\overline{1}}}} -{ {\\smash{\\overline{T_{1\\vphantom{;\\overline{2}}}}}\\vphantom{T}_{\\vphantom{1};\\overline{2}}}}\\right) \\cdot \\theta^{1} \\wedge \\overline{\\theta}^{1} \\wedge \\overline{\\theta}^{2} + \\left({- {\\smash{\\overline{T_{1\\vphantom{;3}}}}\\vphantom{T}_{\\vphantom{1};3}}} + {2 i {\\overline{T_{1}}}}\\right) \\cdot \\psi \\wedge \\theta^{1} \\wedge \\overline{\\theta}^{1} + \\smash{\\overline{T_{1\\vphantom{;2}}}}\\vphantom{T}_{\\vphantom{1};2} \\cdot \\theta^{1} \\wedge \\theta^{2} \\wedge \\overline{\\theta}^{1} \\\\ 0 & \\left({T_{2;3}} -{ i {T_{2}}}\\right) \\cdot \\psi \\wedge \\theta^{1} \\wedge \\theta^{2} + T_{1;\\overline{2}} \\cdot \\theta^{1} \\wedge \\overline{\\theta}^{1} \\wedge \\overline{\\theta}^{2} + \\left({T_{1;3}} + {2 i {T_{1}}}\\right) \\cdot \\psi \\wedge \\theta^{1} \\wedge \\overline{\\theta}^{1} & \\left({- {T_{2;3}}} + {{i} {T_{2}}}\\right) \\cdot \\psi \\wedge \\theta^{2} \\wedge \\overline{\\theta}^{1} + \\left({\\smash{\\overline{T_{2\\vphantom{;\\overline{1}}}}}\\vphantom{T}_{\\vphantom{2};\\overline{1}}} + {{\\overline{T_{2}}}^{2}} + {\\frac{1}{2} {T_{1;2,\\overline{2}}}} -{ {T_{1}}} -{ \\frac{1}{2} {T_{2;\\overline{1},\\overline{2}}}}\\right) \\cdot \\theta^{1} \\wedge \\overline{\\theta}^{1} \\wedge \\overline{\\theta}^{2} + \\left({- {\\smash{\\overline{T_{2\\vphantom{;3}}}}\\vphantom{T}_{\\vphantom{2};3}}} -{ i {\\overline{T_{2}}}}\\right) \\cdot \\psi \\wedge \\theta^{1} \\wedge \\overline{\\theta}^{2} + \\left({\\frac{1}{2} {T_{1;2,3}}} -{ \\frac{1}{2} {T_{2;\\overline{1},3}}}\\right) \\cdot \\psi \\wedge \\theta^{1} \\wedge \\overline{\\theta}^{1} + \\left({\\overline{T_{1}}} + {\\frac{1}{2} {T_{2;\\overline{1},2}}} -{ {T_{2;1}}} -{ {{T_{2}}^{2}}} -{ \\frac{1}{2} {T_{1;2,2}}}\\right) \\cdot \\theta^{1} \\wedge \\theta^{2} \\wedge \\overline{\\theta}^{1}\\end{pmatrix}$$"
      ],
      "text/plain": [
       "<IPython.core.display.Latex object>"
      ]
     },
     "metadata": {},
     "output_type": "display_data"
    }
   ],
   "source": [
    "Bianchi_ID = sp.simplify(extDer(curvatureForm,CF_canonical)+phi@curvatureForm-curvatureForm@phi)\n",
    "simplified_Bianchi_ID = simplify_with_PDEs(Bianchi_ID,real_condition_constraints)\n",
    "show(f'The Bianchi identity  $0 = \\\\operatorname{{d}}\\\\left(\\\\operatorname{{d}}\\\\phi+\\\\phi\\\\wedge\\\\phi\\\\right)+\\\\phi\\\\wedge \\\\left(\\\\operatorname{{d}}\\\\phi+\\\\phi\\\\wedge\\\\phi\\\\right)-\\\\left(\\\\operatorname{{d}}\\\\phi+\\\\phi\\\\wedge\\\\phi\\\\right)\\\\wedge \\\\phi$ gives $$ 0 = {LaTeX(Bianchi_ID)}$$')\n",
    "show(f'The Bianchi identity simplifies under the previously derived contraints $${',\\\\quad '.join(f'{LaTeX(k)}={LaTeX(v)}' for k,v in real_condition_constraints.items())},$$ yielding $$0 = {LaTeX(simplified_Bianchi_ID)}$$')\n"
   ]
  },
  {
   "cell_type": "markdown",
   "metadata": {},
   "source": [
    "To summarize these Bianchi identities, and the previous constraint arising from $\\operatorname{d}\\psi = \\overline{\\operatorname{d}\\psi}$:"
   ]
  },
  {
   "cell_type": "code",
   "execution_count": 26,
   "metadata": {},
   "outputs": [
    {
     "data": {
      "text/latex": [
       "The Bianchi identities and previously solved $\\operatorname{d}\\psi = \\overline{\\operatorname{d}\\psi}$ give $$T_{1;2,2}={T_{2;\\overline{1},2}} -{2 {T_{2;1}}} -{2 {{T_{2}}^{2}}} + {2 {\\overline{T_{1}}}}, \\quad \\smash{\\overline{T_{2\\vphantom{;3}}}}\\vphantom{T}_{\\vphantom{2};3}=- i {\\overline{T_{2}}}, \\quad T_{2;3}={i} {T_{2}}, \\quad T_{2;\\overline{1},3}=T_{1;2,3}, \\quad T_{2;\\overline{1},\\overline{2}}={T_{1;2,\\overline{2}}} -{2 {T_{1}}} + {2 {\\smash{\\overline{T_{2\\vphantom{;\\overline{1}}}}}\\vphantom{T}_{\\vphantom{2};\\overline{1}}}} + {2 {{\\overline{T_{2}}}^{2}}}, \\quad \\smash{\\overline{T_{1\\vphantom{;\\overline{2},\\overline{2}}}}}\\vphantom{T}_{\\vphantom{1};\\overline{2},\\overline{2}}={\\smash{\\overline{T_{2\\vphantom{;1,\\overline{2}}}}}\\vphantom{T}_{\\vphantom{2};1,\\overline{2}}} -{2 {\\smash{\\overline{T_{2\\vphantom{;\\overline{1}}}}}\\vphantom{T}_{\\vphantom{2};\\overline{1}}}} -{2 {{\\overline{T_{2}}}^{2}}} + {2 {T_{1}}}, \\quad \\smash{\\overline{T_{2\\vphantom{;1,3}}}}\\vphantom{T}_{\\vphantom{2};1,3}=\\smash{\\overline{T_{1\\vphantom{;\\overline{2},3}}}}\\vphantom{T}_{\\vphantom{1};\\overline{2},3}, \\quad \\smash{\\overline{T_{2\\vphantom{;1,2}}}}\\vphantom{T}_{\\vphantom{2};1,2}={\\smash{\\overline{T_{1\\vphantom{;\\overline{2},2}}}}\\vphantom{T}_{\\vphantom{1};\\overline{2},2}} -{2 {\\overline{T_{1}}}} + {2 {T_{2;1}}} + {2 {{T_{2}}^{2}}}, \\quad \\smash{\\overline{T_{2\\vphantom{;2}}}}\\vphantom{T}_{\\vphantom{2};2}=2 {T_{2}}, \\quad T_{1;2}={\\smash{\\overline{T_{1\\vphantom{;\\overline{2}}}}}\\vphantom{T}_{\\vphantom{1};\\overline{2}}} + {T_{2;\\overline{1}}} -{ {\\smash{\\overline{T_{2\\vphantom{;1}}}}\\vphantom{T}_{\\vphantom{2};1}}}, \\quad T_{2;\\overline{2}}=2 {\\overline{T_{2}}},\\quad\\text{and}\\quad \\smash{\\overline{T_{1\\vphantom{;\\overline{2}}}}}\\vphantom{T}_{\\vphantom{1};\\overline{2}}={\\smash{\\overline{T_{2\\vphantom{;1}}}}\\vphantom{T}_{\\vphantom{2};1}} + {T_{1;2}} -{ {T_{2;\\overline{1}}}}.$$"
      ],
      "text/plain": [
       "<IPython.core.display.Latex object>"
      ]
     },
     "metadata": {},
     "output_type": "display_data"
    }
   ],
   "source": [
    "formulas = simplify_with_PDEs(extDer(psi,CF_canonical,2),real_condition_constraints).terms\n",
    "solve_vars = set()\n",
    "filter_vars = [T2,sp.conjugate(T2),T1,sp.conjugate(T1)]\n",
    "for formula in formulas:\n",
    "    solve_vars |= formula.free_symbols\n",
    "for var in filter_vars:\n",
    "    solve_vars.discard(var)\n",
    "solutions = solve_dgcv(formulas,solve_vars)\n",
    "Bianchi_IDs = solutions[0] \n",
    "Bianchi_IDs |= {sp.conjugate(k):sp.conjugate(v) for k,v in Bianchi_IDs.items()}\n",
    "show(f'The Bianchi identities and previously solved $\\\\operatorname{{d}}\\\\psi = \\\\overline{{\\\\operatorname{{d}}\\\\psi}}$ give {LaTeX_eqn_system(Bianchi_IDs|real_condition_constraints,one_line=True,add_period=True)}')"
   ]
  },
  {
   "cell_type": "markdown",
   "metadata": {},
   "source": [
    "# Section 3.3: Parametric expressions"
   ]
  },
  {
   "cell_type": "markdown",
   "metadata": {},
   "source": [
    "This notebook section accompanies the article's Section 3.3.\n",
    "\n",
    "We begin with a potential $\\rho$ and coframe $(\\theta^1,\\theta^2,\\psi,\\overline{\\theta^1},\\overline{\\theta^2})$ given by\n",
    "$$\n",
    "    \\theta^1=\\operatorname{i} \\sqrt{\\rho_{1\\overline{1}}}\\operatorname{d} z_1+\\operatorname{i}\\frac{ \\rho_{2\\overline{1}}}{\\sqrt{\\rho_{1\\overline{1}}}}\\operatorname{d} z_2,\n",
    "    \\quad\n",
    "    \\theta^2=A_i\\operatorname{d} z_i,\n",
    "    \\quad\n",
    "    \\psi=\\varphi+B_i\\operatorname{d} z_i+\\overline{B_i}\\operatorname{d}\\overline{z_i}\n",
    "$$\n",
    "where $z_1,z_2$ are complex coordinates and $\\phi$ represents a real exact 1-form on a local trivialization of a $U(1)$ bundle over $\\mathbb{C}^2$ whose restriction to fibers coincides with the Maurer–Cartan form. Specifically, in coordinates $(z_1,z_2,t)$ of the local trivalization, $\\phi=\\operatorname{d}t$.\n",
    "\n",
    "The section's computations, however, take place on a section of the $U(1)$ bundle, where the pullback of $\\psi$ has the form $$ \\psi = B_i\\operatorname{d} z_i+\\overline{B_i}\\operatorname{d}\\overline{z_i}$$ and $A_i,B_i$ depend only on $z_i\\overline{z_i}$.\n",
    "\n",
    "\n",
    "Before fully using local coordinates $z_j$ we will start with symbolic representations of their coordinate 1-forms, representing\n",
    "$$\n",
    "Z^i:=\\operatorname{d} z_i\n",
    "\\quad\\text{ and }\\quad\n",
    "\\overline{Z^i}:=\\operatorname{d} \\overline{z_i}.\n",
    "$$\n"
   ]
  },
  {
   "cell_type": "markdown",
   "metadata": {},
   "source": [
    "## Initializing the moving coframe\n",
    "\n",
    "First we set up the coordinate coframe `CF_coordinate`$=(Z^1,Z^2,\\varphi,\\overline{Z^1},\\overline{Z^2})$ in terms of $\\rho$ and then define the adapted coframe $(\\theta^1,\\theta^2,\\psi,\\overline{\\theta^1},\\overline{\\theta^2})$ in terms of the coordinate coframe:"
   ]
  },
  {
   "cell_type": "code",
   "execution_count": 27,
   "metadata": {},
   "outputs": [
    {
     "data": {
      "text/latex": [
       "We just initialized an abstract coframe (labeled `CF_coordinate`) with basis 1-forms $\\{Z^{1}, Z^{2}, \\varphi, \\overline{Z}^{1}, \\overline{Z}^{2}\\}$ and structure coefficients $$\\left( \\Gamma^{1}_{1,2}, \\Gamma^{2}_{1,2}, \\Gamma^{3}_{1,2}, \\Gamma^{1}_{1,3}, \\Gamma^{2}_{1,3}, \\Gamma^{3}_{1,3}, \\Gamma^{1}_{1,\\overline{1}}, \\Gamma^{2}_{1,\\overline{1}}, \\Gamma^{3}_{1,\\overline{1}}, \\Gamma^{1}_{1,\\overline{2}}, \\Gamma^{2}_{1,\\overline{2}}, \\Gamma^{3}_{1,\\overline{2}}, \\Gamma^{1}_{2,3}, \\Gamma^{2}_{2,3}, \\Gamma^{3}_{2,3}, \\Gamma^{1}_{2,\\overline{1}}, \\Gamma^{2}_{2,\\overline{1}}, \\Gamma^{3}_{2,\\overline{1}}, \\Gamma^{1}_{2,\\overline{2}}, \\Gamma^{2}_{2,\\overline{2}}, \\Gamma^{3}_{2,\\overline{2}}, \\Gamma^{1}_{3,\\overline{1}}, \\Gamma^{2}_{3,\\overline{1}}, \\Gamma^{3}_{3,\\overline{1}}, \\Gamma^{1}_{3,\\overline{2}}, \\Gamma^{2}_{3,\\overline{2}}, \\Gamma^{3}_{3,\\overline{2}} \\right).$$"
      ],
      "text/plain": [
       "<IPython.core.display.Latex object>"
      ]
     },
     "metadata": {},
     "output_type": "display_data"
    },
    {
     "data": {
      "text/latex": [
       "On coframe initialization, we applied some assumptions about which basis forms should be handled as holomorphic, which are real, and which are closed by setting the`markers` keyword. The optional `integrable_complex_struct=True` keyword intsructs the automated initialization to simplify structure equations under the assumption that the underlying complex structure w.r.t. which holomorphic DF are distinguished is integrable. Since this represents a coordinate coframe, we set all forms a close, and hence the simplified structure equations are $$\\operatorname{d}Z^{1}=0, \\quad \\operatorname{d}Z^{2}=0, \\quad \\operatorname{d}\\varphi=0, \\quad \\operatorname{d}\\overline{Z}^{1}=0,\\quad\\text{and}\\quad \\operatorname{d}\\overline{Z}^{2}=0.$$"
      ],
      "text/plain": [
       "<IPython.core.display.Latex object>"
      ]
     },
     "metadata": {},
     "output_type": "display_data"
    }
   ],
   "source": [
    "coframe_labels = ['Z1','Z2','varphi']\n",
    "property_markers = {'Z1':{'holomorphic','closed'},'Z2':{'holomorphic','closed'},'varphi':{'closed'}}\n",
    "createCoframe('CF_coordinate',coframe_labels,str_eqns_labels='Gamma',complete_to_complex_cf=True,markers=property_markers,integrable_complex_struct=True)\n",
    "\n",
    "show(f'We just initialized an abstract coframe (labeled `CF_coordinate`) with basis 1-forms ${LaTeX(CF_coordinate)}$ and structure coefficients $${LaTeX(Gamma)}.$$')\n",
    "show(f'On coframe initialization, we applied some assumptions about which basis forms should be handled as holomorphic, which are real, and which are closed by setting the`markers` keyword. The optional `integrable_complex_struct=True` keyword intsructs the automated initialization to simplify structure equations under the assumption that the underlying complex structure w.r.t. which holomorphic DF are distinguished is integrable. Since this represents a coordinate coframe, we set all forms a close, and hence the simplified structure equations are {LaTeX_eqn_system(CF_coordinate.structure_equations,left_prefix=r'\\operatorname{d}',add_period=True,one_line=True)}')"
   ]
  },
  {
   "cell_type": "markdown",
   "metadata": {},
   "source": [
    "To represent $\\rho$ we use the `dgcv.zeroFormAtom` class, as it will correctly interact with coframes and exterior derivatives to generate symbolic coframe derivatives.  Furthermore, setting the `DGCV.zeroFormAtom.coframe_independants` attributes let's us represent a function depending only on $(z^1,z^2)$ rather than $(z^1,z^2,t)$.\n",
    "\n",
    "The best way to initialize such objects is with the `createZeroForm` function:"
   ]
  },
  {
   "cell_type": "code",
   "execution_count": 28,
   "metadata": {},
   "outputs": [
    {
     "data": {
      "text/latex": [
       "We just initialized abstract zero forms $$\\rho,\\quad \\rho_{1,\\overline{1}},\\quad \\rho_{2,\\overline{1}},\\quad A_{1},\\quad A_{2},\\quad B_{1},\\quad B_{2}, $$ and the coframe $$(\\theta^1,\\theta^2,\\psi,\\overline{\\theta^1},\\overline{\\theta^2})=\\left( \\frac{{{i} {\\rho_{2,\\overline{1}}}}}{{\\sqrt{{\\rho_{1,\\overline{1}}}}}} \\cdot Z^{2} + {i} {\\sqrt{{\\rho_{1,\\overline{1}}}}} \\cdot Z^{1}, A_{2} \\cdot Z^{2} + A_{1} \\cdot Z^{1}, \\overline{B_{2}} \\cdot \\overline{Z}^{2} + \\overline{B_{1}} \\cdot \\overline{Z}^{1} + B_{1} \\cdot Z^{1} + \\varphi + B_{2} \\cdot Z^{2} ,\\ldots\\right)$$ with $$(\\overline{\\theta^1},\\overline{\\theta^2})=\\left( - i {\\sqrt{{\\rho_{\\overline{1},1}}}} \\cdot \\overline{Z}^{1} + \\frac{\\left({- i {\\rho_{\\overline{2},1}}}\\right)}{{\\sqrt{{\\rho_{\\overline{1},1}}}}} \\cdot \\overline{Z}^{2}, \\overline{A_{1}} \\cdot \\overline{Z}^{1} + \\overline{A_{2}} \\cdot \\overline{Z}^{2} \\right).$$ Keep in mind, $Z^j$ represents the coordinate $1$-form $\\operatorname{d}z^j$."
      ],
      "text/plain": [
       "<IPython.core.display.Latex object>"
      ]
     },
     "metadata": {},
     "output_type": "display_data"
    }
   ],
   "source": [
    "createZeroForm('rho',assumeReal=True,coframe=CF_coordinate,coframe_independants={CF_coordinate:{2}})  # initialize the zero form rho\n",
    "rho_1b1 = coframe_derivative(rho,CF_coordinate,0,3)                        # label a coframe derivative of rho that we will need often\n",
    "rho_2b1 = coframe_derivative(rho,CF_coordinate,1,3)\n",
    "\n",
    "# we can set coframe independents s.t. coframe derivative by D_phi are 0 because computations are done on a bundle section.\n",
    "createZeroForm('A',2,coframe=CF_coordinate,coframe_independants={CF_coordinate:{2}})  # initialize zero forms A1 and A2\n",
    "createZeroForm('B',2,coframe=CF_coordinate,coframe_independants={CF_coordinate:{2}})  # initialize zero forms B1 and B2\n",
    "\n",
    "theta1 = sp.I*rho_1b1**(sp.Rational(1,2))*Z1+(sp.I*rho_2b1/(rho_1b1**(sp.Rational(1,2))))*Z2\n",
    "theta2 = A1*Z1+A2*Z2\n",
    "c_theta1=sp.conjugate(theta1)\n",
    "c_theta2=sp.conjugate(theta2)\n",
    "psi = varphi+B1*Z1+B2*Z2+sp.conjugate(B1*Z1+B2*Z2)\n",
    "\n",
    "show(f'We just initialized abstract zero forms $${',\\\\quad '.join(LaTeX(obj) for obj in (rho,rho_1b1,rho_2b1)+A+B)}, $$ and the coframe $$(\\\\theta^1,\\\\theta^2,\\\\psi,\\\\overline{{\\\\theta^1}},\\\\overline{{\\\\theta^2}})=\\\\left({LaTeX((theta1,theta2,psi))[6:-7]},\\\\ldots\\\\right)$$ with $$(\\\\overline{{\\\\theta^1}},\\\\overline{{\\\\theta^2}})={LaTeX((c_theta1,c_theta2))}.$$ Keep in mind, $Z^j$ represents the coordinate $1$-form $\\\\operatorname{{d}}z^j$.')"
   ]
  },
  {
   "cell_type": "markdown",
   "metadata": {},
   "source": [
    "## Constraints on higher order symbolic coframe derivatives of $\\rho$"
   ]
  },
  {
   "cell_type": "markdown",
   "metadata": {},
   "source": [
    "Coframe derivatives such as $\\rho_{j_1,\\ldots,j_\\eta,\\bar{k_1},\\ldots,\\bar{k_\\mu}}$ are merely symbolic, so although a zero form expression `expr` given in terms of them may simplify to zero under some substitutions, it does not mean that higher order coframe derivatives of `expr` will. By applying symbolic differentiation iteratively, from one equation involving `rho` we derive additional equations involving its higher order symbolic coframe derivatives. Similarly setting iterated exterior derivatives of `expr` equal to zero yields further constraints on higher order symbolic coframe derivatives of $\\rho$. Let's derive such constraints from the first few iterated exterior derivatives of all functions appearing in $\\theta^1\\wedge\\overline{\\theta^2}$.\n",
    "\n",
    "Programatically, we compute `extDer(expr,CF_coordinate,with_canonicalize=True)` and then pass the formula through `solve_dgcv`, which will return constraints on the coframe derivatives. Iterating this, we subsequently give `solve_dgcv` formulas that are simplified subject to the previously computed PDE constraints. And for finer control over the result, we will also prescribe the variables that `solve_dgcv` solves w.r.t.. The `with_canonicalize=True` keyword interchanges coframe derivatives into a canonical order, a normalization step neccessary for programatically recognizing equivalent higher order expressions."
   ]
  },
  {
   "cell_type": "code",
   "execution_count": 29,
   "metadata": {},
   "outputs": [
    {
     "data": {
      "text/latex": [
       "Since $0 = \\operatorname{d}\\omega = \\operatorname{d}(\\theta^1\\wedge\\overline{\\theta^1})$, we have $$0 = \\operatorname{d}\\omega = \\left({- {\\rho_{1,2,\\overline{2}}}} + {{\\rho_{1,1,\\overline{2}}} {\\rho_{2,\\overline{1}}} \\left({{\\rho_{1,\\overline{1}}}^{-1}}\\right)} + {{\\rho_{1,2,\\overline{1}}} {\\rho_{1,\\overline{2}}} \\left({{\\rho_{1,\\overline{1}}}^{-1}}\\right)} -{ {\\rho_{1,1,\\overline{1}}} {\\rho_{1,\\overline{2}}} {\\rho_{2,\\overline{1}}} \\left({{\\rho_{1,\\overline{1}}}^{-2}}\\right)}\\right) \\cdot Z^{1} \\wedge Z^{2} \\wedge \\overline{Z}^{2} + \\left({\\rho_{2,\\overline{1},\\overline{2}}} -{ {\\rho_{1,\\overline{1},\\overline{2}}} {\\rho_{2,\\overline{1}}} \\left({{\\rho_{1,\\overline{1}}}^{-1}}\\right)} -{ {\\rho_{1,\\overline{2}}} {\\rho_{2,\\overline{1},\\overline{1}}} \\left({{\\rho_{1,\\overline{1}}}^{-1}}\\right)} + {{\\rho_{1,\\overline{1},\\overline{1}}} {\\rho_{1,\\overline{2}}} {\\rho_{2,\\overline{1}}} \\left({{\\rho_{1,\\overline{1}}}^{-2}}\\right)}\\right) \\cdot Z^{2} \\wedge \\overline{Z}^{1} \\wedge \\overline{Z}^{2}.$$ The coefficient functions from this 2-form expansion must all be zero, and hence so must their respective coframe derivatives of all higher orders. We can compute such coframe derivatives to get higher order constraints on $\\rho $, i.e., differential corollaries."
      ],
      "text/plain": [
       "<IPython.core.display.Latex object>"
      ]
     },
     "metadata": {},
     "output_type": "display_data"
    }
   ],
   "source": [
    "dOmega = sp.simplify(extDer(theta1*c_theta1,CF_coordinate,with_canonicalize=True))\n",
    "coeff_functions = dOmega.coeffs\n",
    "\n",
    "show(f'Since $0 = \\\\operatorname{{d}}\\\\omega = \\\\operatorname{{d}}(\\\\theta^1\\\\wedge\\\\overline{{\\\\theta^1}})$, we have $$0 = \\\\operatorname{{d}}\\\\omega = {LaTeX(dOmega)}.$$ The coefficient functions from this 2-form expansion must all be zero, and hence so must their respective coframe derivatives of all higher orders. We can compute such coframe derivatives to get higher order constraints on $\\\\rho $, i.e., differential corollaries.')\n",
    "# display_DGCV(f'For example, differentiating the coefficient function equation $$0 = {LaTeX(coeff_functions[0])}$$ yields the differential corollaries $$0 = {',$$ $$0 = '.join([LaTeX(coeff) for coeff in sp.simplify(extDer(coeff_functions[0],CF_coordinate)).coeffs])}$$')\n",
    "\n"
   ]
  },
  {
   "cell_type": "code",
   "execution_count": 30,
   "metadata": {},
   "outputs": [
    {
     "data": {
      "text/latex": [
       "Differentiating $$0 = {- {\\rho_{1,2,\\overline{2}}}} + {{\\rho_{1,1,\\overline{2}}} {\\rho_{2,\\overline{1}}} \\left({{\\rho_{1,\\overline{1}}}^{-1}}\\right)} + {{\\rho_{1,2,\\overline{1}}} {\\rho_{1,\\overline{2}}} \\left({{\\rho_{1,\\overline{1}}}^{-1}}\\right)} -{ {\\rho_{1,1,\\overline{1}}} {\\rho_{1,\\overline{2}}} {\\rho_{2,\\overline{1}}} \\left({{\\rho_{1,\\overline{1}}}^{-2}}\\right)}$$ yields the differential corollaries $$0={- {\\rho_{1,2,\\overline{2},\\overline{2}}}} + {{\\rho_{1,1,\\overline{2}}} {\\rho_{2,\\overline{1},\\overline{2}}} \\left({{\\rho_{1,\\overline{1}}}^{-1}}\\right)} + {{\\rho_{1,1,\\overline{2},\\overline{2}}} {\\rho_{2,\\overline{1}}} \\left({{\\rho_{1,\\overline{1}}}^{-1}}\\right)} + {{\\rho_{1,2,\\overline{1}}} {\\rho_{1,\\overline{2},\\overline{2}}} \\left({{\\rho_{1,\\overline{1}}}^{-1}}\\right)} + {{\\rho_{1,2,\\overline{1},\\overline{2}}} {\\rho_{1,\\overline{2}}} \\left({{\\rho_{1,\\overline{1}}}^{-1}}\\right)} -{ {\\rho_{1,1,\\overline{1}}} {\\rho_{1,\\overline{2}}} {\\rho_{2,\\overline{1},\\overline{2}}} \\left({{\\rho_{1,\\overline{1}}}^{-2}}\\right)} -{ {\\rho_{1,1,\\overline{1}}} {\\rho_{1,\\overline{2},\\overline{2}}} {\\rho_{2,\\overline{1}}} \\left({{\\rho_{1,\\overline{1}}}^{-2}}\\right)} -{ {\\rho_{1,1,\\overline{1},\\overline{2}}} {\\rho_{1,\\overline{2}}} {\\rho_{2,\\overline{1}}} \\left({{\\rho_{1,\\overline{1}}}^{-2}}\\right)} -{ {\\rho_{1,1,\\overline{2}}} {\\rho_{1,\\overline{1},\\overline{2}}} {\\rho_{2,\\overline{1}}} \\left({{\\rho_{1,\\overline{1}}}^{-2}}\\right)} -{ {\\rho_{1,2,\\overline{1}}} {\\rho_{1,\\overline{1},\\overline{2}}} {\\rho_{1,\\overline{2}}} \\left({{\\rho_{1,\\overline{1}}}^{-2}}\\right)} + {2 {\\rho_{1,1,\\overline{1}}} {\\rho_{1,\\overline{1},\\overline{2}}} {\\rho_{1,\\overline{2}}} {\\rho_{2,\\overline{1}}} \\left({{\\rho_{1,\\overline{1}}}^{-3}}\\right)},$$ $$ 0={- {\\rho_{1,1,2,\\overline{2}}}} + {{\\rho_{1,1,1,\\overline{2}}} {\\rho_{2,\\overline{1}}} \\left({{\\rho_{1,\\overline{1}}}^{-1}}\\right)} + {{\\rho_{1,1,2,\\overline{1}}} {\\rho_{1,\\overline{2}}} \\left({{\\rho_{1,\\overline{1}}}^{-1}}\\right)} + {2 {\\rho_{1,1,\\overline{2}}} {\\rho_{1,2,\\overline{1}}} \\left({{\\rho_{1,\\overline{1}}}^{-1}}\\right)} -{ {\\rho_{1,1,1,\\overline{1}}} {\\rho_{1,\\overline{2}}} {\\rho_{2,\\overline{1}}} \\left({{\\rho_{1,\\overline{1}}}^{-2}}\\right)} -{2 {\\rho_{1,1,\\overline{1}}} {\\rho_{1,1,\\overline{2}}} {\\rho_{2,\\overline{1}}} \\left({{\\rho_{1,\\overline{1}}}^{-2}}\\right)} -{2 {\\rho_{1,1,\\overline{1}}} {\\rho_{1,2,\\overline{1}}} {\\rho_{1,\\overline{2}}} \\left({{\\rho_{1,\\overline{1}}}^{-2}}\\right)} + {2 {\\rho_{1,\\overline{2}}} {\\rho_{2,\\overline{1}}} {{\\rho_{1,1,\\overline{1}}}^{2}} \\left({{\\rho_{1,\\overline{1}}}^{-3}}\\right)},$$ $$ 0={- {\\rho_{1,2,2,\\overline{2}}}} + {{\\rho_{1,1,2,\\overline{2}}} {\\rho_{2,\\overline{1}}} \\left({{\\rho_{1,\\overline{1}}}^{-1}}\\right)} + {{\\rho_{1,1,\\overline{2}}} {\\rho_{2,2,\\overline{1}}} \\left({{\\rho_{1,\\overline{1}}}^{-1}}\\right)} + {{\\rho_{1,2,2,\\overline{1}}} {\\rho_{1,\\overline{2}}} \\left({{\\rho_{1,\\overline{1}}}^{-1}}\\right)} + {{\\rho_{1,2,\\overline{1}}} {\\rho_{1,2,\\overline{2}}} \\left({{\\rho_{1,\\overline{1}}}^{-1}}\\right)} -{ {\\rho_{1,\\overline{2}}} {{\\rho_{1,2,\\overline{1}}}^{2}} \\left({{\\rho_{1,\\overline{1}}}^{-2}}\\right)} -{ {\\rho_{1,1,2,\\overline{1}}} {\\rho_{1,\\overline{2}}} {\\rho_{2,\\overline{1}}} \\left({{\\rho_{1,\\overline{1}}}^{-2}}\\right)} -{ {\\rho_{1,1,\\overline{1}}} {\\rho_{1,2,\\overline{2}}} {\\rho_{2,\\overline{1}}} \\left({{\\rho_{1,\\overline{1}}}^{-2}}\\right)} -{ {\\rho_{1,1,\\overline{1}}} {\\rho_{1,\\overline{2}}} {\\rho_{2,2,\\overline{1}}} \\left({{\\rho_{1,\\overline{1}}}^{-2}}\\right)} -{ {\\rho_{1,1,\\overline{2}}} {\\rho_{1,2,\\overline{1}}} {\\rho_{2,\\overline{1}}} \\left({{\\rho_{1,\\overline{1}}}^{-2}}\\right)} + {2 {\\rho_{1,1,\\overline{1}}} {\\rho_{1,2,\\overline{1}}} {\\rho_{1,\\overline{2}}} {\\rho_{2,\\overline{1}}} \\left({{\\rho_{1,\\overline{1}}}^{-3}}\\right)},$$ and $$0={- {\\rho_{1,2,\\overline{1},\\overline{2}}}} + {{\\rho_{1,1,\\overline{1},\\overline{2}}} {\\rho_{2,\\overline{1}}} \\left({{\\rho_{1,\\overline{1}}}^{-1}}\\right)} + {{\\rho_{1,1,\\overline{2}}} {\\rho_{2,\\overline{1},\\overline{1}}} \\left({{\\rho_{1,\\overline{1}}}^{-1}}\\right)} + {{\\rho_{1,2,\\overline{1}}} {\\rho_{1,\\overline{1},\\overline{2}}} \\left({{\\rho_{1,\\overline{1}}}^{-1}}\\right)} + {{\\rho_{1,2,\\overline{1},\\overline{1}}} {\\rho_{1,\\overline{2}}} \\left({{\\rho_{1,\\overline{1}}}^{-1}}\\right)} -{ {\\rho_{1,1,\\overline{1}}} {\\rho_{1,\\overline{1},\\overline{2}}} {\\rho_{2,\\overline{1}}} \\left({{\\rho_{1,\\overline{1}}}^{-2}}\\right)} -{ {\\rho_{1,1,\\overline{1}}} {\\rho_{1,\\overline{2}}} {\\rho_{2,\\overline{1},\\overline{1}}} \\left({{\\rho_{1,\\overline{1}}}^{-2}}\\right)} -{ {\\rho_{1,1,\\overline{1},\\overline{1}}} {\\rho_{1,\\overline{2}}} {\\rho_{2,\\overline{1}}} \\left({{\\rho_{1,\\overline{1}}}^{-2}}\\right)} -{ {\\rho_{1,1,\\overline{2}}} {\\rho_{1,\\overline{1},\\overline{1}}} {\\rho_{2,\\overline{1}}} \\left({{\\rho_{1,\\overline{1}}}^{-2}}\\right)} -{ {\\rho_{1,2,\\overline{1}}} {\\rho_{1,\\overline{1},\\overline{1}}} {\\rho_{1,\\overline{2}}} \\left({{\\rho_{1,\\overline{1}}}^{-2}}\\right)} + {2 {\\rho_{1,1,\\overline{1}}} {\\rho_{1,\\overline{1},\\overline{1}}} {\\rho_{1,\\overline{2}}} {\\rho_{2,\\overline{1}}} \\left({{\\rho_{1,\\overline{1}}}^{-3}}\\right)}.$$"
      ],
      "text/plain": [
       "<IPython.core.display.Latex object>"
      ]
     },
     "metadata": {},
     "output_type": "display_data"
    },
    {
     "data": {
      "text/latex": [
       "Differentiating $$0 = {\\rho_{2,\\overline{1},\\overline{2}}} -{ {\\rho_{1,\\overline{1},\\overline{2}}} {\\rho_{2,\\overline{1}}} \\left({{\\rho_{1,\\overline{1}}}^{-1}}\\right)} -{ {\\rho_{1,\\overline{2}}} {\\rho_{2,\\overline{1},\\overline{1}}} \\left({{\\rho_{1,\\overline{1}}}^{-1}}\\right)} + {{\\rho_{1,\\overline{1},\\overline{1}}} {\\rho_{1,\\overline{2}}} {\\rho_{2,\\overline{1}}} \\left({{\\rho_{1,\\overline{1}}}^{-2}}\\right)}$$ yields the differential corollaries $$0={\\rho_{2,\\overline{1},\\overline{2},\\overline{2}}} + {{\\rho_{2,\\overline{1}}} \\left({{\\rho_{1,\\overline{1}}}^{-2}}\\right) {{\\rho_{1,\\overline{1},\\overline{2}}}^{2}}} -{ {\\rho_{1,\\overline{1},\\overline{2}}} {\\rho_{2,\\overline{1},\\overline{2}}} \\left({{\\rho_{1,\\overline{1}}}^{-1}}\\right)} -{ {\\rho_{1,\\overline{1},\\overline{2},\\overline{2}}} {\\rho_{2,\\overline{1}}} \\left({{\\rho_{1,\\overline{1}}}^{-1}}\\right)} -{ {\\rho_{1,\\overline{2}}} {\\rho_{2,\\overline{1},\\overline{1},\\overline{2}}} \\left({{\\rho_{1,\\overline{1}}}^{-1}}\\right)} -{ {\\rho_{1,\\overline{2},\\overline{2}}} {\\rho_{2,\\overline{1},\\overline{1}}} \\left({{\\rho_{1,\\overline{1}}}^{-1}}\\right)} + {{\\rho_{1,\\overline{1},\\overline{1}}} {\\rho_{1,\\overline{2}}} {\\rho_{2,\\overline{1},\\overline{2}}} \\left({{\\rho_{1,\\overline{1}}}^{-2}}\\right)} + {{\\rho_{1,\\overline{1},\\overline{1}}} {\\rho_{1,\\overline{2},\\overline{2}}} {\\rho_{2,\\overline{1}}} \\left({{\\rho_{1,\\overline{1}}}^{-2}}\\right)} + {{\\rho_{1,\\overline{1},\\overline{1},\\overline{2}}} {\\rho_{1,\\overline{2}}} {\\rho_{2,\\overline{1}}} \\left({{\\rho_{1,\\overline{1}}}^{-2}}\\right)} + {{\\rho_{1,\\overline{1},\\overline{2}}} {\\rho_{1,\\overline{2}}} {\\rho_{2,\\overline{1},\\overline{1}}} \\left({{\\rho_{1,\\overline{1}}}^{-2}}\\right)} -{2 {\\rho_{1,\\overline{1},\\overline{1}}} {\\rho_{1,\\overline{1},\\overline{2}}} {\\rho_{1,\\overline{2}}} {\\rho_{2,\\overline{1}}} \\left({{\\rho_{1,\\overline{1}}}^{-3}}\\right)},$$ $$ 0={\\rho_{1,2,\\overline{1},\\overline{2}}} -{ {\\rho_{1,1,\\overline{1},\\overline{2}}} {\\rho_{2,\\overline{1}}} \\left({{\\rho_{1,\\overline{1}}}^{-1}}\\right)} -{ {\\rho_{1,1,\\overline{2}}} {\\rho_{2,\\overline{1},\\overline{1}}} \\left({{\\rho_{1,\\overline{1}}}^{-1}}\\right)} -{ {\\rho_{1,2,\\overline{1}}} {\\rho_{1,\\overline{1},\\overline{2}}} \\left({{\\rho_{1,\\overline{1}}}^{-1}}\\right)} -{ {\\rho_{1,2,\\overline{1},\\overline{1}}} {\\rho_{1,\\overline{2}}} \\left({{\\rho_{1,\\overline{1}}}^{-1}}\\right)} + {{\\rho_{1,1,\\overline{1}}} {\\rho_{1,\\overline{1},\\overline{2}}} {\\rho_{2,\\overline{1}}} \\left({{\\rho_{1,\\overline{1}}}^{-2}}\\right)} + {{\\rho_{1,1,\\overline{1}}} {\\rho_{1,\\overline{2}}} {\\rho_{2,\\overline{1},\\overline{1}}} \\left({{\\rho_{1,\\overline{1}}}^{-2}}\\right)} + {{\\rho_{1,1,\\overline{1},\\overline{1}}} {\\rho_{1,\\overline{2}}} {\\rho_{2,\\overline{1}}} \\left({{\\rho_{1,\\overline{1}}}^{-2}}\\right)} + {{\\rho_{1,1,\\overline{2}}} {\\rho_{1,\\overline{1},\\overline{1}}} {\\rho_{2,\\overline{1}}} \\left({{\\rho_{1,\\overline{1}}}^{-2}}\\right)} + {{\\rho_{1,2,\\overline{1}}} {\\rho_{1,\\overline{1},\\overline{1}}} {\\rho_{1,\\overline{2}}} \\left({{\\rho_{1,\\overline{1}}}^{-2}}\\right)} -{2 {\\rho_{1,1,\\overline{1}}} {\\rho_{1,\\overline{1},\\overline{1}}} {\\rho_{1,\\overline{2}}} {\\rho_{2,\\overline{1}}} \\left({{\\rho_{1,\\overline{1}}}^{-3}}\\right)},$$ $$ 0={\\rho_{2,2,\\overline{1},\\overline{2}}} -{ {\\rho_{1,2,\\overline{1},\\overline{2}}} {\\rho_{2,\\overline{1}}} \\left({{\\rho_{1,\\overline{1}}}^{-1}}\\right)} -{ {\\rho_{1,2,\\overline{2}}} {\\rho_{2,\\overline{1},\\overline{1}}} \\left({{\\rho_{1,\\overline{1}}}^{-1}}\\right)} -{ {\\rho_{1,\\overline{1},\\overline{2}}} {\\rho_{2,2,\\overline{1}}} \\left({{\\rho_{1,\\overline{1}}}^{-1}}\\right)} -{ {\\rho_{1,\\overline{2}}} {\\rho_{2,2,\\overline{1},\\overline{1}}} \\left({{\\rho_{1,\\overline{1}}}^{-1}}\\right)} + {{\\rho_{1,2,\\overline{1}}} {\\rho_{1,\\overline{1},\\overline{2}}} {\\rho_{2,\\overline{1}}} \\left({{\\rho_{1,\\overline{1}}}^{-2}}\\right)} + {{\\rho_{1,2,\\overline{1}}} {\\rho_{1,\\overline{2}}} {\\rho_{2,\\overline{1},\\overline{1}}} \\left({{\\rho_{1,\\overline{1}}}^{-2}}\\right)} + {{\\rho_{1,2,\\overline{1},\\overline{1}}} {\\rho_{1,\\overline{2}}} {\\rho_{2,\\overline{1}}} \\left({{\\rho_{1,\\overline{1}}}^{-2}}\\right)} + {{\\rho_{1,2,\\overline{2}}} {\\rho_{1,\\overline{1},\\overline{1}}} {\\rho_{2,\\overline{1}}} \\left({{\\rho_{1,\\overline{1}}}^{-2}}\\right)} + {{\\rho_{1,\\overline{1},\\overline{1}}} {\\rho_{1,\\overline{2}}} {\\rho_{2,2,\\overline{1}}} \\left({{\\rho_{1,\\overline{1}}}^{-2}}\\right)} -{2 {\\rho_{1,2,\\overline{1}}} {\\rho_{1,\\overline{1},\\overline{1}}} {\\rho_{1,\\overline{2}}} {\\rho_{2,\\overline{1}}} \\left({{\\rho_{1,\\overline{1}}}^{-3}}\\right)},$$ and $$0={\\rho_{2,\\overline{1},\\overline{1},\\overline{2}}} -{ {\\rho_{1,\\overline{1},\\overline{1},\\overline{2}}} {\\rho_{2,\\overline{1}}} \\left({{\\rho_{1,\\overline{1}}}^{-1}}\\right)} -{ {\\rho_{1,\\overline{2}}} {\\rho_{2,\\overline{1},\\overline{1},\\overline{1}}} \\left({{\\rho_{1,\\overline{1}}}^{-1}}\\right)} -{2 {\\rho_{1,\\overline{1},\\overline{2}}} {\\rho_{2,\\overline{1},\\overline{1}}} \\left({{\\rho_{1,\\overline{1}}}^{-1}}\\right)} + {{\\rho_{1,\\overline{1},\\overline{1},\\overline{1}}} {\\rho_{1,\\overline{2}}} {\\rho_{2,\\overline{1}}} \\left({{\\rho_{1,\\overline{1}}}^{-2}}\\right)} -{2 {\\rho_{1,\\overline{2}}} {\\rho_{2,\\overline{1}}} \\left({{\\rho_{1,\\overline{1}}}^{-3}}\\right) {{\\rho_{1,\\overline{1},\\overline{1}}}^{2}}} + {2 {\\rho_{1,\\overline{1},\\overline{1}}} {\\rho_{1,\\overline{1},\\overline{2}}} {\\rho_{2,\\overline{1}}} \\left({{\\rho_{1,\\overline{1}}}^{-2}}\\right)} + {2 {\\rho_{1,\\overline{1},\\overline{1}}} {\\rho_{1,\\overline{2}}} {\\rho_{2,\\overline{1},\\overline{1}}} \\left({{\\rho_{1,\\overline{1}}}^{-2}}\\right)}.$$"
      ],
      "text/plain": [
       "<IPython.core.display.Latex object>"
      ]
     },
     "metadata": {},
     "output_type": "display_data"
    }
   ],
   "source": [
    "eqns = []               # We'll collect equations to solve in this list\n",
    "for cf in coeff_functions:\n",
    "    new_eqns = list(expand_dgcv(eqn) for eqn in sp.simplify(extDer(cf,CF_coordinate,with_canonicalize=True)).coeffs)\n",
    "    eqns += [cf] + new_eqns            # add the new equations to list we are gathering them in\n",
    "    show(f'Differentiating $$0 = {LaTeX(cf)}$$ yields the differential corollaries {LaTeX_eqn_system(new_eqns,add_period=True)}')"
   ]
  },
  {
   "cell_type": "code",
   "execution_count": 31,
   "metadata": {},
   "outputs": [
    {
     "data": {
      "text/latex": [
       "Solution to derivatives of coefficient equations in $0=\\operatorname{d}\\omega$: $$\\rho_{1,1,2,\\overline{2}}=\\left({{\\rho_{1,\\overline{1}}}^{-3}}\\right) \\left({{{\\rho_{1,1,1,\\overline{2}}} {\\rho_{2,\\overline{1}}} {{\\rho_{1,\\overline{1}}}^{2}}} + {{\\rho_{1,1,2,\\overline{1}}} {\\rho_{1,\\overline{2}}} {{\\rho_{1,\\overline{1}}}^{2}}} + {2 {\\rho_{1,1,\\overline{2}}} {\\rho_{1,2,\\overline{1}}} {{\\rho_{1,\\overline{1}}}^{2}}} + {2 {\\rho_{1,\\overline{2}}} {\\rho_{2,\\overline{1}}} {{\\rho_{1,1,\\overline{1}}}^{2}}} -{ {\\rho_{1,1,1,\\overline{1}}} {\\rho_{1,\\overline{1}}} {\\rho_{1,\\overline{2}}} {\\rho_{2,\\overline{1}}}} -{2 {\\rho_{1,1,\\overline{1}}} {\\rho_{1,1,\\overline{2}}} {\\rho_{1,\\overline{1}}} {\\rho_{2,\\overline{1}}}} -{2 {\\rho_{1,1,\\overline{1}}} {\\rho_{1,2,\\overline{1}}} {\\rho_{1,\\overline{1}}} {\\rho_{1,\\overline{2}}}}}\\right),$$ $$ \\rho_{1,2,2,\\overline{2}}=\\left({{\\rho_{1,\\overline{1}}}^{-4}}\\right) \\left({{{\\rho_{1,1,1,\\overline{2}}} {{\\rho_{1,\\overline{1}}}^{2}} {{\\rho_{2,\\overline{1}}}^{2}}} + {{\\rho_{1,1,\\overline{2}}} {\\rho_{2,2,\\overline{1}}} {{\\rho_{1,\\overline{1}}}^{3}}} + {{\\rho_{1,2,2,\\overline{1}}} {\\rho_{1,\\overline{2}}} {{\\rho_{1,\\overline{1}}}^{3}}} + {3 {\\rho_{1,\\overline{2}}} {{\\rho_{1,1,\\overline{1}}}^{2}} {{\\rho_{2,\\overline{1}}}^{2}}} -{ {\\rho_{1,1,1,\\overline{1}}} {\\rho_{1,\\overline{1}}} {\\rho_{1,\\overline{2}}} {{\\rho_{2,\\overline{1}}}^{2}}} -{ {\\rho_{1,1,\\overline{1}}} {\\rho_{1,\\overline{2}}} {\\rho_{2,2,\\overline{1}}} {{\\rho_{1,\\overline{1}}}^{2}}} -{3 {\\rho_{1,1,\\overline{1}}} {\\rho_{1,1,\\overline{2}}} {\\rho_{1,\\overline{1}}} {{\\rho_{2,\\overline{1}}}^{2}}} + {2 {\\rho_{1,1,\\overline{2}}} {\\rho_{1,2,\\overline{1}}} {\\rho_{2,\\overline{1}}} {{\\rho_{1,\\overline{1}}}^{2}}} -{2 {\\rho_{1,1,\\overline{1}}} {\\rho_{1,2,\\overline{1}}} {\\rho_{1,\\overline{1}}} {\\rho_{1,\\overline{2}}} {\\rho_{2,\\overline{1}}}}}\\right),$$ $$ \\rho_{1,2,\\overline{1},\\overline{2}}=\\left({{\\rho_{1,\\overline{1}}}^{-3}}\\right) \\left({{{\\rho_{1,1,\\overline{1},\\overline{2}}} {\\rho_{2,\\overline{1}}} {{\\rho_{1,\\overline{1}}}^{2}}} + {{\\rho_{1,1,\\overline{2}}} {\\rho_{2,\\overline{1},\\overline{1}}} {{\\rho_{1,\\overline{1}}}^{2}}} + {{\\rho_{1,2,\\overline{1}}} {\\rho_{1,\\overline{1},\\overline{2}}} {{\\rho_{1,\\overline{1}}}^{2}}} + {{\\rho_{1,2,\\overline{1},\\overline{1}}} {\\rho_{1,\\overline{2}}} {{\\rho_{1,\\overline{1}}}^{2}}} -{ {\\rho_{1,1,\\overline{1}}} {\\rho_{1,\\overline{1}}} {\\rho_{1,\\overline{1},\\overline{2}}} {\\rho_{2,\\overline{1}}}} -{ {\\rho_{1,1,\\overline{1}}} {\\rho_{1,\\overline{1}}} {\\rho_{1,\\overline{2}}} {\\rho_{2,\\overline{1},\\overline{1}}}} -{ {\\rho_{1,1,\\overline{1},\\overline{1}}} {\\rho_{1,\\overline{1}}} {\\rho_{1,\\overline{2}}} {\\rho_{2,\\overline{1}}}} -{ {\\rho_{1,1,\\overline{2}}} {\\rho_{1,\\overline{1}}} {\\rho_{1,\\overline{1},\\overline{1}}} {\\rho_{2,\\overline{1}}}} -{ {\\rho_{1,2,\\overline{1}}} {\\rho_{1,\\overline{1}}} {\\rho_{1,\\overline{1},\\overline{1}}} {\\rho_{1,\\overline{2}}}} + {2 {\\rho_{1,1,\\overline{1}}} {\\rho_{1,\\overline{1},\\overline{1}}} {\\rho_{1,\\overline{2}}} {\\rho_{2,\\overline{1}}}}}\\right),$$ $$ \\rho_{1,2,\\overline{2}}=\\left({{\\rho_{1,\\overline{1}}}^{-2}}\\right) \\left({{{\\rho_{1,1,\\overline{2}}} {\\rho_{1,\\overline{1}}} {\\rho_{2,\\overline{1}}}} + {{\\rho_{1,2,\\overline{1}}} {\\rho_{1,\\overline{1}}} {\\rho_{1,\\overline{2}}}} -{ {\\rho_{1,1,\\overline{1}}} {\\rho_{1,\\overline{2}}} {\\rho_{2,\\overline{1}}}}}\\right),$$ $$ \\rho_{1,2,\\overline{2},\\overline{2}}=\\left({{\\rho_{1,\\overline{1}}}^{-4}}\\right) \\left({{{\\rho_{1,1,\\overline{2},\\overline{2}}} {\\rho_{2,\\overline{1}}} {{\\rho_{1,\\overline{1}}}^{3}}} + {{\\rho_{1,2,\\overline{1}}} {\\rho_{1,\\overline{2},\\overline{2}}} {{\\rho_{1,\\overline{1}}}^{3}}} + {{\\rho_{1,2,\\overline{1},\\overline{1}}} {{\\rho_{1,\\overline{1}}}^{2}} {{\\rho_{1,\\overline{2}}}^{2}}} -{ {\\rho_{1,1,\\overline{1}}} {\\rho_{1,\\overline{2},\\overline{2}}} {\\rho_{2,\\overline{1}}} {{\\rho_{1,\\overline{1}}}^{2}}} -{ {\\rho_{1,1,\\overline{1},\\overline{1}}} {\\rho_{1,\\overline{1}}} {\\rho_{2,\\overline{1}}} {{\\rho_{1,\\overline{2}}}^{2}}} -{ {\\rho_{1,2,\\overline{1}}} {\\rho_{1,\\overline{1}}} {\\rho_{1,\\overline{1},\\overline{1}}} {{\\rho_{1,\\overline{2}}}^{2}}} -{2 {\\rho_{1,1,\\overline{1}}} {\\rho_{1,\\overline{1}}} {\\rho_{2,\\overline{1},\\overline{1}}} {{\\rho_{1,\\overline{2}}}^{2}}} + {2 {\\rho_{1,1,\\overline{2}}} {\\rho_{1,\\overline{2}}} {\\rho_{2,\\overline{1},\\overline{1}}} {{\\rho_{1,\\overline{1}}}^{2}}} + {3 {\\rho_{1,1,\\overline{1}}} {\\rho_{1,\\overline{1},\\overline{1}}} {\\rho_{2,\\overline{1}}} {{\\rho_{1,\\overline{2}}}^{2}}} -{2 {\\rho_{1,1,\\overline{2}}} {\\rho_{1,\\overline{1}}} {\\rho_{1,\\overline{1},\\overline{1}}} {\\rho_{1,\\overline{2}}} {\\rho_{2,\\overline{1}}}}}\\right),$$ $$ \\rho_{2,2,\\overline{1},\\overline{2}}=\\left({{\\rho_{1,\\overline{1}}}^{-4}}\\right) \\left({{{\\rho_{1,1,\\overline{1},\\overline{2}}} {{\\rho_{1,\\overline{1}}}^{2}} {{\\rho_{2,\\overline{1}}}^{2}}} + {{\\rho_{1,\\overline{1},\\overline{2}}} {\\rho_{2,2,\\overline{1}}} {{\\rho_{1,\\overline{1}}}^{3}}} + {{\\rho_{1,\\overline{2}}} {\\rho_{2,2,\\overline{1},\\overline{1}}} {{\\rho_{1,\\overline{1}}}^{3}}} -{ {\\rho_{1,1,\\overline{1}}} {\\rho_{1,\\overline{1}}} {\\rho_{1,\\overline{1},\\overline{2}}} {{\\rho_{2,\\overline{1}}}^{2}}} -{ {\\rho_{1,1,\\overline{1},\\overline{1}}} {\\rho_{1,\\overline{1}}} {\\rho_{1,\\overline{2}}} {{\\rho_{2,\\overline{1}}}^{2}}} -{ {\\rho_{1,\\overline{1},\\overline{1}}} {\\rho_{1,\\overline{2}}} {\\rho_{2,2,\\overline{1}}} {{\\rho_{1,\\overline{1}}}^{2}}} -{2 {\\rho_{1,1,\\overline{2}}} {\\rho_{1,\\overline{1}}} {\\rho_{1,\\overline{1},\\overline{1}}} {{\\rho_{2,\\overline{1}}}^{2}}} + {2 {\\rho_{1,1,\\overline{2}}} {\\rho_{2,\\overline{1}}} {\\rho_{2,\\overline{1},\\overline{1}}} {{\\rho_{1,\\overline{1}}}^{2}}} + {3 {\\rho_{1,1,\\overline{1}}} {\\rho_{1,\\overline{1},\\overline{1}}} {\\rho_{1,\\overline{2}}} {{\\rho_{2,\\overline{1}}}^{2}}} -{2 {\\rho_{1,1,\\overline{1}}} {\\rho_{1,\\overline{1}}} {\\rho_{1,\\overline{2}}} {\\rho_{2,\\overline{1}}} {\\rho_{2,\\overline{1},\\overline{1}}}}}\\right),$$ $$ \\rho_{2,\\overline{1},\\overline{1},\\overline{2}}=\\left({{\\rho_{1,\\overline{1}}}^{-3}}\\right) \\left({{{\\rho_{1,\\overline{1},\\overline{1},\\overline{2}}} {\\rho_{2,\\overline{1}}} {{\\rho_{1,\\overline{1}}}^{2}}} + {{\\rho_{1,\\overline{2}}} {\\rho_{2,\\overline{1},\\overline{1},\\overline{1}}} {{\\rho_{1,\\overline{1}}}^{2}}} + {2 {\\rho_{1,\\overline{1},\\overline{2}}} {\\rho_{2,\\overline{1},\\overline{1}}} {{\\rho_{1,\\overline{1}}}^{2}}} + {2 {\\rho_{1,\\overline{2}}} {\\rho_{2,\\overline{1}}} {{\\rho_{1,\\overline{1},\\overline{1}}}^{2}}} -{ {\\rho_{1,\\overline{1}}} {\\rho_{1,\\overline{1},\\overline{1},\\overline{1}}} {\\rho_{1,\\overline{2}}} {\\rho_{2,\\overline{1}}}} -{2 {\\rho_{1,\\overline{1}}} {\\rho_{1,\\overline{1},\\overline{1}}} {\\rho_{1,\\overline{1},\\overline{2}}} {\\rho_{2,\\overline{1}}}} -{2 {\\rho_{1,\\overline{1}}} {\\rho_{1,\\overline{1},\\overline{1}}} {\\rho_{1,\\overline{2}}} {\\rho_{2,\\overline{1},\\overline{1}}}}}\\right),$$ $$ \\rho_{2,\\overline{1},\\overline{2}}=\\left({{\\rho_{1,\\overline{1}}}^{-2}}\\right) \\left({{{\\rho_{1,\\overline{1}}} {\\rho_{1,\\overline{1},\\overline{2}}} {\\rho_{2,\\overline{1}}}} + {{\\rho_{1,\\overline{1}}} {\\rho_{1,\\overline{2}}} {\\rho_{2,\\overline{1},\\overline{1}}}} -{ {\\rho_{1,\\overline{1},\\overline{1}}} {\\rho_{1,\\overline{2}}} {\\rho_{2,\\overline{1}}}}}\\right),$$ and $$\\rho_{2,\\overline{1},\\overline{2},\\overline{2}}=\\left({{\\rho_{1,\\overline{1}}}^{-4}}\\right) \\left({{{\\rho_{1,\\overline{1},\\overline{2},\\overline{2}}} {\\rho_{2,\\overline{1}}} {{\\rho_{1,\\overline{1}}}^{3}}} + {{\\rho_{1,\\overline{2},\\overline{2}}} {\\rho_{2,\\overline{1},\\overline{1}}} {{\\rho_{1,\\overline{1}}}^{3}}} + {{\\rho_{2,\\overline{1},\\overline{1},\\overline{1}}} {{\\rho_{1,\\overline{1}}}^{2}} {{\\rho_{1,\\overline{2}}}^{2}}} + {3 {\\rho_{2,\\overline{1}}} {{\\rho_{1,\\overline{1},\\overline{1}}}^{2}} {{\\rho_{1,\\overline{2}}}^{2}}} -{ {\\rho_{1,\\overline{1}}} {\\rho_{1,\\overline{1},\\overline{1},\\overline{1}}} {\\rho_{2,\\overline{1}}} {{\\rho_{1,\\overline{2}}}^{2}}} -{ {\\rho_{1,\\overline{1},\\overline{1}}} {\\rho_{1,\\overline{2},\\overline{2}}} {\\rho_{2,\\overline{1}}} {{\\rho_{1,\\overline{1}}}^{2}}} -{3 {\\rho_{1,\\overline{1}}} {\\rho_{1,\\overline{1},\\overline{1}}} {\\rho_{2,\\overline{1},\\overline{1}}} {{\\rho_{1,\\overline{2}}}^{2}}} + {2 {\\rho_{1,\\overline{1},\\overline{2}}} {\\rho_{1,\\overline{2}}} {\\rho_{2,\\overline{1},\\overline{1}}} {{\\rho_{1,\\overline{1}}}^{2}}} -{2 {\\rho_{1,\\overline{1}}} {\\rho_{1,\\overline{1},\\overline{1}}} {\\rho_{1,\\overline{1},\\overline{2}}} {\\rho_{1,\\overline{2}}} {\\rho_{2,\\overline{1}}}}}\\right).$$"
      ],
      "text/plain": [
       "<IPython.core.display.Latex object>"
      ]
     },
     "metadata": {},
     "output_type": "display_data"
    }
   ],
   "source": [
    "solve_eqns_order_4 = eqns\n",
    "\n",
    "# We manually specify the variables w.r.t. solve (indices 0 and 1 are z1 and z2 partials whereas 3 and 4 correspond to their conjugate partials.)\n",
    "solve_vars_order_4 = [coframe_derivative(rho,CF_coordinate,0,1,4),\n",
    "              coframe_derivative(rho,CF_coordinate,0,0,1,4),\n",
    "              coframe_derivative(rho,CF_coordinate,0,1,1,4),\n",
    "              coframe_derivative(rho,CF_coordinate,0,1,3,4),\n",
    "              coframe_derivative(rho,CF_coordinate,0,1,4,4),\n",
    "              coframe_derivative(rho,CF_coordinate,1,3,4),\n",
    "              coframe_derivative(rho,CF_coordinate,1,3,3,4),\n",
    "              coframe_derivative(rho,CF_coordinate,1,1,3,4),\n",
    "              coframe_derivative(rho,CF_coordinate,1,3,4,4)\n",
    "              ]\n",
    "rho_constraints = solve_dgcv(solve_eqns_order_4,solve_vars_order_4)[0]\n",
    "show(f'Solution to derivatives of coefficient equations in $0=\\\\operatorname{{d}}\\\\omega$: {LaTeX_eqn_system(rho_constraints,add_period=True)}')"
   ]
  },
  {
   "cell_type": "markdown",
   "metadata": {},
   "source": [
    "Differentiating each of these equations once more gives a set of 4 additional higher-order equations:"
   ]
  },
  {
   "cell_type": "code",
   "execution_count": 32,
   "metadata": {},
   "outputs": [],
   "source": [
    "higher_order_eqns = []\n",
    "for eqn in  [j for i, j in enumerate(eqns) if i not in (0, 5)]:\n",
    "    new_eqns = list(expand_dgcv(j) for j in sp.simplify(extDer(eqn,CF_coordinate,with_canonicalize=True).subs(rho_constraints)).coeffs)\n",
    "    higher_order_eqns += new_eqns"
   ]
  },
  {
   "cell_type": "code",
   "execution_count": 33,
   "metadata": {},
   "outputs": [
    {
     "data": {
      "text/latex": [
       "Solution to derivatives of coefficient equations in $0=\\operatorname{d}\\omega$: $$\\rho_{1,1,1,2,\\overline{2}}={{\\rho_{1,1,1,1,\\overline{2}}} {\\rho_{2,\\overline{1}}} \\left({{\\rho_{1,\\overline{1}}}^{-1}}\\right)} + {{\\rho_{1,1,1,2,\\overline{1}}} {\\rho_{1,\\overline{2}}} \\left({{\\rho_{1,\\overline{1}}}^{-1}}\\right)} + {3 {\\rho_{1,1,1,\\overline{2}}} {\\rho_{1,2,\\overline{1}}} \\left({{\\rho_{1,\\overline{1}}}^{-1}}\\right)} + {3 {\\rho_{1,1,2,\\overline{1}}} {\\rho_{1,1,\\overline{2}}} \\left({{\\rho_{1,\\overline{1}}}^{-1}}\\right)} -{ {\\rho_{1,1,1,1,\\overline{1}}} {\\rho_{1,\\overline{2}}} {\\rho_{2,\\overline{1}}} \\left({{\\rho_{1,\\overline{1}}}^{-2}}\\right)} -{6 {\\rho_{1,1,\\overline{1}}} {\\rho_{1,1,\\overline{2}}} {\\rho_{1,2,\\overline{1}}} \\left({{\\rho_{1,\\overline{1}}}^{-2}}\\right)} -{6 {\\rho_{1,\\overline{2}}} {\\rho_{2,\\overline{1}}} {{\\rho_{1,1,\\overline{1}}}^{3}} \\left({{\\rho_{1,\\overline{1}}}^{-4}}\\right)} -{3 {\\rho_{1,1,1,\\overline{1}}} {\\rho_{1,1,\\overline{2}}} {\\rho_{2,\\overline{1}}} \\left({{\\rho_{1,\\overline{1}}}^{-2}}\\right)} -{3 {\\rho_{1,1,1,\\overline{1}}} {\\rho_{1,2,\\overline{1}}} {\\rho_{1,\\overline{2}}} \\left({{\\rho_{1,\\overline{1}}}^{-2}}\\right)} -{3 {\\rho_{1,1,1,\\overline{2}}} {\\rho_{1,1,\\overline{1}}} {\\rho_{2,\\overline{1}}} \\left({{\\rho_{1,\\overline{1}}}^{-2}}\\right)} -{3 {\\rho_{1,1,2,\\overline{1}}} {\\rho_{1,1,\\overline{1}}} {\\rho_{1,\\overline{2}}} \\left({{\\rho_{1,\\overline{1}}}^{-2}}\\right)} + {6 {\\rho_{1,1,\\overline{2}}} {\\rho_{2,\\overline{1}}} {{\\rho_{1,1,\\overline{1}}}^{2}} \\left({{\\rho_{1,\\overline{1}}}^{-3}}\\right)} + {6 {\\rho_{1,2,\\overline{1}}} {\\rho_{1,\\overline{2}}} {{\\rho_{1,1,\\overline{1}}}^{2}} \\left({{\\rho_{1,\\overline{1}}}^{-3}}\\right)} + {6 {\\rho_{1,1,1,\\overline{1}}} {\\rho_{1,1,\\overline{1}}} {\\rho_{1,\\overline{2}}} {\\rho_{2,\\overline{1}}} \\left({{\\rho_{1,\\overline{1}}}^{-3}}\\right)},$$ $$ \\rho_{1,1,2,2,\\overline{2}}=\\left({{\\rho_{1,\\overline{1}}}^{-5}}\\right) \\left({{{\\rho_{1,1,1,1,\\overline{2}}} {{\\rho_{1,\\overline{1}}}^{3}} {{\\rho_{2,\\overline{1}}}^{2}}} + {{\\rho_{1,1,1,\\overline{2}}} {\\rho_{2,2,\\overline{1}}} {{\\rho_{1,\\overline{1}}}^{4}}} + {{\\rho_{1,1,2,2,\\overline{1}}} {\\rho_{1,\\overline{2}}} {{\\rho_{1,\\overline{1}}}^{4}}} -{12 {\\rho_{1,\\overline{2}}} {{\\rho_{1,1,\\overline{1}}}^{3}} {{\\rho_{2,\\overline{1}}}^{2}}} + {2 {\\rho_{1,1,\\overline{2}}} {\\rho_{1,2,2,\\overline{1}}} {{\\rho_{1,\\overline{1}}}^{4}}} + {2 {\\rho_{1,1,\\overline{2}}} {{\\rho_{1,2,\\overline{1}}}^{2}} {{\\rho_{1,\\overline{1}}}^{3}}} -{ {\\rho_{1,1,1,1,\\overline{1}}} {\\rho_{1,\\overline{2}}} {{\\rho_{1,\\overline{1}}}^{2}} {{\\rho_{2,\\overline{1}}}^{2}}} -{ {\\rho_{1,1,1,\\overline{1}}} {\\rho_{1,\\overline{2}}} {\\rho_{2,2,\\overline{1}}} {{\\rho_{1,\\overline{1}}}^{3}}} -{5 {\\rho_{1,1,1,\\overline{2}}} {\\rho_{1,1,\\overline{1}}} {{\\rho_{1,\\overline{1}}}^{2}} {{\\rho_{2,\\overline{1}}}^{2}}} -{4 {\\rho_{1,1,1,\\overline{1}}} {\\rho_{1,1,\\overline{2}}} {{\\rho_{1,\\overline{1}}}^{2}} {{\\rho_{2,\\overline{1}}}^{2}}} -{2 {\\rho_{1,1,\\overline{1}}} {\\rho_{1,1,\\overline{2}}} {\\rho_{2,2,\\overline{1}}} {{\\rho_{1,\\overline{1}}}^{3}}} -{2 {\\rho_{1,1,\\overline{1}}} {\\rho_{1,2,2,\\overline{1}}} {\\rho_{1,\\overline{2}}} {{\\rho_{1,\\overline{1}}}^{3}}} -{2 {\\rho_{1,1,\\overline{1}}} {\\rho_{1,\\overline{2}}} {{\\rho_{1,2,\\overline{1}}}^{2}} {{\\rho_{1,\\overline{1}}}^{2}}} + {2 {\\rho_{1,1,2,\\overline{1}}} {\\rho_{1,1,\\overline{2}}} {\\rho_{2,\\overline{1}}} {{\\rho_{1,\\overline{1}}}^{3}}} + {2 {\\rho_{1,\\overline{2}}} {\\rho_{2,2,\\overline{1}}} {{\\rho_{1,1,\\overline{1}}}^{2}} {{\\rho_{1,\\overline{1}}}^{2}}} + {4 {\\rho_{1,1,1,\\overline{2}}} {\\rho_{1,2,\\overline{1}}} {\\rho_{2,\\overline{1}}} {{\\rho_{1,\\overline{1}}}^{3}}} + {12 {\\rho_{1,1,\\overline{2}}} {\\rho_{1,\\overline{1}}} {{\\rho_{1,1,\\overline{1}}}^{2}} {{\\rho_{2,\\overline{1}}}^{2}}} -{12 {\\rho_{1,1,\\overline{1}}} {\\rho_{1,1,\\overline{2}}} {\\rho_{1,2,\\overline{1}}} {\\rho_{2,\\overline{1}}} {{\\rho_{1,\\overline{1}}}^{2}}} -{4 {\\rho_{1,1,1,\\overline{1}}} {\\rho_{1,2,\\overline{1}}} {\\rho_{1,\\overline{2}}} {\\rho_{2,\\overline{1}}} {{\\rho_{1,\\overline{1}}}^{2}}} -{2 {\\rho_{1,1,2,\\overline{1}}} {\\rho_{1,1,\\overline{1}}} {\\rho_{1,\\overline{2}}} {\\rho_{2,\\overline{1}}} {{\\rho_{1,\\overline{1}}}^{2}}} + {9 {\\rho_{1,1,1,\\overline{1}}} {\\rho_{1,1,\\overline{1}}} {\\rho_{1,\\overline{1}}} {\\rho_{1,\\overline{2}}} {{\\rho_{2,\\overline{1}}}^{2}}} + {12 {\\rho_{1,2,\\overline{1}}} {\\rho_{1,\\overline{1}}} {\\rho_{1,\\overline{2}}} {\\rho_{2,\\overline{1}}} {{\\rho_{1,1,\\overline{1}}}^{2}}}}\\right),$$ $$ \\rho_{1,1,2,\\overline{1},\\overline{2}}=\\left({{\\rho_{1,\\overline{1}}}^{-4}}\\right) \\left({{{\\rho_{1,1,1,\\overline{1},\\overline{2}}} {\\rho_{2,\\overline{1}}} {{\\rho_{1,\\overline{1}}}^{3}}} + {{\\rho_{1,1,1,\\overline{2}}} {\\rho_{2,\\overline{1},\\overline{1}}} {{\\rho_{1,\\overline{1}}}^{3}}} + {{\\rho_{1,1,2,\\overline{1}}} {\\rho_{1,\\overline{1},\\overline{2}}} {{\\rho_{1,\\overline{1}}}^{3}}} + {{\\rho_{1,1,2,\\overline{1},\\overline{1}}} {\\rho_{1,\\overline{2}}} {{\\rho_{1,\\overline{1}}}^{3}}} + {2 {\\rho_{1,1,\\overline{1},\\overline{2}}} {\\rho_{1,2,\\overline{1}}} {{\\rho_{1,\\overline{1}}}^{3}}} + {2 {\\rho_{1,1,\\overline{2}}} {\\rho_{1,2,\\overline{1},\\overline{1}}} {{\\rho_{1,\\overline{1}}}^{3}}} -{ {\\rho_{1,1,1,\\overline{1}}} {\\rho_{1,\\overline{1},\\overline{2}}} {\\rho_{2,\\overline{1}}} {{\\rho_{1,\\overline{1}}}^{2}}} -{ {\\rho_{1,1,1,\\overline{1}}} {\\rho_{1,\\overline{2}}} {\\rho_{2,\\overline{1},\\overline{1}}} {{\\rho_{1,\\overline{1}}}^{2}}} -{ {\\rho_{1,1,1,\\overline{1},\\overline{1}}} {\\rho_{1,\\overline{2}}} {\\rho_{2,\\overline{1}}} {{\\rho_{1,\\overline{1}}}^{2}}} -{ {\\rho_{1,1,1,\\overline{2}}} {\\rho_{1,\\overline{1},\\overline{1}}} {\\rho_{2,\\overline{1}}} {{\\rho_{1,\\overline{1}}}^{2}}} -{ {\\rho_{1,1,2,\\overline{1}}} {\\rho_{1,\\overline{1},\\overline{1}}} {\\rho_{1,\\overline{2}}} {{\\rho_{1,\\overline{1}}}^{2}}} -{6 {\\rho_{1,\\overline{1},\\overline{1}}} {\\rho_{1,\\overline{2}}} {\\rho_{2,\\overline{1}}} {{\\rho_{1,1,\\overline{1}}}^{2}}} -{2 {\\rho_{1,1,\\overline{1}}} {\\rho_{1,1,\\overline{1},\\overline{2}}} {\\rho_{2,\\overline{1}}} {{\\rho_{1,\\overline{1}}}^{2}}} -{2 {\\rho_{1,1,\\overline{1}}} {\\rho_{1,1,\\overline{2}}} {\\rho_{2,\\overline{1},\\overline{1}}} {{\\rho_{1,\\overline{1}}}^{2}}} -{2 {\\rho_{1,1,\\overline{1}}} {\\rho_{1,2,\\overline{1}}} {\\rho_{1,\\overline{1},\\overline{2}}} {{\\rho_{1,\\overline{1}}}^{2}}} -{2 {\\rho_{1,1,\\overline{1}}} {\\rho_{1,2,\\overline{1},\\overline{1}}} {\\rho_{1,\\overline{2}}} {{\\rho_{1,\\overline{1}}}^{2}}} -{2 {\\rho_{1,1,\\overline{1},\\overline{1}}} {\\rho_{1,1,\\overline{2}}} {\\rho_{2,\\overline{1}}} {{\\rho_{1,\\overline{1}}}^{2}}} -{2 {\\rho_{1,1,\\overline{1},\\overline{1}}} {\\rho_{1,2,\\overline{1}}} {\\rho_{1,\\overline{2}}} {{\\rho_{1,\\overline{1}}}^{2}}} -{2 {\\rho_{1,1,\\overline{2}}} {\\rho_{1,2,\\overline{1}}} {\\rho_{1,\\overline{1},\\overline{1}}} {{\\rho_{1,\\overline{1}}}^{2}}} + {2 {\\rho_{1,\\overline{1}}} {\\rho_{1,\\overline{1},\\overline{2}}} {\\rho_{2,\\overline{1}}} {{\\rho_{1,1,\\overline{1}}}^{2}}} + {2 {\\rho_{1,\\overline{1}}} {\\rho_{1,\\overline{2}}} {\\rho_{2,\\overline{1},\\overline{1}}} {{\\rho_{1,1,\\overline{1}}}^{2}}} + {2 {\\rho_{1,1,1,\\overline{1}}} {\\rho_{1,\\overline{1}}} {\\rho_{1,\\overline{1},\\overline{1}}} {\\rho_{1,\\overline{2}}} {\\rho_{2,\\overline{1}}}} + {4 {\\rho_{1,1,\\overline{1}}} {\\rho_{1,1,\\overline{1},\\overline{1}}} {\\rho_{1,\\overline{1}}} {\\rho_{1,\\overline{2}}} {\\rho_{2,\\overline{1}}}} + {4 {\\rho_{1,1,\\overline{1}}} {\\rho_{1,1,\\overline{2}}} {\\rho_{1,\\overline{1}}} {\\rho_{1,\\overline{1},\\overline{1}}} {\\rho_{2,\\overline{1}}}} + {4 {\\rho_{1,1,\\overline{1}}} {\\rho_{1,2,\\overline{1}}} {\\rho_{1,\\overline{1}}} {\\rho_{1,\\overline{1},\\overline{1}}} {\\rho_{1,\\overline{2}}}}}\\right),$$ $$ \\rho_{1,1,2,\\overline{2},\\overline{2}}=\\left({{\\rho_{1,\\overline{1}}}^{-5}}\\right) \\left({{{\\rho_{1,1,1,\\overline{2},\\overline{2}}} {\\rho_{2,\\overline{1}}} {{\\rho_{1,\\overline{1}}}^{4}}} + {{\\rho_{1,1,2,\\overline{1}}} {\\rho_{1,\\overline{2},\\overline{2}}} {{\\rho_{1,\\overline{1}}}^{4}}} + {{\\rho_{1,1,2,\\overline{1},\\overline{1}}} {{\\rho_{1,\\overline{1}}}^{3}} {{\\rho_{1,\\overline{2}}}^{2}}} + {2 {\\rho_{1,1,\\overline{2},\\overline{2}}} {\\rho_{1,2,\\overline{1}}} {{\\rho_{1,\\overline{1}}}^{4}}} + {2 {\\rho_{2,\\overline{1},\\overline{1}}} {{\\rho_{1,1,\\overline{2}}}^{2}} {{\\rho_{1,\\overline{1}}}^{3}}} -{ {\\rho_{1,1,1,\\overline{1}}} {\\rho_{1,\\overline{2},\\overline{2}}} {\\rho_{2,\\overline{1}}} {{\\rho_{1,\\overline{1}}}^{3}}} -{ {\\rho_{1,1,1,\\overline{1},\\overline{1}}} {\\rho_{2,\\overline{1}}} {{\\rho_{1,\\overline{1}}}^{2}} {{\\rho_{1,\\overline{2}}}^{2}}} -{ {\\rho_{1,1,2,\\overline{1}}} {\\rho_{1,\\overline{1},\\overline{1}}} {{\\rho_{1,\\overline{1}}}^{2}} {{\\rho_{1,\\overline{2}}}^{2}}} -{12 {\\rho_{1,\\overline{1},\\overline{1}}} {\\rho_{2,\\overline{1}}} {{\\rho_{1,1,\\overline{1}}}^{2}} {{\\rho_{1,\\overline{2}}}^{2}}} -{4 {\\rho_{1,1,\\overline{1}}} {\\rho_{1,2,\\overline{1},\\overline{1}}} {{\\rho_{1,\\overline{1}}}^{2}} {{\\rho_{1,\\overline{2}}}^{2}}} -{2 {\\rho_{1,1,1,\\overline{1}}} {\\rho_{2,\\overline{1},\\overline{1}}} {{\\rho_{1,\\overline{1}}}^{2}} {{\\rho_{1,\\overline{2}}}^{2}}} -{2 {\\rho_{1,1,\\overline{1}}} {\\rho_{1,1,\\overline{2},\\overline{2}}} {\\rho_{2,\\overline{1}}} {{\\rho_{1,\\overline{1}}}^{3}}} -{2 {\\rho_{1,1,\\overline{1}}} {\\rho_{1,2,\\overline{1}}} {\\rho_{1,\\overline{2},\\overline{2}}} {{\\rho_{1,\\overline{1}}}^{3}}} -{2 {\\rho_{1,1,\\overline{1},\\overline{1}}} {\\rho_{1,2,\\overline{1}}} {{\\rho_{1,\\overline{1}}}^{2}} {{\\rho_{1,\\overline{2}}}^{2}}} -{2 {\\rho_{1,\\overline{1},\\overline{1}}} {\\rho_{2,\\overline{1}}} {{\\rho_{1,1,\\overline{2}}}^{2}} {{\\rho_{1,\\overline{1}}}^{2}}} + {2 {\\rho_{1,1,1,\\overline{2}}} {\\rho_{1,\\overline{2}}} {\\rho_{2,\\overline{1},\\overline{1}}} {{\\rho_{1,\\overline{1}}}^{3}}} + {2 {\\rho_{1,\\overline{2},\\overline{2}}} {\\rho_{2,\\overline{1}}} {{\\rho_{1,1,\\overline{1}}}^{2}} {{\\rho_{1,\\overline{1}}}^{2}}} + {4 {\\rho_{1,1,\\overline{2}}} {\\rho_{1,2,\\overline{1},\\overline{1}}} {\\rho_{1,\\overline{2}}} {{\\rho_{1,\\overline{1}}}^{3}}} + {6 {\\rho_{1,\\overline{1}}} {\\rho_{2,\\overline{1},\\overline{1}}} {{\\rho_{1,1,\\overline{1}}}^{2}} {{\\rho_{1,\\overline{2}}}^{2}}} -{8 {\\rho_{1,1,\\overline{1}}} {\\rho_{1,1,\\overline{2}}} {\\rho_{1,\\overline{2}}} {\\rho_{2,\\overline{1},\\overline{1}}} {{\\rho_{1,\\overline{1}}}^{2}}} -{4 {\\rho_{1,1,\\overline{1},\\overline{1}}} {\\rho_{1,1,\\overline{2}}} {\\rho_{1,\\overline{2}}} {\\rho_{2,\\overline{1}}} {{\\rho_{1,\\overline{1}}}^{2}}} -{4 {\\rho_{1,1,\\overline{2}}} {\\rho_{1,2,\\overline{1}}} {\\rho_{1,\\overline{1},\\overline{1}}} {\\rho_{1,\\overline{2}}} {{\\rho_{1,\\overline{1}}}^{2}}} -{2 {\\rho_{1,1,1,\\overline{2}}} {\\rho_{1,\\overline{1},\\overline{1}}} {\\rho_{1,\\overline{2}}} {\\rho_{2,\\overline{1}}} {{\\rho_{1,\\overline{1}}}^{2}}} + {3 {\\rho_{1,1,1,\\overline{1}}} {\\rho_{1,\\overline{1}}} {\\rho_{1,\\overline{1},\\overline{1}}} {\\rho_{2,\\overline{1}}} {{\\rho_{1,\\overline{2}}}^{2}}} + {6 {\\rho_{1,1,\\overline{1}}} {\\rho_{1,1,\\overline{1},\\overline{1}}} {\\rho_{1,\\overline{1}}} {\\rho_{2,\\overline{1}}} {{\\rho_{1,\\overline{2}}}^{2}}} + {6 {\\rho_{1,1,\\overline{1}}} {\\rho_{1,2,\\overline{1}}} {\\rho_{1,\\overline{1}}} {\\rho_{1,\\overline{1},\\overline{1}}} {{\\rho_{1,\\overline{2}}}^{2}}} + {12 {\\rho_{1,1,\\overline{1}}} {\\rho_{1,1,\\overline{2}}} {\\rho_{1,\\overline{1}}} {\\rho_{1,\\overline{1},\\overline{1}}} {\\rho_{1,\\overline{2}}} {\\rho_{2,\\overline{1}}}}}\\right),$$ $$ \\rho_{1,2,2,2,\\overline{2}}=\\left({{\\rho_{1,\\overline{1}}}^{-6}}\\right) \\left({{{\\rho_{1,1,1,1,\\overline{2}}} {{\\rho_{1,\\overline{1}}}^{3}} {{\\rho_{2,\\overline{1}}}^{3}}} + {{\\rho_{1,1,\\overline{2}}} {\\rho_{2,2,2,\\overline{1}}} {{\\rho_{1,\\overline{1}}}^{5}}} + {{\\rho_{1,2,2,2,\\overline{1}}} {\\rho_{1,\\overline{2}}} {{\\rho_{1,\\overline{1}}}^{5}}} -{15 {\\rho_{1,\\overline{2}}} {{\\rho_{1,1,\\overline{1}}}^{3}} {{\\rho_{2,\\overline{1}}}^{3}}} -{ {\\rho_{1,1,1,1,\\overline{1}}} {\\rho_{1,\\overline{2}}} {{\\rho_{1,\\overline{1}}}^{2}} {{\\rho_{2,\\overline{1}}}^{3}}} -{ {\\rho_{1,1,\\overline{1}}} {\\rho_{1,\\overline{2}}} {\\rho_{2,2,2,\\overline{1}}} {{\\rho_{1,\\overline{1}}}^{4}}} -{6 {\\rho_{1,1,1,\\overline{2}}} {\\rho_{1,1,\\overline{1}}} {{\\rho_{1,\\overline{1}}}^{2}} {{\\rho_{2,\\overline{1}}}^{3}}} -{4 {\\rho_{1,1,1,\\overline{1}}} {\\rho_{1,1,\\overline{2}}} {{\\rho_{1,\\overline{1}}}^{2}} {{\\rho_{2,\\overline{1}}}^{3}}} + {3 {\\rho_{1,1,1,\\overline{2}}} {\\rho_{1,2,\\overline{1}}} {{\\rho_{1,\\overline{1}}}^{3}} {{\\rho_{2,\\overline{1}}}^{2}}} + {3 {\\rho_{1,1,1,\\overline{2}}} {\\rho_{2,2,\\overline{1}}} {\\rho_{2,\\overline{1}}} {{\\rho_{1,\\overline{1}}}^{4}}} + {3 {\\rho_{1,1,\\overline{2}}} {\\rho_{1,2,2,\\overline{1}}} {\\rho_{2,\\overline{1}}} {{\\rho_{1,\\overline{1}}}^{4}}} + {3 {\\rho_{1,1,\\overline{2}}} {\\rho_{1,2,\\overline{1}}} {\\rho_{2,2,\\overline{1}}} {{\\rho_{1,\\overline{1}}}^{4}}} + {15 {\\rho_{1,1,\\overline{2}}} {\\rho_{1,\\overline{1}}} {{\\rho_{1,1,\\overline{1}}}^{2}} {{\\rho_{2,\\overline{1}}}^{3}}} -{9 {\\rho_{1,1,\\overline{1}}} {\\rho_{1,1,\\overline{2}}} {\\rho_{1,2,\\overline{1}}} {{\\rho_{1,\\overline{1}}}^{2}} {{\\rho_{2,\\overline{1}}}^{2}}} -{9 {\\rho_{1,1,\\overline{1}}} {\\rho_{1,1,\\overline{2}}} {\\rho_{2,2,\\overline{1}}} {\\rho_{2,\\overline{1}}} {{\\rho_{1,\\overline{1}}}^{3}}} -{3 {\\rho_{1,1,1,\\overline{1}}} {\\rho_{1,2,\\overline{1}}} {\\rho_{1,\\overline{2}}} {{\\rho_{1,\\overline{1}}}^{2}} {{\\rho_{2,\\overline{1}}}^{2}}} -{3 {\\rho_{1,1,1,\\overline{1}}} {\\rho_{1,\\overline{2}}} {\\rho_{2,2,\\overline{1}}} {\\rho_{2,\\overline{1}}} {{\\rho_{1,\\overline{1}}}^{3}}} -{3 {\\rho_{1,1,\\overline{1}}} {\\rho_{1,2,2,\\overline{1}}} {\\rho_{1,\\overline{2}}} {\\rho_{2,\\overline{1}}} {{\\rho_{1,\\overline{1}}}^{3}}} -{3 {\\rho_{1,1,\\overline{1}}} {\\rho_{1,2,\\overline{1}}} {\\rho_{1,\\overline{2}}} {\\rho_{2,2,\\overline{1}}} {{\\rho_{1,\\overline{1}}}^{3}}} + {9 {\\rho_{1,2,\\overline{1}}} {\\rho_{1,\\overline{1}}} {\\rho_{1,\\overline{2}}} {{\\rho_{1,1,\\overline{1}}}^{2}} {{\\rho_{2,\\overline{1}}}^{2}}} + {9 {\\rho_{1,\\overline{2}}} {\\rho_{2,2,\\overline{1}}} {\\rho_{2,\\overline{1}}} {{\\rho_{1,1,\\overline{1}}}^{2}} {{\\rho_{1,\\overline{1}}}^{2}}} + {10 {\\rho_{1,1,1,\\overline{1}}} {\\rho_{1,1,\\overline{1}}} {\\rho_{1,\\overline{1}}} {\\rho_{1,\\overline{2}}} {{\\rho_{2,\\overline{1}}}^{3}}}}\\right),$$ $$ \\rho_{1,2,2,\\overline{1},\\overline{2}}=\\left({{\\rho_{1,\\overline{1}}}^{-5}}\\right) \\left({{{\\rho_{1,1,1,\\overline{1},\\overline{2}}} {{\\rho_{1,\\overline{1}}}^{3}} {{\\rho_{2,\\overline{1}}}^{2}}} + {{\\rho_{1,1,\\overline{1},\\overline{2}}} {\\rho_{2,2,\\overline{1}}} {{\\rho_{1,\\overline{1}}}^{4}}} + {{\\rho_{1,1,\\overline{2}}} {\\rho_{2,2,\\overline{1},\\overline{1}}} {{\\rho_{1,\\overline{1}}}^{4}}} + {{\\rho_{1,2,2,\\overline{1}}} {\\rho_{1,\\overline{1},\\overline{2}}} {{\\rho_{1,\\overline{1}}}^{4}}} + {{\\rho_{1,2,2,\\overline{1},\\overline{1}}} {\\rho_{1,\\overline{2}}} {{\\rho_{1,\\overline{1}}}^{4}}} -{ {\\rho_{1,1,1,\\overline{1}}} {\\rho_{1,\\overline{1},\\overline{2}}} {{\\rho_{1,\\overline{1}}}^{2}} {{\\rho_{2,\\overline{1}}}^{2}}} -{ {\\rho_{1,1,1,\\overline{1},\\overline{1}}} {\\rho_{1,\\overline{2}}} {{\\rho_{1,\\overline{1}}}^{2}} {{\\rho_{2,\\overline{1}}}^{2}}} -{ {\\rho_{1,1,\\overline{1}}} {\\rho_{1,\\overline{1},\\overline{2}}} {\\rho_{2,2,\\overline{1}}} {{\\rho_{1,\\overline{1}}}^{3}}} -{ {\\rho_{1,1,\\overline{1}}} {\\rho_{1,\\overline{2}}} {\\rho_{2,2,\\overline{1},\\overline{1}}} {{\\rho_{1,\\overline{1}}}^{3}}} -{ {\\rho_{1,1,\\overline{1},\\overline{1}}} {\\rho_{1,\\overline{2}}} {\\rho_{2,2,\\overline{1}}} {{\\rho_{1,\\overline{1}}}^{3}}} -{ {\\rho_{1,1,\\overline{2}}} {\\rho_{1,\\overline{1},\\overline{1}}} {\\rho_{2,2,\\overline{1}}} {{\\rho_{1,\\overline{1}}}^{3}}} -{ {\\rho_{1,2,2,\\overline{1}}} {\\rho_{1,\\overline{1},\\overline{1}}} {\\rho_{1,\\overline{2}}} {{\\rho_{1,\\overline{1}}}^{3}}} -{12 {\\rho_{1,\\overline{1},\\overline{1}}} {\\rho_{1,\\overline{2}}} {{\\rho_{1,1,\\overline{1}}}^{2}} {{\\rho_{2,\\overline{1}}}^{2}}} -{3 {\\rho_{1,1,\\overline{1}}} {\\rho_{1,1,\\overline{1},\\overline{2}}} {{\\rho_{1,\\overline{1}}}^{2}} {{\\rho_{2,\\overline{1}}}^{2}}} -{3 {\\rho_{1,1,\\overline{1},\\overline{1}}} {\\rho_{1,1,\\overline{2}}} {{\\rho_{1,\\overline{1}}}^{2}} {{\\rho_{2,\\overline{1}}}^{2}}} -{2 {\\rho_{1,1,1,\\overline{2}}} {\\rho_{1,\\overline{1},\\overline{1}}} {{\\rho_{1,\\overline{1}}}^{2}} {{\\rho_{2,\\overline{1}}}^{2}}} + {2 {\\rho_{1,1,1,\\overline{2}}} {\\rho_{2,\\overline{1}}} {\\rho_{2,\\overline{1},\\overline{1}}} {{\\rho_{1,\\overline{1}}}^{3}}} + {2 {\\rho_{1,1,\\overline{1},\\overline{2}}} {\\rho_{1,2,\\overline{1}}} {\\rho_{2,\\overline{1}}} {{\\rho_{1,\\overline{1}}}^{3}}} + {2 {\\rho_{1,1,\\overline{2}}} {\\rho_{1,2,\\overline{1}}} {\\rho_{2,\\overline{1},\\overline{1}}} {{\\rho_{1,\\overline{1}}}^{3}}} + {2 {\\rho_{1,1,\\overline{2}}} {\\rho_{1,2,\\overline{1},\\overline{1}}} {\\rho_{2,\\overline{1}}} {{\\rho_{1,\\overline{1}}}^{3}}} + {3 {\\rho_{1,\\overline{1}}} {\\rho_{1,\\overline{1},\\overline{2}}} {{\\rho_{1,1,\\overline{1}}}^{2}} {{\\rho_{2,\\overline{1}}}^{2}}} -{6 {\\rho_{1,1,\\overline{1}}} {\\rho_{1,1,\\overline{2}}} {\\rho_{2,\\overline{1}}} {\\rho_{2,\\overline{1},\\overline{1}}} {{\\rho_{1,\\overline{1}}}^{2}}} -{4 {\\rho_{1,1,\\overline{2}}} {\\rho_{1,2,\\overline{1}}} {\\rho_{1,\\overline{1},\\overline{1}}} {\\rho_{2,\\overline{1}}} {{\\rho_{1,\\overline{1}}}^{2}}} -{2 {\\rho_{1,1,1,\\overline{1}}} {\\rho_{1,\\overline{2}}} {\\rho_{2,\\overline{1}}} {\\rho_{2,\\overline{1},\\overline{1}}} {{\\rho_{1,\\overline{1}}}^{2}}} -{2 {\\rho_{1,1,\\overline{1}}} {\\rho_{1,2,\\overline{1}}} {\\rho_{1,\\overline{1},\\overline{2}}} {\\rho_{2,\\overline{1}}} {{\\rho_{1,\\overline{1}}}^{2}}} -{2 {\\rho_{1,1,\\overline{1}}} {\\rho_{1,2,\\overline{1}}} {\\rho_{1,\\overline{2}}} {\\rho_{2,\\overline{1},\\overline{1}}} {{\\rho_{1,\\overline{1}}}^{2}}} -{2 {\\rho_{1,1,\\overline{1}}} {\\rho_{1,2,\\overline{1},\\overline{1}}} {\\rho_{1,\\overline{2}}} {\\rho_{2,\\overline{1}}} {{\\rho_{1,\\overline{1}}}^{2}}} -{2 {\\rho_{1,1,\\overline{1},\\overline{1}}} {\\rho_{1,2,\\overline{1}}} {\\rho_{1,\\overline{2}}} {\\rho_{2,\\overline{1}}} {{\\rho_{1,\\overline{1}}}^{2}}} + {2 {\\rho_{1,1,\\overline{1}}} {\\rho_{1,\\overline{1},\\overline{1}}} {\\rho_{1,\\overline{2}}} {\\rho_{2,2,\\overline{1}}} {{\\rho_{1,\\overline{1}}}^{2}}} + {3 {\\rho_{1,1,1,\\overline{1}}} {\\rho_{1,\\overline{1}}} {\\rho_{1,\\overline{1},\\overline{1}}} {\\rho_{1,\\overline{2}}} {{\\rho_{2,\\overline{1}}}^{2}}} + {6 {\\rho_{1,1,\\overline{1}}} {\\rho_{1,1,\\overline{1},\\overline{1}}} {\\rho_{1,\\overline{1}}} {\\rho_{1,\\overline{2}}} {{\\rho_{2,\\overline{1}}}^{2}}} + {6 {\\rho_{1,\\overline{1}}} {\\rho_{1,\\overline{2}}} {\\rho_{2,\\overline{1}}} {\\rho_{2,\\overline{1},\\overline{1}}} {{\\rho_{1,1,\\overline{1}}}^{2}}} + {9 {\\rho_{1,1,\\overline{1}}} {\\rho_{1,1,\\overline{2}}} {\\rho_{1,\\overline{1}}} {\\rho_{1,\\overline{1},\\overline{1}}} {{\\rho_{2,\\overline{1}}}^{2}}} + {6 {\\rho_{1,1,\\overline{1}}} {\\rho_{1,2,\\overline{1}}} {\\rho_{1,\\overline{1}}} {\\rho_{1,\\overline{1},\\overline{1}}} {\\rho_{1,\\overline{2}}} {\\rho_{2,\\overline{1}}}}}\\right),$$ $$ \\rho_{1,2,2,\\overline{2},\\overline{2}}=\\left({{\\rho_{1,\\overline{1}}}^{-6}}\\right) \\left({{{\\rho_{1,1,1,\\overline{2},\\overline{2}}} {{\\rho_{1,\\overline{1}}}^{4}} {{\\rho_{2,\\overline{1}}}^{2}}} + {{\\rho_{1,1,\\overline{2},\\overline{2}}} {\\rho_{2,2,\\overline{1}}} {{\\rho_{1,\\overline{1}}}^{5}}} + {{\\rho_{1,2,2,\\overline{1}}} {\\rho_{1,\\overline{2},\\overline{2}}} {{\\rho_{1,\\overline{1}}}^{5}}} + {{\\rho_{1,2,2,\\overline{1},\\overline{1}}} {{\\rho_{1,\\overline{1}}}^{4}} {{\\rho_{1,\\overline{2}}}^{2}}} -{ {\\rho_{1,1,1,\\overline{1}}} {\\rho_{1,\\overline{2},\\overline{2}}} {{\\rho_{1,\\overline{1}}}^{3}} {{\\rho_{2,\\overline{1}}}^{2}}} -{ {\\rho_{1,1,1,\\overline{1},\\overline{1}}} {{\\rho_{1,\\overline{1}}}^{2}} {{\\rho_{1,\\overline{2}}}^{2}} {{\\rho_{2,\\overline{1}}}^{2}}} -{ {\\rho_{1,1,\\overline{1}}} {\\rho_{1,\\overline{2},\\overline{2}}} {\\rho_{2,2,\\overline{1}}} {{\\rho_{1,\\overline{1}}}^{4}}} -{ {\\rho_{1,1,\\overline{1},\\overline{1}}} {\\rho_{2,2,\\overline{1}}} {{\\rho_{1,\\overline{1}}}^{3}} {{\\rho_{1,\\overline{2}}}^{2}}} -{ {\\rho_{1,2,2,\\overline{1}}} {\\rho_{1,\\overline{1},\\overline{1}}} {{\\rho_{1,\\overline{1}}}^{3}} {{\\rho_{1,\\overline{2}}}^{2}}} -{25 {\\rho_{1,\\overline{1},\\overline{1}}} {{\\rho_{1,1,\\overline{1}}}^{2}} {{\\rho_{1,\\overline{2}}}^{2}} {{\\rho_{2,\\overline{1}}}^{2}}} -{4 {\\rho_{1,\\overline{1},\\overline{1}}} {{\\rho_{1,1,\\overline{2}}}^{2}} {{\\rho_{1,\\overline{1}}}^{2}} {{\\rho_{2,\\overline{1}}}^{2}}} -{3 {\\rho_{1,1,\\overline{1}}} {\\rho_{1,1,\\overline{2},\\overline{2}}} {{\\rho_{1,\\overline{1}}}^{3}} {{\\rho_{2,\\overline{1}}}^{2}}} -{2 {\\rho_{1,1,\\overline{1}}} {\\rho_{2,2,\\overline{1},\\overline{1}}} {{\\rho_{1,\\overline{1}}}^{3}} {{\\rho_{1,\\overline{2}}}^{2}}} + {2 {\\rho_{1,1,\\overline{2}}} {\\rho_{1,\\overline{2}}} {\\rho_{2,2,\\overline{1},\\overline{1}}} {{\\rho_{1,\\overline{1}}}^{4}}} + {2 {\\rho_{1,1,\\overline{2},\\overline{2}}} {\\rho_{1,2,\\overline{1}}} {\\rho_{2,\\overline{1}}} {{\\rho_{1,\\overline{1}}}^{4}}} + {3 {\\rho_{1,\\overline{2},\\overline{2}}} {{\\rho_{1,1,\\overline{1}}}^{2}} {{\\rho_{1,\\overline{1}}}^{2}} {{\\rho_{2,\\overline{1}}}^{2}}} + {4 {\\rho_{2,\\overline{1}}} {\\rho_{2,\\overline{1},\\overline{1}}} {{\\rho_{1,1,\\overline{2}}}^{2}} {{\\rho_{1,\\overline{1}}}^{3}}} -{6 {\\rho_{1,1,\\overline{1},\\overline{1}}} {\\rho_{1,1,\\overline{2}}} {\\rho_{1,\\overline{2}}} {{\\rho_{1,\\overline{1}}}^{2}} {{\\rho_{2,\\overline{1}}}^{2}}} -{4 {\\rho_{1,1,1,\\overline{1}}} {\\rho_{2,\\overline{1}}} {\\rho_{2,\\overline{1},\\overline{1}}} {{\\rho_{1,\\overline{1}}}^{2}} {{\\rho_{1,\\overline{2}}}^{2}}} -{4 {\\rho_{1,1,1,\\overline{2}}} {\\rho_{1,\\overline{1},\\overline{1}}} {\\rho_{1,\\overline{2}}} {{\\rho_{1,\\overline{1}}}^{2}} {{\\rho_{2,\\overline{1}}}^{2}}} -{4 {\\rho_{1,1,\\overline{1}}} {\\rho_{1,2,\\overline{1}}} {\\rho_{2,\\overline{1},\\overline{1}}} {{\\rho_{1,\\overline{1}}}^{2}} {{\\rho_{1,\\overline{2}}}^{2}}} -{4 {\\rho_{1,1,\\overline{1}}} {\\rho_{1,2,\\overline{1},\\overline{1}}} {\\rho_{2,\\overline{1}}} {{\\rho_{1,\\overline{1}}}^{2}} {{\\rho_{1,\\overline{2}}}^{2}}} -{2 {\\rho_{1,1,\\overline{1}}} {\\rho_{1,2,\\overline{1}}} {\\rho_{1,\\overline{2},\\overline{2}}} {\\rho_{2,\\overline{1}}} {{\\rho_{1,\\overline{1}}}^{3}}} -{2 {\\rho_{1,1,\\overline{1},\\overline{1}}} {\\rho_{1,2,\\overline{1}}} {\\rho_{2,\\overline{1}}} {{\\rho_{1,\\overline{1}}}^{2}} {{\\rho_{1,\\overline{2}}}^{2}}} -{2 {\\rho_{1,1,\\overline{2}}} {\\rho_{1,\\overline{1},\\overline{1}}} {\\rho_{1,\\overline{2}}} {\\rho_{2,2,\\overline{1}}} {{\\rho_{1,\\overline{1}}}^{3}}} + {3 {\\rho_{1,1,\\overline{1}}} {\\rho_{1,\\overline{1},\\overline{1}}} {\\rho_{2,2,\\overline{1}}} {{\\rho_{1,\\overline{1}}}^{2}} {{\\rho_{1,\\overline{2}}}^{2}}} + {4 {\\rho_{1,1,1,\\overline{2}}} {\\rho_{1,\\overline{2}}} {\\rho_{2,\\overline{1}}} {\\rho_{2,\\overline{1},\\overline{1}}} {{\\rho_{1,\\overline{1}}}^{3}}} + {4 {\\rho_{1,1,\\overline{2}}} {\\rho_{1,2,\\overline{1}}} {\\rho_{1,\\overline{2}}} {\\rho_{2,\\overline{1},\\overline{1}}} {{\\rho_{1,\\overline{1}}}^{3}}} + {4 {\\rho_{1,1,\\overline{2}}} {\\rho_{1,2,\\overline{1},\\overline{1}}} {\\rho_{1,\\overline{2}}} {\\rho_{2,\\overline{1}}} {{\\rho_{1,\\overline{1}}}^{3}}} + {5 {\\rho_{1,1,1,\\overline{1}}} {\\rho_{1,\\overline{1}}} {\\rho_{1,\\overline{1},\\overline{1}}} {{\\rho_{1,\\overline{2}}}^{2}} {{\\rho_{2,\\overline{1}}}^{2}}} + {9 {\\rho_{1,1,\\overline{1}}} {\\rho_{1,1,\\overline{1},\\overline{1}}} {\\rho_{1,\\overline{1}}} {{\\rho_{1,\\overline{2}}}^{2}} {{\\rho_{2,\\overline{1}}}^{2}}} + {16 {\\rho_{1,\\overline{1}}} {\\rho_{2,\\overline{1}}} {\\rho_{2,\\overline{1},\\overline{1}}} {{\\rho_{1,1,\\overline{1}}}^{2}} {{\\rho_{1,\\overline{2}}}^{2}}} -{20 {\\rho_{1,1,\\overline{1}}} {\\rho_{1,1,\\overline{2}}} {\\rho_{1,\\overline{2}}} {\\rho_{2,\\overline{1}}} {\\rho_{2,\\overline{1},\\overline{1}}} {{\\rho_{1,\\overline{1}}}^{2}}} -{8 {\\rho_{1,1,\\overline{2}}} {\\rho_{1,2,\\overline{1}}} {\\rho_{1,\\overline{1},\\overline{1}}} {\\rho_{1,\\overline{2}}} {\\rho_{2,\\overline{1}}} {{\\rho_{1,\\overline{1}}}^{2}}} + {10 {\\rho_{1,1,\\overline{1}}} {\\rho_{1,2,\\overline{1}}} {\\rho_{1,\\overline{1}}} {\\rho_{1,\\overline{1},\\overline{1}}} {\\rho_{2,\\overline{1}}} {{\\rho_{1,\\overline{2}}}^{2}}} + {26 {\\rho_{1,1,\\overline{1}}} {\\rho_{1,1,\\overline{2}}} {\\rho_{1,\\overline{1}}} {\\rho_{1,\\overline{1},\\overline{1}}} {\\rho_{1,\\overline{2}}} {{\\rho_{2,\\overline{1}}}^{2}}}}\\right),$$ $$ \\rho_{1,2,\\overline{1},\\overline{1},\\overline{2}}=\\left({{\\rho_{1,\\overline{1}}}^{-4}}\\right) \\left({{{\\rho_{1,1,\\overline{1},\\overline{1},\\overline{2}}} {\\rho_{2,\\overline{1}}} {{\\rho_{1,\\overline{1}}}^{3}}} + {{\\rho_{1,1,\\overline{2}}} {\\rho_{2,\\overline{1},\\overline{1},\\overline{1}}} {{\\rho_{1,\\overline{1}}}^{3}}} + {{\\rho_{1,2,\\overline{1}}} {\\rho_{1,\\overline{1},\\overline{1},\\overline{2}}} {{\\rho_{1,\\overline{1}}}^{3}}} + {{\\rho_{1,2,\\overline{1},\\overline{1},\\overline{1}}} {\\rho_{1,\\overline{2}}} {{\\rho_{1,\\overline{1}}}^{3}}} + {2 {\\rho_{1,1,\\overline{1},\\overline{2}}} {\\rho_{2,\\overline{1},\\overline{1}}} {{\\rho_{1,\\overline{1}}}^{3}}} + {2 {\\rho_{1,2,\\overline{1},\\overline{1}}} {\\rho_{1,\\overline{1},\\overline{2}}} {{\\rho_{1,\\overline{1}}}^{3}}} -{ {\\rho_{1,1,\\overline{1}}} {\\rho_{1,\\overline{1},\\overline{1},\\overline{2}}} {\\rho_{2,\\overline{1}}} {{\\rho_{1,\\overline{1}}}^{2}}} -{ {\\rho_{1,1,\\overline{1}}} {\\rho_{1,\\overline{2}}} {\\rho_{2,\\overline{1},\\overline{1},\\overline{1}}} {{\\rho_{1,\\overline{1}}}^{2}}} -{ {\\rho_{1,1,\\overline{1},\\overline{1},\\overline{1}}} {\\rho_{1,\\overline{2}}} {\\rho_{2,\\overline{1}}} {{\\rho_{1,\\overline{1}}}^{2}}} -{ {\\rho_{1,1,\\overline{2}}} {\\rho_{1,\\overline{1},\\overline{1},\\overline{1}}} {\\rho_{2,\\overline{1}}} {{\\rho_{1,\\overline{1}}}^{2}}} -{ {\\rho_{1,2,\\overline{1}}} {\\rho_{1,\\overline{1},\\overline{1},\\overline{1}}} {\\rho_{1,\\overline{2}}} {{\\rho_{1,\\overline{1}}}^{2}}} -{6 {\\rho_{1,1,\\overline{1}}} {\\rho_{1,\\overline{2}}} {\\rho_{2,\\overline{1}}} {{\\rho_{1,\\overline{1},\\overline{1}}}^{2}}} -{2 {\\rho_{1,1,\\overline{1}}} {\\rho_{1,\\overline{1},\\overline{2}}} {\\rho_{2,\\overline{1},\\overline{1}}} {{\\rho_{1,\\overline{1}}}^{2}}} -{2 {\\rho_{1,1,\\overline{1},\\overline{1}}} {\\rho_{1,\\overline{1},\\overline{2}}} {\\rho_{2,\\overline{1}}} {{\\rho_{1,\\overline{1}}}^{2}}} -{2 {\\rho_{1,1,\\overline{1},\\overline{1}}} {\\rho_{1,\\overline{2}}} {\\rho_{2,\\overline{1},\\overline{1}}} {{\\rho_{1,\\overline{1}}}^{2}}} -{2 {\\rho_{1,1,\\overline{1},\\overline{2}}} {\\rho_{1,\\overline{1},\\overline{1}}} {\\rho_{2,\\overline{1}}} {{\\rho_{1,\\overline{1}}}^{2}}} -{2 {\\rho_{1,1,\\overline{2}}} {\\rho_{1,\\overline{1},\\overline{1}}} {\\rho_{2,\\overline{1},\\overline{1}}} {{\\rho_{1,\\overline{1}}}^{2}}} -{2 {\\rho_{1,2,\\overline{1}}} {\\rho_{1,\\overline{1},\\overline{1}}} {\\rho_{1,\\overline{1},\\overline{2}}} {{\\rho_{1,\\overline{1}}}^{2}}} -{2 {\\rho_{1,2,\\overline{1},\\overline{1}}} {\\rho_{1,\\overline{1},\\overline{1}}} {\\rho_{1,\\overline{2}}} {{\\rho_{1,\\overline{1}}}^{2}}} + {2 {\\rho_{1,1,\\overline{2}}} {\\rho_{1,\\overline{1}}} {\\rho_{2,\\overline{1}}} {{\\rho_{1,\\overline{1},\\overline{1}}}^{2}}} + {2 {\\rho_{1,2,\\overline{1}}} {\\rho_{1,\\overline{1}}} {\\rho_{1,\\overline{2}}} {{\\rho_{1,\\overline{1},\\overline{1}}}^{2}}} + {2 {\\rho_{1,1,\\overline{1}}} {\\rho_{1,\\overline{1}}} {\\rho_{1,\\overline{1},\\overline{1},\\overline{1}}} {\\rho_{1,\\overline{2}}} {\\rho_{2,\\overline{1}}}} + {4 {\\rho_{1,1,\\overline{1}}} {\\rho_{1,\\overline{1}}} {\\rho_{1,\\overline{1},\\overline{1}}} {\\rho_{1,\\overline{1},\\overline{2}}} {\\rho_{2,\\overline{1}}}} + {4 {\\rho_{1,1,\\overline{1}}} {\\rho_{1,\\overline{1}}} {\\rho_{1,\\overline{1},\\overline{1}}} {\\rho_{1,\\overline{2}}} {\\rho_{2,\\overline{1},\\overline{1}}}} + {4 {\\rho_{1,1,\\overline{1},\\overline{1}}} {\\rho_{1,\\overline{1}}} {\\rho_{1,\\overline{1},\\overline{1}}} {\\rho_{1,\\overline{2}}} {\\rho_{2,\\overline{1}}}}}\\right),$$ $$ \\rho_{1,2,\\overline{1},\\overline{2},\\overline{2}}=\\left({{\\rho_{1,\\overline{1}}}^{-5}}\\right) \\left({{{\\rho_{1,1,\\overline{1},\\overline{2},\\overline{2}}} {\\rho_{2,\\overline{1}}} {{\\rho_{1,\\overline{1}}}^{4}}} + {{\\rho_{1,1,\\overline{2},\\overline{2}}} {\\rho_{2,\\overline{1},\\overline{1}}} {{\\rho_{1,\\overline{1}}}^{4}}} + {{\\rho_{1,2,\\overline{1}}} {\\rho_{1,\\overline{1},\\overline{2},\\overline{2}}} {{\\rho_{1,\\overline{1}}}^{4}}} + {{\\rho_{1,2,\\overline{1},\\overline{1}}} {\\rho_{1,\\overline{2},\\overline{2}}} {{\\rho_{1,\\overline{1}}}^{4}}} + {{\\rho_{1,2,\\overline{1},\\overline{1},\\overline{1}}} {{\\rho_{1,\\overline{1}}}^{3}} {{\\rho_{1,\\overline{2}}}^{2}}} -{ {\\rho_{1,1,\\overline{1}}} {\\rho_{1,\\overline{1},\\overline{2},\\overline{2}}} {\\rho_{2,\\overline{1}}} {{\\rho_{1,\\overline{1}}}^{3}}} -{ {\\rho_{1,1,\\overline{1}}} {\\rho_{1,\\overline{2},\\overline{2}}} {\\rho_{2,\\overline{1},\\overline{1}}} {{\\rho_{1,\\overline{1}}}^{3}}} -{ {\\rho_{1,1,\\overline{1},\\overline{1}}} {\\rho_{1,\\overline{2},\\overline{2}}} {\\rho_{2,\\overline{1}}} {{\\rho_{1,\\overline{1}}}^{3}}} -{ {\\rho_{1,1,\\overline{1},\\overline{1},\\overline{1}}} {\\rho_{2,\\overline{1}}} {{\\rho_{1,\\overline{1}}}^{2}} {{\\rho_{1,\\overline{2}}}^{2}}} -{ {\\rho_{1,1,\\overline{2},\\overline{2}}} {\\rho_{1,\\overline{1},\\overline{1}}} {\\rho_{2,\\overline{1}}} {{\\rho_{1,\\overline{1}}}^{3}}} -{ {\\rho_{1,2,\\overline{1}}} {\\rho_{1,\\overline{1},\\overline{1}}} {\\rho_{1,\\overline{2},\\overline{2}}} {{\\rho_{1,\\overline{1}}}^{3}}} -{ {\\rho_{1,2,\\overline{1}}} {\\rho_{1,\\overline{1},\\overline{1},\\overline{1}}} {{\\rho_{1,\\overline{1}}}^{2}} {{\\rho_{1,\\overline{2}}}^{2}}} -{12 {\\rho_{1,1,\\overline{1}}} {\\rho_{2,\\overline{1}}} {{\\rho_{1,\\overline{1},\\overline{1}}}^{2}} {{\\rho_{1,\\overline{2}}}^{2}}} -{3 {\\rho_{1,1,\\overline{1},\\overline{1}}} {\\rho_{2,\\overline{1},\\overline{1}}} {{\\rho_{1,\\overline{1}}}^{2}} {{\\rho_{1,\\overline{2}}}^{2}}} -{3 {\\rho_{1,2,\\overline{1},\\overline{1}}} {\\rho_{1,\\overline{1},\\overline{1}}} {{\\rho_{1,\\overline{1}}}^{2}} {{\\rho_{1,\\overline{2}}}^{2}}} -{2 {\\rho_{1,1,\\overline{1}}} {\\rho_{2,\\overline{1},\\overline{1},\\overline{1}}} {{\\rho_{1,\\overline{1}}}^{2}} {{\\rho_{1,\\overline{2}}}^{2}}} + {2 {\\rho_{1,1,\\overline{1},\\overline{2}}} {\\rho_{1,\\overline{2}}} {\\rho_{2,\\overline{1},\\overline{1}}} {{\\rho_{1,\\overline{1}}}^{3}}} + {2 {\\rho_{1,1,\\overline{2}}} {\\rho_{1,\\overline{1},\\overline{2}}} {\\rho_{2,\\overline{1},\\overline{1}}} {{\\rho_{1,\\overline{1}}}^{3}}} + {2 {\\rho_{1,1,\\overline{2}}} {\\rho_{1,\\overline{2}}} {\\rho_{2,\\overline{1},\\overline{1},\\overline{1}}} {{\\rho_{1,\\overline{1}}}^{3}}} + {2 {\\rho_{1,2,\\overline{1},\\overline{1}}} {\\rho_{1,\\overline{1},\\overline{2}}} {\\rho_{1,\\overline{2}}} {{\\rho_{1,\\overline{1}}}^{3}}} + {3 {\\rho_{1,2,\\overline{1}}} {\\rho_{1,\\overline{1}}} {{\\rho_{1,\\overline{1},\\overline{1}}}^{2}} {{\\rho_{1,\\overline{2}}}^{2}}} -{6 {\\rho_{1,1,\\overline{2}}} {\\rho_{1,\\overline{1},\\overline{1}}} {\\rho_{1,\\overline{2}}} {\\rho_{2,\\overline{1},\\overline{1}}} {{\\rho_{1,\\overline{1}}}^{2}}} -{4 {\\rho_{1,1,\\overline{1}}} {\\rho_{1,\\overline{1},\\overline{2}}} {\\rho_{1,\\overline{2}}} {\\rho_{2,\\overline{1},\\overline{1}}} {{\\rho_{1,\\overline{1}}}^{2}}} -{2 {\\rho_{1,1,\\overline{1},\\overline{1}}} {\\rho_{1,\\overline{1},\\overline{2}}} {\\rho_{1,\\overline{2}}} {\\rho_{2,\\overline{1}}} {{\\rho_{1,\\overline{1}}}^{2}}} -{2 {\\rho_{1,1,\\overline{1},\\overline{2}}} {\\rho_{1,\\overline{1},\\overline{1}}} {\\rho_{1,\\overline{2}}} {\\rho_{2,\\overline{1}}} {{\\rho_{1,\\overline{1}}}^{2}}} -{2 {\\rho_{1,1,\\overline{2}}} {\\rho_{1,\\overline{1},\\overline{1}}} {\\rho_{1,\\overline{1},\\overline{2}}} {\\rho_{2,\\overline{1}}} {{\\rho_{1,\\overline{1}}}^{2}}} -{2 {\\rho_{1,1,\\overline{2}}} {\\rho_{1,\\overline{1},\\overline{1},\\overline{1}}} {\\rho_{1,\\overline{2}}} {\\rho_{2,\\overline{1}}} {{\\rho_{1,\\overline{1}}}^{2}}} -{2 {\\rho_{1,2,\\overline{1}}} {\\rho_{1,\\overline{1},\\overline{1}}} {\\rho_{1,\\overline{1},\\overline{2}}} {\\rho_{1,\\overline{2}}} {{\\rho_{1,\\overline{1}}}^{2}}} + {2 {\\rho_{1,1,\\overline{1}}} {\\rho_{1,\\overline{1},\\overline{1}}} {\\rho_{1,\\overline{2},\\overline{2}}} {\\rho_{2,\\overline{1}}} {{\\rho_{1,\\overline{1}}}^{2}}} + {3 {\\rho_{1,1,\\overline{1}}} {\\rho_{1,\\overline{1}}} {\\rho_{1,\\overline{1},\\overline{1},\\overline{1}}} {\\rho_{2,\\overline{1}}} {{\\rho_{1,\\overline{2}}}^{2}}} + {6 {\\rho_{1,1,\\overline{1},\\overline{1}}} {\\rho_{1,\\overline{1}}} {\\rho_{1,\\overline{1},\\overline{1}}} {\\rho_{2,\\overline{1}}} {{\\rho_{1,\\overline{2}}}^{2}}} + {6 {\\rho_{1,1,\\overline{2}}} {\\rho_{1,\\overline{1}}} {\\rho_{1,\\overline{2}}} {\\rho_{2,\\overline{1}}} {{\\rho_{1,\\overline{1},\\overline{1}}}^{2}}} + {9 {\\rho_{1,1,\\overline{1}}} {\\rho_{1,\\overline{1}}} {\\rho_{1,\\overline{1},\\overline{1}}} {\\rho_{2,\\overline{1},\\overline{1}}} {{\\rho_{1,\\overline{2}}}^{2}}} + {6 {\\rho_{1,1,\\overline{1}}} {\\rho_{1,\\overline{1}}} {\\rho_{1,\\overline{1},\\overline{1}}} {\\rho_{1,\\overline{1},\\overline{2}}} {\\rho_{1,\\overline{2}}} {\\rho_{2,\\overline{1}}}}}\\right),$$ $$ \\rho_{1,2,\\overline{2},\\overline{2},\\overline{2}}=\\left({{\\rho_{1,\\overline{1}}}^{-6}}\\right) \\left({{{\\rho_{1,1,\\overline{2},\\overline{2},\\overline{2}}} {\\rho_{2,\\overline{1}}} {{\\rho_{1,\\overline{1}}}^{5}}} + {{\\rho_{1,2,\\overline{1}}} {\\rho_{1,\\overline{2},\\overline{2},\\overline{2}}} {{\\rho_{1,\\overline{1}}}^{5}}} + {{\\rho_{1,2,\\overline{1},\\overline{1},\\overline{1}}} {{\\rho_{1,\\overline{1}}}^{3}} {{\\rho_{1,\\overline{2}}}^{3}}} -{ {\\rho_{1,1,\\overline{1}}} {\\rho_{1,\\overline{2},\\overline{2},\\overline{2}}} {\\rho_{2,\\overline{1}}} {{\\rho_{1,\\overline{1}}}^{4}}} -{ {\\rho_{1,1,\\overline{1},\\overline{1},\\overline{1}}} {\\rho_{2,\\overline{1}}} {{\\rho_{1,\\overline{1}}}^{2}} {{\\rho_{1,\\overline{2}}}^{3}}} -{ {\\rho_{1,2,\\overline{1}}} {\\rho_{1,\\overline{1},\\overline{1},\\overline{1}}} {{\\rho_{1,\\overline{1}}}^{2}} {{\\rho_{1,\\overline{2}}}^{3}}} -{15 {\\rho_{1,1,\\overline{1}}} {\\rho_{2,\\overline{1}}} {{\\rho_{1,\\overline{1},\\overline{1}}}^{2}} {{\\rho_{1,\\overline{2}}}^{3}}} -{3 {\\rho_{1,1,\\overline{1}}} {\\rho_{2,\\overline{1},\\overline{1},\\overline{1}}} {{\\rho_{1,\\overline{1}}}^{2}} {{\\rho_{1,\\overline{2}}}^{3}}} -{3 {\\rho_{1,1,\\overline{1},\\overline{1}}} {\\rho_{2,\\overline{1},\\overline{1}}} {{\\rho_{1,\\overline{1}}}^{2}} {{\\rho_{1,\\overline{2}}}^{3}}} -{3 {\\rho_{1,2,\\overline{1},\\overline{1}}} {\\rho_{1,\\overline{1},\\overline{1}}} {{\\rho_{1,\\overline{1}}}^{2}} {{\\rho_{1,\\overline{2}}}^{3}}} + {3 {\\rho_{1,1,\\overline{2}}} {\\rho_{1,\\overline{2},\\overline{2}}} {\\rho_{2,\\overline{1},\\overline{1}}} {{\\rho_{1,\\overline{1}}}^{4}}} + {3 {\\rho_{1,1,\\overline{2}}} {\\rho_{2,\\overline{1},\\overline{1},\\overline{1}}} {{\\rho_{1,\\overline{1}}}^{3}} {{\\rho_{1,\\overline{2}}}^{2}}} + {3 {\\rho_{1,1,\\overline{2},\\overline{2}}} {\\rho_{1,\\overline{2}}} {\\rho_{2,\\overline{1},\\overline{1}}} {{\\rho_{1,\\overline{1}}}^{4}}} + {3 {\\rho_{1,2,\\overline{1}}} {\\rho_{1,\\overline{1}}} {{\\rho_{1,\\overline{1},\\overline{1}}}^{2}} {{\\rho_{1,\\overline{2}}}^{3}}} + {3 {\\rho_{1,2,\\overline{1},\\overline{1}}} {\\rho_{1,\\overline{2}}} {\\rho_{1,\\overline{2},\\overline{2}}} {{\\rho_{1,\\overline{1}}}^{4}}} -{9 {\\rho_{1,1,\\overline{2}}} {\\rho_{1,\\overline{1},\\overline{1}}} {\\rho_{2,\\overline{1},\\overline{1}}} {{\\rho_{1,\\overline{1}}}^{2}} {{\\rho_{1,\\overline{2}}}^{2}}} -{6 {\\rho_{1,1,\\overline{1}}} {\\rho_{1,\\overline{2}}} {\\rho_{1,\\overline{2},\\overline{2}}} {\\rho_{2,\\overline{1},\\overline{1}}} {{\\rho_{1,\\overline{1}}}^{3}}} -{3 {\\rho_{1,1,\\overline{1},\\overline{1}}} {\\rho_{1,\\overline{2}}} {\\rho_{1,\\overline{2},\\overline{2}}} {\\rho_{2,\\overline{1}}} {{\\rho_{1,\\overline{1}}}^{3}}} -{3 {\\rho_{1,1,\\overline{2}}} {\\rho_{1,\\overline{1},\\overline{1}}} {\\rho_{1,\\overline{2},\\overline{2}}} {\\rho_{2,\\overline{1}}} {{\\rho_{1,\\overline{1}}}^{3}}} -{3 {\\rho_{1,1,\\overline{2}}} {\\rho_{1,\\overline{1},\\overline{1},\\overline{1}}} {\\rho_{2,\\overline{1}}} {{\\rho_{1,\\overline{1}}}^{2}} {{\\rho_{1,\\overline{2}}}^{2}}} -{3 {\\rho_{1,1,\\overline{2},\\overline{2}}} {\\rho_{1,\\overline{1},\\overline{1}}} {\\rho_{1,\\overline{2}}} {\\rho_{2,\\overline{1}}} {{\\rho_{1,\\overline{1}}}^{3}}} -{3 {\\rho_{1,2,\\overline{1}}} {\\rho_{1,\\overline{1},\\overline{1}}} {\\rho_{1,\\overline{2}}} {\\rho_{1,\\overline{2},\\overline{2}}} {{\\rho_{1,\\overline{1}}}^{3}}} + {4 {\\rho_{1,1,\\overline{1}}} {\\rho_{1,\\overline{1}}} {\\rho_{1,\\overline{1},\\overline{1},\\overline{1}}} {\\rho_{2,\\overline{1}}} {{\\rho_{1,\\overline{2}}}^{3}}} + {6 {\\rho_{1,1,\\overline{1},\\overline{1}}} {\\rho_{1,\\overline{1}}} {\\rho_{1,\\overline{1},\\overline{1}}} {\\rho_{2,\\overline{1}}} {{\\rho_{1,\\overline{2}}}^{3}}} + {9 {\\rho_{1,1,\\overline{2}}} {\\rho_{1,\\overline{1}}} {\\rho_{2,\\overline{1}}} {{\\rho_{1,\\overline{1},\\overline{1}}}^{2}} {{\\rho_{1,\\overline{2}}}^{2}}} + {12 {\\rho_{1,1,\\overline{1}}} {\\rho_{1,\\overline{1}}} {\\rho_{1,\\overline{1},\\overline{1}}} {\\rho_{2,\\overline{1},\\overline{1}}} {{\\rho_{1,\\overline{2}}}^{3}}} + {9 {\\rho_{1,1,\\overline{1}}} {\\rho_{1,\\overline{1},\\overline{1}}} {\\rho_{1,\\overline{2}}} {\\rho_{1,\\overline{2},\\overline{2}}} {\\rho_{2,\\overline{1}}} {{\\rho_{1,\\overline{1}}}^{2}}}}\\right),$$ $$ \\rho_{2,2,2,\\overline{1},\\overline{2}}=\\left({{\\rho_{1,\\overline{1}}}^{-6}}\\right) \\left({{{\\rho_{1,1,1,\\overline{1},\\overline{2}}} {{\\rho_{1,\\overline{1}}}^{3}} {{\\rho_{2,\\overline{1}}}^{3}}} + {{\\rho_{1,\\overline{1},\\overline{2}}} {\\rho_{2,2,2,\\overline{1}}} {{\\rho_{1,\\overline{1}}}^{5}}} + {{\\rho_{1,\\overline{2}}} {\\rho_{2,2,2,\\overline{1},\\overline{1}}} {{\\rho_{1,\\overline{1}}}^{5}}} -{ {\\rho_{1,1,1,\\overline{1}}} {\\rho_{1,\\overline{1},\\overline{2}}} {{\\rho_{1,\\overline{1}}}^{2}} {{\\rho_{2,\\overline{1}}}^{3}}} -{ {\\rho_{1,1,1,\\overline{1},\\overline{1}}} {\\rho_{1,\\overline{2}}} {{\\rho_{1,\\overline{1}}}^{2}} {{\\rho_{2,\\overline{1}}}^{3}}} -{ {\\rho_{1,\\overline{1},\\overline{1}}} {\\rho_{1,\\overline{2}}} {\\rho_{2,2,2,\\overline{1}}} {{\\rho_{1,\\overline{1}}}^{4}}} -{15 {\\rho_{1,\\overline{1},\\overline{1}}} {\\rho_{1,\\overline{2}}} {{\\rho_{1,1,\\overline{1}}}^{2}} {{\\rho_{2,\\overline{1}}}^{3}}} -{3 {\\rho_{1,1,1,\\overline{2}}} {\\rho_{1,\\overline{1},\\overline{1}}} {{\\rho_{1,\\overline{1}}}^{2}} {{\\rho_{2,\\overline{1}}}^{3}}} -{3 {\\rho_{1,1,\\overline{1}}} {\\rho_{1,1,\\overline{1},\\overline{2}}} {{\\rho_{1,\\overline{1}}}^{2}} {{\\rho_{2,\\overline{1}}}^{3}}} -{3 {\\rho_{1,1,\\overline{1},\\overline{1}}} {\\rho_{1,1,\\overline{2}}} {{\\rho_{1,\\overline{1}}}^{2}} {{\\rho_{2,\\overline{1}}}^{3}}} + {3 {\\rho_{1,1,1,\\overline{2}}} {\\rho_{2,\\overline{1},\\overline{1}}} {{\\rho_{1,\\overline{1}}}^{3}} {{\\rho_{2,\\overline{1}}}^{2}}} + {3 {\\rho_{1,1,\\overline{1},\\overline{2}}} {\\rho_{2,2,\\overline{1}}} {\\rho_{2,\\overline{1}}} {{\\rho_{1,\\overline{1}}}^{4}}} + {3 {\\rho_{1,1,\\overline{2}}} {\\rho_{2,2,\\overline{1}}} {\\rho_{2,\\overline{1},\\overline{1}}} {{\\rho_{1,\\overline{1}}}^{4}}} + {3 {\\rho_{1,1,\\overline{2}}} {\\rho_{2,2,\\overline{1},\\overline{1}}} {\\rho_{2,\\overline{1}}} {{\\rho_{1,\\overline{1}}}^{4}}} + {3 {\\rho_{1,\\overline{1}}} {\\rho_{1,\\overline{1},\\overline{2}}} {{\\rho_{1,1,\\overline{1}}}^{2}} {{\\rho_{2,\\overline{1}}}^{3}}} -{9 {\\rho_{1,1,\\overline{1}}} {\\rho_{1,1,\\overline{2}}} {\\rho_{2,\\overline{1},\\overline{1}}} {{\\rho_{1,\\overline{1}}}^{2}} {{\\rho_{2,\\overline{1}}}^{2}}} -{6 {\\rho_{1,1,\\overline{2}}} {\\rho_{1,\\overline{1},\\overline{1}}} {\\rho_{2,2,\\overline{1}}} {\\rho_{2,\\overline{1}}} {{\\rho_{1,\\overline{1}}}^{3}}} -{3 {\\rho_{1,1,1,\\overline{1}}} {\\rho_{1,\\overline{2}}} {\\rho_{2,\\overline{1},\\overline{1}}} {{\\rho_{1,\\overline{1}}}^{2}} {{\\rho_{2,\\overline{1}}}^{2}}} -{3 {\\rho_{1,1,\\overline{1}}} {\\rho_{1,\\overline{1},\\overline{2}}} {\\rho_{2,2,\\overline{1}}} {\\rho_{2,\\overline{1}}} {{\\rho_{1,\\overline{1}}}^{3}}} -{3 {\\rho_{1,1,\\overline{1}}} {\\rho_{1,\\overline{2}}} {\\rho_{2,2,\\overline{1}}} {\\rho_{2,\\overline{1},\\overline{1}}} {{\\rho_{1,\\overline{1}}}^{3}}} -{3 {\\rho_{1,1,\\overline{1}}} {\\rho_{1,\\overline{2}}} {\\rho_{2,2,\\overline{1},\\overline{1}}} {\\rho_{2,\\overline{1}}} {{\\rho_{1,\\overline{1}}}^{3}}} -{3 {\\rho_{1,1,\\overline{1},\\overline{1}}} {\\rho_{1,\\overline{2}}} {\\rho_{2,2,\\overline{1}}} {\\rho_{2,\\overline{1}}} {{\\rho_{1,\\overline{1}}}^{3}}} + {4 {\\rho_{1,1,1,\\overline{1}}} {\\rho_{1,\\overline{1}}} {\\rho_{1,\\overline{1},\\overline{1}}} {\\rho_{1,\\overline{2}}} {{\\rho_{2,\\overline{1}}}^{3}}} + {6 {\\rho_{1,1,\\overline{1}}} {\\rho_{1,1,\\overline{1},\\overline{1}}} {\\rho_{1,\\overline{1}}} {\\rho_{1,\\overline{2}}} {{\\rho_{2,\\overline{1}}}^{3}}} + {9 {\\rho_{1,\\overline{1}}} {\\rho_{1,\\overline{2}}} {\\rho_{2,\\overline{1},\\overline{1}}} {{\\rho_{1,1,\\overline{1}}}^{2}} {{\\rho_{2,\\overline{1}}}^{2}}} + {12 {\\rho_{1,1,\\overline{1}}} {\\rho_{1,1,\\overline{2}}} {\\rho_{1,\\overline{1}}} {\\rho_{1,\\overline{1},\\overline{1}}} {{\\rho_{2,\\overline{1}}}^{3}}} + {9 {\\rho_{1,1,\\overline{1}}} {\\rho_{1,\\overline{1},\\overline{1}}} {\\rho_{1,\\overline{2}}} {\\rho_{2,2,\\overline{1}}} {\\rho_{2,\\overline{1}}} {{\\rho_{1,\\overline{1}}}^{2}}}}\\right),$$ $$ \\rho_{2,2,\\overline{1},\\overline{1},\\overline{2}}=\\left({{\\rho_{1,\\overline{1}}}^{-5}}\\right) \\left({{{\\rho_{1,1,\\overline{1},\\overline{1},\\overline{2}}} {{\\rho_{1,\\overline{1}}}^{3}} {{\\rho_{2,\\overline{1}}}^{2}}} + {{\\rho_{1,\\overline{1},\\overline{1},\\overline{2}}} {\\rho_{2,2,\\overline{1}}} {{\\rho_{1,\\overline{1}}}^{4}}} + {{\\rho_{1,\\overline{2}}} {\\rho_{2,2,\\overline{1},\\overline{1},\\overline{1}}} {{\\rho_{1,\\overline{1}}}^{4}}} + {2 {\\rho_{1,1,\\overline{2}}} {{\\rho_{1,\\overline{1}}}^{3}} {{\\rho_{2,\\overline{1},\\overline{1}}}^{2}}} + {2 {\\rho_{1,\\overline{1},\\overline{2}}} {\\rho_{2,2,\\overline{1},\\overline{1}}} {{\\rho_{1,\\overline{1}}}^{4}}} -{ {\\rho_{1,1,\\overline{1}}} {\\rho_{1,\\overline{1},\\overline{1},\\overline{2}}} {{\\rho_{1,\\overline{1}}}^{2}} {{\\rho_{2,\\overline{1}}}^{2}}} -{ {\\rho_{1,1,\\overline{1},\\overline{1},\\overline{1}}} {\\rho_{1,\\overline{2}}} {{\\rho_{1,\\overline{1}}}^{2}} {{\\rho_{2,\\overline{1}}}^{2}}} -{ {\\rho_{1,\\overline{1},\\overline{1},\\overline{1}}} {\\rho_{1,\\overline{2}}} {\\rho_{2,2,\\overline{1}}} {{\\rho_{1,\\overline{1}}}^{3}}} -{12 {\\rho_{1,1,\\overline{1}}} {\\rho_{1,\\overline{2}}} {{\\rho_{1,\\overline{1},\\overline{1}}}^{2}} {{\\rho_{2,\\overline{1}}}^{2}}} -{4 {\\rho_{1,1,\\overline{1},\\overline{2}}} {\\rho_{1,\\overline{1},\\overline{1}}} {{\\rho_{1,\\overline{1}}}^{2}} {{\\rho_{2,\\overline{1}}}^{2}}} -{2 {\\rho_{1,1,\\overline{1}}} {\\rho_{1,\\overline{2}}} {{\\rho_{1,\\overline{1}}}^{2}} {{\\rho_{2,\\overline{1},\\overline{1}}}^{2}}} -{2 {\\rho_{1,1,\\overline{1},\\overline{1}}} {\\rho_{1,\\overline{1},\\overline{2}}} {{\\rho_{1,\\overline{1}}}^{2}} {{\\rho_{2,\\overline{1}}}^{2}}} -{2 {\\rho_{1,1,\\overline{2}}} {\\rho_{1,\\overline{1},\\overline{1},\\overline{1}}} {{\\rho_{1,\\overline{1}}}^{2}} {{\\rho_{2,\\overline{1}}}^{2}}} -{2 {\\rho_{1,\\overline{1},\\overline{1}}} {\\rho_{1,\\overline{1},\\overline{2}}} {\\rho_{2,2,\\overline{1}}} {{\\rho_{1,\\overline{1}}}^{3}}} -{2 {\\rho_{1,\\overline{1},\\overline{1}}} {\\rho_{1,\\overline{2}}} {\\rho_{2,2,\\overline{1},\\overline{1}}} {{\\rho_{1,\\overline{1}}}^{3}}} + {2 {\\rho_{1,1,\\overline{2}}} {\\rho_{2,\\overline{1}}} {\\rho_{2,\\overline{1},\\overline{1},\\overline{1}}} {{\\rho_{1,\\overline{1}}}^{3}}} + {2 {\\rho_{1,\\overline{2}}} {\\rho_{2,2,\\overline{1}}} {{\\rho_{1,\\overline{1}}}^{2}} {{\\rho_{1,\\overline{1},\\overline{1}}}^{2}}} + {4 {\\rho_{1,1,\\overline{1},\\overline{2}}} {\\rho_{2,\\overline{1}}} {\\rho_{2,\\overline{1},\\overline{1}}} {{\\rho_{1,\\overline{1}}}^{3}}} + {6 {\\rho_{1,1,\\overline{2}}} {\\rho_{1,\\overline{1}}} {{\\rho_{1,\\overline{1},\\overline{1}}}^{2}} {{\\rho_{2,\\overline{1}}}^{2}}} -{8 {\\rho_{1,1,\\overline{2}}} {\\rho_{1,\\overline{1},\\overline{1}}} {\\rho_{2,\\overline{1}}} {\\rho_{2,\\overline{1},\\overline{1}}} {{\\rho_{1,\\overline{1}}}^{2}}} -{4 {\\rho_{1,1,\\overline{1}}} {\\rho_{1,\\overline{1},\\overline{2}}} {\\rho_{2,\\overline{1}}} {\\rho_{2,\\overline{1},\\overline{1}}} {{\\rho_{1,\\overline{1}}}^{2}}} -{4 {\\rho_{1,1,\\overline{1},\\overline{1}}} {\\rho_{1,\\overline{2}}} {\\rho_{2,\\overline{1}}} {\\rho_{2,\\overline{1},\\overline{1}}} {{\\rho_{1,\\overline{1}}}^{2}}} -{2 {\\rho_{1,1,\\overline{1}}} {\\rho_{1,\\overline{2}}} {\\rho_{2,\\overline{1}}} {\\rho_{2,\\overline{1},\\overline{1},\\overline{1}}} {{\\rho_{1,\\overline{1}}}^{2}}} + {3 {\\rho_{1,1,\\overline{1}}} {\\rho_{1,\\overline{1}}} {\\rho_{1,\\overline{1},\\overline{1},\\overline{1}}} {\\rho_{1,\\overline{2}}} {{\\rho_{2,\\overline{1}}}^{2}}} + {6 {\\rho_{1,1,\\overline{1}}} {\\rho_{1,\\overline{1}}} {\\rho_{1,\\overline{1},\\overline{1}}} {\\rho_{1,\\overline{1},\\overline{2}}} {{\\rho_{2,\\overline{1}}}^{2}}} + {6 {\\rho_{1,1,\\overline{1},\\overline{1}}} {\\rho_{1,\\overline{1}}} {\\rho_{1,\\overline{1},\\overline{1}}} {\\rho_{1,\\overline{2}}} {{\\rho_{2,\\overline{1}}}^{2}}} + {12 {\\rho_{1,1,\\overline{1}}} {\\rho_{1,\\overline{1}}} {\\rho_{1,\\overline{1},\\overline{1}}} {\\rho_{1,\\overline{2}}} {\\rho_{2,\\overline{1}}} {\\rho_{2,\\overline{1},\\overline{1}}}}}\\right),$$ $$ \\rho_{2,2,\\overline{1},\\overline{2},\\overline{2}}=\\left({{\\rho_{1,\\overline{1}}}^{-6}}\\right) \\left({{{\\rho_{1,1,\\overline{1},\\overline{2},\\overline{2}}} {{\\rho_{1,\\overline{1}}}^{4}} {{\\rho_{2,\\overline{1}}}^{2}}} + {{\\rho_{1,\\overline{1},\\overline{2},\\overline{2}}} {\\rho_{2,2,\\overline{1}}} {{\\rho_{1,\\overline{1}}}^{5}}} + {{\\rho_{1,\\overline{2},\\overline{2}}} {\\rho_{2,2,\\overline{1},\\overline{1}}} {{\\rho_{1,\\overline{1}}}^{5}}} + {{\\rho_{2,2,\\overline{1},\\overline{1},\\overline{1}}} {{\\rho_{1,\\overline{1}}}^{4}} {{\\rho_{1,\\overline{2}}}^{2}}} -{ {\\rho_{1,1,\\overline{1}}} {\\rho_{1,\\overline{1},\\overline{2},\\overline{2}}} {{\\rho_{1,\\overline{1}}}^{3}} {{\\rho_{2,\\overline{1}}}^{2}}} -{ {\\rho_{1,1,\\overline{1},\\overline{1}}} {\\rho_{1,\\overline{2},\\overline{2}}} {{\\rho_{1,\\overline{1}}}^{3}} {{\\rho_{2,\\overline{1}}}^{2}}} -{ {\\rho_{1,1,\\overline{1},\\overline{1},\\overline{1}}} {{\\rho_{1,\\overline{1}}}^{2}} {{\\rho_{1,\\overline{2}}}^{2}} {{\\rho_{2,\\overline{1}}}^{2}}} -{ {\\rho_{1,\\overline{1},\\overline{1}}} {\\rho_{1,\\overline{2},\\overline{2}}} {\\rho_{2,2,\\overline{1}}} {{\\rho_{1,\\overline{1}}}^{4}}} -{ {\\rho_{1,\\overline{1},\\overline{1},\\overline{1}}} {\\rho_{2,2,\\overline{1}}} {{\\rho_{1,\\overline{1}}}^{3}} {{\\rho_{1,\\overline{2}}}^{2}}} -{25 {\\rho_{1,1,\\overline{1}}} {{\\rho_{1,\\overline{1},\\overline{1}}}^{2}} {{\\rho_{1,\\overline{2}}}^{2}} {{\\rho_{2,\\overline{1}}}^{2}}} -{4 {\\rho_{1,1,\\overline{1}}} {{\\rho_{1,\\overline{1}}}^{2}} {{\\rho_{1,\\overline{2}}}^{2}} {{\\rho_{2,\\overline{1},\\overline{1}}}^{2}}} -{3 {\\rho_{1,\\overline{1},\\overline{1}}} {\\rho_{2,2,\\overline{1},\\overline{1}}} {{\\rho_{1,\\overline{1}}}^{3}} {{\\rho_{1,\\overline{2}}}^{2}}} -{2 {\\rho_{1,1,\\overline{2},\\overline{2}}} {\\rho_{1,\\overline{1},\\overline{1}}} {{\\rho_{1,\\overline{1}}}^{3}} {{\\rho_{2,\\overline{1}}}^{2}}} + {2 {\\rho_{1,1,\\overline{2},\\overline{2}}} {\\rho_{2,\\overline{1}}} {\\rho_{2,\\overline{1},\\overline{1}}} {{\\rho_{1,\\overline{1}}}^{4}}} + {2 {\\rho_{1,\\overline{1},\\overline{2}}} {\\rho_{1,\\overline{2}}} {\\rho_{2,2,\\overline{1},\\overline{1}}} {{\\rho_{1,\\overline{1}}}^{4}}} + {3 {\\rho_{2,2,\\overline{1}}} {{\\rho_{1,\\overline{1}}}^{2}} {{\\rho_{1,\\overline{1},\\overline{1}}}^{2}} {{\\rho_{1,\\overline{2}}}^{2}}} + {4 {\\rho_{1,1,\\overline{2}}} {\\rho_{1,\\overline{2}}} {{\\rho_{1,\\overline{1}}}^{3}} {{\\rho_{2,\\overline{1},\\overline{1}}}^{2}}} -{6 {\\rho_{1,1,\\overline{1},\\overline{1}}} {\\rho_{2,\\overline{1}}} {\\rho_{2,\\overline{1},\\overline{1}}} {{\\rho_{1,\\overline{1}}}^{2}} {{\\rho_{1,\\overline{2}}}^{2}}} -{4 {\\rho_{1,1,\\overline{1}}} {\\rho_{2,\\overline{1}}} {\\rho_{2,\\overline{1},\\overline{1},\\overline{1}}} {{\\rho_{1,\\overline{1}}}^{2}} {{\\rho_{1,\\overline{2}}}^{2}}} -{4 {\\rho_{1,1,\\overline{1},\\overline{2}}} {\\rho_{1,\\overline{1},\\overline{1}}} {\\rho_{1,\\overline{2}}} {{\\rho_{1,\\overline{1}}}^{2}} {{\\rho_{2,\\overline{1}}}^{2}}} -{4 {\\rho_{1,1,\\overline{2}}} {\\rho_{1,\\overline{1},\\overline{1}}} {\\rho_{1,\\overline{1},\\overline{2}}} {{\\rho_{1,\\overline{1}}}^{2}} {{\\rho_{2,\\overline{1}}}^{2}}} -{4 {\\rho_{1,1,\\overline{2}}} {\\rho_{1,\\overline{1},\\overline{1},\\overline{1}}} {\\rho_{1,\\overline{2}}} {{\\rho_{1,\\overline{1}}}^{2}} {{\\rho_{2,\\overline{1}}}^{2}}} -{2 {\\rho_{1,1,\\overline{1}}} {\\rho_{1,\\overline{2},\\overline{2}}} {\\rho_{2,\\overline{1}}} {\\rho_{2,\\overline{1},\\overline{1}}} {{\\rho_{1,\\overline{1}}}^{3}}} -{2 {\\rho_{1,1,\\overline{1},\\overline{1}}} {\\rho_{1,\\overline{1},\\overline{2}}} {\\rho_{1,\\overline{2}}} {{\\rho_{1,\\overline{1}}}^{2}} {{\\rho_{2,\\overline{1}}}^{2}}} -{2 {\\rho_{1,\\overline{1},\\overline{1}}} {\\rho_{1,\\overline{1},\\overline{2}}} {\\rho_{1,\\overline{2}}} {\\rho_{2,2,\\overline{1}}} {{\\rho_{1,\\overline{1}}}^{3}}} + {3 {\\rho_{1,1,\\overline{1}}} {\\rho_{1,\\overline{1},\\overline{1}}} {\\rho_{1,\\overline{2},\\overline{2}}} {{\\rho_{1,\\overline{1}}}^{2}} {{\\rho_{2,\\overline{1}}}^{2}}} + {4 {\\rho_{1,1,\\overline{1},\\overline{2}}} {\\rho_{1,\\overline{2}}} {\\rho_{2,\\overline{1}}} {\\rho_{2,\\overline{1},\\overline{1}}} {{\\rho_{1,\\overline{1}}}^{3}}} + {4 {\\rho_{1,1,\\overline{2}}} {\\rho_{1,\\overline{1},\\overline{2}}} {\\rho_{2,\\overline{1}}} {\\rho_{2,\\overline{1},\\overline{1}}} {{\\rho_{1,\\overline{1}}}^{3}}} + {4 {\\rho_{1,1,\\overline{2}}} {\\rho_{1,\\overline{2}}} {\\rho_{2,\\overline{1}}} {\\rho_{2,\\overline{1},\\overline{1},\\overline{1}}} {{\\rho_{1,\\overline{1}}}^{3}}} + {5 {\\rho_{1,1,\\overline{1}}} {\\rho_{1,\\overline{1}}} {\\rho_{1,\\overline{1},\\overline{1},\\overline{1}}} {{\\rho_{1,\\overline{2}}}^{2}} {{\\rho_{2,\\overline{1}}}^{2}}} + {9 {\\rho_{1,1,\\overline{1},\\overline{1}}} {\\rho_{1,\\overline{1}}} {\\rho_{1,\\overline{1},\\overline{1}}} {{\\rho_{1,\\overline{2}}}^{2}} {{\\rho_{2,\\overline{1}}}^{2}}} + {16 {\\rho_{1,1,\\overline{2}}} {\\rho_{1,\\overline{1}}} {\\rho_{1,\\overline{2}}} {{\\rho_{1,\\overline{1},\\overline{1}}}^{2}} {{\\rho_{2,\\overline{1}}}^{2}}} -{20 {\\rho_{1,1,\\overline{2}}} {\\rho_{1,\\overline{1},\\overline{1}}} {\\rho_{1,\\overline{2}}} {\\rho_{2,\\overline{1}}} {\\rho_{2,\\overline{1},\\overline{1}}} {{\\rho_{1,\\overline{1}}}^{2}}} -{8 {\\rho_{1,1,\\overline{1}}} {\\rho_{1,\\overline{1},\\overline{2}}} {\\rho_{1,\\overline{2}}} {\\rho_{2,\\overline{1}}} {\\rho_{2,\\overline{1},\\overline{1}}} {{\\rho_{1,\\overline{1}}}^{2}}} + {10 {\\rho_{1,1,\\overline{1}}} {\\rho_{1,\\overline{1}}} {\\rho_{1,\\overline{1},\\overline{1}}} {\\rho_{1,\\overline{1},\\overline{2}}} {\\rho_{1,\\overline{2}}} {{\\rho_{2,\\overline{1}}}^{2}}} + {26 {\\rho_{1,1,\\overline{1}}} {\\rho_{1,\\overline{1}}} {\\rho_{1,\\overline{1},\\overline{1}}} {\\rho_{2,\\overline{1}}} {\\rho_{2,\\overline{1},\\overline{1}}} {{\\rho_{1,\\overline{2}}}^{2}}}}\\right),$$ $$ \\rho_{2,\\overline{1},\\overline{1},\\overline{1},\\overline{2}}={{\\rho_{1,\\overline{1},\\overline{1},\\overline{1},\\overline{2}}} {\\rho_{2,\\overline{1}}} \\left({{\\rho_{1,\\overline{1}}}^{-1}}\\right)} + {{\\rho_{1,\\overline{2}}} {\\rho_{2,\\overline{1},\\overline{1},\\overline{1},\\overline{1}}} \\left({{\\rho_{1,\\overline{1}}}^{-1}}\\right)} + {3 {\\rho_{1,\\overline{1},\\overline{1},\\overline{2}}} {\\rho_{2,\\overline{1},\\overline{1}}} \\left({{\\rho_{1,\\overline{1}}}^{-1}}\\right)} + {3 {\\rho_{1,\\overline{1},\\overline{2}}} {\\rho_{2,\\overline{1},\\overline{1},\\overline{1}}} \\left({{\\rho_{1,\\overline{1}}}^{-1}}\\right)} -{ {\\rho_{1,\\overline{1},\\overline{1},\\overline{1},\\overline{1}}} {\\rho_{1,\\overline{2}}} {\\rho_{2,\\overline{1}}} \\left({{\\rho_{1,\\overline{1}}}^{-2}}\\right)} -{6 {\\rho_{1,\\overline{1},\\overline{1}}} {\\rho_{1,\\overline{1},\\overline{2}}} {\\rho_{2,\\overline{1},\\overline{1}}} \\left({{\\rho_{1,\\overline{1}}}^{-2}}\\right)} -{6 {\\rho_{1,\\overline{2}}} {\\rho_{2,\\overline{1}}} \\left({{\\rho_{1,\\overline{1}}}^{-4}}\\right) {{\\rho_{1,\\overline{1},\\overline{1}}}^{3}}} -{3 {\\rho_{1,\\overline{1},\\overline{1}}} {\\rho_{1,\\overline{1},\\overline{1},\\overline{2}}} {\\rho_{2,\\overline{1}}} \\left({{\\rho_{1,\\overline{1}}}^{-2}}\\right)} -{3 {\\rho_{1,\\overline{1},\\overline{1}}} {\\rho_{1,\\overline{2}}} {\\rho_{2,\\overline{1},\\overline{1},\\overline{1}}} \\left({{\\rho_{1,\\overline{1}}}^{-2}}\\right)} -{3 {\\rho_{1,\\overline{1},\\overline{1},\\overline{1}}} {\\rho_{1,\\overline{1},\\overline{2}}} {\\rho_{2,\\overline{1}}} \\left({{\\rho_{1,\\overline{1}}}^{-2}}\\right)} -{3 {\\rho_{1,\\overline{1},\\overline{1},\\overline{1}}} {\\rho_{1,\\overline{2}}} {\\rho_{2,\\overline{1},\\overline{1}}} \\left({{\\rho_{1,\\overline{1}}}^{-2}}\\right)} + {6 {\\rho_{1,\\overline{1},\\overline{2}}} {\\rho_{2,\\overline{1}}} \\left({{\\rho_{1,\\overline{1}}}^{-3}}\\right) {{\\rho_{1,\\overline{1},\\overline{1}}}^{2}}} + {6 {\\rho_{1,\\overline{2}}} {\\rho_{2,\\overline{1},\\overline{1}}} \\left({{\\rho_{1,\\overline{1}}}^{-3}}\\right) {{\\rho_{1,\\overline{1},\\overline{1}}}^{2}}} + {6 {\\rho_{1,\\overline{1},\\overline{1}}} {\\rho_{1,\\overline{1},\\overline{1},\\overline{1}}} {\\rho_{1,\\overline{2}}} {\\rho_{2,\\overline{1}}} \\left({{\\rho_{1,\\overline{1}}}^{-3}}\\right)},$$ $$ \\rho_{2,\\overline{1},\\overline{1},\\overline{2},\\overline{2}}=\\left({{\\rho_{1,\\overline{1}}}^{-5}}\\right) \\left({{{\\rho_{1,\\overline{1},\\overline{1},\\overline{2},\\overline{2}}} {\\rho_{2,\\overline{1}}} {{\\rho_{1,\\overline{1}}}^{4}}} + {{\\rho_{1,\\overline{2},\\overline{2}}} {\\rho_{2,\\overline{1},\\overline{1},\\overline{1}}} {{\\rho_{1,\\overline{1}}}^{4}}} + {{\\rho_{2,\\overline{1},\\overline{1},\\overline{1},\\overline{1}}} {{\\rho_{1,\\overline{1}}}^{3}} {{\\rho_{1,\\overline{2}}}^{2}}} -{12 {\\rho_{2,\\overline{1}}} {{\\rho_{1,\\overline{1},\\overline{1}}}^{3}} {{\\rho_{1,\\overline{2}}}^{2}}} + {2 {\\rho_{1,\\overline{1},\\overline{2},\\overline{2}}} {\\rho_{2,\\overline{1},\\overline{1}}} {{\\rho_{1,\\overline{1}}}^{4}}} + {2 {\\rho_{2,\\overline{1},\\overline{1}}} {{\\rho_{1,\\overline{1}}}^{3}} {{\\rho_{1,\\overline{1},\\overline{2}}}^{2}}} -{ {\\rho_{1,\\overline{1},\\overline{1},\\overline{1}}} {\\rho_{1,\\overline{2},\\overline{2}}} {\\rho_{2,\\overline{1}}} {{\\rho_{1,\\overline{1}}}^{3}}} -{ {\\rho_{1,\\overline{1},\\overline{1},\\overline{1},\\overline{1}}} {\\rho_{2,\\overline{1}}} {{\\rho_{1,\\overline{1}}}^{2}} {{\\rho_{1,\\overline{2}}}^{2}}} -{5 {\\rho_{1,\\overline{1},\\overline{1}}} {\\rho_{2,\\overline{1},\\overline{1},\\overline{1}}} {{\\rho_{1,\\overline{1}}}^{2}} {{\\rho_{1,\\overline{2}}}^{2}}} -{4 {\\rho_{1,\\overline{1},\\overline{1},\\overline{1}}} {\\rho_{2,\\overline{1},\\overline{1}}} {{\\rho_{1,\\overline{1}}}^{2}} {{\\rho_{1,\\overline{2}}}^{2}}} -{2 {\\rho_{1,\\overline{1},\\overline{1}}} {\\rho_{1,\\overline{1},\\overline{2},\\overline{2}}} {\\rho_{2,\\overline{1}}} {{\\rho_{1,\\overline{1}}}^{3}}} -{2 {\\rho_{1,\\overline{1},\\overline{1}}} {\\rho_{1,\\overline{2},\\overline{2}}} {\\rho_{2,\\overline{1},\\overline{1}}} {{\\rho_{1,\\overline{1}}}^{3}}} -{2 {\\rho_{1,\\overline{1},\\overline{1}}} {\\rho_{2,\\overline{1}}} {{\\rho_{1,\\overline{1}}}^{2}} {{\\rho_{1,\\overline{1},\\overline{2}}}^{2}}} + {2 {\\rho_{1,\\overline{1},\\overline{1},\\overline{2}}} {\\rho_{1,\\overline{2}}} {\\rho_{2,\\overline{1},\\overline{1}}} {{\\rho_{1,\\overline{1}}}^{3}}} + {2 {\\rho_{1,\\overline{2},\\overline{2}}} {\\rho_{2,\\overline{1}}} {{\\rho_{1,\\overline{1}}}^{2}} {{\\rho_{1,\\overline{1},\\overline{1}}}^{2}}} + {4 {\\rho_{1,\\overline{1},\\overline{2}}} {\\rho_{1,\\overline{2}}} {\\rho_{2,\\overline{1},\\overline{1},\\overline{1}}} {{\\rho_{1,\\overline{1}}}^{3}}} + {12 {\\rho_{1,\\overline{1}}} {\\rho_{2,\\overline{1},\\overline{1}}} {{\\rho_{1,\\overline{1},\\overline{1}}}^{2}} {{\\rho_{1,\\overline{2}}}^{2}}} -{12 {\\rho_{1,\\overline{1},\\overline{1}}} {\\rho_{1,\\overline{1},\\overline{2}}} {\\rho_{1,\\overline{2}}} {\\rho_{2,\\overline{1},\\overline{1}}} {{\\rho_{1,\\overline{1}}}^{2}}} -{4 {\\rho_{1,\\overline{1},\\overline{1},\\overline{1}}} {\\rho_{1,\\overline{1},\\overline{2}}} {\\rho_{1,\\overline{2}}} {\\rho_{2,\\overline{1}}} {{\\rho_{1,\\overline{1}}}^{2}}} -{2 {\\rho_{1,\\overline{1},\\overline{1}}} {\\rho_{1,\\overline{1},\\overline{1},\\overline{2}}} {\\rho_{1,\\overline{2}}} {\\rho_{2,\\overline{1}}} {{\\rho_{1,\\overline{1}}}^{2}}} + {9 {\\rho_{1,\\overline{1}}} {\\rho_{1,\\overline{1},\\overline{1}}} {\\rho_{1,\\overline{1},\\overline{1},\\overline{1}}} {\\rho_{2,\\overline{1}}} {{\\rho_{1,\\overline{2}}}^{2}}} + {12 {\\rho_{1,\\overline{1}}} {\\rho_{1,\\overline{1},\\overline{2}}} {\\rho_{1,\\overline{2}}} {\\rho_{2,\\overline{1}}} {{\\rho_{1,\\overline{1},\\overline{1}}}^{2}}}}\\right),$$ and $$\\rho_{2,\\overline{1},\\overline{2},\\overline{2},\\overline{2}}=\\left({{\\rho_{1,\\overline{1}}}^{-6}}\\right) \\left({{{\\rho_{1,\\overline{1},\\overline{2},\\overline{2},\\overline{2}}} {\\rho_{2,\\overline{1}}} {{\\rho_{1,\\overline{1}}}^{5}}} + {{\\rho_{1,\\overline{2},\\overline{2},\\overline{2}}} {\\rho_{2,\\overline{1},\\overline{1}}} {{\\rho_{1,\\overline{1}}}^{5}}} + {{\\rho_{2,\\overline{1},\\overline{1},\\overline{1},\\overline{1}}} {{\\rho_{1,\\overline{1}}}^{3}} {{\\rho_{1,\\overline{2}}}^{3}}} -{15 {\\rho_{2,\\overline{1}}} {{\\rho_{1,\\overline{1},\\overline{1}}}^{3}} {{\\rho_{1,\\overline{2}}}^{3}}} -{ {\\rho_{1,\\overline{1},\\overline{1}}} {\\rho_{1,\\overline{2},\\overline{2},\\overline{2}}} {\\rho_{2,\\overline{1}}} {{\\rho_{1,\\overline{1}}}^{4}}} -{ {\\rho_{1,\\overline{1},\\overline{1},\\overline{1},\\overline{1}}} {\\rho_{2,\\overline{1}}} {{\\rho_{1,\\overline{1}}}^{2}} {{\\rho_{1,\\overline{2}}}^{3}}} -{6 {\\rho_{1,\\overline{1},\\overline{1}}} {\\rho_{2,\\overline{1},\\overline{1},\\overline{1}}} {{\\rho_{1,\\overline{1}}}^{2}} {{\\rho_{1,\\overline{2}}}^{3}}} -{4 {\\rho_{1,\\overline{1},\\overline{1},\\overline{1}}} {\\rho_{2,\\overline{1},\\overline{1}}} {{\\rho_{1,\\overline{1}}}^{2}} {{\\rho_{1,\\overline{2}}}^{3}}} + {3 {\\rho_{1,\\overline{1},\\overline{2}}} {\\rho_{1,\\overline{2},\\overline{2}}} {\\rho_{2,\\overline{1},\\overline{1}}} {{\\rho_{1,\\overline{1}}}^{4}}} + {3 {\\rho_{1,\\overline{1},\\overline{2}}} {\\rho_{2,\\overline{1},\\overline{1},\\overline{1}}} {{\\rho_{1,\\overline{1}}}^{3}} {{\\rho_{1,\\overline{2}}}^{2}}} + {3 {\\rho_{1,\\overline{1},\\overline{2},\\overline{2}}} {\\rho_{1,\\overline{2}}} {\\rho_{2,\\overline{1},\\overline{1}}} {{\\rho_{1,\\overline{1}}}^{4}}} + {3 {\\rho_{1,\\overline{2}}} {\\rho_{1,\\overline{2},\\overline{2}}} {\\rho_{2,\\overline{1},\\overline{1},\\overline{1}}} {{\\rho_{1,\\overline{1}}}^{4}}} + {15 {\\rho_{1,\\overline{1}}} {\\rho_{2,\\overline{1},\\overline{1}}} {{\\rho_{1,\\overline{1},\\overline{1}}}^{2}} {{\\rho_{1,\\overline{2}}}^{3}}} -{9 {\\rho_{1,\\overline{1},\\overline{1}}} {\\rho_{1,\\overline{1},\\overline{2}}} {\\rho_{2,\\overline{1},\\overline{1}}} {{\\rho_{1,\\overline{1}}}^{2}} {{\\rho_{1,\\overline{2}}}^{2}}} -{9 {\\rho_{1,\\overline{1},\\overline{1}}} {\\rho_{1,\\overline{2}}} {\\rho_{1,\\overline{2},\\overline{2}}} {\\rho_{2,\\overline{1},\\overline{1}}} {{\\rho_{1,\\overline{1}}}^{3}}} -{3 {\\rho_{1,\\overline{1},\\overline{1}}} {\\rho_{1,\\overline{1},\\overline{2}}} {\\rho_{1,\\overline{2},\\overline{2}}} {\\rho_{2,\\overline{1}}} {{\\rho_{1,\\overline{1}}}^{3}}} -{3 {\\rho_{1,\\overline{1},\\overline{1}}} {\\rho_{1,\\overline{1},\\overline{2},\\overline{2}}} {\\rho_{1,\\overline{2}}} {\\rho_{2,\\overline{1}}} {{\\rho_{1,\\overline{1}}}^{3}}} -{3 {\\rho_{1,\\overline{1},\\overline{1},\\overline{1}}} {\\rho_{1,\\overline{1},\\overline{2}}} {\\rho_{2,\\overline{1}}} {{\\rho_{1,\\overline{1}}}^{2}} {{\\rho_{1,\\overline{2}}}^{2}}} -{3 {\\rho_{1,\\overline{1},\\overline{1},\\overline{1}}} {\\rho_{1,\\overline{2}}} {\\rho_{1,\\overline{2},\\overline{2}}} {\\rho_{2,\\overline{1}}} {{\\rho_{1,\\overline{1}}}^{3}}} + {9 {\\rho_{1,\\overline{1}}} {\\rho_{1,\\overline{1},\\overline{2}}} {\\rho_{2,\\overline{1}}} {{\\rho_{1,\\overline{1},\\overline{1}}}^{2}} {{\\rho_{1,\\overline{2}}}^{2}}} + {9 {\\rho_{1,\\overline{2}}} {\\rho_{1,\\overline{2},\\overline{2}}} {\\rho_{2,\\overline{1}}} {{\\rho_{1,\\overline{1}}}^{2}} {{\\rho_{1,\\overline{1},\\overline{1}}}^{2}}} + {10 {\\rho_{1,\\overline{1}}} {\\rho_{1,\\overline{1},\\overline{1}}} {\\rho_{1,\\overline{1},\\overline{1},\\overline{1}}} {\\rho_{2,\\overline{1}}} {{\\rho_{1,\\overline{2}}}^{3}}}}\\right).$$"
      ],
      "text/plain": [
       "<IPython.core.display.Latex object>"
      ]
     },
     "metadata": {},
     "output_type": "display_data"
    }
   ],
   "source": [
    "solve_eqns = higher_order_eqns\n",
    "\n",
    "# We manually specify the variables w.r.t. solve\n",
    "solve_vars = [coframe_derivative(rho,CF_coordinate,0,0,0,1,4),\n",
    "              coframe_derivative(rho,CF_coordinate,0,0,1,1,4),\n",
    "              coframe_derivative(rho,CF_coordinate,0,0,1,3,4),\n",
    "              coframe_derivative(rho,CF_coordinate,0,0,1,4,4),\n",
    "              coframe_derivative(rho,CF_coordinate,0,1,1,1,4),\n",
    "              coframe_derivative(rho,CF_coordinate,0,1,1,3,4),\n",
    "              coframe_derivative(rho,CF_coordinate,0,1,1,4,4),\n",
    "              coframe_derivative(rho,CF_coordinate,0,1,3,3,4),\n",
    "              coframe_derivative(rho,CF_coordinate,0,1,3,4,4),\n",
    "              coframe_derivative(rho,CF_coordinate,0,1,4,4,4),\n",
    "              coframe_derivative(rho,CF_coordinate,1,1,1,3,4),\n",
    "              coframe_derivative(rho,CF_coordinate,1,1,3,3,4),\n",
    "              coframe_derivative(rho,CF_coordinate,1,1,3,4,4),\n",
    "              coframe_derivative(rho,CF_coordinate,1,3,3,3,4),\n",
    "              coframe_derivative(rho,CF_coordinate,1,3,3,4,4),\n",
    "              coframe_derivative(rho,CF_coordinate,1,3,4,4,4),\n",
    "              ]\n",
    "higher_rho_constraints = solve_dgcv(solve_eqns,solve_vars)[0]\n",
    "show(f'Solution to derivatives of coefficient equations in $0=\\\\operatorname{{d}}\\\\omega$: {LaTeX_eqn_system(higher_rho_constraints,add_period=True)}')"
   ]
  },
  {
   "cell_type": "markdown",
   "metadata": {},
   "source": [
    "## Solving for coefficient functions with Theorem 3.4"
   ]
  },
  {
   "cell_type": "markdown",
   "metadata": {},
   "source": [
    "Here is $(\\operatorname{d}\\theta^1 -\\overline{\\theta^1}\\wedge\\theta^2)\\wedge\\theta^1$:"
   ]
  },
  {
   "cell_type": "code",
   "execution_count": 34,
   "metadata": {},
   "outputs": [
    {
     "data": {
      "text/latex": [
       "$$\\left(\\operatorname{d}\\theta^1-\\overline{\\theta^1} \\wedge \\theta^2\\right)\\wedge \\theta^1 = \\left({\\rho_{2,\\overline{1},\\overline{1}}} + {{A_{2}} {\\rho_{1,\\overline{1}}}} -{ {A_{1}} {\\rho_{2,\\overline{1}}}} -{ {\\rho_{1,\\overline{1},\\overline{1}}} {\\rho_{2,\\overline{1}}} \\left({{\\rho_{1,\\overline{1}}}^{-1}}\\right)}\\right) \\cdot Z^{1} \\wedge Z^{2} \\wedge \\overline{Z}^{1} + {\\rho_{1,\\overline{2}}} \\left({{\\rho_{1,\\overline{1}}}^{-2}}\\right) \\left({{{A_{2}} {{\\rho_{1,\\overline{1}}}^{2}}} + {{\\rho_{1,\\overline{1}}} {\\rho_{2,\\overline{1},\\overline{1}}}} -{ {\\rho_{1,\\overline{1},\\overline{1}}} {\\rho_{2,\\overline{1}}}} -{ {A_{1}} {\\rho_{1,\\overline{1}}} {\\rho_{2,\\overline{1}}}}}\\right) \\cdot Z^{1} \\wedge Z^{2} \\wedge \\overline{Z}^{2}$$"
      ],
      "text/plain": [
       "<IPython.core.display.Latex object>"
      ]
     },
     "metadata": {},
     "output_type": "display_data"
    },
    {
     "data": {
      "text/latex": [
       "Solving $\\left(\\operatorname{d}\\theta^1-\\overline{\\theta^1} \\wedge \\theta^2\\right)\\wedge \\theta^1 = 0 $ yields $$A_{2}=\\left({{\\rho_{1,\\overline{1}}}^{-2}}\\right) \\left({{{\\rho_{1,\\overline{1},\\overline{1}}} {\\rho_{2,\\overline{1}}}} -{ {\\rho_{1,\\overline{1}}} {\\rho_{2,\\overline{1},\\overline{1}}}} + {{A_{1}} {\\rho_{1,\\overline{1}}} {\\rho_{2,\\overline{1}}}}}\\right) \\quad \\text{ and }\\quad\\overline{A_{2}}=\\left({{\\rho_{1,\\overline{1}}}^{-2}}\\right) \\left({{{\\rho_{1,1,\\overline{1}}} {\\rho_{1,\\overline{2}}}} -{ {\\rho_{1,1,\\overline{2}}} {\\rho_{1,\\overline{1}}}} + {{\\overline{A_{1}}} {\\rho_{1,\\overline{1}}} {\\rho_{1,\\overline{2}}}}}\\right).$$"
      ],
      "text/plain": [
       "<IPython.core.display.Latex object>"
      ]
     },
     "metadata": {},
     "output_type": "display_data"
    }
   ],
   "source": [
    "expr = canonicalize((extDer(theta1,CF_coordinate) - c_theta1*theta2)*theta1,with_simplify=True)\n",
    "expr = sp.simplify(expr.subs(rho_constraints))      # sub in rho constraints and simplify\n",
    "A2_solution  = solve_dgcv(expr,A2)[0]\n",
    "A2_solution |= {sp.conjugate(k):sp.conjugate(v) for k,v in A2_solution.items()}         # add conjugate relation\n",
    "A2_solution = {k:canonicalize(v).subs(rho_constraints) for k,v in A2_solution.items()}  # formatting\n",
    "\n",
    "show(f'$$\\\\left(\\\\operatorname{{d}}\\\\theta^1-\\\\overline{{\\\\theta^1}} \\\\wedge \\\\theta^2\\\\right)\\\\wedge \\\\theta^1 = {LaTeX(expr)}$$')\n",
    "show(f'Solving $\\\\left(\\\\operatorname{{d}}\\\\theta^1-\\\\overline{{\\\\theta^1}} \\\\wedge \\\\theta^2\\\\right)\\\\wedge \\\\theta^1 = 0 $ yields {LaTeX_eqn_system(A2_solution,one_line=True,add_period=True)}')"
   ]
  },
  {
   "cell_type": "markdown",
   "metadata": {},
   "source": [
    "Now we will solve for $B_1$ and $B_2$ using $0=\\operatorname{d}\\theta^1 + \\operatorname{i}\\psi\\wedge\\theta^1+\\theta^2\\wedge\\overline{\\theta^1}$ reduced under the previous $A_2$ solution:"
   ]
  },
  {
   "cell_type": "code",
   "execution_count": 35,
   "metadata": {},
   "outputs": [
    {
     "data": {
      "text/latex": [
       "$$\\operatorname{d}\\theta^1+\\operatorname{i}\\psi\\wedge\\theta^1-\\overline{\\theta^1} \\wedge \\theta^2 =\\left({{\\rho_{1,\\overline{1}}}^{- \\frac{1}{2}}}\\right) \\left({{{\\overline{B_{2}}} {\\rho_{1,\\overline{1}}}} -{ \\frac{i}{2} {\\rho_{1,\\overline{1},\\overline{2}}}} -{ i {A_{1}} {\\rho_{1,\\overline{2}}}}}\\right) \\cdot Z^{1} \\wedge \\overline{Z}^{2} + \\left({{\\rho_{1,\\overline{1}}}^{- \\frac{1}{2}}}\\right) \\left({{- {\\rho_{1,\\overline{1}}} \\left({{- {\\overline{B_{1}}}} + {{i} {A_{1}}}}\\right)} -{ \\frac{i}{2} {\\rho_{1,\\overline{1},\\overline{1}}}}}\\right) \\cdot Z^{1} \\wedge \\overline{Z}^{1} + \\frac{1}{2} {\\rho_{2,\\overline{1}}} \\left({{\\rho_{1,\\overline{1}}}^{- \\frac{3}{2}}}\\right) \\left({{- i {\\rho_{1,\\overline{1},\\overline{1}}}} + {2 {\\overline{B_{1}}} {\\rho_{1,\\overline{1}}}} -{ 2 i {A_{1}} {\\rho_{1,\\overline{1}}}}}\\right) \\cdot Z^{2} \\wedge \\overline{Z}^{1} + \\left({{\\rho_{1,\\overline{1}}}^{- \\frac{3}{2}}}\\right) \\left({{{B_{2}} {{\\rho_{1,\\overline{1}}}^{2}}} + {\\frac{i}{2} {\\rho_{1,2,\\overline{1}}} {\\rho_{1,\\overline{1}}}} -{ {B_{1}} {\\rho_{1,\\overline{1}}} {\\rho_{2,\\overline{1}}}} -{ \\frac{i}{2} {\\rho_{1,1,\\overline{1}}} {\\rho_{2,\\overline{1}}}}}\\right) \\cdot Z^{1} \\wedge Z^{2} + \\frac{1}{2} {\\rho_{2,\\overline{1}}} \\left({{\\rho_{1,\\overline{1}}}^{- \\frac{3}{2}}}\\right) \\left({{- i {\\rho_{1,\\overline{1},\\overline{2}}}} + {2 {\\overline{B_{2}}} {\\rho_{1,\\overline{1}}}} -{ 2 i {A_{1}} {\\rho_{1,\\overline{2}}}}}\\right) \\cdot Z^{2} \\wedge \\overline{Z}^{2} + \\sqrt{{\\rho_{1,\\overline{1}}}} \\cdot Z^{1} \\wedge \\varphi + {\\rho_{2,\\overline{1}}} \\left({{\\rho_{1,\\overline{1}}}^{- \\frac{1}{2}}}\\right) \\cdot Z^{2} \\wedge \\varphi$$"
      ],
      "text/plain": [
       "<IPython.core.display.Latex object>"
      ]
     },
     "metadata": {},
     "output_type": "display_data"
    },
    {
     "data": {
      "text/latex": [
       "Solving $\\operatorname{d}\\theta^1+\\operatorname{i}\\psi\\wedge\\theta^1-\\overline{\\theta^1} \\wedge \\theta^2 =0 $ yields $$B_{1}={i} \\left({{\\rho_{1,\\overline{1}}}^{-1}}\\right) \\left({{- \\frac{1}{2} {\\rho_{1,1,\\overline{1}}}} -{ {\\overline{A_{1}}} {\\rho_{1,\\overline{1}}}}}\\right), \\quad B_{2}={i} \\left({{\\rho_{1,\\overline{1}}}^{-1}}\\right) \\left({{- \\frac{1}{2} {\\rho_{1,2,\\overline{1}}}} -{ {\\overline{A_{1}}} {\\rho_{2,\\overline{1}}}}}\\right), \\quad \\overline{B_{1}}={i} \\left({{\\rho_{1,\\overline{1}}}^{-1}}\\right) \\left({{\\frac{1}{2} {\\rho_{1,\\overline{1},\\overline{1}}}} + {{A_{1}} {\\rho_{1,\\overline{1}}}}}\\right),\\quad\\text{and}\\quad \\overline{B_{2}}={i} \\left({{\\rho_{1,\\overline{1}}}^{-1}}\\right) \\left({{\\frac{1}{2} {\\rho_{1,\\overline{1},\\overline{2}}}} + {{A_{1}} {\\rho_{1,\\overline{2}}}}}\\right).$$"
      ],
      "text/plain": [
       "<IPython.core.display.Latex object>"
      ]
     },
     "metadata": {},
     "output_type": "display_data"
    }
   ],
   "source": [
    "expr = canonicalize((extDer(theta1,CF_coordinate) +sp.I*psi*theta1 + theta2*c_theta1),with_simplify=True)\n",
    "expr = sp.simplify(expr.subs(A2_solution|rho_constraints))      # sub in rho constraints and simplify\n",
    "B_before_conjugacy  = solve_dgcv(expr,BARB)[0]\n",
    "conjugacy_relations = sum([[sp.conjugate(k-v),k-v] for k,v in B_before_conjugacy.items()],[])\n",
    "B_solutions = solve_dgcv(conjugacy_relations,B+BARB)[0]\n",
    "B_solutions = {k:canonicalize(v).subs(rho_constraints) for k,v in B_solutions.items()}      # formatting\n",
    "\n",
    "\n",
    "show(f'$$\\\\operatorname{{d}}\\\\theta^1+\\\\operatorname{{i}}\\\\psi\\\\wedge\\\\theta^1-\\\\overline{{\\\\theta^1}} \\\\wedge \\\\theta^2 ={LaTeX(expr)}$$')\n",
    "show(f'Solving $\\\\operatorname{{d}}\\\\theta^1+\\\\operatorname{{i}}\\\\psi\\\\wedge\\\\theta^1-\\\\overline{{\\\\theta^1}} \\\\wedge \\\\theta^2 =0 $ yields {LaTeX_eqn_system(B_solutions,one_line=True,add_period=True)}')\n"
   ]
  },
  {
   "cell_type": "markdown",
   "metadata": {},
   "source": [
    "And here is $(\\operatorname{d}\\theta^2 + 2\\operatorname{i}\\psi\\wedge\\theta^2)\\wedge\\theta^1$ simplified after substituting the previously derived `rho_constraints`, `A2_solution`, and `B_solutions`, which we use to solve for $A_1$:"
   ]
  },
  {
   "cell_type": "code",
   "execution_count": 36,
   "metadata": {},
   "outputs": [
    {
     "data": {
      "text/latex": [
       "Here is $\\left(\\operatorname{d}\\theta^2+ 2\\operatorname{i}\\psi \\wedge \\theta^2\\right)\\wedge \\theta^1$ before simplifying $${i} \\left({{\\rho_{1,\\overline{1}}}^{- \\frac{1}{2}}}\\right) \\left({{{\\rho_{2,\\overline{1}}} \\left({{\\left(A_{1}\\right)_{\\overline{1}}} + {2 i {A_{1}} {\\overline{B_{1}}}}}\\right)} -{ {\\rho_{1,\\overline{1}}} \\left({{\\left(A_{2}\\right)_{\\overline{1}}} + {2 i {A_{2}} {\\overline{B_{1}}}}}\\right)}}\\right) \\cdot Z^{1} \\wedge Z^{2} \\wedge \\overline{Z}^{1} + {i} \\left({{\\rho_{1,\\overline{1}}}^{- \\frac{1}{2}}}\\right) \\left({{{\\rho_{2,\\overline{1}}} \\left({{\\left(A_{1}\\right)_{\\overline{2}}} + {2 i {A_{1}} {\\overline{B_{2}}}}}\\right)} -{ {\\rho_{1,\\overline{1}}} \\left({{\\left(A_{2}\\right)_{\\overline{2}}} + {2 i {A_{2}} {\\overline{B_{2}}}}}\\right)}}\\right) \\cdot Z^{1} \\wedge Z^{2} \\wedge \\overline{Z}^{2} + 2 \\left({{\\rho_{1,\\overline{1}}}^{- \\frac{1}{2}}}\\right) \\left({{{A_{2}} {\\rho_{1,\\overline{1}}}} -{ {A_{1}} {\\rho_{2,\\overline{1}}}}}\\right) \\cdot Z^{1} \\wedge Z^{2} \\wedge \\varphi,$$ and here it is after simplifying with the $A_2$ and $B_i$ substituted, followed by the previous higher order $\\rho$ constraints: $${i} \\left({{\\rho_{1,\\overline{1}}}^{- \\frac{5}{2}}}\\right) \\left({{{\\rho_{2,\\overline{1},\\overline{1},\\overline{1}}} {{\\rho_{1,\\overline{1}}}^{2}}} + {3 {\\rho_{2,\\overline{1}}} {{\\rho_{1,\\overline{1},\\overline{1}}}^{2}}} -{ {\\rho_{1,\\overline{1}}} {\\rho_{1,\\overline{1},\\overline{1},\\overline{1}}} {\\rho_{2,\\overline{1}}}} -{3 {A_{1}} {\\rho_{2,\\overline{1},\\overline{1}}} {{\\rho_{1,\\overline{1}}}^{2}}} -{3 {\\rho_{1,\\overline{1}}} {\\rho_{1,\\overline{1},\\overline{1}}} {\\rho_{2,\\overline{1},\\overline{1}}}} + {3 {A_{1}} {\\rho_{1,\\overline{1}}} {\\rho_{1,\\overline{1},\\overline{1}}} {\\rho_{2,\\overline{1}}}}}\\right) \\cdot Z^{1} \\wedge Z^{2} \\wedge \\overline{Z}^{1} + {i} {\\rho_{1,\\overline{2}}} \\left({{\\rho_{1,\\overline{1}}}^{- \\frac{7}{2}}}\\right) \\left({{{\\rho_{2,\\overline{1},\\overline{1},\\overline{1}}} {{\\rho_{1,\\overline{1}}}^{2}}} + {3 {\\rho_{2,\\overline{1}}} {{\\rho_{1,\\overline{1},\\overline{1}}}^{2}}} -{ {\\rho_{1,\\overline{1}}} {\\rho_{1,\\overline{1},\\overline{1},\\overline{1}}} {\\rho_{2,\\overline{1}}}} -{3 {A_{1}} {\\rho_{2,\\overline{1},\\overline{1}}} {{\\rho_{1,\\overline{1}}}^{2}}} -{3 {\\rho_{1,\\overline{1}}} {\\rho_{1,\\overline{1},\\overline{1}}} {\\rho_{2,\\overline{1},\\overline{1}}}} + {3 {A_{1}} {\\rho_{1,\\overline{1}}} {\\rho_{1,\\overline{1},\\overline{1}}} {\\rho_{2,\\overline{1}}}}}\\right) \\cdot Z^{1} \\wedge Z^{2} \\wedge \\overline{Z}^{2} + 2 \\left({{\\rho_{1,\\overline{1}}}^{- \\frac{3}{2}}}\\right) \\left({{{\\rho_{1,\\overline{1},\\overline{1}}} {\\rho_{2,\\overline{1}}}} -{ {\\rho_{1,\\overline{1}}} {\\rho_{2,\\overline{1},\\overline{1}}}}}\\right) \\cdot Z^{1} \\wedge Z^{2} \\wedge \\varphi$$"
      ],
      "text/plain": [
       "<IPython.core.display.Latex object>"
      ]
     },
     "metadata": {},
     "output_type": "display_data"
    },
    {
     "data": {
      "text/latex": [
       "Solving $\\left(\\operatorname{d}\\theta^2+ 2\\operatorname{i}\\psi \\wedge \\theta^2\\right)\\wedge \\theta^1 =0 $ yields $$A_{1}=\\left({{\\rho_{1,\\overline{1}}}^{-1}}\\right) \\left({\\left({{{\\rho_{1,\\overline{1}}} {\\rho_{2,\\overline{1},\\overline{1}}}} -{ {\\rho_{1,\\overline{1},\\overline{1}}} {\\rho_{2,\\overline{1}}}}}\\right)^{-1}}\\right) \\left({{{\\rho_{2,\\overline{1}}} {{\\rho_{1,\\overline{1},\\overline{1}}}^{2}}} + {\\frac{1}{3} {\\rho_{2,\\overline{1},\\overline{1},\\overline{1}}} {{\\rho_{1,\\overline{1}}}^{2}}} -{ {\\rho_{1,\\overline{1}}} {\\rho_{1,\\overline{1},\\overline{1}}} {\\rho_{2,\\overline{1},\\overline{1}}}} -{ \\frac{1}{3} {\\rho_{1,\\overline{1}}} {\\rho_{1,\\overline{1},\\overline{1},\\overline{1}}} {\\rho_{2,\\overline{1}}}}}\\right) \\quad \\text{ and }\\quad\\overline{A_{1}}=\\left({{\\rho_{1,\\overline{1}}}^{-1}}\\right) \\left({\\left({{{\\rho_{1,1,\\overline{2}}} {\\rho_{1,\\overline{1}}}} -{ {\\rho_{1,1,\\overline{1}}} {\\rho_{1,\\overline{2}}}}}\\right)^{-1}}\\right) \\left({{{\\rho_{1,\\overline{2}}} {{\\rho_{1,1,\\overline{1}}}^{2}}} + {\\frac{1}{3} {\\rho_{1,1,1,\\overline{2}}} {{\\rho_{1,\\overline{1}}}^{2}}} -{ {\\rho_{1,1,\\overline{1}}} {\\rho_{1,1,\\overline{2}}} {\\rho_{1,\\overline{1}}}} -{ \\frac{1}{3} {\\rho_{1,1,1,\\overline{1}}} {\\rho_{1,\\overline{1}}} {\\rho_{1,\\overline{2}}}}}\\right).$$"
      ],
      "text/plain": [
       "<IPython.core.display.Latex object>"
      ]
     },
     "metadata": {},
     "output_type": "display_data"
    }
   ],
   "source": [
    "expr = canonicalize((extDer(theta2,CF_coordinate) + 2*sp.I*psi*theta2)*theta1,with_simplify=True)\n",
    "expr_after_simplifying = canonicalize(expr.subs(A2_solution|B_solutions,with_diff_corollaries=True).subs(rho_constraints),with_simplify=True)\n",
    "A1_solution = solve_dgcv(expr_after_simplifying,A1)[0]\n",
    "A1_solution |= {sp.conjugate(k):sp.conjugate(v) for k,v in A1_solution.items()}      # add conjugate relation\n",
    "A1_solution = {k:canonicalize(v).subs(rho_constraints) for k,v in A1_solution.items()}        # formatting\n",
    "\n",
    "show(f'Here is $\\\\left(\\\\operatorname{{d}}\\\\theta^2+ 2\\\\operatorname{{i}}\\\\psi \\\\wedge \\\\theta^2\\\\right)\\\\wedge \\\\theta^1$ before simplifying $${LaTeX(expr)},$$ and here it is after simplifying with the $A_2$ and $B_i$ substituted, followed by the previous higher order $\\\\rho$ constraints: $${LaTeX(expr_after_simplifying)}$$')\n",
    "show(f'Solving $\\\\left(\\\\operatorname{{d}}\\\\theta^2+ 2\\\\operatorname{{i}}\\\\psi \\\\wedge \\\\theta^2\\\\right)\\\\wedge \\\\theta^1 =0 $ yields {LaTeX_eqn_system(A1_solution,one_line=True,add_period=True)}')\n"
   ]
  },
  {
   "cell_type": "markdown",
   "metadata": {},
   "source": [
    "Now we can substitute this $A_1$ back into $B_1$, $B_2$, and $A_2$, and then substitute these now-solved-for values into the definitions of $\\theta^2$ and $\\psi$."
   ]
  },
  {
   "cell_type": "code",
   "execution_count": 37,
   "metadata": {},
   "outputs": [
    {
     "data": {
      "text/latex": [
       " The solved for values are $$A_1 = \\left({{\\rho_{1,\\overline{1}}}^{-1}}\\right) \\left({\\left({{{\\rho_{1,\\overline{1}}} {\\rho_{2,\\overline{1},\\overline{1}}}} -{ {\\rho_{1,\\overline{1},\\overline{1}}} {\\rho_{2,\\overline{1}}}}}\\right)^{-1}}\\right) \\left({{{\\rho_{2,\\overline{1}}} {{\\rho_{1,\\overline{1},\\overline{1}}}^{2}}} + {\\frac{1}{3} {\\rho_{2,\\overline{1},\\overline{1},\\overline{1}}} {{\\rho_{1,\\overline{1}}}^{2}}} -{ {\\rho_{1,\\overline{1}}} {\\rho_{1,\\overline{1},\\overline{1}}} {\\rho_{2,\\overline{1},\\overline{1}}}} -{ \\frac{1}{3} {\\rho_{1,\\overline{1}}} {\\rho_{1,\\overline{1},\\overline{1},\\overline{1}}} {\\rho_{2,\\overline{1}}}}}\\right),$$ $$A_2 = \\left({{\\rho_{1,\\overline{1}}}^{-1}}\\right) \\left({\\left({{{\\rho_{1,\\overline{1}}} {\\rho_{2,\\overline{1},\\overline{1}}}} -{ {\\rho_{1,\\overline{1},\\overline{1}}} {\\rho_{2,\\overline{1}}}}}\\right)^{-1}}\\right) \\left({{- {\\rho_{1,\\overline{1}}} {{\\rho_{2,\\overline{1},\\overline{1}}}^{2}}} -{ \\frac{1}{3} {\\rho_{1,\\overline{1},\\overline{1},\\overline{1}}} {{\\rho_{2,\\overline{1}}}^{2}}} + {{\\rho_{1,\\overline{1},\\overline{1}}} {\\rho_{2,\\overline{1}}} {\\rho_{2,\\overline{1},\\overline{1}}}} + {\\frac{1}{3} {\\rho_{1,\\overline{1}}} {\\rho_{2,\\overline{1}}} {\\rho_{2,\\overline{1},\\overline{1},\\overline{1}}}}}\\right),$$ $$B_1 = {i} \\left({{\\rho_{1,\\overline{1}}}^{-1}}\\right) \\left({\\left({{{\\rho_{1,1,\\overline{1}}} {\\rho_{1,\\overline{2}}}} -{ {\\rho_{1,1,\\overline{2}}} {\\rho_{1,\\overline{1}}}}}\\right)^{-1}}\\right) \\left({{\\frac{1}{2} {\\rho_{1,\\overline{2}}} {{\\rho_{1,1,\\overline{1}}}^{2}}} + {\\frac{1}{3} {\\rho_{1,1,1,\\overline{2}}} {{\\rho_{1,\\overline{1}}}^{2}}} -{ \\frac{1}{2} {\\rho_{1,1,\\overline{1}}} {\\rho_{1,1,\\overline{2}}} {\\rho_{1,\\overline{1}}}} -{ \\frac{1}{3} {\\rho_{1,1,1,\\overline{1}}} {\\rho_{1,\\overline{1}}} {\\rho_{1,\\overline{2}}}}}\\right),$$ $$B_2 = {i} \\left({{\\rho_{1,\\overline{1}}}^{-2}}\\right) \\left({\\left({{{\\rho_{1,1,\\overline{1}}} {\\rho_{1,\\overline{2}}}} -{ {\\rho_{1,1,\\overline{2}}} {\\rho_{1,\\overline{1}}}}}\\right)^{-1}}\\right) \\left({{-2 {\\rho_{2,\\overline{1}}} \\left({{- {\\rho_{1,1,1,\\overline{2}}} {{\\rho_{1,\\overline{1}}}^{2}}} -{3 {\\rho_{1,\\overline{2}}} {{\\rho_{1,1,\\overline{1}}}^{2}}} + {{\\rho_{1,1,1,\\overline{1}}} {\\rho_{1,\\overline{1}}} {\\rho_{1,\\overline{2}}}} + {3 {\\rho_{1,1,\\overline{1}}} {\\rho_{1,1,\\overline{2}}} {\\rho_{1,\\overline{1}}}}}\\right)} -{3 {\\rho_{1,2,\\overline{1}}} {\\rho_{1,\\overline{1}}} \\left({{{\\rho_{1,1,\\overline{1}}} {\\rho_{1,\\overline{2}}}} -{ {\\rho_{1,1,\\overline{2}}} {\\rho_{1,\\overline{1}}}}}\\right)}}\\right).$$ The new coframe forms are $$\\theta^1 = \\frac{{{i} {\\rho_{2,\\overline{1}}}}}{{\\sqrt{{\\rho_{1,\\overline{1}}}}}} \\cdot Z^{2} + {i} {\\sqrt{{\\rho_{1,\\overline{1}}}}} \\cdot Z^{1},$$ $$\\theta^2 = \\left({{\\rho_{1,\\overline{1}}}^{-1}}\\right) \\left({\\left({{{\\rho_{1,\\overline{1}}} {\\rho_{2,\\overline{1},\\overline{1}}}} -{ {\\rho_{1,\\overline{1},\\overline{1}}} {\\rho_{2,\\overline{1}}}}}\\right)^{-1}}\\right) \\left({{- {\\rho_{1,\\overline{1}}} {{\\rho_{2,\\overline{1},\\overline{1}}}^{2}}} -{ \\frac{1}{3} {\\rho_{1,\\overline{1},\\overline{1},\\overline{1}}} {{\\rho_{2,\\overline{1}}}^{2}}} + {{\\rho_{1,\\overline{1},\\overline{1}}} {\\rho_{2,\\overline{1}}} {\\rho_{2,\\overline{1},\\overline{1}}}} + {\\frac{1}{3} {\\rho_{1,\\overline{1}}} {\\rho_{2,\\overline{1}}} {\\rho_{2,\\overline{1},\\overline{1},\\overline{1}}}}}\\right) \\cdot Z^{2} + \\left({{\\rho_{1,\\overline{1}}}^{-1}}\\right) \\left({\\left({{{\\rho_{1,\\overline{1}}} {\\rho_{2,\\overline{1},\\overline{1}}}} -{ {\\rho_{1,\\overline{1},\\overline{1}}} {\\rho_{2,\\overline{1}}}}}\\right)^{-1}}\\right) \\left({{{\\rho_{2,\\overline{1}}} {{\\rho_{1,\\overline{1},\\overline{1}}}^{2}}} + {\\frac{1}{3} {\\rho_{2,\\overline{1},\\overline{1},\\overline{1}}} {{\\rho_{1,\\overline{1}}}^{2}}} -{ {\\rho_{1,\\overline{1}}} {\\rho_{1,\\overline{1},\\overline{1}}} {\\rho_{2,\\overline{1},\\overline{1}}}} -{ \\frac{1}{3} {\\rho_{1,\\overline{1}}} {\\rho_{1,\\overline{1},\\overline{1},\\overline{1}}} {\\rho_{2,\\overline{1}}}}}\\right) \\cdot Z^{1},$$ $$\\psi = {i} \\left({{\\rho_{1,\\overline{1}}}^{-2}}\\right) \\left({\\left({{{\\rho_{1,1,\\overline{1}}} {\\rho_{1,\\overline{2}}}} -{ {\\rho_{1,1,\\overline{2}}} {\\rho_{1,\\overline{1}}}}}\\right)^{-1}}\\right) \\left({{-2 {\\rho_{2,\\overline{1}}} \\left({{- {\\rho_{1,1,1,\\overline{2}}} {{\\rho_{1,\\overline{1}}}^{2}}} -{3 {\\rho_{1,\\overline{2}}} {{\\rho_{1,1,\\overline{1}}}^{2}}} + {{\\rho_{1,1,1,\\overline{1}}} {\\rho_{1,\\overline{1}}} {\\rho_{1,\\overline{2}}}} + {3 {\\rho_{1,1,\\overline{1}}} {\\rho_{1,1,\\overline{2}}} {\\rho_{1,\\overline{1}}}}}\\right)} -{3 {\\rho_{1,2,\\overline{1}}} {\\rho_{1,\\overline{1}}} \\left({{{\\rho_{1,1,\\overline{1}}} {\\rho_{1,\\overline{2}}}} -{ {\\rho_{1,1,\\overline{2}}} {\\rho_{1,\\overline{1}}}}}\\right)}}\\right) \\cdot Z^{2} + \\varphi + {i} \\left({{\\rho_{1,\\overline{1}}}^{-1}}\\right) \\left({\\left({{{\\rho_{1,1,\\overline{1}}} {\\rho_{1,\\overline{2}}}} -{ {\\rho_{1,1,\\overline{2}}} {\\rho_{1,\\overline{1}}}}}\\right)^{-1}}\\right) \\left({{\\frac{1}{2} {\\rho_{1,\\overline{2}}} {{\\rho_{1,1,\\overline{1}}}^{2}}} + {\\frac{1}{3} {\\rho_{1,1,1,\\overline{2}}} {{\\rho_{1,\\overline{1}}}^{2}}} -{ \\frac{1}{2} {\\rho_{1,1,\\overline{1}}} {\\rho_{1,1,\\overline{2}}} {\\rho_{1,\\overline{1}}}} -{ \\frac{1}{3} {\\rho_{1,1,1,\\overline{1}}} {\\rho_{1,\\overline{1}}} {\\rho_{1,\\overline{2}}}}}\\right) \\cdot Z^{1} + \\overline{B_{1}} \\cdot \\overline{Z}^{1} + \\overline{B_{2}} \\cdot \\overline{Z}^{2},$$ $$\\overline{\\theta^1} = - i {\\sqrt{{\\rho_{\\overline{1},1}}}} \\cdot \\overline{Z}^{1} + \\frac{\\left({- i {\\rho_{\\overline{2},1}}}\\right)}{{\\sqrt{{\\rho_{\\overline{1},1}}}}} \\cdot \\overline{Z}^{2},$$ $$\\overline{\\theta^2} = \\left({{\\rho_{1,\\overline{1}}}^{-1}}\\right) \\left({\\left({{{\\rho_{1,1,\\overline{1}}} {\\rho_{1,\\overline{2}}}} -{ {\\rho_{1,1,\\overline{2}}} {\\rho_{1,\\overline{1}}}}}\\right)^{-1}}\\right) \\left({{- {\\rho_{1,\\overline{2}}} {{\\rho_{1,1,\\overline{1}}}^{2}}} -{ \\frac{1}{3} {\\rho_{1,1,1,\\overline{2}}} {{\\rho_{1,\\overline{1}}}^{2}}} + {{\\rho_{1,1,\\overline{1}}} {\\rho_{1,1,\\overline{2}}} {\\rho_{1,\\overline{1}}}} + {\\frac{1}{3} {\\rho_{1,1,1,\\overline{1}}} {\\rho_{1,\\overline{1}}} {\\rho_{1,\\overline{2}}}}}\\right) \\cdot \\overline{Z}^{1} + \\left({{\\rho_{1,\\overline{1}}}^{-1}}\\right) \\left({\\left({{{\\rho_{1,1,\\overline{1}}} {\\rho_{1,\\overline{2}}}} -{ {\\rho_{1,1,\\overline{2}}} {\\rho_{1,\\overline{1}}}}}\\right)^{-1}}\\right) \\left({{{\\rho_{1,\\overline{1}}} {{\\rho_{1,1,\\overline{2}}}^{2}}} + {\\frac{1}{3} {\\rho_{1,1,1,\\overline{1}}} {{\\rho_{1,\\overline{2}}}^{2}}} -{ {\\rho_{1,1,\\overline{1}}} {\\rho_{1,1,\\overline{2}}} {\\rho_{1,\\overline{2}}}} -{ \\frac{1}{3} {\\rho_{1,1,1,\\overline{2}}} {\\rho_{1,\\overline{1}}} {\\rho_{1,\\overline{2}}}}}\\right) \\cdot \\overline{Z}^{2}.$$"
      ],
      "text/plain": [
       "<IPython.core.display.Latex object>"
      ]
     },
     "metadata": {},
     "output_type": "display_data"
    }
   ],
   "source": [
    "new_B1 = canonicalize(B_solutions[B1].subs(A1_solution),with_simplify=True)\n",
    "new_B2 = canonicalize(6*B_solutions[B2].subs(A1_solution|rho_constraints),with_simplify=True)\n",
    "new_A2 = canonicalize(A2_solution[A2].subs(A1_solution),with_simplify=True)\n",
    "new_A1 = canonicalize(A1_solution[A1],with_simplify=True)\n",
    "\n",
    "theta2 = sp.simplify(theta2.subs({A1:new_A1,A2:new_A2}))\n",
    "c_theta2 = canonicalize(sp.conjugate(theta2),with_simplify=True)\n",
    "psi = canonicalize(psi.subs({B1:new_B1,B2:new_B2}),with_simplify=True)\n",
    "varLabels, newVars, formLabels, forms = ['A_1','A_2','B_1','B_2'],[new_A1,new_A2,new_B1,new_B2],[r'\\theta^1',r'\\theta^2',r'\\psi',r'\\overline{\\theta^1}',r'\\overline{\\theta^2}'],[theta1,theta2,psi,c_theta1,c_theta2]\n",
    "show(f' The solved for values are $${',$$ $$'.join(f'{v} = {LaTeX(nv)}' for v,nv in zip(varLabels,newVars))}.$$ The new coframe forms are $${',$$ $$'.join(f'{f} = {LaTeX(nf)}' for f,nf in zip(formLabels,forms))}.$$')"
   ]
  },
  {
   "cell_type": "code",
   "execution_count": 38,
   "metadata": {},
   "outputs": [
    {
     "data": {
      "text/latex": [
       "The solutions for the $T$ invariants are $T_1=$"
      ],
      "text/plain": [
       "<IPython.core.display.Latex object>"
      ]
     },
     "metadata": {},
     "output_type": "display_data"
    },
    {
     "data": {
      "image/png": "[encoded data removed]",
      "text/latex": [
       "$\\frac{1}{9} \\left({{\\rho_{1,\\overline{1}}}^{-1}}\\right) \\left({\\left({{{{\\rho_{1,\\overline{1}}}^{2}} {{\\rho_{2,\\overline{1},\\overline{1}}}^{2}}} + {{{\\rho_{1,\\overline{1},\\overline{1}}}^{2}} {{\\rho_{2,\\overline{1}}}^{2}}} -{2 {\\rho_{1,\\overline{1}}} {\\rho_{1,\\overline{1},\\overline{1}}} {\\rho_{2,\\overline{1}}} {\\rho_{2,\\overline{1},\\overline{1}}}}}\\right)^{-1}}\\right) \\left({{5 {{\\rho_{1,\\overline{1}}}^{2}} {{\\rho_{2,\\overline{1},\\overline{1},\\overline{1}}}^{2}}} + {5 {{\\rho_{1,\\overline{1},\\overline{1},\\overline{1}}}^{2}} {{\\rho_{2,\\overline{1}}}^{2}}} -{3 {\\rho_{1,\\overline{1},\\overline{1}}} {\\rho_{1,\\overline{1},\\overline{1},\\overline{1},\\overline{1}}} {{\\rho_{2,\\overline{1}}}^{2}}} -{3 {\\rho_{2,\\overline{1},\\overline{1}}} {\\rho_{2,\\overline{1},\\overline{1},\\overline{1},\\overline{1}}} {{\\rho_{1,\\overline{1}}}^{2}}} + {12 {\\rho_{1,\\overline{1}}} {\\rho_{1,\\overline{1},\\overline{1},\\overline{1}}} {{\\rho_{2,\\overline{1},\\overline{1}}}^{2}}} + {12 {\\rho_{2,\\overline{1}}} {\\rho_{2,\\overline{1},\\overline{1},\\overline{1}}} {{\\rho_{1,\\overline{1},\\overline{1}}}^{2}}} -{12 {\\rho_{1,\\overline{1}}} {\\rho_{1,\\overline{1},\\overline{1}}} {\\rho_{2,\\overline{1},\\overline{1}}} {\\rho_{2,\\overline{1},\\overline{1},\\overline{1}}}} -{12 {\\rho_{1,\\overline{1},\\overline{1}}} {\\rho_{1,\\overline{1},\\overline{1},\\overline{1}}} {\\rho_{2,\\overline{1}}} {\\rho_{2,\\overline{1},\\overline{1}}}} -{10 {\\rho_{1,\\overline{1}}} {\\rho_{1,\\overline{1},\\overline{1},\\overline{1}}} {\\rho_{2,\\overline{1}}} {\\rho_{2,\\overline{1},\\overline{1},\\overline{1}}}} + {3 {\\rho_{1,\\overline{1}}} {\\rho_{1,\\overline{1},\\overline{1}}} {\\rho_{2,\\overline{1}}} {\\rho_{2,\\overline{1},\\overline{1},\\overline{1},\\overline{1}}}} + {3 {\\rho_{1,\\overline{1}}} {\\rho_{1,\\overline{1},\\overline{1},\\overline{1},\\overline{1}}} {\\rho_{2,\\overline{1}}} {\\rho_{2,\\overline{1},\\overline{1}}}}}\\right)$"
      ],
      "text/plain": [
       "abstract_ZF(('mul', 1/9, ('pow', zeroFormAtom('rho'), -1), ('pow', ('add', ('mul', ('pow', zeroFormAtom('rho'), 2), ('pow', zeroFormAtom('rho'), 2)), ('mul', ('pow', zeroFormAtom('rho'), 2), ('pow', zeroFormAtom('rho'), 2)), ('mul', -2, zeroFormAtom('rho'), zeroFormAtom('rho'), zeroFormAtom('rho'), zeroFormAtom('rho'))), -1), ('add', ('mul', 5, ('pow', zeroFormAtom('rho'), 2), ('pow', zeroFormAtom('rho'), 2)), ('mul', 5, ('pow', zeroFormAtom('rho'), 2), ('pow', zeroFormAtom('rho'), 2)), ('mul', -3, zeroFormAtom('rho'), zeroFormAtom('rho'), ('pow', zeroFormAtom('rho'), 2)), ('mul', -3, zeroFormAtom('rho'), zeroFormAtom('rho'), ('pow', zeroFormAtom('rho'), 2)), ('mul', 12, zeroFormAtom('rho'), zeroFormAtom('rho'), ('pow', zeroFormAtom('rho'), 2)), ('mul', 12, zeroFormAtom('rho'), zeroFormAtom('rho'), ('pow', zeroFormAtom('rho'), 2)), ('mul', -12, zeroFormAtom('rho'), zeroFormAtom('rho'), zeroFormAtom('rho'), zeroFormAtom('rho')), ('mul', -12, zeroFormAtom('rho'), zeroFormAtom('rho'), zeroFormAtom('rho'), zeroFormAtom('rho')), ('mul', -10, zeroFormAtom('rho'), zeroFormAtom('rho'), zeroFormAtom('rho'), zeroFormAtom('rho')), ('mul', 3, zeroFormAtom('rho'), zeroFormAtom('rho'), zeroFormAtom('rho'), zeroFormAtom('rho')), ('mul', 3, zeroFormAtom('rho'), zeroFormAtom('rho'), zeroFormAtom('rho'), zeroFormAtom('rho')))))"
      ]
     },
     "metadata": {},
     "output_type": "display_data"
    },
    {
     "data": {
      "text/latex": [
       " and $T_2 = $"
      ],
      "text/plain": [
       "<IPython.core.display.Latex object>"
      ]
     },
     "metadata": {},
     "output_type": "display_data"
    },
    {
     "data": {
      "image/png": "[encoded data removed]",
      "text/latex": [
       "${{\\rho_{1,\\overline{1}}}^{3}} \\left({\\left({{- {\\rho_{1,1,\\overline{2}}} {\\rho_{2,\\overline{1},\\overline{1}}} {{\\rho_{1,\\overline{1}}}^{2}}} + {{\\rho_{1,1,\\overline{1}}} {\\rho_{1,\\overline{1}}} {\\rho_{1,\\overline{2}}} {\\rho_{2,\\overline{1},\\overline{1}}}} + {{\\rho_{1,1,\\overline{2}}} {\\rho_{1,\\overline{1}}} {\\rho_{1,\\overline{1},\\overline{1}}} {\\rho_{2,\\overline{1}}}} -{ {\\rho_{1,1,\\overline{1}}} {\\rho_{1,\\overline{1},\\overline{1}}} {\\rho_{1,\\overline{2}}} {\\rho_{2,\\overline{1}}}}}\\right)^{-1}}\\right) \\left({{- i \\left({{\\rho_{1,\\overline{1}}}^{- \\frac{1}{2}}}\\right) \\left({\\left({{{\\rho_{1,1,\\overline{1}}} {\\rho_{1,\\overline{2}}}} -{ {\\rho_{1,1,\\overline{2}}} {\\rho_{1,\\overline{1}}}}}\\right)^{-1}}\\right) \\left({{{\\rho_{1,\\overline{1}}} {{\\rho_{1,1,\\overline{2}}}^{2}}} + {\\frac{1}{3} {\\rho_{1,1,1,\\overline{1}}} {{\\rho_{1,\\overline{2}}}^{2}}} -{ {\\rho_{1,1,\\overline{1}}} {\\rho_{1,1,\\overline{2}}} {\\rho_{1,\\overline{2}}}} -{ \\frac{1}{3} {\\rho_{1,1,1,\\overline{2}}} {\\rho_{1,\\overline{1}}} {\\rho_{1,\\overline{2}}}}}\\right) \\left({{\\left({{\\rho_{1,\\overline{1}}}^{-1}}\\right) \\left({\\left({{{\\rho_{1,\\overline{1}}} {\\rho_{2,\\overline{1},\\overline{1}}}} -{ {\\rho_{1,\\overline{1},\\overline{1}}} {\\rho_{2,\\overline{1}}}}}\\right)^{-1}}\\right) \\left({{- {\\rho_{1,1,\\overline{1}}} {{\\rho_{2,\\overline{1},\\overline{1}}}^{2}}} -{ \\frac{1}{3} {\\rho_{1,1,\\overline{1},\\overline{1},\\overline{1}}} {{\\rho_{2,\\overline{1}}}^{2}}} + {{\\rho_{1,1,\\overline{1},\\overline{1}}} {\\rho_{2,\\overline{1}}} {\\rho_{2,\\overline{1},\\overline{1}}}} + {{\\rho_{1,2,\\overline{1}}} {\\rho_{1,\\overline{1},\\overline{1}}} {\\rho_{2,\\overline{1},\\overline{1}}}} + {{\\rho_{1,2,\\overline{1},\\overline{1}}} {\\rho_{1,\\overline{1},\\overline{1}}} {\\rho_{2,\\overline{1}}}} -{2 {\\rho_{1,2,\\overline{1},\\overline{1}}} {\\rho_{1,\\overline{1}}} {\\rho_{2,\\overline{1},\\overline{1}}}} -{ \\frac{2}{3} {\\rho_{1,2,\\overline{1}}} {\\rho_{1,\\overline{1},\\overline{1},\\overline{1}}} {\\rho_{2,\\overline{1}}}} + {\\frac{1}{3} {\\rho_{1,1,\\overline{1}}} {\\rho_{2,\\overline{1}}} {\\rho_{2,\\overline{1},\\overline{1},\\overline{1}}}} + {\\frac{1}{3} {\\rho_{1,2,\\overline{1}}} {\\rho_{1,\\overline{1}}} {\\rho_{2,\\overline{1},\\overline{1},\\overline{1}}}} + {\\frac{1}{3} {\\rho_{1,2,\\overline{1},\\overline{1},\\overline{1}}} {\\rho_{1,\\overline{1}}} {\\rho_{2,\\overline{1}}}}}\\right)} -{ \\left({{\\rho_{1,\\overline{1}}}^{-1}}\\right) \\left({\\left({{{\\rho_{1,\\overline{1}}} {\\rho_{2,\\overline{1},\\overline{1}}}} -{ {\\rho_{1,\\overline{1},\\overline{1}}} {\\rho_{2,\\overline{1}}}}}\\right)^{-1}}\\right) \\left({{{\\rho_{2,2,\\overline{1}}} {{\\rho_{1,\\overline{1},\\overline{1}}}^{2}}} + {\\frac{1}{3} {\\rho_{2,2,\\overline{1},\\overline{1},\\overline{1}}} {{\\rho_{1,\\overline{1}}}^{2}}} -{ {\\rho_{1,2,\\overline{1}}} {\\rho_{1,\\overline{1},\\overline{1}}} {\\rho_{2,\\overline{1},\\overline{1}}}} -{ {\\rho_{1,2,\\overline{1},\\overline{1}}} {\\rho_{1,\\overline{1}}} {\\rho_{2,\\overline{1},\\overline{1}}}} -{ {\\rho_{1,\\overline{1}}} {\\rho_{1,\\overline{1},\\overline{1}}} {\\rho_{2,2,\\overline{1},\\overline{1}}}} + {2 {\\rho_{1,2,\\overline{1},\\overline{1}}} {\\rho_{1,\\overline{1},\\overline{1}}} {\\rho_{2,\\overline{1}}}} -{ \\frac{1}{3} {\\rho_{1,2,\\overline{1}}} {\\rho_{1,\\overline{1},\\overline{1},\\overline{1}}} {\\rho_{2,\\overline{1}}}} -{ \\frac{1}{3} {\\rho_{1,2,\\overline{1},\\overline{1},\\overline{1}}} {\\rho_{1,\\overline{1}}} {\\rho_{2,\\overline{1}}}} -{ \\frac{1}{3} {\\rho_{1,\\overline{1}}} {\\rho_{1,\\overline{1},\\overline{1},\\overline{1}}} {\\rho_{2,2,\\overline{1}}}} + {\\frac{2}{3} {\\rho_{1,2,\\overline{1}}} {\\rho_{1,\\overline{1}}} {\\rho_{2,\\overline{1},\\overline{1},\\overline{1}}}}}\\right)} + {{\\rho_{1,2,\\overline{1}}} \\left({{\\rho_{1,\\overline{1}}}^{-2}}\\right) \\left({\\left({{{\\rho_{1,\\overline{1}}} {\\rho_{2,\\overline{1},\\overline{1}}}} -{ {\\rho_{1,\\overline{1},\\overline{1}}} {\\rho_{2,\\overline{1}}}}}\\right)^{-1}}\\right) \\left({{{\\rho_{2,\\overline{1}}} {{\\rho_{1,\\overline{1},\\overline{1}}}^{2}}} + {\\frac{1}{3} {\\rho_{2,\\overline{1},\\overline{1},\\overline{1}}} {{\\rho_{1,\\overline{1}}}^{2}}} -{ {\\rho_{1,\\overline{1}}} {\\rho_{1,\\overline{1},\\overline{1}}} {\\rho_{2,\\overline{1},\\overline{1}}}} -{ \\frac{1}{3} {\\rho_{1,\\overline{1}}} {\\rho_{1,\\overline{1},\\overline{1},\\overline{1}}} {\\rho_{2,\\overline{1}}}}}\\right)} + {\\left({{\\rho_{1,\\overline{1}}}^{-1}}\\right) \\left({\\left({{{\\rho_{1,\\overline{1}}} {\\rho_{2,\\overline{1},\\overline{1}}}} -{ {\\rho_{1,\\overline{1},\\overline{1}}} {\\rho_{2,\\overline{1}}}}}\\right)^{-2}}\\right) \\left({{{\\rho_{1,1,\\overline{1},\\overline{1}}} {\\rho_{2,\\overline{1}}}} + {{\\rho_{1,2,\\overline{1}}} {\\rho_{1,\\overline{1},\\overline{1}}}} -{ {\\rho_{1,1,\\overline{1}}} {\\rho_{2,\\overline{1},\\overline{1}}}} -{ {\\rho_{1,2,\\overline{1},\\overline{1}}} {\\rho_{1,\\overline{1}}}}}\\right) \\left({{- {\\rho_{1,\\overline{1}}} {{\\rho_{2,\\overline{1},\\overline{1}}}^{2}}} -{ \\frac{1}{3} {\\rho_{1,\\overline{1},\\overline{1},\\overline{1}}} {{\\rho_{2,\\overline{1}}}^{2}}} + {{\\rho_{1,\\overline{1},\\overline{1}}} {\\rho_{2,\\overline{1}}} {\\rho_{2,\\overline{1},\\overline{1}}}} + {\\frac{1}{3} {\\rho_{1,\\overline{1}}} {\\rho_{2,\\overline{1}}} {\\rho_{2,\\overline{1},\\overline{1},\\overline{1}}}}}\\right)} -{ {\\rho_{1,1,\\overline{1}}} \\left({{\\rho_{1,\\overline{1}}}^{-2}}\\right) \\left({\\left({{{\\rho_{1,\\overline{1}}} {\\rho_{2,\\overline{1},\\overline{1}}}} -{ {\\rho_{1,\\overline{1},\\overline{1}}} {\\rho_{2,\\overline{1}}}}}\\right)^{-1}}\\right) \\left({{- {\\rho_{1,\\overline{1}}} {{\\rho_{2,\\overline{1},\\overline{1}}}^{2}}} -{ \\frac{1}{3} {\\rho_{1,\\overline{1},\\overline{1},\\overline{1}}} {{\\rho_{2,\\overline{1}}}^{2}}} + {{\\rho_{1,\\overline{1},\\overline{1}}} {\\rho_{2,\\overline{1}}} {\\rho_{2,\\overline{1},\\overline{1}}}} + {\\frac{1}{3} {\\rho_{1,\\overline{1}}} {\\rho_{2,\\overline{1}}} {\\rho_{2,\\overline{1},\\overline{1},\\overline{1}}}}}\\right)} -{ \\left({{\\rho_{1,\\overline{1}}}^{-1}}\\right) \\left({\\left({{{\\rho_{1,\\overline{1}}} {\\rho_{2,\\overline{1},\\overline{1}}}} -{ {\\rho_{1,\\overline{1},\\overline{1}}} {\\rho_{2,\\overline{1}}}}}\\right)^{-2}}\\right) \\left({{{\\rho_{1,2,\\overline{1},\\overline{1}}} {\\rho_{2,\\overline{1}}}} + {{\\rho_{1,\\overline{1},\\overline{1}}} {\\rho_{2,2,\\overline{1}}}} -{ {\\rho_{1,2,\\overline{1}}} {\\rho_{2,\\overline{1},\\overline{1}}}} -{ {\\rho_{1,\\overline{1}}} {\\rho_{2,2,\\overline{1},\\overline{1}}}}}\\right) \\left({{{\\rho_{2,\\overline{1}}} {{\\rho_{1,\\overline{1},\\overline{1}}}^{2}}} + {\\frac{1}{3} {\\rho_{2,\\overline{1},\\overline{1},\\overline{1}}} {{\\rho_{1,\\overline{1}}}^{2}}} -{ {\\rho_{1,\\overline{1}}} {\\rho_{1,\\overline{1},\\overline{1}}} {\\rho_{2,\\overline{1},\\overline{1}}}} -{ \\frac{1}{3} {\\rho_{1,\\overline{1}}} {\\rho_{1,\\overline{1},\\overline{1},\\overline{1}}} {\\rho_{2,\\overline{1}}}}}\\right)}}\\right)} + {{i} {\\rho_{1,\\overline{2}}} \\left({{\\rho_{1,\\overline{1}}}^{- \\frac{3}{2}}}\\right) \\left({\\left({{{\\rho_{1,1,\\overline{1}}} {\\rho_{1,\\overline{2}}}} -{ {\\rho_{1,1,\\overline{2}}} {\\rho_{1,\\overline{1}}}}}\\right)^{-1}}\\right) \\left({{- {\\rho_{1,\\overline{2}}} {{\\rho_{1,1,\\overline{1}}}^{2}}} -{ \\frac{1}{3} {\\rho_{1,1,1,\\overline{2}}} {{\\rho_{1,\\overline{1}}}^{2}}} + {{\\rho_{1,1,\\overline{1}}} {\\rho_{1,1,\\overline{2}}} {\\rho_{1,\\overline{1}}}} + {\\frac{1}{3} {\\rho_{1,1,1,\\overline{1}}} {\\rho_{1,\\overline{1}}} {\\rho_{1,\\overline{2}}}}}\\right) \\left({{\\left({{\\rho_{1,\\overline{1}}}^{-1}}\\right) \\left({\\left({{{\\rho_{1,\\overline{1}}} {\\rho_{2,\\overline{1},\\overline{1}}}} -{ {\\rho_{1,\\overline{1},\\overline{1}}} {\\rho_{2,\\overline{1}}}}}\\right)^{-1}}\\right) \\left({{- {\\rho_{1,1,\\overline{1}}} {{\\rho_{2,\\overline{1},\\overline{1}}}^{2}}} -{ \\frac{1}{3} {\\rho_{1,1,\\overline{1},\\overline{1},\\overline{1}}} {{\\rho_{2,\\overline{1}}}^{2}}} + {{\\rho_{1,1,\\overline{1},\\overline{1}}} {\\rho_{2,\\overline{1}}} {\\rho_{2,\\overline{1},\\overline{1}}}} + {{\\rho_{1,2,\\overline{1}}} {\\rho_{1,\\overline{1},\\overline{1}}} {\\rho_{2,\\overline{1},\\overline{1}}}} + {{\\rho_{1,2,\\overline{1},\\overline{1}}} {\\rho_{1,\\overline{1},\\overline{1}}} {\\rho_{2,\\overline{1}}}} -{2 {\\rho_{1,2,\\overline{1},\\overline{1}}} {\\rho_{1,\\overline{1}}} {\\rho_{2,\\overline{1},\\overline{1}}}} -{ \\frac{2}{3} {\\rho_{1,2,\\overline{1}}} {\\rho_{1,\\overline{1},\\overline{1},\\overline{1}}} {\\rho_{2,\\overline{1}}}} + {\\frac{1}{3} {\\rho_{1,1,\\overline{1}}} {\\rho_{2,\\overline{1}}} {\\rho_{2,\\overline{1},\\overline{1},\\overline{1}}}} + {\\frac{1}{3} {\\rho_{1,2,\\overline{1}}} {\\rho_{1,\\overline{1}}} {\\rho_{2,\\overline{1},\\overline{1},\\overline{1}}}} + {\\frac{1}{3} {\\rho_{1,2,\\overline{1},\\overline{1},\\overline{1}}} {\\rho_{1,\\overline{1}}} {\\rho_{2,\\overline{1}}}}}\\right)} -{ \\left({{\\rho_{1,\\overline{1}}}^{-1}}\\right) \\left({\\left({{{\\rho_{1,\\overline{1}}} {\\rho_{2,\\overline{1},\\overline{1}}}} -{ {\\rho_{1,\\overline{1},\\overline{1}}} {\\rho_{2,\\overline{1}}}}}\\right)^{-1}}\\right) \\left({{{\\rho_{2,2,\\overline{1}}} {{\\rho_{1,\\overline{1},\\overline{1}}}^{2}}} + {\\frac{1}{3} {\\rho_{2,2,\\overline{1},\\overline{1},\\overline{1}}} {{\\rho_{1,\\overline{1}}}^{2}}} -{ {\\rho_{1,2,\\overline{1}}} {\\rho_{1,\\overline{1},\\overline{1}}} {\\rho_{2,\\overline{1},\\overline{1}}}} -{ {\\rho_{1,2,\\overline{1},\\overline{1}}} {\\rho_{1,\\overline{1}}} {\\rho_{2,\\overline{1},\\overline{1}}}} -{ {\\rho_{1,\\overline{1}}} {\\rho_{1,\\overline{1},\\overline{1}}} {\\rho_{2,2,\\overline{1},\\overline{1}}}} + {2 {\\rho_{1,2,\\overline{1},\\overline{1}}} {\\rho_{1,\\overline{1},\\overline{1}}} {\\rho_{2,\\overline{1}}}} -{ \\frac{1}{3} {\\rho_{1,2,\\overline{1}}} {\\rho_{1,\\overline{1},\\overline{1},\\overline{1}}} {\\rho_{2,\\overline{1}}}} -{ \\frac{1}{3} {\\rho_{1,2,\\overline{1},\\overline{1},\\overline{1}}} {\\rho_{1,\\overline{1}}} {\\rho_{2,\\overline{1}}}} -{ \\frac{1}{3} {\\rho_{1,\\overline{1}}} {\\rho_{1,\\overline{1},\\overline{1},\\overline{1}}} {\\rho_{2,2,\\overline{1}}}} + {\\frac{2}{3} {\\rho_{1,2,\\overline{1}}} {\\rho_{1,\\overline{1}}} {\\rho_{2,\\overline{1},\\overline{1},\\overline{1}}}}}\\right)} + {{\\rho_{1,2,\\overline{1}}} \\left({{\\rho_{1,\\overline{1}}}^{-2}}\\right) \\left({\\left({{{\\rho_{1,\\overline{1}}} {\\rho_{2,\\overline{1},\\overline{1}}}} -{ {\\rho_{1,\\overline{1},\\overline{1}}} {\\rho_{2,\\overline{1}}}}}\\right)^{-1}}\\right) \\left({{{\\rho_{2,\\overline{1}}} {{\\rho_{1,\\overline{1},\\overline{1}}}^{2}}} + {\\frac{1}{3} {\\rho_{2,\\overline{1},\\overline{1},\\overline{1}}} {{\\rho_{1,\\overline{1}}}^{2}}} -{ {\\rho_{1,\\overline{1}}} {\\rho_{1,\\overline{1},\\overline{1}}} {\\rho_{2,\\overline{1},\\overline{1}}}} -{ \\frac{1}{3} {\\rho_{1,\\overline{1}}} {\\rho_{1,\\overline{1},\\overline{1},\\overline{1}}} {\\rho_{2,\\overline{1}}}}}\\right)} + {\\left({{\\rho_{1,\\overline{1}}}^{-1}}\\right) \\left({\\left({{{\\rho_{1,\\overline{1}}} {\\rho_{2,\\overline{1},\\overline{1}}}} -{ {\\rho_{1,\\overline{1},\\overline{1}}} {\\rho_{2,\\overline{1}}}}}\\right)^{-2}}\\right) \\left({{{\\rho_{1,1,\\overline{1},\\overline{1}}} {\\rho_{2,\\overline{1}}}} + {{\\rho_{1,2,\\overline{1}}} {\\rho_{1,\\overline{1},\\overline{1}}}} -{ {\\rho_{1,1,\\overline{1}}} {\\rho_{2,\\overline{1},\\overline{1}}}} -{ {\\rho_{1,2,\\overline{1},\\overline{1}}} {\\rho_{1,\\overline{1}}}}}\\right) \\left({{- {\\rho_{1,\\overline{1}}} {{\\rho_{2,\\overline{1},\\overline{1}}}^{2}}} -{ \\frac{1}{3} {\\rho_{1,\\overline{1},\\overline{1},\\overline{1}}} {{\\rho_{2,\\overline{1}}}^{2}}} + {{\\rho_{1,\\overline{1},\\overline{1}}} {\\rho_{2,\\overline{1}}} {\\rho_{2,\\overline{1},\\overline{1}}}} + {\\frac{1}{3} {\\rho_{1,\\overline{1}}} {\\rho_{2,\\overline{1}}} {\\rho_{2,\\overline{1},\\overline{1},\\overline{1}}}}}\\right)} -{ {\\rho_{1,1,\\overline{1}}} \\left({{\\rho_{1,\\overline{1}}}^{-2}}\\right) \\left({\\left({{{\\rho_{1,\\overline{1}}} {\\rho_{2,\\overline{1},\\overline{1}}}} -{ {\\rho_{1,\\overline{1},\\overline{1}}} {\\rho_{2,\\overline{1}}}}}\\right)^{-1}}\\right) \\left({{- {\\rho_{1,\\overline{1}}} {{\\rho_{2,\\overline{1},\\overline{1}}}^{2}}} -{ \\frac{1}{3} {\\rho_{1,\\overline{1},\\overline{1},\\overline{1}}} {{\\rho_{2,\\overline{1}}}^{2}}} + {{\\rho_{1,\\overline{1},\\overline{1}}} {\\rho_{2,\\overline{1}}} {\\rho_{2,\\overline{1},\\overline{1}}}} + {\\frac{1}{3} {\\rho_{1,\\overline{1}}} {\\rho_{2,\\overline{1}}} {\\rho_{2,\\overline{1},\\overline{1},\\overline{1}}}}}\\right)} -{ \\left({{\\rho_{1,\\overline{1}}}^{-1}}\\right) \\left({\\left({{{\\rho_{1,\\overline{1}}} {\\rho_{2,\\overline{1},\\overline{1}}}} -{ {\\rho_{1,\\overline{1},\\overline{1}}} {\\rho_{2,\\overline{1}}}}}\\right)^{-2}}\\right) \\left({{{\\rho_{1,2,\\overline{1},\\overline{1}}} {\\rho_{2,\\overline{1}}}} + {{\\rho_{1,\\overline{1},\\overline{1}}} {\\rho_{2,2,\\overline{1}}}} -{ {\\rho_{1,2,\\overline{1}}} {\\rho_{2,\\overline{1},\\overline{1}}}} -{ {\\rho_{1,\\overline{1}}} {\\rho_{2,2,\\overline{1},\\overline{1}}}}}\\right) \\left({{{\\rho_{2,\\overline{1}}} {{\\rho_{1,\\overline{1},\\overline{1}}}^{2}}} + {\\frac{1}{3} {\\rho_{2,\\overline{1},\\overline{1},\\overline{1}}} {{\\rho_{1,\\overline{1}}}^{2}}} -{ {\\rho_{1,\\overline{1}}} {\\rho_{1,\\overline{1},\\overline{1}}} {\\rho_{2,\\overline{1},\\overline{1}}}} -{ \\frac{1}{3} {\\rho_{1,\\overline{1}}} {\\rho_{1,\\overline{1},\\overline{1},\\overline{1}}} {\\rho_{2,\\overline{1}}}}}\\right)}}\\right)}}\\right)$"
      ],
      "text/plain": [
       "abstract_ZF(('mul', ('pow', zeroFormAtom('rho'), 3), ('pow', ('add', ('mul', -1, zeroFormAtom('rho'), zeroFormAtom('rho'), ('pow', zeroFormAtom('rho'), 2)), ('mul', zeroFormAtom('rho'), zeroFormAtom('rho'), zeroFormAtom('rho'), zeroFormAtom('rho')), ('mul', zeroFormAtom('rho'), zeroFormAtom('rho'), zeroFormAtom('rho'), zeroFormAtom('rho')), ('mul', -1, zeroFormAtom('rho'), zeroFormAtom('rho'), zeroFormAtom('rho'), zeroFormAtom('rho'))), -1), ('add', ('mul', -1, I, ('pow', zeroFormAtom('rho'), -1/2), ('pow', ('add', ('mul', zeroFormAtom('rho'), zeroFormAtom('rho')), ('mul', -1, zeroFormAtom('rho'), zeroFormAtom('rho'))), -1), ('add', ('mul', zeroFormAtom('rho'), ('pow', zeroFormAtom('rho'), 2)), ('mul', 1/3, zeroFormAtom('rho'), ('pow', zeroFormAtom('rho'), 2)), ('mul', -1, zeroFormAtom('rho'), zeroFormAtom('rho'), zeroFormAtom('rho')), ('mul', -1/3, zeroFormAtom('rho'), zeroFormAtom('rho'), zeroFormAtom('rho'))), ('add', ('mul', ('pow', zeroFormAtom('rho'), -1), ('pow', ('add', ('mul', zeroFormAtom('rho'), zeroFormAtom('rho')), ('mul', -1, zeroFormAtom('rho'), zeroFormAtom('rho'))), -1), ('add', ('mul', -1, zeroFormAtom('rho'), ('pow', zeroFormAtom('rho'), 2)), ('mul', -1/3, zeroFormAtom('rho'), ('pow', zeroFormAtom('rho'), 2)), ('mul', zeroFormAtom('rho'), zeroFormAtom('rho'), zeroFormAtom('rho')), ('mul', zeroFormAtom('rho'), zeroFormAtom('rho'), zeroFormAtom('rho')), ('mul', zeroFormAtom('rho'), zeroFormAtom('rho'), zeroFormAtom('rho')), ('mul', -2, zeroFormAtom('rho'), zeroFormAtom('rho'), zeroFormAtom('rho')), ('mul', -2/3, zeroFormAtom('rho'), zeroFormAtom('rho'), zeroFormAtom('rho')), ('mul', 1/3, zeroFormAtom('rho'), zeroFormAtom('rho'), zeroFormAtom('rho')), ('mul', 1/3, zeroFormAtom('rho'), zeroFormAtom('rho'), zeroFormAtom('rho')), ('mul', 1/3, zeroFormAtom('rho'), zeroFormAtom('rho'), zeroFormAtom('rho')))), ('mul', -1, ('pow', zeroFormAtom('rho'), -1), ('pow', ('add', ('mul', zeroFormAtom('rho'), zeroFormAtom('rho')), ('mul', -1, zeroFormAtom('rho'), zeroFormAtom('rho'))), -1), ('add', ('mul', zeroFormAtom('rho'), ('pow', zeroFormAtom('rho'), 2)), ('mul', 1/3, zeroFormAtom('rho'), ('pow', zeroFormAtom('rho'), 2)), ('mul', -1, zeroFormAtom('rho'), zeroFormAtom('rho'), zeroFormAtom('rho')), ('mul', -1, zeroFormAtom('rho'), zeroFormAtom('rho'), zeroFormAtom('rho')), ('mul', -1, zeroFormAtom('rho'), zeroFormAtom('rho'), zeroFormAtom('rho')), ('mul', 2, zeroFormAtom('rho'), zeroFormAtom('rho'), zeroFormAtom('rho')), ('mul', -1/3, zeroFormAtom('rho'), zeroFormAtom('rho'), zeroFormAtom('rho')), ('mul', -1/3, zeroFormAtom('rho'), zeroFormAtom('rho'), zeroFormAtom('rho')), ('mul', -1/3, zeroFormAtom('rho'), zeroFormAtom('rho'), zeroFormAtom('rho')), ('mul', 2/3, zeroFormAtom('rho'), zeroFormAtom('rho'), zeroFormAtom('rho')))), ('mul', zeroFormAtom('rho'), ('pow', zeroFormAtom('rho'), -2), ('pow', ('add', ('mul', zeroFormAtom('rho'), zeroFormAtom('rho')), ('mul', -1, zeroFormAtom('rho'), zeroFormAtom('rho'))), -1), ('add', ('mul', zeroFormAtom('rho'), ('pow', zeroFormAtom('rho'), 2)), ('mul', 1/3, zeroFormAtom('rho'), ('pow', zeroFormAtom('rho'), 2)), ('mul', -1, zeroFormAtom('rho'), zeroFormAtom('rho'), zeroFormAtom('rho')), ('mul', -1/3, zeroFormAtom('rho'), zeroFormAtom('rho'), zeroFormAtom('rho')))), ('mul', ('pow', zeroFormAtom('rho'), -1), ('pow', ('add', ('mul', zeroFormAtom('rho'), zeroFormAtom('rho')), ('mul', -1, zeroFormAtom('rho'), zeroFormAtom('rho'))), -2), ('add', ('mul', zeroFormAtom('rho'), zeroFormAtom('rho')), ('mul', zeroFormAtom('rho'), zeroFormAtom('rho')), ('mul', -1, zeroFormAtom('rho'), zeroFormAtom('rho')), ('mul', -1, zeroFormAtom('rho'), zeroFormAtom('rho'))), ('add', ('mul', -1, zeroFormAtom('rho'), ('pow', zeroFormAtom('rho'), 2)), ('mul', -1/3, zeroFormAtom('rho'), ('pow', zeroFormAtom('rho'), 2)), ('mul', zeroFormAtom('rho'), zeroFormAtom('rho'), zeroFormAtom('rho')), ('mul', 1/3, zeroFormAtom('rho'), zeroFormAtom('rho'), zeroFormAtom('rho')))), ('mul', -1, zeroFormAtom('rho'), ('pow', zeroFormAtom('rho'), -2), ('pow', ('add', ('mul', zeroFormAtom('rho'), zeroFormAtom('rho')), ('mul', -1, zeroFormAtom('rho'), zeroFormAtom('rho'))), -1), ('add', ('mul', -1, zeroFormAtom('rho'), ('pow', zeroFormAtom('rho'), 2)), ('mul', -1/3, zeroFormAtom('rho'), ('pow', zeroFormAtom('rho'), 2)), ('mul', zeroFormAtom('rho'), zeroFormAtom('rho'), zeroFormAtom('rho')), ('mul', 1/3, zeroFormAtom('rho'), zeroFormAtom('rho'), zeroFormAtom('rho')))), ('mul', -1, ('pow', zeroFormAtom('rho'), -1), ('pow', ('add', ('mul', zeroFormAtom('rho'), zeroFormAtom('rho')), ('mul', -1, zeroFormAtom('rho'), zeroFormAtom('rho'))), -2), ('add', ('mul', zeroFormAtom('rho'), zeroFormAtom('rho')), ('mul', zeroFormAtom('rho'), zeroFormAtom('rho')), ('mul', -1, zeroFormAtom('rho'), zeroFormAtom('rho')), ('mul', -1, zeroFormAtom('rho'), zeroFormAtom('rho'))), ('add', ('mul', zeroFormAtom('rho'), ('pow', zeroFormAtom('rho'), 2)), ('mul', 1/3, zeroFormAtom('rho'), ('pow', zeroFormAtom('rho'), 2)), ('mul', -1, zeroFormAtom('rho'), zeroFormAtom('rho'), zeroFormAtom('rho')), ('mul', -1/3, zeroFormAtom('rho'), zeroFormAtom('rho'), zeroFormAtom('rho')))))), ('mul', I, zeroFormAtom('rho'), ('pow', zeroFormAtom('rho'), -3/2), ('pow', ('add', ('mul', zeroFormAtom('rho'), zeroFormAtom('rho')), ('mul', -1, zeroFormAtom('rho'), zeroFormAtom('rho'))), -1), ('add', ('mul', -1, zeroFormAtom('rho'), ('pow', zeroFormAtom('rho'), 2)), ('mul', -1/3, zeroFormAtom('rho'), ('pow', zeroFormAtom('rho'), 2)), ('mul', zeroFormAtom('rho'), zeroFormAtom('rho'), zeroFormAtom('rho')), ('mul', 1/3, zeroFormAtom('rho'), zeroFormAtom('rho'), zeroFormAtom('rho'))), ('add', ('mul', ('pow', zeroFormAtom('rho'), -1), ('pow', ('add', ('mul', zeroFormAtom('rho'), zeroFormAtom('rho')), ('mul', -1, zeroFormAtom('rho'), zeroFormAtom('rho'))), -1), ('add', ('mul', -1, zeroFormAtom('rho'), ('pow', zeroFormAtom('rho'), 2)), ('mul', -1/3, zeroFormAtom('rho'), ('pow', zeroFormAtom('rho'), 2)), ('mul', zeroFormAtom('rho'), zeroFormAtom('rho'), zeroFormAtom('rho')), ('mul', zeroFormAtom('rho'), zeroFormAtom('rho'), zeroFormAtom('rho')), ('mul', zeroFormAtom('rho'), zeroFormAtom('rho'), zeroFormAtom('rho')), ('mul', -2, zeroFormAtom('rho'), zeroFormAtom('rho'), zeroFormAtom('rho')), ('mul', -2/3, zeroFormAtom('rho'), zeroFormAtom('rho'), zeroFormAtom('rho')), ('mul', 1/3, zeroFormAtom('rho'), zeroFormAtom('rho'), zeroFormAtom('rho')), ('mul', 1/3, zeroFormAtom('rho'), zeroFormAtom('rho'), zeroFormAtom('rho')), ('mul', 1/3, zeroFormAtom('rho'), zeroFormAtom('rho'), zeroFormAtom('rho')))), ('mul', -1, ('pow', zeroFormAtom('rho'), -1), ('pow', ('add', ('mul', zeroFormAtom('rho'), zeroFormAtom('rho')), ('mul', -1, zeroFormAtom('rho'), zeroFormAtom('rho'))), -1), ('add', ('mul', zeroFormAtom('rho'), ('pow', zeroFormAtom('rho'), 2)), ('mul', 1/3, zeroFormAtom('rho'), ('pow', zeroFormAtom('rho'), 2)), ('mul', -1, zeroFormAtom('rho'), zeroFormAtom('rho'), zeroFormAtom('rho')), ('mul', -1, zeroFormAtom('rho'), zeroFormAtom('rho'), zeroFormAtom('rho')), ('mul', -1, zeroFormAtom('rho'), zeroFormAtom('rho'), zeroFormAtom('rho')), ('mul', 2, zeroFormAtom('rho'), zeroFormAtom('rho'), zeroFormAtom('rho')), ('mul', -1/3, zeroFormAtom('rho'), zeroFormAtom('rho'), zeroFormAtom('rho')), ('mul', -1/3, zeroFormAtom('rho'), zeroFormAtom('rho'), zeroFormAtom('rho')), ('mul', -1/3, zeroFormAtom('rho'), zeroFormAtom('rho'), zeroFormAtom('rho')), ('mul', 2/3, zeroFormAtom('rho'), zeroFormAtom('rho'), zeroFormAtom('rho')))), ('mul', zeroFormAtom('rho'), ('pow', zeroFormAtom('rho'), -2), ('pow', ('add', ('mul', zeroFormAtom('rho'), zeroFormAtom('rho')), ('mul', -1, zeroFormAtom('rho'), zeroFormAtom('rho'))), -1), ('add', ('mul', zeroFormAtom('rho'), ('pow', zeroFormAtom('rho'), 2)), ('mul', 1/3, zeroFormAtom('rho'), ('pow', zeroFormAtom('rho'), 2)), ('mul', -1, zeroFormAtom('rho'), zeroFormAtom('rho'), zeroFormAtom('rho')), ('mul', -1/3, zeroFormAtom('rho'), zeroFormAtom('rho'), zeroFormAtom('rho')))), ('mul', ('pow', zeroFormAtom('rho'), -1), ('pow', ('add', ('mul', zeroFormAtom('rho'), zeroFormAtom('rho')), ('mul', -1, zeroFormAtom('rho'), zeroFormAtom('rho'))), -2), ('add', ('mul', zeroFormAtom('rho'), zeroFormAtom('rho')), ('mul', zeroFormAtom('rho'), zeroFormAtom('rho')), ('mul', -1, zeroFormAtom('rho'), zeroFormAtom('rho')), ('mul', -1, zeroFormAtom('rho'), zeroFormAtom('rho'))), ('add', ('mul', -1, zeroFormAtom('rho'), ('pow', zeroFormAtom('rho'), 2)), ('mul', -1/3, zeroFormAtom('rho'), ('pow', zeroFormAtom('rho'), 2)), ('mul', zeroFormAtom('rho'), zeroFormAtom('rho'), zeroFormAtom('rho')), ('mul', 1/3, zeroFormAtom('rho'), zeroFormAtom('rho'), zeroFormAtom('rho')))), ('mul', -1, zeroFormAtom('rho'), ('pow', zeroFormAtom('rho'), -2), ('pow', ('add', ('mul', zeroFormAtom('rho'), zeroFormAtom('rho')), ('mul', -1, zeroFormAtom('rho'), zeroFormAtom('rho'))), -1), ('add', ('mul', -1, zeroFormAtom('rho'), ('pow', zeroFormAtom('rho'), 2)), ('mul', -1/3, zeroFormAtom('rho'), ('pow', zeroFormAtom('rho'), 2)), ('mul', zeroFormAtom('rho'), zeroFormAtom('rho'), zeroFormAtom('rho')), ('mul', 1/3, zeroFormAtom('rho'), zeroFormAtom('rho'), zeroFormAtom('rho')))), ('mul', -1, ('pow', zeroFormAtom('rho'), -1), ('pow', ('add', ('mul', zeroFormAtom('rho'), zeroFormAtom('rho')), ('mul', -1, zeroFormAtom('rho'), zeroFormAtom('rho'))), -2), ('add', ('mul', zeroFormAtom('rho'), zeroFormAtom('rho')), ('mul', zeroFormAtom('rho'), zeroFormAtom('rho')), ('mul', -1, zeroFormAtom('rho'), zeroFormAtom('rho')), ('mul', -1, zeroFormAtom('rho'), zeroFormAtom('rho'))), ('add', ('mul', zeroFormAtom('rho'), ('pow', zeroFormAtom('rho'), 2)), ('mul', 1/3, zeroFormAtom('rho'), ('pow', zeroFormAtom('rho'), 2)), ('mul', -1, zeroFormAtom('rho'), zeroFormAtom('rho'), zeroFormAtom('rho')), ('mul', -1/3, zeroFormAtom('rho'), zeroFormAtom('rho'), zeroFormAtom('rho')))))))))"
      ]
     },
     "metadata": {},
     "output_type": "display_data"
    }
   ],
   "source": [
    "volume_form_coeff = canonicalize((theta1*c_theta1*psi*theta2*c_theta2).coeffs[0],with_simplify=True)\n",
    "T1_num = canonicalize((extDer(theta2,CF_coordinate)*psi*theta2*c_theta2).coeffs[0],with_simplify=True)\n",
    "T2_num =canonicalize((extDer(theta2,CF_coordinate)*psi*c_theta1*c_theta2).coeffs[0])\n",
    "T1,T2 = (T1_num/volume_form_coeff).subs(rho_constraints|higher_rho_constraints), (T2_num/volume_form_coeff).subs(rho_constraints|higher_rho_constraints)\n",
    "T1 = sp.simplify(T1)\n",
    "#T2 = sp.simplify(T2)      # This simplify tends to take long time, so supress it unless really necessary\n",
    "show(f'The solutions for the $T$ invariants are $T_1=$')\n",
    "show(T1)\n",
    "show(f' and $T_2 = $')\n",
    "show(T2)"
   ]
  },
  {
   "cell_type": "markdown",
   "metadata": {},
   "source": [
    "# Examples and Experimentation Tools"
   ]
  },
  {
   "cell_type": "markdown",
   "metadata": {},
   "source": [
    "> Prerequisite section: Run Section 3.3 before running this one!\n",
    "\n",
    "This notebook section contains functions for computing the article's Section 3.3 formulas for any specified potential $\\rho$ on coordinate space $(z_1,z_2)\\in\\mathbb{Z}^2$, with their graphs expressed in coordinates $(w,z_1,z_2)\\in\\mathbb{Z}^3$.\n",
    "\n",
    "To begin, we initialize coordinate systems $w=u+\\operatorname{i}v$ and $z_j=x_j+\\operatorname{i}y_j$, along with a parameter $a$."
   ]
  },
  {
   "cell_type": "markdown",
   "metadata": {},
   "source": [
    "## Setup: coordinates and helper functions\n",
    "\n",
    "Here we initialize the potential formulas $\\rho$ and $\\rho_a$ from the article's Examples 2.6 and 3.7, but these formulas can be replaced in this notebook with any example of interest."
   ]
  },
  {
   "cell_type": "code",
   "execution_count": 39,
   "metadata": {},
   "outputs": [
    {
     "data": {
      "text/latex": [
       "We just initialized coordinate systems $\\left( z_{1}, z_{2} \\right)$, $w$, and $a$, and some pre-Kähler potential examples to explore."
      ],
      "text/plain": [
       "<IPython.core.display.Latex object>"
      ]
     },
     "metadata": {},
     "output_type": "display_data"
    },
    {
     "data": {
      "text/latex": [
       "The embedded pre-Sasakian hypersurface corresponding to (2.2b) of Example 2.6 is $$\\rho(z_1,z_2,\\overline{z_1},\\overline{z_2})=\\frac{- z_{1}^{2} \\overline{z_{2}} - 2 z_{1} \\overline{z_{1}} - z_{2} \\overline{z_{1}}^{2}}{2 \\left(z_{2} \\overline{z_{2}} - 1\\right)}.$$"
      ],
      "text/plain": [
       "<IPython.core.display.Latex object>"
      ]
     },
     "metadata": {},
     "output_type": "display_data"
    },
    {
     "data": {
      "text/latex": [
       "The $a$-parameterized structure corresponding to (2.2a) of Example 2.6 is $$\\rho_a(z_1,z_2,\\overline{z_1},\\overline{z_2})=2 \\left(\\operatorname{re}{\\left(z_{1}\\right)} + 1\\right)^{a} \\left(\\operatorname{re}{\\left(z_{2}\\right)} + 1\\right)^{1 - a}.$$"
      ],
      "text/plain": [
       "<IPython.core.display.Latex object>"
      ]
     },
     "metadata": {},
     "output_type": "display_data"
    }
   ],
   "source": [
    "createVariables('z','x','y',2)      # initializes a complex coordinate system of dimension 2\n",
    "createVariables('w','u','v')        # initializes a complex coordinate system of dimension 1\n",
    "createVariables('a')                # initializes a standard coordinate system of dimension 1\n",
    "flat_graph_formula = model2Nondegenerate([[1]],[[z2]],[z1],w)   # `model2Nondegenerate` is a niche function from the dgcv library, which happens to produce the Example 2.6 formula (2.2b)\n",
    "flat_rho = sp.simplify(flat_graph_formula+sp.im(w))\n",
    "parameterized_rho = 2*(sp.re(z1)+1)**a*(sp.re(z2)+1)**(1-a)\n",
    "show(f'We just initialized coordinate systems ${LaTeX(z)}$, ${LaTeX(w)}$, and ${LaTeX(a)}$, and some pre-Kähler potential examples to explore.')\n",
    "show(f'The embedded pre-Sasakian hypersurface corresponding to (2.2b) of Example 2.6 is $$\\\\rho(z_1,z_2,\\\\overline{{z_1}},\\\\overline{{z_2}})={LaTeX(flat_rho)}.$$')\n",
    "show(f'The $a$-parameterized structure corresponding to (2.2a) of Example 2.6 is $$\\\\rho_a(z_1,z_2,\\\\overline{{z_1}},\\\\overline{{z_2}})={LaTeX(parameterized_rho)}.$$')"
   ]
  },
  {
   "cell_type": "markdown",
   "metadata": {},
   "source": [
    "###### the main helper functions `apply_diff_op` and `abstract_oneForm_to_coordinates`\n",
    "This notebook's Section 3.3 companion portion features symbolic representations of coframe derivatives of $\\rho$ in a coordinate coframe. Expressions involving such objects represent differential operators on $\\rho$.\n",
    "We will now make a helper function that evaluates such differential operators on concrete examples of $\\rho$, such as the example potentials `flat_rho` and `parameterized_rho` defined above."
   ]
  },
  {
   "cell_type": "code",
   "execution_count": 40,
   "metadata": {},
   "outputs": [],
   "source": [
    "def apply_diff_op(symbolic_op,expr, multiplicity = 1):\n",
    "    while multiplicity>1:\n",
    "        expr = apply_diff_op(symbolic_op,expr)\n",
    "        multiplicity = multiplicity - 1\n",
    "    VF = [D_z1,D_z2,D_v,conjugate_dgcv(D_z1),conjugate_dgcv(D_z2)]\n",
    "    gathered_atoms = [elem for elem in symbolic_op.free_symbols if isinstance(elem,zeroFormAtom) and elem.label == 'rho']\n",
    "    def convert_atom(_expr,ZFAtom):\n",
    "        if len(ZFAtom.coframe_derivatives)>1:\n",
    "            raise TypeError('`apply_diff_op` does not support differential operators represented by coframe derivatives with respect to multiple coframes.')\n",
    "        if ZFAtom.differential_order>0 and ZFAtom.coframe != CF_coordinate:\n",
    "            raise TypeError('`apply_diff_op` only supports coframe derivatives w.r.t. `CF_coordinate` defined in the notebook section 3.3.')\n",
    "        if ZFAtom.differential_order==0:\n",
    "            return _expr\n",
    "        cofDer = ZFAtom.coframe_derivatives[0][1:]\n",
    "        for idx in cofDer:\n",
    "            _expr = VF[idx](_expr)\n",
    "        return _expr\n",
    "    subs_rules = {ZFAtom:convert_atom(expr,ZFAtom) for ZFAtom in gathered_atoms}\n",
    "    new_expr = symbolic_op.subs(subs_rules)\n",
    "    if hasattr(new_expr,'to_sympy'):\n",
    "        new_expr = new_expr.to_sympy()\n",
    "    return new_expr\n",
    "\n",
    "\n",
    "def abstract_oneForm_to_coordinates(oneForm):\n",
    "    coframe_replacements = {Z1:d_z1,Z2:d_z2,conjugate_dgcv(Z1):conjugate_dgcv(d_z1),conjugate_dgcv(Z2):conjugate_dgcv(d_z2)}\n",
    "    coordinate_form = 0*d_z1\n",
    "    for term in oneForm.terms:\n",
    "        factors = term.factors\n",
    "        for k,v in coframe_replacements.items():\n",
    "            if k in factors:\n",
    "                coefficient = 1 if len(factors)==1 else allToHol(apply_diff_op(factors[0],rho_example))\n",
    "                coordinate_form += coefficient*v\n",
    "    return coordinate_form"
   ]
  },
  {
   "cell_type": "markdown",
   "metadata": {},
   "source": [
    "######\n",
    "Here's a simple template for how to use the preceding function `apply_diff_op`:"
   ]
  },
  {
   "cell_type": "code",
   "execution_count": 41,
   "metadata": {},
   "outputs": [
    {
     "data": {
      "text/latex": [
       "Applying the operator $$\\Psi(\\rho) := \\rho_{1}$$ to $$\\rho = \\frac{- z_{1}^{2} \\overline{z_{2}} - 2 z_{1} \\overline{z_{1}} - z_{2} \\overline{z_{1}}^{2}}{2 \\left(z_{2} \\overline{z_{2}} - 1\\right)}$$ yields $$\\Psi^{2}(\\rho) = - \\frac{\\overline{z_{2}}}{z_{2} \\overline{z_{2}} - 1}.$$ "
      ],
      "text/plain": [
       "<IPython.core.display.Latex object>"
      ]
     },
     "metadata": {},
     "output_type": "display_data"
    }
   ],
   "source": [
    "# template for applying symbolic differential op to a function of z1,z2,BARz1,BARz2\n",
    "\n",
    "########################\n",
    "# set parameters\n",
    "########################\n",
    "operator = coframe_derivative(rho,CF_coordinate,0)      # put any expression here involving coframe derivatives of rho (as initialized in Section 3.3)\n",
    "function = flat_rho     # put any real valued function of z1, z2 and their conjugates here\n",
    "multiplicity = 2        # set this to a positive integer, controlling the number of times the operator will be applied in sequence\n",
    "\n",
    "########################\n",
    "# run the following to apply the algorithm\n",
    "########################\n",
    "application = apply_diff_op(operator,function,multiplicity)\n",
    "multiplicity_str = '' if multiplicity==1 else LaTeX(multiplicity)\n",
    "show(f'Applying the operator $$\\\\Psi(\\\\rho) := {LaTeX(operator)}$$ to $$\\\\rho = {LaTeX(allToHol(function))}$$ yields $$\\\\Psi^{{{multiplicity_str}}}(\\\\rho) = {LaTeX(application)}.$$ ')"
   ]
  },
  {
   "cell_type": "markdown",
   "metadata": {},
   "source": [
    "## Adapted coframes and $T_j$ invariants"
   ]
  },
  {
   "cell_type": "markdown",
   "metadata": {},
   "source": [
    "For this section, set `rho_example` equal to any real-valued function on $(z_1,z_2)$. We'll use the earlier helper functions `apply_diff_op` and `abstract_oneForm_to_coordinates` to compute the Section 3.3 objects for the example `rho_example`.\n",
    "\n",
    "It can be defined with formulas involving any combination of `z1`, `z2`, `x1`, `x2`, `y1`, `y2`, `BARz1`, `BARz2`, `conjugate_dgcv(z1)`, and `conjugate_dgcv(z2)`. Note, the latter variables (e.g., `BARz1` and `conjugate_dgcv(z1)`) are different names for the same antiholomorphic coordinate function."
   ]
  },
  {
   "cell_type": "code",
   "execution_count": 42,
   "metadata": {},
   "outputs": [
    {
     "data": {
      "text/latex": [
       "We have set up the example potential $$\\rho=2 \\left(\\operatorname{re}{\\left(z_{1}\\right)} + 1\\right)^{a} \\left(\\operatorname{re}{\\left(z_{2}\\right)} + 1\\right)^{1 - a}.$$"
      ],
      "text/plain": [
       "<IPython.core.display.Latex object>"
      ]
     },
     "metadata": {},
     "output_type": "display_data"
    }
   ],
   "source": [
    "rho_example = parameterized_rho     # set rho_example and then run the subsequent lines to compute related objects\n",
    "show(f'We have set up the example potential $$\\\\rho={LaTeX(rho_example)}.$$')"
   ]
  },
  {
   "cell_type": "markdown",
   "metadata": {},
   "source": [
    "Now, let's compute a $3$-adapted coframe:"
   ]
  },
  {
   "cell_type": "code",
   "execution_count": 43,
   "metadata": {},
   "outputs": [
    {
     "data": {
      "text/latex": [
       "For $$\\rho=2 \\left(\\operatorname{re}{\\left(z_{1}\\right)} + 1\\right)^{a} \\left(\\operatorname{re}{\\left(z_{2}\\right)} + 1\\right)^{1 - a},$$ the 3-adapted coframe computed in Section 3.3 is given by $$\\theta^1 = i \\sqrt{a \\left(a - 1\\right) \\left(z_{1} + \\overline{z_{1}} + 2\\right)^{a - 2} \\left(z_{2} + \\overline{z_{2}} + 2\\right)^{1 - a}} d z_{1} + \\frac{i a \\left(1 - a\\right) \\left(z_{1} + \\overline{z_{1}} + 2\\right)^{a - 1} \\left(z_{2} + \\overline{z_{2}} + 2\\right)^{- a}}{\\sqrt{a \\left(a - 1\\right) \\left(z_{1} + \\overline{z_{1}} + 2\\right)^{a - 2} \\left(z_{2} + \\overline{z_{2}} + 2\\right)^{1 - a}}} d z_{2}$$ and $$\\theta^2 = i \\sqrt{a \\left(a - 1\\right) \\left(z_{1} + \\overline{z_{1}} + 2\\right)^{a - 2} \\left(z_{2} + \\overline{z_{2}} + 2\\right)^{1 - a}} d z_{1} + \\frac{i a \\left(1 - a\\right) \\left(z_{1} + \\overline{z_{1}} + 2\\right)^{a - 1} \\left(z_{2} + \\overline{z_{2}} + 2\\right)^{- a}}{\\sqrt{a \\left(a - 1\\right) \\left(z_{1} + \\overline{z_{1}} + 2\\right)^{a - 2} \\left(z_{2} + \\overline{z_{2}} + 2\\right)^{1 - a}}} d z_{2}.$$"
      ],
      "text/plain": [
       "<IPython.core.display.Latex object>"
      ]
     },
     "metadata": {},
     "output_type": "display_data"
    }
   ],
   "source": [
    "theta1_in_coor = abstract_oneForm_to_coordinates(theta1)\n",
    "theta2_in_coor = abstract_oneForm_to_coordinates(theta1)\n",
    "show(f'For $$\\\\rho={LaTeX(rho_example)},$$ the 3-adapted coframe computed in Section 3.3 is given by $$\\\\theta^1 = {LaTeX(theta1_in_coor)}$$ and $$\\\\theta^2 = {LaTeX(theta2_in_coor)}.$$')"
   ]
  },
  {
   "cell_type": "markdown",
   "metadata": {},
   "source": [
    "And let's compute the basic invariants $T_1$ and $T_2$ here. \n",
    "\n",
    "The sympy engine we are using struggles to simplify $T_2$ with the parameter $a$, but the expression turns out to be $0$ for all $a$. So to simplify (and shorten) the computation, we will just numerically test the \"zero-ness\" by sampling a large amount of $a$ values. The following helper function `sample_a_values_and_report_nonzeros` evaluates the general computed $T_2$ function on sampled values of $a$ and "
   ]
  },
  {
   "cell_type": "code",
   "execution_count": 44,
   "metadata": {},
   "outputs": [],
   "source": [
    "T1_in_coor = apply_diff_op(T1, rho_example)\n",
    "T2_in_coor = apply_diff_op(T2, rho_example)"
   ]
  },
  {
   "cell_type": "markdown",
   "metadata": {},
   "source": [
    "The expressions labeled above as `T1_in_coor` and `T2_in_coor` are the coordinate expressions of the $T_j$ invariants associated to which potential function $\\rho$ `rho_example` was set to earlier in this section."
   ]
  },
  {
   "cell_type": "markdown",
   "metadata": {},
   "source": [
    "## $T_j$ invariants for $\\rho_a$ from Examples 2.6 and 3.7\n",
    "\n",
    "For the potential $\\rho_a$ from Examples 2.6, direct computation of $T_2$ yields a very large expression that is fairly complex in the $a$ parameter. The function is zero however for all $a$, and this program simply doesn't detect that without being guided through some ad-hoc simplication steps. For every fixed $a$, on the other hand, the program does manage the simplification right away. So for demonstration purposes, in the following code block we have the program evaluate $T_2$ for a variable set of $a$-values spread across a variable range. Make sure `rho_example = parameterized_rho` is set in the preceding sections so that the code is initialized applying to the $\\rho_a$ formulas."
   ]
  },
  {
   "cell_type": "code",
   "execution_count": 45,
   "metadata": {},
   "outputs": [
    {
     "data": {
      "text/latex": [
       "For $$\\rho=2 \\left(\\operatorname{re}{\\left(z_{1}\\right)} + 1\\right)^{a} \\left(\\operatorname{re}{\\left(z_{2}\\right)} + 1\\right)^{1 - a},$$ we have $$T_1 = \\frac{\\left(- a^{2} + a + 2\\right) \\left(z_{1} + \\overline{z_{1}} + 2\\right)^{- a} \\left(z_{2} + \\overline{z_{2}} + 2\\right)^{a - 1}}{9 a \\left(a - 1\\right)}$$ and $T_2$ was found to be zero for every $a$ parameter tested, where 1000 test values were evenly distributed across the range -10 to 10."
      ],
      "text/plain": [
       "<IPython.core.display.Latex object>"
      ]
     },
     "metadata": {},
     "output_type": "display_data"
    }
   ],
   "source": [
    "T1_in_holomorphic_coor = allToHol(sp.simplify(T1_in_coor))  # converts T1 to holomorphic coordinates for display purposes\n",
    "\n",
    "def sample_a_values_and_report_nonzeros(expr, sample_variable, number_of_samples=100, sample_range=(-2, 2)):\n",
    "    samples = [sp.Rational((sample_range[1] - sample_range[0]) * j, number_of_samples) + sample_range[0] \n",
    "               for j in range( number_of_samples)]\n",
    "\n",
    "    found_nonzero = False\n",
    "    nonzero_value = None\n",
    "    nonzero_sample_point = None\n",
    "    samples_tested = 0\n",
    "\n",
    "    for value in samples:\n",
    "        samples_tested += 1\n",
    "        if value!=0 and value!=1:\n",
    "            test_value = expr.subs(sample_variable, value)\n",
    "            simplified_value = sp.simplify(test_value)\n",
    "            if simplified_value != 0:\n",
    "                found_nonzero = True\n",
    "                nonzero_value = simplified_value\n",
    "                nonzero_sample_point = value\n",
    "                break\n",
    "\n",
    "    return found_nonzero, nonzero_sample_point, nonzero_value, samples_tested, sample_range[0], sample_range[1]\n",
    "\n",
    "# Sampling test\n",
    "found_nonzero, nonzero_sample_point, nonzero_value, samples_tested, sr1, sr2 = \\\n",
    "    sample_a_values_and_report_nonzeros(T2_in_coor, a, number_of_samples=1000, sample_range=(-10, 10))\n",
    "\n",
    "if not found_nonzero:\n",
    "    T2_message = (f\"$T_2$ was found to be zero for every $a$ parameter tested, where {samples_tested} test values \"\n",
    "                  f\"were evenly distributed across the range {sr1} to {sr2}.\")\n",
    "else:\n",
    "    T2_message = (f\"$T_2$ had a nonzero value of {nonzero_value} when $a = {nonzero_sample_point}$ \"\n",
    "                  f\"(after testing {samples_tested} sample(s)).\")\n",
    "\n",
    "\n",
    "show(f\"For $$\\\\rho={LaTeX(rho_example)},$$ we have $$T_1 = {LaTeX(T1_in_holomorphic_coor)}$$ and {T2_message}\")"
   ]
  }
 ],
 "metadata": {
  "kernelspec": {
   "display_name": "ActiveVEnv",
   "language": "python",
   "name": "python3"
  },
  "language_info": {
   "codemirror_mode": {
    "name": "ipython",
    "version": 3
   },
   "file_extension": ".py",
   "mimetype": "text/x-python",
   "name": "python",
   "nbconvert_exporter": "python",
   "pygments_lexer": "ipython3",
   "version": "3.13.0"
  }
 },
 "nbformat": 4,
 "nbformat_minor": 4
}
