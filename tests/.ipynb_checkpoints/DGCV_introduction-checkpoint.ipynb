{
 "cells": [
  {
   "cell_type": "markdown",
   "metadata": {},
   "source": [
    "# DGCV Basics: An Introduction to the Differential Geometry with Complex Variables Package\n",
    "###### ----by David Sykes----\n",
    "\n",
    "DGCV is an open-source Python package providing basic tools for differential geometry integrated with systematic organization of structures accompanying complex variables, in short, Differential Geometry with Complex Variables.\n",
    "\n",
    "At its core are fully featured symbolic representations of standard DG objects such as vector fields and differential forms, defined relative to standard or complex coordinate systems. As systems of differential geometric objects constructed from complex variables inherit natural relationships from the underlying complex structure, DGCV tracks these relationships across the constructions. Immediate advantages of the uniform integration are seen in smooth switching between real and holomorphic coordinate representations of mathematical objects. In computations, DGCV classes dynamically manage this format switching on their own so that typical complex variables formulas can be written plainly and will simply work. Some examples of this: In coordinates $z_j = x_j + iy_j$, expressions such as $\\frac{\\partial}{\\partial x_j}|z_j|^2$ or $d z_j \\wedge d \\overline{z_j} \\left( \\frac{\\partial}{\\partial z_j}, \\frac{\\partial}{\\partial y_j} \\right)$ are correctly parsed without needing to convert everything to a uniform variable format. Retrieving objects' complex structure-related attributes, like the holomorphic part of a vector field or pluriharmonic terms from a polynomial is straightforward. Complexified cotangent bundles and their exterior algebras are easily decomposed into components from the Dolbeault complex and Dolbeault operators themselves can be applied to functions and k-forms in either coordinate format.\n",
    "\n",
    "DGCV was developed using Python 3.12, with dependencies on the SymPy and Pandas libraries in addition to base Python. Its classes integrate SymPy objects within their data structures and subclass from SymPy.Basic, thereby inheriting much of SymPy’s functionality. For instance, one can apply sympy.simplify() directly to most DGCV class objects. Developing complete compatibility with SymPy is a goal still in progress. Pandas is used to format and display data in a more readable manner.\n",
    "\n",
    "This guide introduces the essential **concepts and functions** needed to get started with DGCV. It is organized into (mostly) modular sections, so jump directly to topics of interest. Topics covered include:\n",
    "\n",
    "- Installing DGCV and importing it into a Jupyter notebook\n",
    "- Creating coordinates, understanding variable types, and working with the DGCV variable management framework\n",
    "- Vector fields and differential forms\n",
    "- Finite-dimensional algebras\n",
    "- Tensor fields\n",
    "- Coordinate transformations\n",
    "- Structure-specific tools (the current modest DGCV library has functions specialized for Riemannian, Kähler, and CR geometry, and will grow over time)\n",
    "\n",
    "###### The current (0.0.0) version of DGCV is stable scafolding, as it were, upon which a lot more can be built. Many additions for future updates are currently planned. Contributions and feedback from anyone interested are warmly welcomed. "
   ]
  },
  {
   "cell_type": "markdown",
   "metadata": {},
   "source": [
    "## Installing DGCV and importing it into a Jupyter notebook"
   ]
  },
  {
   "cell_type": "markdown",
   "metadata": {},
   "source": [
    "To install DGCV, two primary methods are supported: installation via PyPI or Conda, as well as cloning the repository directly from GitHub.\n",
    "\n",
    "#### Method 1: Installing from PyPI\n",
    "\n",
    "The DGCV package has been uploaded to PyPI, and can be installed using the `pip` command:\n",
    "\n",
    "```bash\n",
    "pip install DGCV\n",
    "```\n",
    "\n",
    "#### Method 2: Installing from Conda\n",
    "\n",
    "If using Anaconda or Miniconda, DGCV can also be installed using `conda`:\n",
    "\n",
    "```bash\n",
    "conda install -c conda-forge dgcv\n",
    "```\n",
    "\n",
    "#### Method 3: Installing from GitHub\n",
    "\n",
    "Alternatively, the package can be installed directly from GitHub. First, clone the repository to your local machine:\n",
    "\n",
    "```bash\n",
    "git clone https://github.com/YikesItsSykes/DGCV.git\n",
    "```\n",
    "\n",
    "Next, navigate to the DGCV directory and install the package:\n",
    "\n",
    "```bash\n",
    "cd DGCV\n",
    "pip install .\n",
    "```\n",
    "\n",
    "#### Importing DGCV in a Jupyter notebook\n",
    "\n",
    "Once the package is installed, import it into your Jupyter notebook as follows:"
   ]
  },
  {
   "cell_type": "code",
   "execution_count": 1,
   "metadata": {},
   "outputs": [],
   "source": [
    "from DGCV import *"
   ]
  },
  {
   "cell_type": "markdown",
   "metadata": {},
   "source": [
    "This makes all essential functions available in the notebook.\n",
    "\n",
    "To apply a nice display formatting throughout the notebook, run the DGCV function `DGCV_init_printing()`, which invokes `sympy.init_printing` while extending its functionality to support nice formatting of DGCV objects."
   ]
  },
  {
   "cell_type": "code",
   "execution_count": 2,
   "metadata": {},
   "outputs": [
    {
     "data": {
      "text/html": [
       "\n",
       "    <link href=\"https://fonts.googleapis.com/css2?family=Orbitron:wght@400;700&family=Press+Start+2P&family=Roboto:wght@400;700&display=swap\" rel=\"stylesheet\">\n",
       "    <style>\n",
       "    body {\n",
       "        font-family: 'Roboto', sans-serif;\n",
       "    }\n",
       "    </style>\n",
       "    "
      ],
      "text/plain": [
       "<IPython.core.display.HTML object>"
      ]
     },
     "metadata": {},
     "output_type": "display_data"
    }
   ],
   "source": [
    "DGCV_init_printing()"
   ]
  },
  {
   "cell_type": "markdown",
   "metadata": {},
   "source": [
    "A tip for getting started with DGCV, most functions in the library have helpful docstring documentation. Use `help` to retrieve any function's docstring. In this earliest version (0.0.0) of DGCV, plenty of docstrings neat updating, and will be filled out in future versions."
   ]
  },
  {
   "cell_type": "code",
   "execution_count": null,
   "metadata": {},
   "outputs": [],
   "source": [
    "help(createVariables) # an example of calling up the docstring for the `createVariables` function."
   ]
  },
  {
   "cell_type": "markdown",
   "metadata": {},
   "source": [
    "## Creating variables, understanding their types, and working with the DGCV variable management framework\n",
    "\n",
    "#### "
   ]
  },
  {
   "cell_type": "markdown",
   "metadata": {},
   "source": [
    "*Variables* in DGCV are just sympy.symbols objects, but to fully leverage DGCV's features, we need to register labeled variables within the DGCV variable management framework (VMF). Think of it as declaring a set of variables to be coordinate functions in a coordinate system.\n",
    "\n",
    "The DGCV function `createVariables` makes the process of initializing variables within the VMF easy. It uses flexible syntax, and can initialize several types of coordinate systems. Here are several examples of how to use `createVariables` to create variable systems with different properties.\n",
    "\n",
    "Ex.1. Initialize a variable system with a single variable *of standard type* labelled $\\alpha$: "
   ]
  },
  {
   "cell_type": "code",
   "execution_count": null,
   "metadata": {},
   "outputs": [],
   "source": [
    "createVariables('alpha')    # This initialized a sympy.symbols object labeled \"alpha\" AND registered it in the VMF\n",
    "                            # It is as if we had run `alpha = symbols('alpha')` using sympy.symbols, but it \n",
    "                            # additionaly performed important tasks withing DGCV's VMF, which we will see later on."
   ]
  },
  {
   "cell_type": "markdown",
   "metadata": {},
   "source": [
    "Ex.2. Initialize 3 variable systems each with a single variable *of standard type*, labelled $a$, $b$, and $c$: "
   ]
  },
  {
   "cell_type": "code",
   "execution_count": null,
   "metadata": {},
   "outputs": [],
   "source": [
    "createVariables('a  b,    c')   # This is written with intentionally sloppy/inconsistent formatting to emphasize\n",
    "                                # `createVariables` flexibility. This line initialized 3 variables \"a\", \"b\", and \"c\"  \n",
    "                                # registered in the as VMF \"standard type\"."
   ]
  },
  {
   "cell_type": "markdown",
   "metadata": {},
   "source": [
    "Ex.3. Initialize a single variable system *of standard type* consisting of the coordinate tuple $r=(r_1, r_2, r_3)$:"
   ]
  },
  {
   "cell_type": "code",
   "execution_count": null,
   "metadata": {},
   "outputs": [],
   "source": [
    "createVariables('r', 3) # This initializes a variable system consisting of the tuple `r=(r1, r2, r3)` registered in the\n",
    "                        # VMF again as a \"standard variable system\". Objects labeled \"r1\", \"r2\", and \"r3\" are\n",
    "                        # sympy.symbols type."
   ]
  },
  {
   "cell_type": "markdown",
   "metadata": {},
   "source": [
    "Ex.4. Initialize a single variable system *of standard type* consisting of the coordinate tuple $s=(s_{7}, \\ldots,s_{10})$ with a corresponding frame of coordinate vector fields $\\frac{\\partial}{\\partial s_{7}}, \\ldots,\\frac{\\partial}{\\partial s_{10}}$ and a coframe $d s_7,\\ldots, d s_{10}$:"
   ]
  },
  {
   "cell_type": "code",
   "execution_count": null,
   "metadata": {},
   "outputs": [],
   "source": [
    "createVariables('s', 4, initialIndex=7, withVF=True)    # This initializes a variable system consisting of the tuple \n",
    "                                                        # `s=(s7, s8, s9, s10)` registered in the VMF again as a \n",
    "                                                        # \"standard variable system\". This time we also created vector\n",
    "                                                        # field objects D_s7, D_s8, D_s9, D_s10 and differential forms\n",
    "                                                        # d_s7, d_s8, d_s9, d_s10. "
   ]
  },
  {
   "cell_type": "markdown",
   "metadata": {},
   "source": [
    "Ex.5. Initialize a single variable system *of complex type* consisting of the coordinate tuples $z=(z_{1},z_2)$, $BARz=(BARz_{1},BARz_2)$, $x=(x_{1},x_2)$, and $y=(y_{1},y_2)$ representing holomorphic coordinates, their conjugates, real parts and imaginary parts, together with frames and coframes $\\frac{\\partial}{\\partial z_{1}},\\frac{\\partial}{\\partial BARz_{1}}, \\frac{\\partial}{\\partial x_{1}}, \\frac{\\partial}{\\partial y_{1}},\\ldots$ and $d z_1, d BARz_1,\\ldots$:"
   ]
  },
  {
   "cell_type": "code",
   "execution_count": null,
   "metadata": {},
   "outputs": [],
   "source": [
    "createVariables('z', 'x', 'y', 2)   # This syntax starting with 3 string labels tells `createVariables` to initialize\n",
    "                                    # a \"complex variable system\", using the first string to label holomorphic \n",
    "                                    # coordinates, the second for hol. coordinates' real parts, and the third for \n",
    "                                    # imaginary parts. Complex variable systems are also initialized with objects \n",
    "                                    # representing the holomorphic variables' complex conjugates labeled by prepending \n",
    "                                    # the first string label with \"BAR\". Complex variables are also initialized with\n",
    "                                    # coordinate vector fields and coframes. This example initialized VFs D_z1, D_z2,\n",
    "                                    #  D_BARz1, D_BARz2, D_x1, D_x1, D_y1, D_y1, and DFs d_z1, d_z2,... etc."
   ]
  },
  {
   "cell_type": "markdown",
   "metadata": {},
   "source": [
    "By default objects from complex variable systems display in holomorphic coordinates, and this default behavior carries over to the variable format that they \"prefer\" to operate on. Without going too far into the details, DGCV objects dynamically assess the variable formats (e.g., holomorphic vs real) of objects they operate on, and sometimes format conversions are applied internally. An object's \"format preference\" kicks in to resolve such format conversion choices when necessary.\n",
    "\n",
    "For example if we display the vector field D_x1, it will display as a combination of D_z1 and D_BARz1: "
   ]
  },
  {
   "cell_type": "code",
   "execution_count": null,
   "metadata": {},
   "outputs": [],
   "source": [
    "D_x1,D_z2,D_BARz1,d_y2 # displaying some objects to illustrate the formatting behavior"
   ]
  },
  {
   "cell_type": "markdown",
   "metadata": {},
   "source": [
    "Let's initialize a system that defaults to display in real coordinates instead:"
   ]
  },
  {
   "cell_type": "code",
   "execution_count": null,
   "metadata": {},
   "outputs": [],
   "source": [
    "createVariables('zeta', 'xi', 'gamma', 2, default_var_format='real')  # This initializes a complex variable system similar to \n",
    "                                                                    # the last one, except elements in this system default to\n",
    "                                                                    # display in real variable formats.\n",
    "D_xi1,D_zeta2,D_BARzeta1,d_gamma2 # displaying some objects to illustrate the formatting behavior when 'real' is default"
   ]
  },
  {
   "cell_type": "markdown",
   "metadata": {},
   "source": [
    "When working with complex variable systems it can be useful to switch between real and holomorphic coordinates. Use `realToHol` and `holToReal` to objects to convert between formats. \n",
    "\n",
    "Note, these functions also update the *format preference* marker that DGCV objects internally store."
   ]
  },
  {
   "cell_type": "code",
   "execution_count": null,
   "metadata": {},
   "outputs": [],
   "source": [
    "hol_format_VF = D_x2+I*z1*D_y2\n",
    "real_format_VF = D_xi2+I*zeta1*D_gamma2\n",
    "display_DGCV(f'The vector field ${LaTeX(hol_format_VF)}$ displays in holomorphic coordinates because it is built from objects that where set with this as the preference.')\n",
    "display_DGCV(f'Applying `allToReal()` returns an equivalent object, but everything (including its format preference) is converted to real coordinates. The result displays as ${LaTeX(simplify(allToReal(hol_format_VF)))}$.')\n",
    "display_DGCV(f'Contrastingly, the vector field ${LaTeX(real_format_VF)}$ displays in real coordinates by default because it is built from objects that where set with real formatting as the preference.')\n",
    "display_DGCV(f'Applying `allToHol()` returns an equivalent object, but everything (including its format preference) is converted now to holomorphic coordinates. The result displays as ${LaTeX(simplify(allToHol(real_format_VF)))}$.')"
   ]
  },
  {
   "cell_type": "markdown",
   "metadata": {},
   "source": [
    "The above `createVariables` commands initialized many objects and automatically generated labels for them. A technical note, DGCV's object creation functions that create labels filter them through a label validation routine that prevents overwriting import existing labels.\n",
    "\n",
    "These objects were registered in the VMF, enabeling important interaction with DGCV's general functions.\n",
    "\n",
    "To get a helpful summary table of initialized objects within the scope of DGCV's VMF, use `DGCV_snapshot()`"
   ]
  },
  {
   "cell_type": "code",
   "execution_count": null,
   "metadata": {},
   "outputs": [],
   "source": [
    "DGCV_snapshot()"
   ]
  },
  {
   "cell_type": "markdown",
   "metadata": {},
   "source": [
    "Optional keywords `use_latex=True` and `style= ----` allow for some adjustment to the table formatting:"
   ]
  },
  {
   "cell_type": "code",
   "execution_count": null,
   "metadata": {},
   "outputs": [],
   "source": [
    "DGCV_snapshot(use_latex=True,style='newspaper') # Latex formatting may or may not compile, depending on the environment in which you are running the Jupyter notebook."
   ]
  },
  {
   "cell_type": "markdown",
   "metadata": {},
   "source": [
    "Call `get_DGCV_themes()` to retreive a list of available formatting themes for the `DGCV_snapshot` table\n",
    "\n",
    "Use `listVar` and `clearVar` respectively get labels for variables (and other objects) and delete variables (and any other objects) that are registered in DGCV's VMF. In more detail, listVar returns labels that the VMF internally assigns to objects/systems of objects in its scope, and putting any such label into clearVar will delete all objects that the VMF associates with it."
   ]
  },
  {
   "cell_type": "code",
   "execution_count": null,
   "metadata": {},
   "outputs": [],
   "source": [
    "clearVar(*listVar())"
   ]
  },
  {
   "cell_type": "markdown",
   "metadata": {},
   "source": [
    "The previous line deleted all of the objects we created so far."
   ]
  },
  {
   "cell_type": "markdown",
   "metadata": {},
   "source": [
    "## Vector fields and differential forms"
   ]
  },
  {
   "cell_type": "markdown",
   "metadata": {},
   "source": [
    "Vector fields and differential forms in DGCV are represented by VFClass and DFClass objects. There are several ways to initialize them. The basic initialization is through `createVariables(-- , withVF=True)`, `createVariables('hol_str' , 'real_str', 'im_str', --)` or `createVariables(-- , complex=True)`. The latter two work because DGCV always initializes coordinate vector fields/coframes when creating complex variable systems.\n",
    "\n",
    "Let's create some variable systems, standard and complex, with VF and DF to work with:"
   ]
  },
  {
   "cell_type": "code",
   "execution_count": null,
   "metadata": {},
   "outputs": [],
   "source": [
    "createVariables('x', 2, withVF=True)\n",
    "createVariables('zeta','xi','gamma', 3)\n",
    "DGCV_snapshot() # This line is only to display a summary of the objects we just created"
   ]
  },
  {
   "cell_type": "markdown",
   "metadata": {},
   "source": [
    "Apply vector fields to functions with syntax like `D_x1(function)`, add them together with + and -, scale them by a scalar using *, and take their Lie brackets with `VF_bracket`.\n",
    "\n",
    "Let's experiment with some of these, and use the `display_DGCV` and `LaTeX` functions for more control and flexibility in what output gets displayed. Tip: use Python's *f\" ... \"* syntax to create formatted latex strings with SymPy and DGCV math objects automatically inserted."
   ]
  },
  {
   "cell_type": "code",
   "execution_count": null,
   "metadata": {},
   "outputs": [],
   "source": [
    "vf1 = D_x1+gamma2*D_xi3-x2*xi2*D_gamma1\n",
    "vf2 = D_x2+gamma1*D_gamma3-x1*gamma2*D_xi1\n",
    "bracket = VF_bracket(vf1,vf2)\n",
    "display_DGCV(f'The Lie bracket of the vector fields ${LaTeX(vf1)}$ and ${LaTeX(vf2)}$ is $$\\\\left[{LaTeX(vf1)},{LaTeX(vf2)}\\\\right]={LaTeX(bracket)}$$')"
   ]
  },
  {
   "cell_type": "markdown",
   "metadata": {},
   "source": [
    "Similar syntax works to add/subtract/scale differential forms, and to apply them to vector fields. Use `exteriorProduct` to form a wedge product, or simply use the `*` multiplication for wedge products instead:"
   ]
  },
  {
   "cell_type": "code",
   "execution_count": null,
   "metadata": {},
   "outputs": [],
   "source": [
    "df_first_summand = exteriorProduct(d_zeta1,BARzeta2*d_BARzeta2+BARzeta1*d_zeta2)\n",
    "theta = d_zeta2*d_zeta1+df_first_summand\n",
    "theta_eval = theta(D_zeta1,D_BARzeta2)\n",
    "display_DGCV(f'Applying the differential form ${LaTeX(theta)}$ to $\\\\left({LaTeX(D_zeta1)},{LaTeX(D_BARzeta2)}\\\\right)$ yields $$\\\\theta\\\\left({LaTeX(d_zeta1)},{LaTeX(d_BARzeta2)}\\\\right)={LaTeX(theta_eval)}$$')"
   ]
  },
  {
   "cell_type": "markdown",
   "metadata": {},
   "source": [
    "Functions `LieDerivative`, `exteriorDerivative`, and `interiorProduct` behave as their names suggest: "
   ]
  },
  {
   "cell_type": "code",
   "execution_count": null,
   "metadata": {},
   "outputs": [],
   "source": [
    "display_DGCV(f'A Lie derivative of a function: $${LaTeX(LieDerivative(D_x1,x1**2+x2))},$$ a Lie derivative of a 1-form $${LaTeX(LieDerivative(D_x1,x1**2*d_x1*d_x2))},$$ a Lie derivative of a vector field $${LaTeX(LieDerivative(D_x1,x1*D_x2))},$$ an exterior derivative of a function $${LaTeX(exteriorDerivative(x1+x2))},$$ an exterior derivative of a 1-form $${LaTeX(exteriorDerivative(x1*d_x2))}, $$ and an interior product $${LaTeX(interiorProduct(D_x1,d_x1*d_x2))}.$$')"
   ]
  },
  {
   "cell_type": "markdown",
   "metadata": {},
   "source": [
    "`exteriorProduct` accepts any number of arguments, and evaluates their product from left to right. To add/subtract an arbitrary number of VF or DF, use `addVF` and `addDF`, which similarly accept any number of arguments. This is especially useful for computing sums or products of everything from a list of unknown length. \n",
    "\n",
    "To demonstrate it, let's use exterior product to compute the determinant of a symbolic $n\\times n$ matrix, by computing the $n$-fold wedge product of $n$ differential forms:"
   ]
  },
  {
   "cell_type": "code",
   "execution_count": null,
   "metadata": {},
   "outputs": [],
   "source": [
    "dimension = 3 # set this to any positive integer, but ***CAUTION*** note formulas explode fast due to the determinant's infamous complexity\n",
    "createVariables('s', dimension, withVF=True) # creates n-dimensional coordinate system with variables labeled s1,s2,...\n",
    "df_basis = get_DF(*s) # retrieves a list of coordinate differential forms for the coordinate system s.\n",
    "createVariables('c',multiindex_shape=(dimension,dimension)) # creates an nxn array of variables that will represent arbitrary coefficients. variables where labeled as c_1_1,...c_n_n.\n",
    "df_list = [addDF(*[c[dimension*j+k]*df_basis[k] for k in range(dimension)]) for j in range(dimension)] # A list of n differential forms. Notice we used addDF to make each of the n elements.\n",
    "volume_form = exteriorProduct(*[df for df in df_list])\n",
    "\n",
    "display_DGCV(f'The wedge product of all forms in ${LaTeX(df_list)}$ is $$\\\\mathrm{{volume\\,form}}={LaTeX(volume_form)}$$')"
   ]
  },
  {
   "cell_type": "markdown",
   "metadata": {},
   "source": [
    "That last example featured a useful function `get_DF`. There is also `get_VF` and these commands retrieve VF and DF associated with coordinates registered in DGCV's VMF. They accept any number of arguments. When we wrote `get_DF(*s)`, the `*s` notation serves to unpack the tuple `s=(s1,s2,...,sn)` so the result is equivalent to if we ran `get_DF(s1,s2,...,sn)` directly. "
   ]
  },
  {
   "cell_type": "code",
   "execution_count": null,
   "metadata": {},
   "outputs": [],
   "source": [
    "display_DGCV(f'Here is a list of vector fields associated with some of the coordinates we currently have initialized: ${LaTeX(get_VF(x2,gamma3,xi1,zeta2))}$') # getting VF example"
   ]
  },
  {
   "cell_type": "markdown",
   "metadata": {},
   "source": [
    "use `decompose` to decompose a vector field or differential form into a sum of such objects from a provided list:"
   ]
  },
  {
   "cell_type": "code",
   "execution_count": null,
   "metadata": {},
   "outputs": [],
   "source": [
    "createVariables('s', 3, withVF=True) # creates a 3-d. standard coordinate system with variables s1,s2,s3\n",
    "interesting_2_form = exteriorDerivative((s1**2+s2*s3**2)/(1+s2**2))*(d_s1+d_s2+d_s3)\n",
    "coframe = get_DF(s1,s2,s3) # gets coordinate DF\n",
    "list_of_2_forms = [coframe[j]*coframe[k] for j in range(3) for k in range(j+1,3)] # a list of 2-forms\n",
    "decomp_coeffs, decomp_basis = decompose(interesting_2_form,list_of_2_forms) # compute the decomposition\n",
    "\n",
    "display_DGCV(f'The differential form $${LaTeX(interesting_2_form)}$$ decomposes as a linear combination of the 2-forms $${LaTeX(decomp_basis)}$$ with coefficients $${LaTeX(decomp_coeffs)}.$$')"
   ]
  },
  {
   "cell_type": "markdown",
   "metadata": {},
   "source": [
    "Use `annihilator` to find a spaning set of vector fields whose interior product annihilates a given set of differential form, or to find a spanning set of 1-forms that annihilates a set of vector fields:"
   ]
  },
  {
   "cell_type": "code",
   "execution_count": null,
   "metadata": {},
   "outputs": [],
   "source": [
    "createVariables('u', 6, withVF=True, initialIndex=0) # creates a 6-d. standard coordinate system with variables u0,..,u3\n",
    "quadric = u0+sum([j**2 for j in u[1:]])\n",
    "contact_form = exteriorDerivative(quadric)\n",
    "contact_distribution = annihilator([contact_form],u) # annihilator needs a coordinate system specified in its second argument. Any list/tuple of variables will do (i.e., it doesn't have be what the VMF regards as a single variable system). In this case, we happen to be using u=(u0,u1,u2,u3,u4,u5)\n",
    "\n",
    "display_DGCV(f'The contact distribution of the contact form ${LaTeX(contact_form)}$ is spanned by the vector fields $${LaTeX(contact_distribution)}.$$')"
   ]
  },
  {
   "cell_type": "markdown",
   "metadata": {},
   "source": [
    "Use `get_coframe` to get a list of 1 forms dual to a list of vector fields:"
   ]
  },
  {
   "cell_type": "code",
   "execution_count": null,
   "metadata": {},
   "outputs": [],
   "source": [
    "createVariables('eta', 4, withVF=True)\n",
    "vf_list = [D_eta1-eta1*D_eta2, D_eta2-eta1*D_eta1]\n",
    "coframe = get_coframe(vf_list)\n",
    "\n",
    "display_DGCV(f'The differential forms ${LaTeX(coframe)}$ are dual to the vector fields ${LaTeX(vf_list)}$.')"
   ]
  },
  {
   "cell_type": "markdown",
   "metadata": {},
   "source": [
    "DGCV's vector fields and differential forms (i.e., VFClass and DFClass objects) have several attributes determining how DGCV functions interact with them, such as `varSpace`, `holVarSpace`, `realVarSpace`, `compVarSpace`, `coeffs`, `coeffs_dicts`, and more."
   ]
  },
  {
   "cell_type": "markdown",
   "metadata": {},
   "source": [
    "Use `assembleFromHolVFC`, `assembleFromHolVFC`, and `assembleFromCompVFC` to initialize complex vector fields from functions for their cooredinate VF coefficients in a specified complex coordinate system:"
   ]
  },
  {
   "cell_type": "code",
   "execution_count": null,
   "metadata": {},
   "outputs": [],
   "source": [
    "createVariables('z','x','y',2)\n",
    "hol_vf=assembleFromHolVFC([z1,z2],z)\n",
    "antihol_vf=assembleFromAntiholVFC([BARz1,BARz2],z)\n",
    "comp_vf=assembleFromCompVFC([z1,z2],[BARz1,BARz2],z)\n",
    "display_DGCV(f'We just initialized a holomorphic VF $${LaTeX(hol_vf)}={LaTeX(simplify(allToReal(hol_vf)))},$$ an antiholomorphic VF $${LaTeX(antihol_vf)}={LaTeX(simplify(allToReal(antihol_vf)))},$$ and a general complex VF $${LaTeX(comp_vf)}={LaTeX(simplify(allToReal(comp_vf)))}$$ by directly specifying their coefficient in a coordinate system.')"
   ]
  },
  {
   "cell_type": "markdown",
   "metadata": {},
   "source": [
    "Use `complex_struct_op` to tranform vector fields in a complex variable system under the standard complex structure operator."
   ]
  },
  {
   "cell_type": "code",
   "execution_count": null,
   "metadata": {},
   "outputs": [],
   "source": [
    "display_DGCV(f'Applying `complex_struct_op` to the three vector fields from the previous example yields $${LaTeX(complex_struct_op(hol_vf))},$$ $${LaTeX(complex_struct_op(antihol_vf))},$$ and $${LaTeX(complex_struct_op(comp_vf))}.$$')"
   ]
  },
  {
   "cell_type": "markdown",
   "metadata": {},
   "source": [
    "## Finite-dimensional algebras"
   ]
  },
  {
   "cell_type": "markdown",
   "metadata": {},
   "source": [
    "The `FAClass` objects are DGCV's representation of finite dimensional algebras. They store a symbolic basis and structure data defining the algebra with respect to that basis. Basis elements belong to the `AlgebraElement` class, another DGCV class. Adding, scaling, and multiplying `AlgebraElement` objects (according to their algebra's multiplication rules) is implemented simply with `+`, `-`, and `*`."
   ]
  },
  {
   "cell_type": "markdown",
   "metadata": {},
   "source": [
    "To initialize an `FAClass` object for a d-dimensional algebra, one needs to specify a 3-dimensional d-by-d-by-d array-like object (list of lists of lists is fine) decribing the algebra's structure constants in some basis and a label for the algebra. There are further optional arguments, which we will explore as we go. And there are flexible algebra creator functions that handle different kinds of structure data.\n",
    "\n",
    "The basic creator function is `createFiniteAlg`. It behaves similarly to the `createVariables` function, allowing simultaneous initialization of many objects with controllable and automatic label generation (operating within DGCV's label generation safeguards filters)."
   ]
  },
  {
   "cell_type": "code",
   "execution_count": 3,
   "metadata": {},
   "outputs": [
    {
     "data": {
      "image/png": "[encoded data removed]",
      "text/latex": [
       "\n",
       "        $$\\mathrm{Algebra}: \\mathfrak{sl}_{2}$$\n",
       "        $$\\mathrm{Dimension}: 3 $$\n",
       "        $$\\mathrm{Grading}: \\left( 2, \\  -2, \\  0\\right) $$\n",
       "        $$\\mathrm{Basis}: X, Y, H$$\n",
       "        "
      ],
      "text/plain": [
       "FAClass(dim=3, grading=(2, -2, 0), label=sl2, basis_labels=['X', 'Y', 'H'], struct_data=[[[0, 0, 0], [0, 0, -1], [2, 0, 0]], [[0, 0, 1], [0, 0, 0], [0, -2, 0]], [[-2, 0, 0], [0, 2, 0], [0, 0, 0]]])"
      ]
     },
     "execution_count": 3,
     "metadata": {},
     "output_type": "execute_result"
    }
   ],
   "source": [
    "structureConstants=[[[0,0,0],[0,0,-1],[2,0,0]],[[0,0,1],[0,0,0],[0,-2,0]],[[-2,0,0],[0,2,0],[0,0,0]]] # structure constants for sl2\n",
    "\n",
    "createFiniteAlg(structureConstants,'sl2',basis_labels=['X','Y','H'],grading=[2,-2,0])"
   ]
  },
  {
   "cell_type": "code",
   "execution_count": 7,
   "metadata": {},
   "outputs": [
    {
     "data": {
      "image/png": "[encoded data removed]",
      "text/latex": [
       "$\\text{Element of } sl2: H$"
      ],
      "text/plain": [
       "AlgebraElement(algebra=sl2, coefficients=Matrix([[0], [0], [1]]), basis_labels=['X', 'Y', 'H'])"
      ]
     },
     "execution_count": 7,
     "metadata": {},
     "output_type": "execute_result"
    }
   ],
   "source": [
    "X*H+Y*X-2*X"
   ]
  },
  {
   "cell_type": "code",
   "execution_count": null,
   "metadata": {},
   "outputs": [],
   "source": []
  },
  {
   "cell_type": "code",
   "execution_count": null,
   "metadata": {},
   "outputs": [],
   "source": []
  },
  {
   "cell_type": "code",
   "execution_count": null,
   "metadata": {},
   "outputs": [],
   "source": []
  },
  {
   "cell_type": "code",
   "execution_count": null,
   "metadata": {},
   "outputs": [],
   "source": []
  },
  {
   "cell_type": "code",
   "execution_count": null,
   "metadata": {},
   "outputs": [],
   "source": []
  },
  {
   "cell_type": "code",
   "execution_count": null,
   "metadata": {},
   "outputs": [],
   "source": []
  },
  {
   "cell_type": "code",
   "execution_count": null,
   "metadata": {},
   "outputs": [],
   "source": []
  },
  {
   "cell_type": "code",
   "execution_count": null,
   "metadata": {},
   "outputs": [],
   "source": []
  },
  {
   "cell_type": "code",
   "execution_count": null,
   "metadata": {},
   "outputs": [],
   "source": []
  }
 ],
 "metadata": {
  "kernelspec": {
   "display_name": ".env",
   "language": "python",
   "name": ".env"
  },
  "language_info": {
   "codemirror_mode": {
    "name": "ipython",
    "version": 3
   },
   "file_extension": ".py",
   "mimetype": "text/x-python",
   "name": "python",
   "nbconvert_exporter": "python",
   "pygments_lexer": "ipython3",
   "version": "3.12.4"
  }
 },
 "nbformat": 4,
 "nbformat_minor": 4
}
